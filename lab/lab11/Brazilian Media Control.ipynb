{
 "cells": [
  {
   "cell_type": "markdown",
   "id": "10a6a552",
   "metadata": {},
   "source": [
    "# Incumbency Advantage and Community Radio in Brazil\n",
    "In Brazil, elected leaders are able to control approval for community radio stations. As a major source of news for Brazilian citizens, these radio stations provide a pivotal role in informing the public. This paper identifies both the causal effect of incumbency on politicians’ ability to control the media and the causal effect of media control on their future electoral prospects.\n"
   ]
  },
  {
   "cell_type": "markdown",
   "id": "6c1695fc",
   "metadata": {},
   "source": [
    "To begin, let's load in the data"
   ]
  },
  {
   "cell_type": "code",
   "execution_count": 11,
   "id": "ce5beebb",
   "metadata": {},
   "outputs": [
    {
     "data": {
      "text/html": [
       "<div>\n",
       "<style scoped>\n",
       "    .dataframe tbody tr th:only-of-type {\n",
       "        vertical-align: middle;\n",
       "    }\n",
       "\n",
       "    .dataframe tbody tr th {\n",
       "        vertical-align: top;\n",
       "    }\n",
       "\n",
       "    .dataframe thead th {\n",
       "        text-align: right;\n",
       "    }\n",
       "</style>\n",
       "<table border=\"1\" class=\"dataframe\">\n",
       "  <thead>\n",
       "    <tr style=\"text-align: right;\">\n",
       "      <th></th>\n",
       "      <th>municode</th>\n",
       "      <th>cand.id</th>\n",
       "      <th>uf</th>\n",
       "      <th>muni</th>\n",
       "      <th>name</th>\n",
       "      <th>party</th>\n",
       "      <th>yob</th>\n",
       "      <th>votes</th>\n",
       "      <th>elected</th>\n",
       "      <th>coal.votes</th>\n",
       "      <th>...</th>\n",
       "      <th>pending_yes</th>\n",
       "      <th>gini_2000</th>\n",
       "      <th>pt_pres_1998</th>\n",
       "      <th>income_2000</th>\n",
       "      <th>psdb_2000</th>\n",
       "      <th>latitude</th>\n",
       "      <th>longitude</th>\n",
       "      <th>hdi_2000</th>\n",
       "      <th>pop_2000</th>\n",
       "      <th>pt_pref_2000</th>\n",
       "    </tr>\n",
       "  </thead>\n",
       "  <tbody>\n",
       "    <tr>\n",
       "      <th>0</th>\n",
       "      <td>272.0</td>\n",
       "      <td>269950.0</td>\n",
       "      <td>RO</td>\n",
       "      <td>CEREJEIRAS</td>\n",
       "      <td>IVETE KRUGER CARBONI</td>\n",
       "      <td>PFL</td>\n",
       "      <td>1959.0</td>\n",
       "      <td>156.0</td>\n",
       "      <td>0.0</td>\n",
       "      <td>1912.0</td>\n",
       "      <td>...</td>\n",
       "      <td>1.0</td>\n",
       "      <td>0.600</td>\n",
       "      <td>0.097432</td>\n",
       "      <td>253.917999</td>\n",
       "      <td>0.000000</td>\n",
       "      <td>-13.188889</td>\n",
       "      <td>60.812222</td>\n",
       "      <td>0.751</td>\n",
       "      <td>18243.880859</td>\n",
       "      <td>0.0</td>\n",
       "    </tr>\n",
       "    <tr>\n",
       "      <th>1</th>\n",
       "      <td>35.0</td>\n",
       "      <td>259758.0</td>\n",
       "      <td>RO</td>\n",
       "      <td>PORTO VELHO</td>\n",
       "      <td>FRANCISCO FERNANDO RODRIGUES ROCHA</td>\n",
       "      <td>PSDB</td>\n",
       "      <td>1956.0</td>\n",
       "      <td>673.0</td>\n",
       "      <td>0.0</td>\n",
       "      <td>20759.0</td>\n",
       "      <td>...</td>\n",
       "      <td>0.0</td>\n",
       "      <td>0.619</td>\n",
       "      <td>0.186628</td>\n",
       "      <td>305.204987</td>\n",
       "      <td>0.116537</td>\n",
       "      <td>-8.761945</td>\n",
       "      <td>63.903889</td>\n",
       "      <td>0.763</td>\n",
       "      <td>335338.906250</td>\n",
       "      <td>0.0</td>\n",
       "    </tr>\n",
       "    <tr>\n",
       "      <th>2</th>\n",
       "      <td>434.0</td>\n",
       "      <td>259951.0</td>\n",
       "      <td>RO</td>\n",
       "      <td>NOVA MAMORE</td>\n",
       "      <td>FRANCISCO ERASMO TAVEIRA DA SILVA</td>\n",
       "      <td>PP</td>\n",
       "      <td>1955.0</td>\n",
       "      <td>104.0</td>\n",
       "      <td>0.0</td>\n",
       "      <td>2025.0</td>\n",
       "      <td>...</td>\n",
       "      <td>1.0</td>\n",
       "      <td>0.695</td>\n",
       "      <td>0.063217</td>\n",
       "      <td>132.462006</td>\n",
       "      <td>0.000000</td>\n",
       "      <td>-10.401944</td>\n",
       "      <td>65.326668</td>\n",
       "      <td>0.659</td>\n",
       "      <td>14807.934570</td>\n",
       "      <td>0.0</td>\n",
       "    </tr>\n",
       "    <tr>\n",
       "      <th>3</th>\n",
       "      <td>434.0</td>\n",
       "      <td>261205.0</td>\n",
       "      <td>RO</td>\n",
       "      <td>NOVA MAMORE</td>\n",
       "      <td>GABRIEL JOSÉ DA SILVA</td>\n",
       "      <td>PFL</td>\n",
       "      <td>1967.0</td>\n",
       "      <td>54.0</td>\n",
       "      <td>0.0</td>\n",
       "      <td>2025.0</td>\n",
       "      <td>...</td>\n",
       "      <td>0.0</td>\n",
       "      <td>0.695</td>\n",
       "      <td>0.063217</td>\n",
       "      <td>132.462006</td>\n",
       "      <td>0.000000</td>\n",
       "      <td>-10.401944</td>\n",
       "      <td>65.326668</td>\n",
       "      <td>0.659</td>\n",
       "      <td>14807.934570</td>\n",
       "      <td>0.0</td>\n",
       "    </tr>\n",
       "    <tr>\n",
       "      <th>4</th>\n",
       "      <td>736.0</td>\n",
       "      <td>268283.0</td>\n",
       "      <td>RO</td>\n",
       "      <td>ALTO ALEGRE DOS PARECIS</td>\n",
       "      <td>AILTON ROQUE DE SOUZA</td>\n",
       "      <td>PSB</td>\n",
       "      <td>1965.0</td>\n",
       "      <td>49.0</td>\n",
       "      <td>0.0</td>\n",
       "      <td>543.0</td>\n",
       "      <td>...</td>\n",
       "      <td>0.0</td>\n",
       "      <td>0.518</td>\n",
       "      <td>0.103320</td>\n",
       "      <td>111.781998</td>\n",
       "      <td>0.350106</td>\n",
       "      <td>-12.128056</td>\n",
       "      <td>61.850555</td>\n",
       "      <td>0.674</td>\n",
       "      <td>12733.742188</td>\n",
       "      <td>0.0</td>\n",
       "    </tr>\n",
       "  </tbody>\n",
       "</table>\n",
       "<p>5 rows × 44 columns</p>\n",
       "</div>"
      ],
      "text/plain": [
       "   municode   cand.id  uf                     muni  \\\n",
       "0     272.0  269950.0  RO               CEREJEIRAS   \n",
       "1      35.0  259758.0  RO              PORTO VELHO   \n",
       "2     434.0  259951.0  RO              NOVA MAMORE   \n",
       "3     434.0  261205.0  RO              NOVA MAMORE   \n",
       "4     736.0  268283.0  RO  ALTO ALEGRE DOS PARECIS   \n",
       "\n",
       "                                 name party     yob  votes  elected  \\\n",
       "0                IVETE KRUGER CARBONI   PFL  1959.0  156.0      0.0   \n",
       "1  FRANCISCO FERNANDO RODRIGUES ROCHA  PSDB  1956.0  673.0      0.0   \n",
       "2   FRANCISCO ERASMO TAVEIRA DA SILVA    PP  1955.0  104.0      0.0   \n",
       "3               GABRIEL JOSÉ DA SILVA   PFL  1967.0   54.0      0.0   \n",
       "4               AILTON ROQUE DE SOUZA   PSB  1965.0   49.0      0.0   \n",
       "\n",
       "   coal.votes  ...  pending_yes  gini_2000  pt_pres_1998  income_2000  \\\n",
       "0      1912.0  ...          1.0      0.600      0.097432   253.917999   \n",
       "1     20759.0  ...          0.0      0.619      0.186628   305.204987   \n",
       "2      2025.0  ...          1.0      0.695      0.063217   132.462006   \n",
       "3      2025.0  ...          0.0      0.695      0.063217   132.462006   \n",
       "4       543.0  ...          0.0      0.518      0.103320   111.781998   \n",
       "\n",
       "   psdb_2000   latitude  longitude  hdi_2000       pop_2000  pt_pref_2000  \n",
       "0   0.000000 -13.188889  60.812222     0.751   18243.880859           0.0  \n",
       "1   0.116537  -8.761945  63.903889     0.763  335338.906250           0.0  \n",
       "2   0.000000 -10.401944  65.326668     0.659   14807.934570           0.0  \n",
       "3   0.000000 -10.401944  65.326668     0.659   14807.934570           0.0  \n",
       "4   0.350106 -12.128056  61.850555     0.674   12733.742188           0.0  \n",
       "\n",
       "[5 rows x 44 columns]"
      ]
     },
     "execution_count": 11,
     "metadata": {},
     "output_type": "execute_result"
    }
   ],
   "source": [
    "import pandas as pd\n",
    "import matplotlib.pyplot as plt\n",
    "import seaborn as sns\n",
    "radio_df = pd.read_csv('data/applied_data.csv')\n",
    "radio_df.head()"
   ]
  },
  {
   "cell_type": "markdown",
   "id": "2a725ce9",
   "metadata": {},
   "source": [
    "This table contains several variables of interest, as well as many descriptive values.  \n"
   ]
  },
  {
   "cell_type": "markdown",
   "id": "1d34fbfb",
   "metadata": {},
   "source": [
    "| Variable | Meaning       |\n",
    "|--------|------------------------|\n",
    "| muni    | Municipality Name\n",
    "| name  | politician name|\n",
    "| party   | political party acronym               |\n",
    "| votes     | total number of votes         |\n",
    "| raw.vote.margin     | the margin of votes that the candidate won or lost by         |  \n",
    "| post.approved     | whether the candidate's radio application was approved following the election      |  \n",
    "| elected_bool    | whether the candidate won the election       |  \n"
   ]
  },
  {
   "cell_type": "markdown",
   "id": "28ac325d",
   "metadata": {},
   "source": [
    "We're specifically curious about close elections: if the election is close, then we can assume that external factors are relatively similar. In the following cell, set `within_250` equal to the condition that the absolute vote margin is less than 250 votes."
   ]
  },
  {
   "cell_type": "code",
   "execution_count": 12,
   "id": "005f9d3f",
   "metadata": {},
   "outputs": [],
   "source": [
    "within_250 = abs(radio_df['raw.vote.margin'])<250"
   ]
  },
  {
   "cell_type": "markdown",
   "id": "b160fc47",
   "metadata": {},
   "source": [
    "Great! Now, we want to plot the relationship between vote margin and the approval of a candidate's radio application after the election. In the following cell, plot the relationship under the additional condition that the candidate won the election. The plot for when the candidate did not win is filled out for you."
   ]
  },
  {
   "cell_type": "code",
   "execution_count": 13,
   "id": "ecfcf4c3",
   "metadata": {},
   "outputs": [
    {
     "data": {
      "text/plain": [
       "Text(0.5, 1.0, 'Application Approved After Election')"
      ]
     },
     "execution_count": 13,
     "metadata": {},
     "output_type": "execute_result"
    },
    {
     "data": {
      "image/png": "[encoded data removed]",
      "text/plain": [
       "<Figure size 432x288 with 1 Axes>"
      ]
     },
     "metadata": {
      "needs_background": "light"
     },
     "output_type": "display_data"
    }
   ],
   "source": [
    "unelected_data = radio_df[within_250 & (~radio_df['elected'].astype(bool))]\n",
    "sns.regplot(x='raw.vote.margin',y='post.approved', \n",
    "            data=unelected_data, x_ci=None, \n",
    "            order=3, x_bins=15)\n",
    "\n",
    "elected_data = radio_df[within_250 & radio_df['elected'].astype(bool)]\n",
    "sns.regplot(x='raw.vote.margin',y='post.approved', \n",
    "            data=elected_data, x_ci=None, \n",
    "            order=3, x_bins=15)\n",
    "plt.ylim(0,.5)\n",
    "plt.ylabel('Application Approved After Election')\n",
    "plt.xlabel('Vote Margin')\n",
    "plt.title('Application Approved After Election')"
   ]
  },
  {
   "cell_type": "code",
   "execution_count": 9,
   "id": "dbce6b1b",
   "metadata": {},
   "outputs": [
    {
     "data": {
      "text/plain": [
       "0      False\n",
       "1      False\n",
       "2      False\n",
       "3      False\n",
       "4      False\n",
       "       ...  \n",
       "708    False\n",
       "709    False\n",
       "710    False\n",
       "711    False\n",
       "712    False\n",
       "Name: elected, Length: 713, dtype: bool"
      ]
     },
     "execution_count": 9,
     "metadata": {},
     "output_type": "execute_result"
    }
   ],
   "source": []
  },
  {
   "cell_type": "code",
   "execution_count": null,
   "id": "11a07860",
   "metadata": {},
   "outputs": [],
   "source": []
  }
 ],
 "metadata": {
  "kernelspec": {
   "display_name": "Python 3",
   "language": "python",
   "name": "python3"
  },
  "language_info": {
   "codemirror_mode": {
    "name": "ipython",
    "version": 3
   },
   "file_extension": ".py",
   "mimetype": "text/x-python",
   "name": "python",
   "nbconvert_exporter": "python",
   "pygments_lexer": "ipython3",
   "version": "3.8.8"
  }
 },
 "nbformat": 4,
 "nbformat_minor": 5
}
