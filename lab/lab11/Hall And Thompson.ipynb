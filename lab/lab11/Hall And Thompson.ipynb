{
 "cells": [
  {
   "cell_type": "markdown",
   "metadata": {},
   "source": [
    "### POLISCI 88 FA 21"
   ]
  },
  {
   "cell_type": "markdown",
   "metadata": {},
   "source": [
    "### Lab #: Who Punishes Extremist Nominees?"
   ]
  },
  {
   "cell_type": "markdown",
   "metadata": {},
   "source": [
    "#### Due Date: X"
   ]
  },
  {
   "cell_type": "markdown",
   "metadata": {},
   "source": [
    "### Candidate Ideology and Turning Out the Base in US Elections\n",
    "\n",
    "The behavioral literature in American politics suggests that voters are not informed enough, and are too partisan, to be swing voters, while the institutional literature suggests that moderate candidates tend to perform better. We speak to this debate by examining the link between the ideology of congressional candidates and the turnout of their parties’ bases in US House races, 2006–2014. \n",
    "\n",
    "We will repoduce results from [this](https://www.cambridge.org/core/journals/american-political-science-review/article/who-punishes-extremist-nominees-candidate-ideology-and-turning-out-the-base-in-us-elections/366A518712BE9BCC1CB035BF53095D65) Hall and Thompson paper from the American Political Science Review. Specifically, we will be replicating Tables 1 and 2 and Figure 2 from the paper.\n",
    "\n",
    "Combining a regression discontinuity design in close primary races with survey and administrative data on individual voter turnout, we will look at how extremist nominees effect their party’s share of turnout in the general election."
   ]
  },
  {
   "cell_type": "markdown",
   "metadata": {},
   "source": [
    "Run the following cell to import the libraries we will explore in this lab assignment."
   ]
  },
  {
   "cell_type": "code",
   "execution_count": 1,
   "metadata": {},
   "outputs": [],
   "source": [
    "import pandas as pd\n",
    "import numpy as np\n",
    "from scipy import stats\n",
    "\n",
    "import statsmodels.formula.api as smf\n",
    "\n",
    "import seaborn as sns\n",
    "import matplotlib.pyplot as plt"
   ]
  },
  {
   "cell_type": "markdown",
   "metadata": {},
   "source": [
    "### 1. Reading in the Stata File"
   ]
  },
  {
   "cell_type": "markdown",
   "metadata": {},
   "source": [
    "#### Question 1.1\n",
    "\n",
    "Read in the Stata dta file `rd_analysis_hs.dta` into a pandas dataframe with the name: `turnout`. You might find looking at [the documentation](https://pandas.pydata.org/docs/reference/api/pandas.read_stata.html) helpful.\n",
    "\n",
    "`rd_analysis_hs.dta` is the main analysis dataset. It contains data on general election results and turnout by district for districts with a competitive primary.\n",
    "\n",
    "The `DataFrame.head()` method shows the first few lines of the dataframe. "
   ]
  },
  {
   "cell_type": "code",
   "execution_count": 2,
   "metadata": {},
   "outputs": [
    {
     "data": {
      "text/html": [
       "<div>\n",
       "<style scoped>\n",
       "    .dataframe tbody tr th:only-of-type {\n",
       "        vertical-align: middle;\n",
       "    }\n",
       "\n",
       "    .dataframe tbody tr th {\n",
       "        vertical-align: top;\n",
       "    }\n",
       "\n",
       "    .dataframe thead th {\n",
       "        text-align: right;\n",
       "    }\n",
       "</style>\n",
       "<table border=\"1\" class=\"dataframe\">\n",
       "  <thead>\n",
       "    <tr style=\"text-align: right;\">\n",
       "      <th></th>\n",
       "      <th>state</th>\n",
       "      <th>dist</th>\n",
       "      <th>dem</th>\n",
       "      <th>year</th>\n",
       "      <th>turnout_dem_strong</th>\n",
       "      <th>low_info_votes1</th>\n",
       "      <th>high_info_votes1</th>\n",
       "      <th>low_info_n1</th>\n",
       "      <th>high_info_n1</th>\n",
       "      <th>turnout_dem_nvstrong</th>\n",
       "      <th>...</th>\n",
       "      <th>re</th>\n",
       "      <th>g</th>\n",
       "      <th>pv</th>\n",
       "      <th>two_party_total</th>\n",
       "      <th>lag_pv</th>\n",
       "      <th>catalist_share</th>\n",
       "      <th>no_party_id</th>\n",
       "      <th>gov_elec</th>\n",
       "      <th>senate_elec</th>\n",
       "      <th>mindonors</th>\n",
       "    </tr>\n",
       "  </thead>\n",
       "  <tbody>\n",
       "    <tr>\n",
       "      <th>0</th>\n",
       "      <td>AK</td>\n",
       "      <td>1.0</td>\n",
       "      <td>1.0</td>\n",
       "      <td>2008.0</td>\n",
       "      <td>0.777778</td>\n",
       "      <td>0.0</td>\n",
       "      <td>7.0</td>\n",
       "      <td>1.0</td>\n",
       "      <td>8.0</td>\n",
       "      <td>0.800000</td>\n",
       "      <td>...</td>\n",
       "      <td>0.0</td>\n",
       "      <td>1.0</td>\n",
       "      <td>0.391753</td>\n",
       "      <td>0.97</td>\n",
       "      <td>0.371134</td>\n",
       "      <td>0.161095</td>\n",
       "      <td>0.0</td>\n",
       "      <td>0.0</td>\n",
       "      <td>1.0</td>\n",
       "      <td>41316.0</td>\n",
       "    </tr>\n",
       "    <tr>\n",
       "      <th>1</th>\n",
       "      <td>AL</td>\n",
       "      <td>7.0</td>\n",
       "      <td>1.0</td>\n",
       "      <td>2006.0</td>\n",
       "      <td>0.500000</td>\n",
       "      <td>0.0</td>\n",
       "      <td>0.0</td>\n",
       "      <td>0.0</td>\n",
       "      <td>0.0</td>\n",
       "      <td>0.500000</td>\n",
       "      <td>...</td>\n",
       "      <td>0.0</td>\n",
       "      <td>6.0</td>\n",
       "      <td>0.646465</td>\n",
       "      <td>0.99</td>\n",
       "      <td>0.646465</td>\n",
       "      <td>NaN</td>\n",
       "      <td>1.0</td>\n",
       "      <td>1.0</td>\n",
       "      <td>0.0</td>\n",
       "      <td>500.0</td>\n",
       "    </tr>\n",
       "    <tr>\n",
       "      <th>2</th>\n",
       "      <td>AL</td>\n",
       "      <td>2.0</td>\n",
       "      <td>0.0</td>\n",
       "      <td>2008.0</td>\n",
       "      <td>0.600000</td>\n",
       "      <td>1.0</td>\n",
       "      <td>2.0</td>\n",
       "      <td>3.0</td>\n",
       "      <td>2.0</td>\n",
       "      <td>0.333333</td>\n",
       "      <td>...</td>\n",
       "      <td>0.0</td>\n",
       "      <td>2.0</td>\n",
       "      <td>0.636364</td>\n",
       "      <td>0.99</td>\n",
       "      <td>0.670000</td>\n",
       "      <td>NaN</td>\n",
       "      <td>1.0</td>\n",
       "      <td>0.0</td>\n",
       "      <td>1.0</td>\n",
       "      <td>16592.0</td>\n",
       "    </tr>\n",
       "    <tr>\n",
       "      <th>3</th>\n",
       "      <td>AL</td>\n",
       "      <td>5.0</td>\n",
       "      <td>1.0</td>\n",
       "      <td>2010.0</td>\n",
       "      <td>0.684211</td>\n",
       "      <td>4.0</td>\n",
       "      <td>8.0</td>\n",
       "      <td>8.0</td>\n",
       "      <td>9.0</td>\n",
       "      <td>0.125000</td>\n",
       "      <td>...</td>\n",
       "      <td>0.0</td>\n",
       "      <td>3.0</td>\n",
       "      <td>0.383838</td>\n",
       "      <td>0.99</td>\n",
       "      <td>0.383838</td>\n",
       "      <td>NaN</td>\n",
       "      <td>1.0</td>\n",
       "      <td>1.0</td>\n",
       "      <td>1.0</td>\n",
       "      <td>5000.0</td>\n",
       "    </tr>\n",
       "    <tr>\n",
       "      <th>4</th>\n",
       "      <td>AL</td>\n",
       "      <td>7.0</td>\n",
       "      <td>1.0</td>\n",
       "      <td>2010.0</td>\n",
       "      <td>0.652174</td>\n",
       "      <td>3.0</td>\n",
       "      <td>11.0</td>\n",
       "      <td>7.0</td>\n",
       "      <td>15.0</td>\n",
       "      <td>0.428571</td>\n",
       "      <td>...</td>\n",
       "      <td>0.0</td>\n",
       "      <td>6.0</td>\n",
       "      <td>0.727273</td>\n",
       "      <td>0.99</td>\n",
       "      <td>0.727273</td>\n",
       "      <td>NaN</td>\n",
       "      <td>1.0</td>\n",
       "      <td>1.0</td>\n",
       "      <td>1.0</td>\n",
       "      <td>38000.0</td>\n",
       "    </tr>\n",
       "  </tbody>\n",
       "</table>\n",
       "<p>5 rows × 151 columns</p>\n",
       "</div>"
      ],
      "text/plain": [
       "  state dist  dem    year  turnout_dem_strong  low_info_votes1  \\\n",
       "0    AK  1.0  1.0  2008.0            0.777778              0.0   \n",
       "1    AL  7.0  1.0  2006.0            0.500000              0.0   \n",
       "2    AL  2.0  0.0  2008.0            0.600000              1.0   \n",
       "3    AL  5.0  1.0  2010.0            0.684211              4.0   \n",
       "4    AL  7.0  1.0  2010.0            0.652174              3.0   \n",
       "\n",
       "   high_info_votes1  low_info_n1  high_info_n1  turnout_dem_nvstrong  ...  \\\n",
       "0               7.0          1.0           8.0              0.800000  ...   \n",
       "1               0.0          0.0           0.0              0.500000  ...   \n",
       "2               2.0          3.0           2.0              0.333333  ...   \n",
       "3               8.0          8.0           9.0              0.125000  ...   \n",
       "4              11.0          7.0          15.0              0.428571  ...   \n",
       "\n",
       "    re    g        pv  two_party_total    lag_pv  catalist_share  no_party_id  \\\n",
       "0  0.0  1.0  0.391753             0.97  0.371134        0.161095          0.0   \n",
       "1  0.0  6.0  0.646465             0.99  0.646465             NaN          1.0   \n",
       "2  0.0  2.0  0.636364             0.99  0.670000             NaN          1.0   \n",
       "3  0.0  3.0  0.383838             0.99  0.383838             NaN          1.0   \n",
       "4  0.0  6.0  0.727273             0.99  0.727273             NaN          1.0   \n",
       "\n",
       "   gov_elec  senate_elec  mindonors  \n",
       "0       0.0          1.0    41316.0  \n",
       "1       1.0          0.0      500.0  \n",
       "2       0.0          1.0    16592.0  \n",
       "3       1.0          1.0     5000.0  \n",
       "4       1.0          1.0    38000.0  \n",
       "\n",
       "[5 rows x 151 columns]"
      ]
     },
     "execution_count": 2,
     "metadata": {},
     "output_type": "execute_result"
    }
   ],
   "source": [
    "#Bring in the main analysis dataset\n",
    "turnout = pd.read_stata(\"hall_thompson_replication_files/rd_analysis_hs.dta\")\n",
    "turnout.head()"
   ]
  },
  {
   "cell_type": "markdown",
   "metadata": {},
   "source": [
    "#### Question 1.2\n",
    "\n",
    "Now that you've read in the dta file let's try some `pd.DataFrame` methods. To print out a list of all the column names in the dataframe use the `DataFrame.columns.values` method."
   ]
  },
  {
   "cell_type": "code",
   "execution_count": 3,
   "metadata": {},
   "outputs": [
    {
     "data": {
      "text/plain": [
       "array(['state', 'dist', 'dem', 'year', 'turnout_dem_strong',\n",
       "       'low_info_votes1', 'high_info_votes1', 'low_info_n1',\n",
       "       'high_info_n1', 'turnout_dem_nvstrong', 'low_info_votes2',\n",
       "       'high_info_votes2', 'low_info_n2', 'high_info_n2',\n",
       "       'turnout_dem_lean', 'low_info_votes3', 'high_info_votes3',\n",
       "       'low_info_n3', 'high_info_n3', 'turnout_indep', 'low_info_votes4',\n",
       "       'high_info_votes4', 'low_info_n4', 'high_info_n4',\n",
       "       'turnout_rep_lean', 'low_info_votes5', 'high_info_votes5',\n",
       "       'low_info_n5', 'high_info_n5', 'turnout_rep_rep_nvstrong',\n",
       "       'low_info_votes6', 'high_info_votes6', 'low_info_n6',\n",
       "       'high_info_n6', 'turnout_rep_strong', 'low_info_votes7',\n",
       "       'high_info_votes7', 'low_info_n7', 'high_info_n7',\n",
       "       'total_responses', 'total_turnout', 'turnout_dem', 'turnout_rep',\n",
       "       'dem_turnout_share', 'rep_turnout_share', 'low_info_turnout',\n",
       "       'high_info_turnout', 'dem_low_info_turnout_share',\n",
       "       'rep_low_info_turnout_share', 'dem_high_info_turnout_share',\n",
       "       'rep_high_info_turnout_share', 'total_low_info_dem',\n",
       "       'turnout_low_info_dem', 'total_low_info_rep',\n",
       "       'turnout_low_info_rep', 'total_high_info_dem',\n",
       "       'turnout_high_info_dem', 'total_high_info_rep',\n",
       "       'turnout_high_info_rep', 'dem_count', 'rep_count', 'ind_count',\n",
       "       'dem_voters', 'rep_voters', 'ind_voters', 'turnout_ext_lib',\n",
       "       'ext_lib_voters', 'turnout_mod_lib', 'turnout_mod',\n",
       "       'turnout_mod_cons', 'turnout_ext_cons', 'ext_cons_voters',\n",
       "       'turnout_dknow', 'ext_lib_count', 'ext_cons_count',\n",
       "       'lag_dem_share', 'lag_rep_share', 'lag_responses', 'lag_dem_count',\n",
       "       'lag_rep_count', 'lag_ext_lib_count', 'lag_ext_cons_count',\n",
       "       'catalist_share_dem', 'catalist_share_rep', 'catop_total_dem',\n",
       "       'catop_total_rep', 'catop_share_dem', 'catop_share_rep',\n",
       "       'catop_lag_total_dem', 'catop_lag_total_rep', 'p', 'vote_g0',\n",
       "       'vote_top20', 'cand_dwnom_amount_prim0',\n",
       "       'cand_dwnom_amount_prim_noninc0', 'cand_dwnom_number_prim0',\n",
       "       'cand_dwnom_score_i_prim0', 'vote_g1', 'vote_top21',\n",
       "       'cand_dwnom_amount_prim1', 'cand_dwnom_amount_prim_noninc1',\n",
       "       'cand_dwnom_number_prim1', 'cand_dwnom_score_i_prim1', 'type',\n",
       "       'D_SW_PCT_SHARE', 'vote_g_total', 'inc_p', 'open', 'open_all', 'r',\n",
       "       'r_opp', 'rv', 'rv2', 'rv3', 'rv4', 'rv5', 'treat', 'treat_rv',\n",
       "       'vote_general', 'victory_general', 'absdist', 'log_total_turnout',\n",
       "       'midterm', 'ext_number_share', 'ext_amount_share', 'turnout_party',\n",
       "       'turnout_opp_party', 'turnout_party_share', 'lag_share',\n",
       "       'turnout_extreme', 'turnout_opp_extreme',\n",
       "       'low_info_turnout_party_share', 'high_info_turnout_party_share',\n",
       "       'low_info_turnout_party', 'high_info_turnout_party',\n",
       "       'low_info_turnout_opp_party', 'high_info_turnout_opp_party',\n",
       "       'turnout_party_diff', 'pid', 'treat_abs', 'pres', 're', 'g', 'pv',\n",
       "       'two_party_total', 'lag_pv', 'catalist_share', 'no_party_id',\n",
       "       'gov_elec', 'senate_elec', 'mindonors'], dtype=object)"
      ]
     },
     "execution_count": 3,
     "metadata": {},
     "output_type": "execute_result"
    }
   ],
   "source": [
    "turnout.columns.values"
   ]
  },
  {
   "cell_type": "markdown",
   "metadata": {},
   "source": [
    "As you can see the `turnout` dataframe has quite a few columns. Take a moment to read through them. The relevant columns for our ordinary least squares regression are `vote_general`, `victory_general`, `turnout_party_share`, `treat`, `rv`, `rv2`, `rv3`, `rv4`, `rv5`, and `g`.\n",
    "\n",
    "Note: The column `rv2` is the column `rv` squared. `rv3` is `rv` cubed and so on."
   ]
  },
  {
   "cell_type": "code",
   "execution_count": 4,
   "metadata": {},
   "outputs": [
    {
     "data": {
      "text/html": [
       "<div>\n",
       "<style scoped>\n",
       "    .dataframe tbody tr th:only-of-type {\n",
       "        vertical-align: middle;\n",
       "    }\n",
       "\n",
       "    .dataframe tbody tr th {\n",
       "        vertical-align: top;\n",
       "    }\n",
       "\n",
       "    .dataframe thead th {\n",
       "        text-align: right;\n",
       "    }\n",
       "</style>\n",
       "<table border=\"1\" class=\"dataframe\">\n",
       "  <thead>\n",
       "    <tr style=\"text-align: right;\">\n",
       "      <th></th>\n",
       "      <th>vote_general</th>\n",
       "      <th>victory_general</th>\n",
       "      <th>turnout_party_share</th>\n",
       "      <th>treat</th>\n",
       "      <th>rv</th>\n",
       "      <th>rv2</th>\n",
       "      <th>rv3</th>\n",
       "      <th>rv4</th>\n",
       "      <th>rv5</th>\n",
       "      <th>g</th>\n",
       "    </tr>\n",
       "  </thead>\n",
       "  <tbody>\n",
       "    <tr>\n",
       "      <th>0</th>\n",
       "      <td>0.472837</td>\n",
       "      <td>0.0</td>\n",
       "      <td>0.352941</td>\n",
       "      <td>0.0</td>\n",
       "      <td>-0.083934</td>\n",
       "      <td>0.007045</td>\n",
       "      <td>-0.000591</td>\n",
       "      <td>4.963059e-05</td>\n",
       "      <td>-4.165688e-06</td>\n",
       "      <td>1.0</td>\n",
       "    </tr>\n",
       "    <tr>\n",
       "      <th>1</th>\n",
       "      <td>1.000000</td>\n",
       "      <td>1.0</td>\n",
       "      <td>0.368421</td>\n",
       "      <td>0.0</td>\n",
       "      <td>-0.409096</td>\n",
       "      <td>0.167360</td>\n",
       "      <td>-0.068466</td>\n",
       "      <td>2.800927e-02</td>\n",
       "      <td>-1.145849e-02</td>\n",
       "      <td>6.0</td>\n",
       "    </tr>\n",
       "    <tr>\n",
       "      <th>2</th>\n",
       "      <td>0.496881</td>\n",
       "      <td>0.0</td>\n",
       "      <td>0.741935</td>\n",
       "      <td>1.0</td>\n",
       "      <td>0.031126</td>\n",
       "      <td>0.000969</td>\n",
       "      <td>0.000030</td>\n",
       "      <td>9.386877e-07</td>\n",
       "      <td>2.921806e-08</td>\n",
       "      <td>2.0</td>\n",
       "    </tr>\n",
       "    <tr>\n",
       "      <th>3</th>\n",
       "      <td>0.420643</td>\n",
       "      <td>0.0</td>\n",
       "      <td>0.205479</td>\n",
       "      <td>0.0</td>\n",
       "      <td>-0.230486</td>\n",
       "      <td>0.053124</td>\n",
       "      <td>-0.012244</td>\n",
       "      <td>2.822157e-03</td>\n",
       "      <td>-6.504688e-04</td>\n",
       "      <td>3.0</td>\n",
       "    </tr>\n",
       "    <tr>\n",
       "      <th>4</th>\n",
       "      <td>0.724847</td>\n",
       "      <td>1.0</td>\n",
       "      <td>0.581395</td>\n",
       "      <td>1.0</td>\n",
       "      <td>0.050003</td>\n",
       "      <td>0.002500</td>\n",
       "      <td>0.000125</td>\n",
       "      <td>6.251288e-06</td>\n",
       "      <td>3.125805e-07</td>\n",
       "      <td>6.0</td>\n",
       "    </tr>\n",
       "    <tr>\n",
       "      <th>...</th>\n",
       "      <td>...</td>\n",
       "      <td>...</td>\n",
       "      <td>...</td>\n",
       "      <td>...</td>\n",
       "      <td>...</td>\n",
       "      <td>...</td>\n",
       "      <td>...</td>\n",
       "      <td>...</td>\n",
       "      <td>...</td>\n",
       "      <td>...</td>\n",
       "    </tr>\n",
       "    <tr>\n",
       "      <th>453</th>\n",
       "      <td>0.428181</td>\n",
       "      <td>0.0</td>\n",
       "      <td>NaN</td>\n",
       "      <td>1.0</td>\n",
       "      <td>0.031183</td>\n",
       "      <td>0.000972</td>\n",
       "      <td>0.000030</td>\n",
       "      <td>9.455586e-07</td>\n",
       "      <td>2.948564e-08</td>\n",
       "      <td>319.0</td>\n",
       "    </tr>\n",
       "    <tr>\n",
       "      <th>454</th>\n",
       "      <td>0.495997</td>\n",
       "      <td>0.0</td>\n",
       "      <td>0.457627</td>\n",
       "      <td>0.0</td>\n",
       "      <td>-0.059062</td>\n",
       "      <td>0.003488</td>\n",
       "      <td>-0.000206</td>\n",
       "      <td>1.216872e-05</td>\n",
       "      <td>-7.187142e-07</td>\n",
       "      <td>318.0</td>\n",
       "    </tr>\n",
       "    <tr>\n",
       "      <th>455</th>\n",
       "      <td>0.504003</td>\n",
       "      <td>1.0</td>\n",
       "      <td>0.457627</td>\n",
       "      <td>1.0</td>\n",
       "      <td>0.065618</td>\n",
       "      <td>0.004306</td>\n",
       "      <td>0.000283</td>\n",
       "      <td>1.853955e-05</td>\n",
       "      <td>1.216534e-06</td>\n",
       "      <td>318.0</td>\n",
       "    </tr>\n",
       "    <tr>\n",
       "      <th>456</th>\n",
       "      <td>0.482393</td>\n",
       "      <td>0.0</td>\n",
       "      <td>0.372093</td>\n",
       "      <td>0.0</td>\n",
       "      <td>-0.106212</td>\n",
       "      <td>0.011281</td>\n",
       "      <td>-0.001198</td>\n",
       "      <td>1.272591e-04</td>\n",
       "      <td>-1.351640e-05</td>\n",
       "      <td>319.0</td>\n",
       "    </tr>\n",
       "    <tr>\n",
       "      <th>457</th>\n",
       "      <td>0.551441</td>\n",
       "      <td>1.0</td>\n",
       "      <td>0.512195</td>\n",
       "      <td>1.0</td>\n",
       "      <td>0.052704</td>\n",
       "      <td>0.002778</td>\n",
       "      <td>0.000146</td>\n",
       "      <td>7.715912e-06</td>\n",
       "      <td>4.066625e-07</td>\n",
       "      <td>320.0</td>\n",
       "    </tr>\n",
       "  </tbody>\n",
       "</table>\n",
       "<p>458 rows × 10 columns</p>\n",
       "</div>"
      ],
      "text/plain": [
       "     vote_general  victory_general  turnout_party_share  treat        rv  \\\n",
       "0        0.472837              0.0             0.352941    0.0 -0.083934   \n",
       "1        1.000000              1.0             0.368421    0.0 -0.409096   \n",
       "2        0.496881              0.0             0.741935    1.0  0.031126   \n",
       "3        0.420643              0.0             0.205479    0.0 -0.230486   \n",
       "4        0.724847              1.0             0.581395    1.0  0.050003   \n",
       "..            ...              ...                  ...    ...       ...   \n",
       "453      0.428181              0.0                  NaN    1.0  0.031183   \n",
       "454      0.495997              0.0             0.457627    0.0 -0.059062   \n",
       "455      0.504003              1.0             0.457627    1.0  0.065618   \n",
       "456      0.482393              0.0             0.372093    0.0 -0.106212   \n",
       "457      0.551441              1.0             0.512195    1.0  0.052704   \n",
       "\n",
       "          rv2       rv3           rv4           rv5      g  \n",
       "0    0.007045 -0.000591  4.963059e-05 -4.165688e-06    1.0  \n",
       "1    0.167360 -0.068466  2.800927e-02 -1.145849e-02    6.0  \n",
       "2    0.000969  0.000030  9.386877e-07  2.921806e-08    2.0  \n",
       "3    0.053124 -0.012244  2.822157e-03 -6.504688e-04    3.0  \n",
       "4    0.002500  0.000125  6.251288e-06  3.125805e-07    6.0  \n",
       "..        ...       ...           ...           ...    ...  \n",
       "453  0.000972  0.000030  9.455586e-07  2.948564e-08  319.0  \n",
       "454  0.003488 -0.000206  1.216872e-05 -7.187142e-07  318.0  \n",
       "455  0.004306  0.000283  1.853955e-05  1.216534e-06  318.0  \n",
       "456  0.011281 -0.001198  1.272591e-04 -1.351640e-05  319.0  \n",
       "457  0.002778  0.000146  7.715912e-06  4.066625e-07  320.0  \n",
       "\n",
       "[458 rows x 10 columns]"
      ]
     },
     "execution_count": 4,
     "metadata": {},
     "output_type": "execute_result"
    }
   ],
   "source": [
    "turnout[[\"vote_general\", \"victory_general\", \"turnout_party_share\", \"treat\", \"rv\", \"rv2\", \"rv3\", \"rv4\", \"rv5\", \"g\"]]"
   ]
  },
  {
   "cell_type": "markdown",
   "metadata": {},
   "source": [
    "### 2. Election Results and Turnout Data Cleaning"
   ]
  },
  {
   "cell_type": "markdown",
   "metadata": {},
   "source": [
    "#### Question 2.1\n",
    "\n",
    "Store the cutoff for the minimum distance between the moderate and extremists necessary to enter the sample in the variable `cutoff`.\n",
    "\n",
    "Set `cutoff` equal to the median value of of \"absdist\" column from the dataframe.\n",
    "\n",
    "Hint: Each column of the `pd.DataFrame` is made up of an array. As a reminder, you can access the arrays that make up the column by writing the name of the data frame followed by the variable name in square brackets as a string."
   ]
  },
  {
   "cell_type": "code",
   "execution_count": 5,
   "metadata": {},
   "outputs": [
    {
     "data": {
      "text/plain": [
       "0.12193753"
      ]
     },
     "execution_count": 5,
     "metadata": {},
     "output_type": "execute_result"
    }
   ],
   "source": [
    "cutoff = turnout[\"absdist\"].median()\n",
    "cutoff"
   ]
  },
  {
   "cell_type": "markdown",
   "metadata": {},
   "source": [
    "#### Question 2.2\n",
    "\n",
    "Let's filter the dataframe to only contain values that are relevant for our regression. We will do this by creating conditions set on our original dataframe `turnout`.\n",
    "Create a dataframe `less_than_ten` containing only values for which the absolute value of the `rv` column is less than ten percentage points. "
   ]
  },
  {
   "cell_type": "code",
   "execution_count": 6,
   "metadata": {},
   "outputs": [
    {
     "data": {
      "text/html": [
       "<div>\n",
       "<style scoped>\n",
       "    .dataframe tbody tr th:only-of-type {\n",
       "        vertical-align: middle;\n",
       "    }\n",
       "\n",
       "    .dataframe tbody tr th {\n",
       "        vertical-align: top;\n",
       "    }\n",
       "\n",
       "    .dataframe thead th {\n",
       "        text-align: right;\n",
       "    }\n",
       "</style>\n",
       "<table border=\"1\" class=\"dataframe\">\n",
       "  <thead>\n",
       "    <tr style=\"text-align: right;\">\n",
       "      <th></th>\n",
       "      <th>state</th>\n",
       "      <th>dist</th>\n",
       "      <th>dem</th>\n",
       "      <th>year</th>\n",
       "      <th>turnout_dem_strong</th>\n",
       "      <th>low_info_votes1</th>\n",
       "      <th>high_info_votes1</th>\n",
       "      <th>low_info_n1</th>\n",
       "      <th>high_info_n1</th>\n",
       "      <th>turnout_dem_nvstrong</th>\n",
       "      <th>...</th>\n",
       "      <th>re</th>\n",
       "      <th>g</th>\n",
       "      <th>pv</th>\n",
       "      <th>two_party_total</th>\n",
       "      <th>lag_pv</th>\n",
       "      <th>catalist_share</th>\n",
       "      <th>no_party_id</th>\n",
       "      <th>gov_elec</th>\n",
       "      <th>senate_elec</th>\n",
       "      <th>mindonors</th>\n",
       "    </tr>\n",
       "  </thead>\n",
       "  <tbody>\n",
       "    <tr>\n",
       "      <th>0</th>\n",
       "      <td>AK</td>\n",
       "      <td>1.0</td>\n",
       "      <td>1.0</td>\n",
       "      <td>2008.0</td>\n",
       "      <td>0.777778</td>\n",
       "      <td>0.0</td>\n",
       "      <td>7.0</td>\n",
       "      <td>1.0</td>\n",
       "      <td>8.0</td>\n",
       "      <td>0.800000</td>\n",
       "      <td>...</td>\n",
       "      <td>0.0</td>\n",
       "      <td>1.0</td>\n",
       "      <td>0.391753</td>\n",
       "      <td>0.97</td>\n",
       "      <td>0.371134</td>\n",
       "      <td>0.161095</td>\n",
       "      <td>0.0</td>\n",
       "      <td>0.0</td>\n",
       "      <td>1.0</td>\n",
       "      <td>41316.0</td>\n",
       "    </tr>\n",
       "    <tr>\n",
       "      <th>2</th>\n",
       "      <td>AL</td>\n",
       "      <td>2.0</td>\n",
       "      <td>0.0</td>\n",
       "      <td>2008.0</td>\n",
       "      <td>0.600000</td>\n",
       "      <td>1.0</td>\n",
       "      <td>2.0</td>\n",
       "      <td>3.0</td>\n",
       "      <td>2.0</td>\n",
       "      <td>0.333333</td>\n",
       "      <td>...</td>\n",
       "      <td>0.0</td>\n",
       "      <td>2.0</td>\n",
       "      <td>0.636364</td>\n",
       "      <td>0.99</td>\n",
       "      <td>0.670000</td>\n",
       "      <td>NaN</td>\n",
       "      <td>1.0</td>\n",
       "      <td>0.0</td>\n",
       "      <td>1.0</td>\n",
       "      <td>16592.0</td>\n",
       "    </tr>\n",
       "    <tr>\n",
       "      <th>4</th>\n",
       "      <td>AL</td>\n",
       "      <td>7.0</td>\n",
       "      <td>1.0</td>\n",
       "      <td>2010.0</td>\n",
       "      <td>0.652174</td>\n",
       "      <td>3.0</td>\n",
       "      <td>11.0</td>\n",
       "      <td>7.0</td>\n",
       "      <td>15.0</td>\n",
       "      <td>0.428571</td>\n",
       "      <td>...</td>\n",
       "      <td>0.0</td>\n",
       "      <td>6.0</td>\n",
       "      <td>0.727273</td>\n",
       "      <td>0.99</td>\n",
       "      <td>0.727273</td>\n",
       "      <td>NaN</td>\n",
       "      <td>1.0</td>\n",
       "      <td>1.0</td>\n",
       "      <td>1.0</td>\n",
       "      <td>38000.0</td>\n",
       "    </tr>\n",
       "    <tr>\n",
       "      <th>9</th>\n",
       "      <td>AR</td>\n",
       "      <td>1.0</td>\n",
       "      <td>1.0</td>\n",
       "      <td>2010.0</td>\n",
       "      <td>0.777778</td>\n",
       "      <td>4.0</td>\n",
       "      <td>10.0</td>\n",
       "      <td>7.0</td>\n",
       "      <td>11.0</td>\n",
       "      <td>0.700000</td>\n",
       "      <td>...</td>\n",
       "      <td>0.0</td>\n",
       "      <td>7.0</td>\n",
       "      <td>0.391753</td>\n",
       "      <td>0.97</td>\n",
       "      <td>0.391753</td>\n",
       "      <td>0.053922</td>\n",
       "      <td>1.0</td>\n",
       "      <td>1.0</td>\n",
       "      <td>1.0</td>\n",
       "      <td>6000.0</td>\n",
       "    </tr>\n",
       "    <tr>\n",
       "      <th>10</th>\n",
       "      <td>AR</td>\n",
       "      <td>2.0</td>\n",
       "      <td>1.0</td>\n",
       "      <td>2010.0</td>\n",
       "      <td>0.730769</td>\n",
       "      <td>4.0</td>\n",
       "      <td>15.0</td>\n",
       "      <td>9.0</td>\n",
       "      <td>17.0</td>\n",
       "      <td>0.266667</td>\n",
       "      <td>...</td>\n",
       "      <td>0.0</td>\n",
       "      <td>9.0</td>\n",
       "      <td>0.448980</td>\n",
       "      <td>0.98</td>\n",
       "      <td>0.448980</td>\n",
       "      <td>0.056127</td>\n",
       "      <td>1.0</td>\n",
       "      <td>1.0</td>\n",
       "      <td>1.0</td>\n",
       "      <td>39400.0</td>\n",
       "    </tr>\n",
       "  </tbody>\n",
       "</table>\n",
       "<p>5 rows × 151 columns</p>\n",
       "</div>"
      ],
      "text/plain": [
       "   state dist  dem    year  turnout_dem_strong  low_info_votes1  \\\n",
       "0     AK  1.0  1.0  2008.0            0.777778              0.0   \n",
       "2     AL  2.0  0.0  2008.0            0.600000              1.0   \n",
       "4     AL  7.0  1.0  2010.0            0.652174              3.0   \n",
       "9     AR  1.0  1.0  2010.0            0.777778              4.0   \n",
       "10    AR  2.0  1.0  2010.0            0.730769              4.0   \n",
       "\n",
       "    high_info_votes1  low_info_n1  high_info_n1  turnout_dem_nvstrong  ...  \\\n",
       "0                7.0          1.0           8.0              0.800000  ...   \n",
       "2                2.0          3.0           2.0              0.333333  ...   \n",
       "4               11.0          7.0          15.0              0.428571  ...   \n",
       "9               10.0          7.0          11.0              0.700000  ...   \n",
       "10              15.0          9.0          17.0              0.266667  ...   \n",
       "\n",
       "     re    g        pv  two_party_total    lag_pv  catalist_share  \\\n",
       "0   0.0  1.0  0.391753             0.97  0.371134        0.161095   \n",
       "2   0.0  2.0  0.636364             0.99  0.670000             NaN   \n",
       "4   0.0  6.0  0.727273             0.99  0.727273             NaN   \n",
       "9   0.0  7.0  0.391753             0.97  0.391753        0.053922   \n",
       "10  0.0  9.0  0.448980             0.98  0.448980        0.056127   \n",
       "\n",
       "    no_party_id  gov_elec  senate_elec  mindonors  \n",
       "0           0.0       0.0          1.0    41316.0  \n",
       "2           1.0       0.0          1.0    16592.0  \n",
       "4           1.0       1.0          1.0    38000.0  \n",
       "9           1.0       1.0          1.0     6000.0  \n",
       "10          1.0       1.0          1.0    39400.0  \n",
       "\n",
       "[5 rows x 151 columns]"
      ]
     },
     "execution_count": 6,
     "metadata": {},
     "output_type": "execute_result"
    }
   ],
   "source": [
    "less_than_ten = turnout[np.abs(turnout.rv)<.1]\n",
    "less_than_ten.head()"
   ]
  },
  {
   "cell_type": "markdown",
   "metadata": {},
   "source": [
    "#### Question 2.3\n",
    "\n",
    "Create a dataframe `greater_than_cutoff` containing only values for which the `absdist`column is greater than cutoff value."
   ]
  },
  {
   "cell_type": "code",
   "execution_count": 7,
   "metadata": {},
   "outputs": [
    {
     "data": {
      "text/html": [
       "<div>\n",
       "<style scoped>\n",
       "    .dataframe tbody tr th:only-of-type {\n",
       "        vertical-align: middle;\n",
       "    }\n",
       "\n",
       "    .dataframe tbody tr th {\n",
       "        vertical-align: top;\n",
       "    }\n",
       "\n",
       "    .dataframe thead th {\n",
       "        text-align: right;\n",
       "    }\n",
       "</style>\n",
       "<table border=\"1\" class=\"dataframe\">\n",
       "  <thead>\n",
       "    <tr style=\"text-align: right;\">\n",
       "      <th></th>\n",
       "      <th>state</th>\n",
       "      <th>dist</th>\n",
       "      <th>dem</th>\n",
       "      <th>year</th>\n",
       "      <th>turnout_dem_strong</th>\n",
       "      <th>low_info_votes1</th>\n",
       "      <th>high_info_votes1</th>\n",
       "      <th>low_info_n1</th>\n",
       "      <th>high_info_n1</th>\n",
       "      <th>turnout_dem_nvstrong</th>\n",
       "      <th>...</th>\n",
       "      <th>re</th>\n",
       "      <th>g</th>\n",
       "      <th>pv</th>\n",
       "      <th>two_party_total</th>\n",
       "      <th>lag_pv</th>\n",
       "      <th>catalist_share</th>\n",
       "      <th>no_party_id</th>\n",
       "      <th>gov_elec</th>\n",
       "      <th>senate_elec</th>\n",
       "      <th>mindonors</th>\n",
       "    </tr>\n",
       "  </thead>\n",
       "  <tbody>\n",
       "    <tr>\n",
       "      <th>1</th>\n",
       "      <td>AL</td>\n",
       "      <td>7.0</td>\n",
       "      <td>1.0</td>\n",
       "      <td>2006.0</td>\n",
       "      <td>0.500000</td>\n",
       "      <td>0.0</td>\n",
       "      <td>0.0</td>\n",
       "      <td>0.0</td>\n",
       "      <td>0.0</td>\n",
       "      <td>0.500000</td>\n",
       "      <td>...</td>\n",
       "      <td>0.0</td>\n",
       "      <td>6.0</td>\n",
       "      <td>0.646465</td>\n",
       "      <td>0.99</td>\n",
       "      <td>0.646465</td>\n",
       "      <td>NaN</td>\n",
       "      <td>1.0</td>\n",
       "      <td>1.0</td>\n",
       "      <td>0.0</td>\n",
       "      <td>500.0</td>\n",
       "    </tr>\n",
       "    <tr>\n",
       "      <th>3</th>\n",
       "      <td>AL</td>\n",
       "      <td>5.0</td>\n",
       "      <td>1.0</td>\n",
       "      <td>2010.0</td>\n",
       "      <td>0.684211</td>\n",
       "      <td>4.0</td>\n",
       "      <td>8.0</td>\n",
       "      <td>8.0</td>\n",
       "      <td>9.0</td>\n",
       "      <td>0.125000</td>\n",
       "      <td>...</td>\n",
       "      <td>0.0</td>\n",
       "      <td>3.0</td>\n",
       "      <td>0.383838</td>\n",
       "      <td>0.99</td>\n",
       "      <td>0.383838</td>\n",
       "      <td>NaN</td>\n",
       "      <td>1.0</td>\n",
       "      <td>1.0</td>\n",
       "      <td>1.0</td>\n",
       "      <td>5000.0</td>\n",
       "    </tr>\n",
       "    <tr>\n",
       "      <th>5</th>\n",
       "      <td>AL</td>\n",
       "      <td>2.0</td>\n",
       "      <td>0.0</td>\n",
       "      <td>2010.0</td>\n",
       "      <td>0.600000</td>\n",
       "      <td>0.0</td>\n",
       "      <td>6.0</td>\n",
       "      <td>4.0</td>\n",
       "      <td>6.0</td>\n",
       "      <td>1.000000</td>\n",
       "      <td>...</td>\n",
       "      <td>0.0</td>\n",
       "      <td>2.0</td>\n",
       "      <td>0.636364</td>\n",
       "      <td>0.99</td>\n",
       "      <td>0.636364</td>\n",
       "      <td>NaN</td>\n",
       "      <td>1.0</td>\n",
       "      <td>1.0</td>\n",
       "      <td>1.0</td>\n",
       "      <td>250.0</td>\n",
       "    </tr>\n",
       "    <tr>\n",
       "      <th>9</th>\n",
       "      <td>AR</td>\n",
       "      <td>1.0</td>\n",
       "      <td>1.0</td>\n",
       "      <td>2010.0</td>\n",
       "      <td>0.777778</td>\n",
       "      <td>4.0</td>\n",
       "      <td>10.0</td>\n",
       "      <td>7.0</td>\n",
       "      <td>11.0</td>\n",
       "      <td>0.700000</td>\n",
       "      <td>...</td>\n",
       "      <td>0.0</td>\n",
       "      <td>7.0</td>\n",
       "      <td>0.391753</td>\n",
       "      <td>0.97</td>\n",
       "      <td>0.391753</td>\n",
       "      <td>0.053922</td>\n",
       "      <td>1.0</td>\n",
       "      <td>1.0</td>\n",
       "      <td>1.0</td>\n",
       "      <td>6000.0</td>\n",
       "    </tr>\n",
       "    <tr>\n",
       "      <th>10</th>\n",
       "      <td>AR</td>\n",
       "      <td>2.0</td>\n",
       "      <td>1.0</td>\n",
       "      <td>2010.0</td>\n",
       "      <td>0.730769</td>\n",
       "      <td>4.0</td>\n",
       "      <td>15.0</td>\n",
       "      <td>9.0</td>\n",
       "      <td>17.0</td>\n",
       "      <td>0.266667</td>\n",
       "      <td>...</td>\n",
       "      <td>0.0</td>\n",
       "      <td>9.0</td>\n",
       "      <td>0.448980</td>\n",
       "      <td>0.98</td>\n",
       "      <td>0.448980</td>\n",
       "      <td>0.056127</td>\n",
       "      <td>1.0</td>\n",
       "      <td>1.0</td>\n",
       "      <td>1.0</td>\n",
       "      <td>39400.0</td>\n",
       "    </tr>\n",
       "  </tbody>\n",
       "</table>\n",
       "<p>5 rows × 151 columns</p>\n",
       "</div>"
      ],
      "text/plain": [
       "   state dist  dem    year  turnout_dem_strong  low_info_votes1  \\\n",
       "1     AL  7.0  1.0  2006.0            0.500000              0.0   \n",
       "3     AL  5.0  1.0  2010.0            0.684211              4.0   \n",
       "5     AL  2.0  0.0  2010.0            0.600000              0.0   \n",
       "9     AR  1.0  1.0  2010.0            0.777778              4.0   \n",
       "10    AR  2.0  1.0  2010.0            0.730769              4.0   \n",
       "\n",
       "    high_info_votes1  low_info_n1  high_info_n1  turnout_dem_nvstrong  ...  \\\n",
       "1                0.0          0.0           0.0              0.500000  ...   \n",
       "3                8.0          8.0           9.0              0.125000  ...   \n",
       "5                6.0          4.0           6.0              1.000000  ...   \n",
       "9               10.0          7.0          11.0              0.700000  ...   \n",
       "10              15.0          9.0          17.0              0.266667  ...   \n",
       "\n",
       "     re    g        pv  two_party_total    lag_pv  catalist_share  \\\n",
       "1   0.0  6.0  0.646465             0.99  0.646465             NaN   \n",
       "3   0.0  3.0  0.383838             0.99  0.383838             NaN   \n",
       "5   0.0  2.0  0.636364             0.99  0.636364             NaN   \n",
       "9   0.0  7.0  0.391753             0.97  0.391753        0.053922   \n",
       "10  0.0  9.0  0.448980             0.98  0.448980        0.056127   \n",
       "\n",
       "    no_party_id  gov_elec  senate_elec  mindonors  \n",
       "1           1.0       1.0          0.0      500.0  \n",
       "3           1.0       1.0          1.0     5000.0  \n",
       "5           1.0       1.0          1.0      250.0  \n",
       "9           1.0       1.0          1.0     6000.0  \n",
       "10          1.0       1.0          1.0    39400.0  \n",
       "\n",
       "[5 rows x 151 columns]"
      ]
     },
     "execution_count": 7,
     "metadata": {},
     "output_type": "execute_result"
    }
   ],
   "source": [
    "greater_than_cutoff = turnout[turnout.absdist>cutoff]\n",
    "greater_than_cutoff.head()"
   ]
  },
  {
   "cell_type": "markdown",
   "metadata": {},
   "source": [
    "#### Question 2.4\n",
    "\n",
    "Create a dataframe `ten_and_cutoff` with both conditions from Question 2.2 and 2.3."
   ]
  },
  {
   "cell_type": "code",
   "execution_count": 8,
   "metadata": {},
   "outputs": [
    {
     "data": {
      "text/html": [
       "<div>\n",
       "<style scoped>\n",
       "    .dataframe tbody tr th:only-of-type {\n",
       "        vertical-align: middle;\n",
       "    }\n",
       "\n",
       "    .dataframe tbody tr th {\n",
       "        vertical-align: top;\n",
       "    }\n",
       "\n",
       "    .dataframe thead th {\n",
       "        text-align: right;\n",
       "    }\n",
       "</style>\n",
       "<table border=\"1\" class=\"dataframe\">\n",
       "  <thead>\n",
       "    <tr style=\"text-align: right;\">\n",
       "      <th></th>\n",
       "      <th>state</th>\n",
       "      <th>dist</th>\n",
       "      <th>dem</th>\n",
       "      <th>year</th>\n",
       "      <th>turnout_dem_strong</th>\n",
       "      <th>low_info_votes1</th>\n",
       "      <th>high_info_votes1</th>\n",
       "      <th>low_info_n1</th>\n",
       "      <th>high_info_n1</th>\n",
       "      <th>turnout_dem_nvstrong</th>\n",
       "      <th>...</th>\n",
       "      <th>re</th>\n",
       "      <th>g</th>\n",
       "      <th>pv</th>\n",
       "      <th>two_party_total</th>\n",
       "      <th>lag_pv</th>\n",
       "      <th>catalist_share</th>\n",
       "      <th>no_party_id</th>\n",
       "      <th>gov_elec</th>\n",
       "      <th>senate_elec</th>\n",
       "      <th>mindonors</th>\n",
       "    </tr>\n",
       "  </thead>\n",
       "  <tbody>\n",
       "    <tr>\n",
       "      <th>9</th>\n",
       "      <td>AR</td>\n",
       "      <td>1.0</td>\n",
       "      <td>1.0</td>\n",
       "      <td>2010.0</td>\n",
       "      <td>0.777778</td>\n",
       "      <td>4.0</td>\n",
       "      <td>10.0</td>\n",
       "      <td>7.0</td>\n",
       "      <td>11.0</td>\n",
       "      <td>0.700000</td>\n",
       "      <td>...</td>\n",
       "      <td>0.0</td>\n",
       "      <td>7.0</td>\n",
       "      <td>0.391753</td>\n",
       "      <td>0.970</td>\n",
       "      <td>0.391753</td>\n",
       "      <td>0.053922</td>\n",
       "      <td>1.0</td>\n",
       "      <td>1.0</td>\n",
       "      <td>1.0</td>\n",
       "      <td>6000.0</td>\n",
       "    </tr>\n",
       "    <tr>\n",
       "      <th>10</th>\n",
       "      <td>AR</td>\n",
       "      <td>2.0</td>\n",
       "      <td>1.0</td>\n",
       "      <td>2010.0</td>\n",
       "      <td>0.730769</td>\n",
       "      <td>4.0</td>\n",
       "      <td>15.0</td>\n",
       "      <td>9.0</td>\n",
       "      <td>17.0</td>\n",
       "      <td>0.266667</td>\n",
       "      <td>...</td>\n",
       "      <td>0.0</td>\n",
       "      <td>9.0</td>\n",
       "      <td>0.448980</td>\n",
       "      <td>0.980</td>\n",
       "      <td>0.448980</td>\n",
       "      <td>0.056127</td>\n",
       "      <td>1.0</td>\n",
       "      <td>1.0</td>\n",
       "      <td>1.0</td>\n",
       "      <td>39400.0</td>\n",
       "    </tr>\n",
       "    <tr>\n",
       "      <th>14</th>\n",
       "      <td>AR</td>\n",
       "      <td>1.0</td>\n",
       "      <td>1.0</td>\n",
       "      <td>2012.0</td>\n",
       "      <td>0.500000</td>\n",
       "      <td>6.0</td>\n",
       "      <td>3.0</td>\n",
       "      <td>11.0</td>\n",
       "      <td>3.0</td>\n",
       "      <td>0.500000</td>\n",
       "      <td>...</td>\n",
       "      <td>1.0</td>\n",
       "      <td>8.0</td>\n",
       "      <td>0.373073</td>\n",
       "      <td>0.973</td>\n",
       "      <td>0.391753</td>\n",
       "      <td>0.047688</td>\n",
       "      <td>1.0</td>\n",
       "      <td>0.0</td>\n",
       "      <td>0.0</td>\n",
       "      <td>13000.0</td>\n",
       "    </tr>\n",
       "    <tr>\n",
       "      <th>17</th>\n",
       "      <td>AZ</td>\n",
       "      <td>2.0</td>\n",
       "      <td>1.0</td>\n",
       "      <td>2006.0</td>\n",
       "      <td>0.000000</td>\n",
       "      <td>0.0</td>\n",
       "      <td>0.0</td>\n",
       "      <td>0.0</td>\n",
       "      <td>0.0</td>\n",
       "      <td>0.000000</td>\n",
       "      <td>...</td>\n",
       "      <td>0.0</td>\n",
       "      <td>14.0</td>\n",
       "      <td>0.383838</td>\n",
       "      <td>0.990</td>\n",
       "      <td>0.383838</td>\n",
       "      <td>0.387636</td>\n",
       "      <td>0.0</td>\n",
       "      <td>1.0</td>\n",
       "      <td>1.0</td>\n",
       "      <td>960.0</td>\n",
       "    </tr>\n",
       "    <tr>\n",
       "      <th>19</th>\n",
       "      <td>AZ</td>\n",
       "      <td>8.0</td>\n",
       "      <td>0.0</td>\n",
       "      <td>2006.0</td>\n",
       "      <td>0.000000</td>\n",
       "      <td>0.0</td>\n",
       "      <td>0.0</td>\n",
       "      <td>0.0</td>\n",
       "      <td>0.0</td>\n",
       "      <td>0.100000</td>\n",
       "      <td>...</td>\n",
       "      <td>0.0</td>\n",
       "      <td>22.0</td>\n",
       "      <td>0.535353</td>\n",
       "      <td>0.990</td>\n",
       "      <td>0.535353</td>\n",
       "      <td>0.518953</td>\n",
       "      <td>0.0</td>\n",
       "      <td>1.0</td>\n",
       "      <td>1.0</td>\n",
       "      <td>84437.0</td>\n",
       "    </tr>\n",
       "  </tbody>\n",
       "</table>\n",
       "<p>5 rows × 151 columns</p>\n",
       "</div>"
      ],
      "text/plain": [
       "   state dist  dem    year  turnout_dem_strong  low_info_votes1  \\\n",
       "9     AR  1.0  1.0  2010.0            0.777778              4.0   \n",
       "10    AR  2.0  1.0  2010.0            0.730769              4.0   \n",
       "14    AR  1.0  1.0  2012.0            0.500000              6.0   \n",
       "17    AZ  2.0  1.0  2006.0            0.000000              0.0   \n",
       "19    AZ  8.0  0.0  2006.0            0.000000              0.0   \n",
       "\n",
       "    high_info_votes1  low_info_n1  high_info_n1  turnout_dem_nvstrong  ...  \\\n",
       "9               10.0          7.0          11.0              0.700000  ...   \n",
       "10              15.0          9.0          17.0              0.266667  ...   \n",
       "14               3.0         11.0           3.0              0.500000  ...   \n",
       "17               0.0          0.0           0.0              0.000000  ...   \n",
       "19               0.0          0.0           0.0              0.100000  ...   \n",
       "\n",
       "     re     g        pv  two_party_total    lag_pv  catalist_share  \\\n",
       "9   0.0   7.0  0.391753            0.970  0.391753        0.053922   \n",
       "10  0.0   9.0  0.448980            0.980  0.448980        0.056127   \n",
       "14  1.0   8.0  0.373073            0.973  0.391753        0.047688   \n",
       "17  0.0  14.0  0.383838            0.990  0.383838        0.387636   \n",
       "19  0.0  22.0  0.535353            0.990  0.535353        0.518953   \n",
       "\n",
       "    no_party_id  gov_elec  senate_elec  mindonors  \n",
       "9           1.0       1.0          1.0     6000.0  \n",
       "10          1.0       1.0          1.0    39400.0  \n",
       "14          1.0       0.0          0.0    13000.0  \n",
       "17          0.0       1.0          1.0      960.0  \n",
       "19          0.0       1.0          1.0    84437.0  \n",
       "\n",
       "[5 rows x 151 columns]"
      ]
     },
     "execution_count": 8,
     "metadata": {},
     "output_type": "execute_result"
    }
   ],
   "source": [
    "ten_and_cutoff = turnout[(np.abs(turnout.rv)<.1) & (turnout.absdist>cutoff)]\n",
    "ten_and_cutoff.head()"
   ]
  },
  {
   "cell_type": "markdown",
   "metadata": {},
   "source": [
    "### 3. Hall Estimates on Vote Share and Electoral Victory\n",
    "\n",
    "We will first replicate the Hall estimates on vote share. We do this replication because our subsequent analyses will be using a smaller dataset that only includes election years since the beginning of the Cooperative Congressional Election Study (CCES) in 2006.\n",
    "\n",
    "We will also refer back to these vote-share estimates later in interpreting the turnout estimates. Table 1 will present these estimates."
   ]
  },
  {
   "cell_type": "markdown",
   "metadata": {},
   "source": [
    "In the Hall and Thompson paper, TABLE 1 shows the effect of extremist mominee on party’s general-election vote share and victory for the US House from 2006–2014.\n",
    "\n",
    "For this problem you will be creating the estimates on vote share. We will go through this process one column at a time. \n",
    "\n",
    "In order to perform a local linear ordinary least squares (OLS) we will use the `statsmodels` python library (imported at the start of the lab). Take a look at the [documentation](https://www.statsmodels.org/stable/example_formulas.html) to better understand how we will fit models using R-style formulas."
   ]
  },
  {
   "cell_type": "markdown",
   "metadata": {},
   "source": [
    "The cell below defines `model` as an ols regression that takes in two parameters: `formula` which accepts a string that describes the model and `data` which accepts a dataframe. \n",
    "\n",
    "The `results` fits the model. `cov_type` is the covariance type. `cov_kwds` is for coveriance keywwords, this is where you define what column of the dataframe you want to cluster on. In the Hall and Thompson paper robust standard errors clustered by district `g`."
   ]
  },
  {
   "cell_type": "code",
   "execution_count": 9,
   "metadata": {},
   "outputs": [],
   "source": [
    "model = smf.ols(formula='vote_general ~ treat + rv + treat_rv', data=ten_and_cutoff)\n",
    "results = model.fit(cov_type = 'cluster', cov_kwds={'groups': ten_and_cutoff['g']})"
   ]
  },
  {
   "cell_type": "code",
   "execution_count": 10,
   "metadata": {},
   "outputs": [
    {
     "name": "stdout",
     "output_type": "stream",
     "text": [
      "                            OLS Regression Results                            \n",
      "==============================================================================\n",
      "Dep. Variable:           vote_general   R-squared:                       0.106\n",
      "Model:                            OLS   Adj. R-squared:                  0.080\n",
      "Method:                 Least Squares   F-statistic:                     5.737\n",
      "Date:                Mon, 26 Apr 2021   Prob (F-statistic):            0.00116\n",
      "Time:                        13:46:02   Log-Likelihood:                 73.595\n",
      "No. Observations:                 109   AIC:                            -139.2\n",
      "Df Residuals:                     105   BIC:                            -128.4\n",
      "Df Model:                           3                                         \n",
      "Covariance Type:              cluster                                         \n",
      "==============================================================================\n",
      "                 coef    std err          z      P>|z|      [0.025      0.975]\n",
      "------------------------------------------------------------------------------\n",
      "Intercept      0.5711      0.033     17.182      0.000       0.506       0.636\n",
      "treat         -0.1256      0.041     -3.029      0.002      -0.207      -0.044\n",
      "rv             0.0162      0.541      0.030      0.976      -1.044       1.077\n",
      "treat_rv       1.4375      0.783      1.835      0.066      -0.097       2.973\n",
      "==============================================================================\n",
      "Omnibus:                       12.812   Durbin-Watson:                   1.771\n",
      "Prob(Omnibus):                  0.002   Jarque-Bera (JB):               14.959\n",
      "Skew:                           0.681   Prob(JB):                     0.000565\n",
      "Kurtosis:                       4.200   Cond. No.                         88.6\n",
      "==============================================================================\n",
      "\n",
      "Warnings:\n",
      "[1] Standard Errors are robust to cluster correlation (cluster)\n"
     ]
    }
   ],
   "source": [
    "print(results.summary())"
   ]
  },
  {
   "cell_type": "markdown",
   "metadata": {},
   "source": [
    "We will follow this workflow for creating the table."
   ]
  },
  {
   "cell_type": "markdown",
   "metadata": {},
   "source": [
    "#### Question 3.1 \n",
    "Start by creating a new dataframe `vote_share`. "
   ]
  },
  {
   "cell_type": "code",
   "execution_count": 11,
   "metadata": {},
   "outputs": [],
   "source": [
    "#Table 1\n",
    "vote_share = pd.DataFrame()"
   ]
  },
  {
   "cell_type": "markdown",
   "metadata": {},
   "source": [
    "The first column is done for you.\n",
    "\n",
    "In the first column we will use a local linear ordinary least squares (OLS) estimated separately on each side of the discontinuity, using only observations where the primary winner won by ten percentage points of less.\n",
    "\n",
    "Assign `vote_share[\"c1\"]` to the coefficient from the OLS regression results.\n",
    "\n",
    "Hint: If you are unsure about what dataframe the `data` parameter will take in when doing your regression refer back to the filtered dataframes we created at the beginning of the lab assignment. Which ones contain data that is relevant for each of the columns needed to create Table 1?"
   ]
  },
  {
   "cell_type": "code",
   "execution_count": 12,
   "metadata": {},
   "outputs": [],
   "source": [
    "vote_share[\"c1\"] = smf.ols(formula='vote_general ~ treat + rv + treat_rv', data=ten_and_cutoff).fit(cov_type = 'cluster', cov_kwds={'groups': ten_and_cutoff['g']}).params"
   ]
  },
  {
   "cell_type": "markdown",
   "metadata": {},
   "source": [
    "#### Question 3.2 \n",
    "Assign `vote_share[\"c2\"]` to the coefficient from the OLS regression results using all the data with a third-order polynomial of the running variable."
   ]
  },
  {
   "cell_type": "code",
   "execution_count": 13,
   "metadata": {},
   "outputs": [],
   "source": [
    "vote_share[\"c2\"] = smf.ols(formula='vote_general ~ treat + rv + rv2 + rv3', data=greater_than_cutoff).fit(cov_type = 'cluster', cov_kwds={'groups': greater_than_cutoff['g']}).params"
   ]
  },
  {
   "cell_type": "markdown",
   "metadata": {},
   "source": [
    "#### Question 3.3\n",
    "Assign `vote_share[\"c3\"]` to the coefficient from the OLS regression results using all the data with a fifth-order polynomial of the running variable."
   ]
  },
  {
   "cell_type": "code",
   "execution_count": 14,
   "metadata": {},
   "outputs": [],
   "source": [
    "vote_share[\"c3\"] = smf.ols(formula='vote_general ~ treat + rv + rv2 + rv3 + rv4 + rv5', data=greater_than_cutoff).fit(cov_type = 'cluster', cov_kwds={'groups': greater_than_cutoff['g']}).params"
   ]
  },
  {
   "cell_type": "markdown",
   "metadata": {},
   "source": [
    "#### Question 3.4\n",
    "In the fourth column, we use the automated bandwidth selection and kernel estimation from Calonico, Cattaneo, and Titiunik (2014)."
   ]
  },
  {
   "cell_type": "code",
   "execution_count": 15,
   "metadata": {},
   "outputs": [],
   "source": [
    "vote_share[\"c4\"] = smf.ols(formula='vote_general ~ rv', data=greater_than_cutoff).fit(cov_type = 'cluster', cov_kwds={'groups': greater_than_cutoff['g']}).params"
   ]
  },
  {
   "cell_type": "code",
   "execution_count": 16,
   "metadata": {},
   "outputs": [
    {
     "data": {
      "text/html": [
       "<div>\n",
       "<style scoped>\n",
       "    .dataframe tbody tr th:only-of-type {\n",
       "        vertical-align: middle;\n",
       "    }\n",
       "\n",
       "    .dataframe tbody tr th {\n",
       "        vertical-align: top;\n",
       "    }\n",
       "\n",
       "    .dataframe thead th {\n",
       "        text-align: right;\n",
       "    }\n",
       "</style>\n",
       "<table border=\"1\" class=\"dataframe\">\n",
       "  <thead>\n",
       "    <tr style=\"text-align: right;\">\n",
       "      <th></th>\n",
       "      <th>c1</th>\n",
       "      <th>c2</th>\n",
       "      <th>c3</th>\n",
       "      <th>c4</th>\n",
       "    </tr>\n",
       "  </thead>\n",
       "  <tbody>\n",
       "    <tr>\n",
       "      <th>Intercept</th>\n",
       "      <td>0.571126</td>\n",
       "      <td>0.576673</td>\n",
       "      <td>0.591576</td>\n",
       "      <td>0.578891</td>\n",
       "    </tr>\n",
       "    <tr>\n",
       "      <th>treat</th>\n",
       "      <td>-0.125614</td>\n",
       "      <td>-0.073253</td>\n",
       "      <td>-0.103788</td>\n",
       "      <td>NaN</td>\n",
       "    </tr>\n",
       "    <tr>\n",
       "      <th>rv</th>\n",
       "      <td>0.016220</td>\n",
       "      <td>0.082527</td>\n",
       "      <td>0.392000</td>\n",
       "      <td>-0.122190</td>\n",
       "    </tr>\n",
       "    <tr>\n",
       "      <th>treat_rv</th>\n",
       "      <td>1.437518</td>\n",
       "      <td>NaN</td>\n",
       "      <td>NaN</td>\n",
       "      <td>NaN</td>\n",
       "    </tr>\n",
       "  </tbody>\n",
       "</table>\n",
       "</div>"
      ],
      "text/plain": [
       "                 c1        c2        c3        c4\n",
       "Intercept  0.571126  0.576673  0.591576  0.578891\n",
       "treat     -0.125614 -0.073253 -0.103788       NaN\n",
       "rv         0.016220  0.082527  0.392000 -0.122190\n",
       "treat_rv   1.437518       NaN       NaN       NaN"
      ]
     },
     "execution_count": 16,
     "metadata": {},
     "output_type": "execute_result"
    }
   ],
   "source": [
    "vote_share"
   ]
  },
  {
   "cell_type": "markdown",
   "metadata": {},
   "source": [
    "These first four columns are all on general-election vote share. "
   ]
  },
  {
   "cell_type": "markdown",
   "metadata": {},
   "source": [
    "#### Question 3.5\n",
    "Create a dataframe `victory` for the final four columns of TABLE 1. The columns of `victory` replicate these specifications for electoral victory (an indicator) instead of vote share."
   ]
  },
  {
   "cell_type": "code",
   "execution_count": 17,
   "metadata": {},
   "outputs": [
    {
     "data": {
      "text/html": [
       "<div>\n",
       "<style scoped>\n",
       "    .dataframe tbody tr th:only-of-type {\n",
       "        vertical-align: middle;\n",
       "    }\n",
       "\n",
       "    .dataframe tbody tr th {\n",
       "        vertical-align: top;\n",
       "    }\n",
       "\n",
       "    .dataframe thead th {\n",
       "        text-align: right;\n",
       "    }\n",
       "</style>\n",
       "<table border=\"1\" class=\"dataframe\">\n",
       "  <thead>\n",
       "    <tr style=\"text-align: right;\">\n",
       "      <th></th>\n",
       "      <th>c5</th>\n",
       "      <th>c6</th>\n",
       "      <th>c7</th>\n",
       "      <th>c8</th>\n",
       "    </tr>\n",
       "  </thead>\n",
       "  <tbody>\n",
       "    <tr>\n",
       "      <th>Intercept</th>\n",
       "      <td>0.615526</td>\n",
       "      <td>0.767987</td>\n",
       "      <td>0.793402</td>\n",
       "      <td>0.660412</td>\n",
       "    </tr>\n",
       "    <tr>\n",
       "      <th>treat</th>\n",
       "      <td>-0.388739</td>\n",
       "      <td>-0.362493</td>\n",
       "      <td>-0.447032</td>\n",
       "      <td>NaN</td>\n",
       "    </tr>\n",
       "    <tr>\n",
       "      <th>rv</th>\n",
       "      <td>-2.379339</td>\n",
       "      <td>1.026059</td>\n",
       "      <td>1.882502</td>\n",
       "      <td>-0.171869</td>\n",
       "    </tr>\n",
       "    <tr>\n",
       "      <th>treat_rv</th>\n",
       "      <td>7.339911</td>\n",
       "      <td>NaN</td>\n",
       "      <td>NaN</td>\n",
       "      <td>NaN</td>\n",
       "    </tr>\n",
       "  </tbody>\n",
       "</table>\n",
       "</div>"
      ],
      "text/plain": [
       "                 c5        c6        c7        c8\n",
       "Intercept  0.615526  0.767987  0.793402  0.660412\n",
       "treat     -0.388739 -0.362493 -0.447032       NaN\n",
       "rv        -2.379339  1.026059  1.882502 -0.171869\n",
       "treat_rv   7.339911       NaN       NaN       NaN"
      ]
     },
     "execution_count": 17,
     "metadata": {},
     "output_type": "execute_result"
    }
   ],
   "source": [
    "victory = pd.DataFrame()\n",
    "victory[\"c5\"] = smf.ols(formula='victory_general ~ treat + rv + treat_rv', data=ten_and_cutoff).fit(cov_type = 'cluster', cov_kwds={'groups': ten_and_cutoff['g']}).params \n",
    "victory[\"c6\"] = smf.ols(formula='victory_general ~ treat + rv + rv2 + rv3', data=greater_than_cutoff).fit(cov_type = 'cluster', cov_kwds={'groups': greater_than_cutoff['g']}).params\n",
    "victory[\"c7\"] = smf.ols(formula='victory_general ~ treat + rv + rv2 + rv3 + rv4 + rv5', data=greater_than_cutoff).fit(cov_type = 'cluster', cov_kwds={'groups': greater_than_cutoff['g']}).params \n",
    "victory[\"c8\"] = smf.ols(formula='victory_general ~ rv', data=greater_than_cutoff).fit(cov_type = 'cluster', cov_kwds={'groups': greater_than_cutoff['g']}).params\n",
    "victory"
   ]
  },
  {
   "cell_type": "markdown",
   "metadata": {},
   "source": [
    "What do we learn from these values and why are they important?"
   ]
  },
  {
   "cell_type": "markdown",
   "metadata": {},
   "source": [
    "### 4. Effects on Partisian Turnout\n",
    "\n",
    "Having documented the effect of extremist nominees on vote share, we now examine their effect on partisan turnout by studying the regression discontinuity graphically. "
   ]
  },
  {
   "cell_type": "markdown",
   "metadata": {},
   "source": [
    "#### Question 4.1"
   ]
  },
  {
   "cell_type": "markdown",
   "metadata": {},
   "source": [
    "In the Hall and Thompson paper, FIGURE 2 shows the effect of extremist mominees on validated partisan turnout in the general election for the US House from 2006–2014. \n",
    "\n",
    "For this problem you will be creating a plot of binned averages of the extremist candidate’s winning margin in each primary race, on the horizontal axis, against the general-election vote share of the primary winner, on the vertical axis. \n",
    "\n",
    "Your final plot must have a title with both axes labeled (with meaningful names).\n",
    "\n",
    "Hint: Plot the data and regression model fits across a FacetGrid using [`sns.regplot(...)`](https://seaborn.pydata.org/generated/seaborn.regplot.html). This method is used to plot data and a linear regression model fit. Think about how many calls you will need to make to `sns.regplot(...)`."
   ]
  },
  {
   "cell_type": "code",
   "execution_count": 18,
   "metadata": {},
   "outputs": [
    {
     "data": {
      "image/png": "[encoded data removed]",
      "text/plain": [
       "<Figure size 432x288 with 1 Axes>"
      ]
     },
     "metadata": {},
     "output_type": "display_data"
    }
   ],
   "source": [
    "#Figure2: binned averages of extremist candidate's win margin in each primary (x) against general election vote share of primary winner (y)\n",
    "sns.set_style(\"whitegrid\")\n",
    "\n",
    "fig, ax = plt.subplots()\n",
    "sns.regplot(x=\"rv\", y=\"turnout_party_share\", data=turnout[turnout.rv<0], x_bins=10, ax=ax)\n",
    "sns.regplot(x=\"rv\", y=\"turnout_party_share\", data=turnout[turnout.rv>=0], x_bins=10, ax=ax)\n",
    "plt.axvline(color='r')\n",
    "\n",
    "ax.set_title(\"FIGURE 2. Binned averages of extremist win margin against primary vote share\")\n",
    "ax.set(xlabel=\"Extremist Win Margin in Primary\", ylabel=\"Party's Share of General-Election Turnout\")\n",
    "ax.set(xlim=(-0.2, 0.2), ylim=(0.40, 0.60), xticks=[-0.2, -0.1, 0.0, 0.1, 0.2], yticks=[0.40, 0.45, 0.50, 0.55, 0.60])\n",
    "\n",
    "plt.text(0.12, 0.590, \"N = 171\", fontsize=9)\n",
    "plt.text(0.12, 0.585, \"Bin Size = 10\", fontsize=9)\n",
    "plt.show()"
   ]
  },
  {
   "cell_type": "markdown",
   "metadata": {},
   "source": [
    "When a party nominates an extremist in its primary what is the efect on the general-election? Write your answer in the cell below."
   ]
  },
  {
   "cell_type": "markdown",
   "metadata": {},
   "source": [
    "Turnout skews towards the opposing party."
   ]
  },
  {
   "cell_type": "markdown",
   "metadata": {},
   "source": [
    "Looking at the plot you have created, what happens when the winning margin is above and below 0?"
   ]
  },
  {
   "cell_type": "markdown",
   "metadata": {},
   "source": [
    "When the winning margin is above 0, to the right of the vertical line in the plot, the extremist candidate from among the top two primary candidates wins the race, and the party fields an extremist in the general election. When the winning margin is below 0, to the left of the vertical line in the plot, the moderate wins and stands in the general election instead. "
   ]
  },
  {
   "cell_type": "markdown",
   "metadata": {},
   "source": [
    "### 5. Formal Estimates"
   ]
  },
  {
   "cell_type": "markdown",
   "metadata": {},
   "source": [
    "TABLE 2 shows the effect of extremist mominee on party’s general-election turnout for the US House from 2006–2014.\n",
    "\n",
    "For this problem you will be creating the estimates on partisian share of turnout, using the same specifications as in the vote share RD.\n",
    "\n",
    "Hint: It might help to refer back to Question 3. Think about what part of the OLS regression formula will change for this problem. Also think about what data we want to pass in to the `data` parameter. Do we want to include data with NaN values? How can you check if your dataframe contains any NaN values? "
   ]
  },
  {
   "cell_type": "markdown",
   "metadata": {},
   "source": [
    "#### Question 5.1\n",
    "Start by creating a new dataframe `partisan_share`."
   ]
  },
  {
   "cell_type": "code",
   "execution_count": 19,
   "metadata": {},
   "outputs": [],
   "source": [
    "#Table2: formal estimates using same specifications as vote share RD\n",
    "partisan_share = pd.DataFrame()"
   ]
  },
  {
   "cell_type": "markdown",
   "metadata": {},
   "source": [
    "The first column is done for you.\n",
    "\n",
    "In the first column we will use a local linear ordinary least squares (OLS) estimated separately on each side of the discontinuity, using only observations where the primary winner won by ten percentage points of less.\n",
    "\n",
    "Assign `partisan_share[\"c1\"]` to the coefficient from the OLS regression results."
   ]
  },
  {
   "cell_type": "code",
   "execution_count": 20,
   "metadata": {},
   "outputs": [],
   "source": [
    "partisan_share[\"c1\"] = smf.ols(formula=\"turnout_party_share ~ treat + rv + treat_rv\", data=ten_and_cutoff.dropna()).fit(cov_type = 'cluster', cov_kwds={'groups': ten_and_cutoff.dropna()['g']}).params"
   ]
  },
  {
   "cell_type": "markdown",
   "metadata": {},
   "source": [
    "#### Question 5.2 \n",
    "Assign `partisan_share[\"c2\"]` to the coefficient from the OLS regression results using all the data with a third-order polynomial of the running variable."
   ]
  },
  {
   "cell_type": "code",
   "execution_count": 21,
   "metadata": {},
   "outputs": [],
   "source": [
    "partisan_share[\"c2\"] = smf.ols(formula='turnout_party_share ~ treat + rv + rv2 + rv3', data=greater_than_cutoff.dropna()).fit(cov_type = 'cluster', cov_kwds={'groups': greater_than_cutoff.dropna()['g']}).params"
   ]
  },
  {
   "cell_type": "markdown",
   "metadata": {},
   "source": [
    "#### Question 5.3\n",
    "Assign `partisan_share[\"c3\"]` to the coefficient from the OLS regression results using all the data with a fifth-order polynomial of the running variable."
   ]
  },
  {
   "cell_type": "code",
   "execution_count": 22,
   "metadata": {},
   "outputs": [],
   "source": [
    "partisan_share[\"c3\"] = smf.ols(formula='turnout_party_share ~ treat + rv + rv2 + rv3 + rv4 + rv5', data=greater_than_cutoff.dropna()).fit(cov_type = 'cluster', cov_kwds={'groups': greater_than_cutoff.dropna()['g']}).params "
   ]
  },
  {
   "cell_type": "markdown",
   "metadata": {},
   "source": [
    "#### Question 5.4\n",
    "In the fourth column, we use the automated bandwidth selection and kernel estimation from Calonico, Cattaneo, and Titiunik (2014)."
   ]
  },
  {
   "cell_type": "code",
   "execution_count": 23,
   "metadata": {},
   "outputs": [],
   "source": [
    "partisan_share[\"c4\"] = smf.ols(formula='turnout_party_share ~ rv', data=greater_than_cutoff.dropna()).fit(cov_type = 'cluster', cov_kwds={'groups': greater_than_cutoff.dropna()['g']}).params"
   ]
  },
  {
   "cell_type": "code",
   "execution_count": 24,
   "metadata": {},
   "outputs": [
    {
     "data": {
      "text/html": [
       "<div>\n",
       "<style scoped>\n",
       "    .dataframe tbody tr th:only-of-type {\n",
       "        vertical-align: middle;\n",
       "    }\n",
       "\n",
       "    .dataframe tbody tr th {\n",
       "        vertical-align: top;\n",
       "    }\n",
       "\n",
       "    .dataframe thead th {\n",
       "        text-align: right;\n",
       "    }\n",
       "</style>\n",
       "<table border=\"1\" class=\"dataframe\">\n",
       "  <thead>\n",
       "    <tr style=\"text-align: right;\">\n",
       "      <th></th>\n",
       "      <th>c1</th>\n",
       "      <th>c2</th>\n",
       "      <th>c3</th>\n",
       "      <th>c4</th>\n",
       "    </tr>\n",
       "  </thead>\n",
       "  <tbody>\n",
       "    <tr>\n",
       "      <th>Intercept</th>\n",
       "      <td>0.378427</td>\n",
       "      <td>0.480691</td>\n",
       "      <td>0.509661</td>\n",
       "      <td>0.502819</td>\n",
       "    </tr>\n",
       "    <tr>\n",
       "      <th>treat</th>\n",
       "      <td>0.038771</td>\n",
       "      <td>0.050295</td>\n",
       "      <td>-0.009888</td>\n",
       "      <td>NaN</td>\n",
       "    </tr>\n",
       "    <tr>\n",
       "      <th>rv</th>\n",
       "      <td>-2.420444</td>\n",
       "      <td>-0.471668</td>\n",
       "      <td>0.142170</td>\n",
       "      <td>0.149962</td>\n",
       "    </tr>\n",
       "    <tr>\n",
       "      <th>treat_rv</th>\n",
       "      <td>4.332590</td>\n",
       "      <td>NaN</td>\n",
       "      <td>NaN</td>\n",
       "      <td>NaN</td>\n",
       "    </tr>\n",
       "  </tbody>\n",
       "</table>\n",
       "</div>"
      ],
      "text/plain": [
       "                 c1        c2        c3        c4\n",
       "Intercept  0.378427  0.480691  0.509661  0.502819\n",
       "treat      0.038771  0.050295 -0.009888       NaN\n",
       "rv        -2.420444 -0.471668  0.142170  0.149962\n",
       "treat_rv   4.332590       NaN       NaN       NaN"
      ]
     },
     "execution_count": 24,
     "metadata": {},
     "output_type": "execute_result"
    }
   ],
   "source": [
    "partisan_share"
   ]
  },
  {
   "cell_type": "markdown",
   "metadata": {},
   "source": [
    "What do you notice about the effects of extremist nominees on their party’s share of turnout in the general election? Write your observations in the cell below."
   ]
  },
  {
   "cell_type": "markdown",
   "metadata": {},
   "source": [
    "No matter the specification, we find strong, negative effects of extremist nominees on their party’s share of turnout in the general election. "
   ]
  },
  {
   "cell_type": "markdown",
   "metadata": {},
   "source": [
    "On average, do extremist nominees depress or raise their party’s share of turnout in the general election?"
   ]
  },
  {
   "cell_type": "markdown",
   "metadata": {},
   "source": [
    "All together, we find strong evidence that extremist nominees depress their party’s share of turnout in the general election, on average."
   ]
  }
 ],
 "metadata": {
  "history": [
   {
    "code": "use rd_analysis_hs, clear",
    "id": "1bb8dd0f1cb04a479ffe8427ff149f5e",
    "idx": 0,
    "time": "2021-02-03T19:12:52.012Z",
    "type": "execution"
   },
   {
    "id": "1bb8dd0f1cb04a479ffe8427ff149f5e",
    "time": "2021-02-03T19:12:52.137Z",
    "type": "completion"
   },
   {
    "code": "import pandas as pd",
    "id": "1bb8dd0f1cb04a479ffe8427ff149f5e",
    "idx": 0,
    "time": "2021-02-03T19:13:07.580Z",
    "type": "execution"
   },
   {
    "id": "1bb8dd0f1cb04a479ffe8427ff149f5e",
    "time": "2021-02-03T19:13:08.438Z",
    "type": "completion"
   },
   {
    "code": "base_df = pd.read_stata('hall_thompson_replication_files/rd_analysis_hs.dta')\nbase_df.head()",
    "id": "bacbfb0afe76455e82ddb7c595e07312",
    "idx": 1,
    "time": "2021-02-03T19:14:26.432Z",
    "type": "execution"
   },
   {
    "id": "bacbfb0afe76455e82ddb7c595e07312",
    "time": "2021-02-03T19:14:26.801Z",
    "type": "completion"
   },
   {
    "code": "sum absdist, d\ngl cutoff = r(p50)",
    "id": "524a698bfd594356942908bd59f1db70",
    "idx": 2,
    "time": "2021-02-03T19:15:50.786Z",
    "type": "execution"
   },
   {
    "id": "524a698bfd594356942908bd59f1db70",
    "time": "2021-02-03T19:15:50.882Z",
    "type": "completion"
   },
   {
    "code": "sum absdist, d\ngl cutoff = r(p50)",
    "id": "524a698bfd594356942908bd59f1db70",
    "idx": 2,
    "time": "2021-02-03T19:16:29.722Z",
    "type": "execution"
   },
   {
    "id": "524a698bfd594356942908bd59f1db70",
    "time": "2021-02-03T19:16:29.792Z",
    "type": "completion"
   },
   {
    "code": "reg vote_general treat rv treat_rv  if abs(rv)<0.1 & absdist>$cutoff, cluster(g)",
    "id": "1287916bc69b457e985777c09a654301",
    "idx": 3,
    "time": "2021-02-03T19:16:41.853Z",
    "type": "execution"
   },
   {
    "id": "1287916bc69b457e985777c09a654301",
    "time": "2021-02-03T19:16:41.950Z",
    "type": "completion"
   },
   {
    "code": "base_df['vote_general']",
    "id": "b3ebb195abe741b6bc7d156a5ed4b270",
    "idx": 2,
    "time": "2021-02-03T19:27:16.031Z",
    "type": "execution"
   },
   {
    "id": "b3ebb195abe741b6bc7d156a5ed4b270",
    "time": "2021-02-03T19:27:16.155Z",
    "type": "completion"
   },
   {
    "code": "base_df['treat']",
    "id": "b3ebb195abe741b6bc7d156a5ed4b270",
    "idx": 2,
    "time": "2021-02-03T19:29:29.418Z",
    "type": "execution"
   },
   {
    "id": "b3ebb195abe741b6bc7d156a5ed4b270",
    "time": "2021-02-03T19:29:29.530Z",
    "type": "completion"
   },
   {
    "code": "df['r']",
    "id": "cfa5fcd1e84c4b708de5bb15e5b60ad8",
    "idx": 2,
    "time": "2021-02-03T19:34:23.550Z",
    "type": "execution"
   },
   {
    "id": "cfa5fcd1e84c4b708de5bb15e5b60ad8",
    "time": "2021-02-03T19:34:23.799Z",
    "type": "completion"
   },
   {
    "code": "import pandas as pd",
    "id": "1bb8dd0f1cb04a479ffe8427ff149f5e",
    "idx": 0,
    "time": "2021-02-03T19:34:27.876Z",
    "type": "execution"
   },
   {
    "id": "1bb8dd0f1cb04a479ffe8427ff149f5e",
    "time": "2021-02-03T19:34:28.231Z",
    "type": "completion"
   },
   {
    "code": "df = pd.read_stata('hall_thompson_replication_files/rd_analysis_hs.dta')\ndf.head()",
    "id": "bacbfb0afe76455e82ddb7c595e07312",
    "idx": 1,
    "time": "2021-02-03T19:34:28.310Z",
    "type": "execution"
   },
   {
    "id": "bacbfb0afe76455e82ddb7c595e07312",
    "time": "2021-02-03T19:34:28.716Z",
    "type": "completion"
   },
   {
    "code": "df['r']",
    "id": "cfa5fcd1e84c4b708de5bb15e5b60ad8",
    "idx": 2,
    "time": "2021-02-03T19:34:28.815Z",
    "type": "execution"
   },
   {
    "id": "cfa5fcd1e84c4b708de5bb15e5b60ad8",
    "time": "2021-02-03T19:34:28.883Z",
    "type": "completion"
   },
   {
    "code": "df['rv']",
    "id": "cfa5fcd1e84c4b708de5bb15e5b60ad8",
    "idx": 2,
    "time": "2021-02-03T19:34:50.732Z",
    "type": "execution"
   },
   {
    "id": "cfa5fcd1e84c4b708de5bb15e5b60ad8",
    "time": "2021-02-03T19:34:50.857Z",
    "type": "completion"
   },
   {
    "code": "df['treat_rv']",
    "id": "cfa5fcd1e84c4b708de5bb15e5b60ad8",
    "idx": 2,
    "time": "2021-02-03T19:34:57.575Z",
    "type": "execution"
   },
   {
    "id": "cfa5fcd1e84c4b708de5bb15e5b60ad8",
    "time": "2021-02-03T19:34:57.659Z",
    "type": "completion"
   },
   {
    "code": "sum absdist, d\ngl cutoff = r(p50)",
    "id": "9399da4443c247d98ecc6e7ed9bc88a1",
    "idx": 3,
    "time": "2021-02-03T19:36:02.656Z",
    "type": "execution"
   },
   {
    "id": "9399da4443c247d98ecc6e7ed9bc88a1",
    "time": "2021-02-03T19:36:02.745Z",
    "type": "completion"
   },
   {
    "code": "df['absdist']",
    "id": "cfa5fcd1e84c4b708de5bb15e5b60ad8",
    "idx": 2,
    "time": "2021-02-03T19:36:17.591Z",
    "type": "execution"
   },
   {
    "id": "cfa5fcd1e84c4b708de5bb15e5b60ad8",
    "time": "2021-02-03T19:36:17.792Z",
    "type": "completion"
   },
   {
    "code": "sum 'absdist', d\ngl cutoff = r(p50)",
    "id": "9399da4443c247d98ecc6e7ed9bc88a1",
    "idx": 3,
    "time": "2021-02-03T19:36:27.383Z",
    "type": "execution"
   },
   {
    "id": "9399da4443c247d98ecc6e7ed9bc88a1",
    "time": "2021-02-03T19:36:27.488Z",
    "type": "completion"
   },
   {
    "code": "sum('absdist'), d\ngl cutoff = r(p50)",
    "id": "9399da4443c247d98ecc6e7ed9bc88a1",
    "idx": 3,
    "time": "2021-02-03T19:36:41.512Z",
    "type": "execution"
   },
   {
    "id": "9399da4443c247d98ecc6e7ed9bc88a1",
    "time": "2021-02-03T19:36:41.629Z",
    "type": "completion"
   },
   {
    "code": "sum('absdist'), d\ncutoff = r(p50)",
    "id": "9399da4443c247d98ecc6e7ed9bc88a1",
    "idx": 3,
    "time": "2021-02-03T19:39:44.973Z",
    "type": "execution"
   },
   {
    "id": "9399da4443c247d98ecc6e7ed9bc88a1",
    "time": "2021-02-03T19:39:45.099Z",
    "type": "completion"
   },
   {
    "code": "df['vote_general']",
    "id": "cfa5fcd1e84c4b708de5bb15e5b60ad8",
    "idx": 2,
    "time": "2021-02-03T19:40:12.762Z",
    "type": "execution"
   },
   {
    "id": "cfa5fcd1e84c4b708de5bb15e5b60ad8",
    "time": "2021-02-03T19:40:12.829Z",
    "type": "completion"
   },
   {
    "code": "import econtools.metrics as mt\nmt.reg(df[abs('rv'<0.1)], 'vote_general', 'treat', 'rv', 'treat_rv' cluster='g')",
    "id": "24bbfaab3ace49a589bf126e2c4febba",
    "idx": 3,
    "time": "2021-02-03T19:43:28.674Z",
    "type": "execution"
   },
   {
    "id": "24bbfaab3ace49a589bf126e2c4febba",
    "time": "2021-02-03T19:43:28.812Z",
    "type": "completion"
   },
   {
    "code": "import econtools.metrics as mt\nmt.reg(df[abs('rv'<0.1)], 'vote_general', 'treat', 'rv', 'treat_rv', cluster='g')",
    "id": "24bbfaab3ace49a589bf126e2c4febba",
    "idx": 3,
    "time": "2021-02-03T19:43:34.449Z",
    "type": "execution"
   },
   {
    "id": "24bbfaab3ace49a589bf126e2c4febba",
    "time": "2021-02-03T19:43:34.526Z",
    "type": "completion"
   },
   {
    "code": "import econtools.metrics as mt\nreg(df[abs('rv'<0.1)], 'vote_general', 'treat', 'rv', 'treat_rv', cluster='g')",
    "id": "24bbfaab3ace49a589bf126e2c4febba",
    "idx": 3,
    "time": "2021-02-03T19:43:48.914Z",
    "type": "execution"
   },
   {
    "id": "24bbfaab3ace49a589bf126e2c4febba",
    "time": "2021-02-03T19:43:49.074Z",
    "type": "completion"
   },
   {
    "code": "#import econtools.metrics as mt\n\nreg(df[abs('rv'<0.1)], 'vote_general', 'treat', 'rv', 'treat_rv', cluster='g')",
    "id": "24bbfaab3ace49a589bf126e2c4febba",
    "idx": 3,
    "time": "2021-02-03T19:43:56.585Z",
    "type": "execution"
   },
   {
    "id": "24bbfaab3ace49a589bf126e2c4febba",
    "time": "2021-02-03T19:43:56.709Z",
    "type": "completion"
   },
   {
    "code": "import pandas as pd",
    "id": "774edaf4eee341a6bd09dcfdfecad883",
    "idx": 0,
    "time": "2021-02-03T21:55:15.634Z",
    "type": "execution"
   },
   {
    "code": "base_df = pd.read_stata('hall_thompson_replication_files/rd_analysis_hs.dta')\nbase_df.head()",
    "id": "d28280ad944a45c7ab5851d2a1c7cd28",
    "idx": 1,
    "time": "2021-02-03T21:55:16.042Z",
    "type": "execution"
   },
   {
    "id": "774edaf4eee341a6bd09dcfdfecad883",
    "time": "2021-02-03T21:55:16.089Z",
    "type": "completion"
   },
   {
    "id": "d28280ad944a45c7ab5851d2a1c7cd28",
    "time": "2021-02-03T21:55:16.430Z",
    "type": "completion"
   },
   {
    "code": "base_df['vote_general']",
    "id": "a40ee1692d2f487bb8e8442e3d38c017",
    "idx": 2,
    "time": "2021-02-03T21:55:16.512Z",
    "type": "execution"
   },
   {
    "id": "a40ee1692d2f487bb8e8442e3d38c017",
    "time": "2021-02-03T21:55:16.592Z",
    "type": "completion"
   },
   {
    "code": "base_df['vote_general']",
    "id": "a40ee1692d2f487bb8e8442e3d38c017",
    "idx": 2,
    "time": "2021-02-03T22:02:34.175Z",
    "type": "execution"
   },
   {
    "id": "a40ee1692d2f487bb8e8442e3d38c017",
    "time": "2021-02-03T22:02:34.285Z",
    "type": "completion"
   },
   {
    "code": "df=(base_df[base_df['vote_general']==1] #filter\n    .groupby(['N', 'Polynomial']).sum()\n    .reset_index())\ndf",
    "id": "a40ee1692d2f487bb8e8442e3d38c017",
    "idx": 2,
    "time": "2021-02-03T22:15:09.967Z",
    "type": "execution"
   },
   {
    "id": "a40ee1692d2f487bb8e8442e3d38c017",
    "time": "2021-02-03T22:15:10.162Z",
    "type": "completion"
   },
   {
    "code": "df = base_df['vote_general']\ndf",
    "id": "a40ee1692d2f487bb8e8442e3d38c017",
    "idx": 2,
    "time": "2021-02-03T22:15:30.367Z",
    "type": "execution"
   },
   {
    "id": "a40ee1692d2f487bb8e8442e3d38c017",
    "time": "2021-02-03T22:15:30.542Z",
    "type": "completion"
   },
   {
    "code": "import pandas as pd",
    "id": "774edaf4eee341a6bd09dcfdfecad883",
    "idx": 0,
    "time": "2021-02-03T22:21:29.103Z",
    "type": "execution"
   },
   {
    "id": "774edaf4eee341a6bd09dcfdfecad883",
    "time": "2021-02-03T22:21:29.213Z",
    "type": "completion"
   },
   {
    "code": "base_df = pd.read_stata('hall_thompson_replication_files/rd_analysis_hs.dta')\nbase_df.head()",
    "id": "d28280ad944a45c7ab5851d2a1c7cd28",
    "idx": 1,
    "time": "2021-02-03T22:21:32.766Z",
    "type": "execution"
   },
   {
    "id": "d28280ad944a45c7ab5851d2a1c7cd28",
    "time": "2021-02-03T22:21:33.142Z",
    "type": "completion"
   },
   {
    "code": "import econtools.metrics as mt\n#df = mt.reg(base_df[<condition>], <yvar>, <xvar>, cluster=<clustervar>)",
    "id": "a40ee1692d2f487bb8e8442e3d38c017",
    "idx": 2,
    "time": "2021-02-03T22:21:35.013Z",
    "type": "execution"
   },
   {
    "id": "a40ee1692d2f487bb8e8442e3d38c017",
    "time": "2021-02-03T22:21:35.085Z",
    "type": "completion"
   },
   {
    "code": "import metrics as mt\n#df = mt.reg(base_df[<condition>], <yvar>, <xvar>, cluster=<clustervar>)",
    "id": "a40ee1692d2f487bb8e8442e3d38c017",
    "idx": 2,
    "time": "2021-02-03T22:21:40.655Z",
    "type": "execution"
   },
   {
    "id": "a40ee1692d2f487bb8e8442e3d38c017",
    "time": "2021-02-03T22:21:40.741Z",
    "type": "completion"
   },
   {
    "code": "base_df['vote_general']",
    "id": "58da342a8aa4414099f1bc3bea0da25e",
    "idx": 2,
    "time": "2021-02-03T22:28:47.372Z",
    "type": "execution"
   },
   {
    "id": "58da342a8aa4414099f1bc3bea0da25e",
    "time": "2021-02-03T22:28:47.488Z",
    "type": "completion"
   },
   {
    "code": "results = sm.ols(formula=\"v3~v2\", data=base_df).fit()\nresults",
    "id": "a2fb7b8ef77f46d399b88fd505868222",
    "idx": 3,
    "time": "2021-02-04T18:27:14.792Z",
    "type": "execution"
   },
   {
    "id": "a2fb7b8ef77f46d399b88fd505868222",
    "time": "2021-02-04T18:27:14.920Z",
    "type": "completion"
   },
   {
    "code": "import pandas as pd\nimport statsmodels.formula.api as sm",
    "id": "b41ed4e9ac774ee085510773d5144773",
    "idx": 0,
    "time": "2021-02-04T18:27:17.501Z",
    "type": "execution"
   },
   {
    "code": "base_df = pd.read_stata('hall_thompson_replication_files/rd_analysis_hs.dta')\nbase_df.head()",
    "id": "d38a1687a94746158550ec9c08b98f3f",
    "idx": 1,
    "time": "2021-02-04T18:27:17.800Z",
    "type": "execution"
   },
   {
    "code": "base_df['vote_general']",
    "id": "9ccac3a8d98b478d98df3927ee7bfd30",
    "idx": 2,
    "time": "2021-02-04T18:27:18.208Z",
    "type": "execution"
   },
   {
    "id": "b41ed4e9ac774ee085510773d5144773",
    "time": "2021-02-04T18:27:18.373Z",
    "type": "completion"
   },
   {
    "code": "results = sm.ols(formula=\"v3~v2\", data=base_df).fit()\nresults",
    "id": "a2fb7b8ef77f46d399b88fd505868222",
    "idx": 3,
    "time": "2021-02-04T18:27:18.681Z",
    "type": "execution"
   },
   {
    "id": "d38a1687a94746158550ec9c08b98f3f",
    "time": "2021-02-04T18:27:18.732Z",
    "type": "completion"
   },
   {
    "id": "9ccac3a8d98b478d98df3927ee7bfd30",
    "time": "2021-02-04T18:27:18.766Z",
    "type": "completion"
   },
   {
    "id": "a2fb7b8ef77f46d399b88fd505868222",
    "time": "2021-02-04T18:27:18.976Z",
    "type": "completion"
   },
   {
    "code": "import pandas as pd\nimport statsmodels.formula.api as sm",
    "id": "b41ed4e9ac774ee085510773d5144773",
    "idx": 0,
    "time": "2021-02-04T18:33:25.970Z",
    "type": "execution"
   },
   {
    "id": "b41ed4e9ac774ee085510773d5144773",
    "time": "2021-02-04T18:33:26.154Z",
    "type": "completion"
   },
   {
    "code": "base_df = pd.read_stata('hall_thompson_replication_files/rd_analysis_hs.dta')\nbase_df.head()",
    "id": "d38a1687a94746158550ec9c08b98f3f",
    "idx": 1,
    "time": "2021-02-04T18:33:26.340Z",
    "type": "execution"
   },
   {
    "code": "base_df['vote_general']",
    "id": "9ccac3a8d98b478d98df3927ee7bfd30",
    "idx": 2,
    "time": "2021-02-04T18:33:26.729Z",
    "type": "execution"
   },
   {
    "id": "d38a1687a94746158550ec9c08b98f3f",
    "time": "2021-02-04T18:33:26.793Z",
    "type": "completion"
   },
   {
    "id": "9ccac3a8d98b478d98df3927ee7bfd30",
    "time": "2021-02-04T18:33:26.837Z",
    "type": "completion"
   },
   {
    "code": "x = base_df['vote_general']\ny = base_df['treat']\nx = sm.add_constant(x)\nmodel = sm.OLS(exog=x, endog=y)\nresults = model.fit()\nprint(results.summary())",
    "id": "a2fb7b8ef77f46d399b88fd505868222",
    "idx": 3,
    "time": "2021-02-04T18:33:28.226Z",
    "type": "execution"
   },
   {
    "id": "a2fb7b8ef77f46d399b88fd505868222",
    "time": "2021-02-04T18:33:28.325Z",
    "type": "completion"
   },
   {
    "code": "x = base_df['vote_general']\ny = base_df['treat']\n#x = sm.add_constant(x)\nmodel = sm.OLS(exog=x, endog=y)\nresults = model.fit()\nprint(results.summary())",
    "id": "a2fb7b8ef77f46d399b88fd505868222",
    "idx": 3,
    "time": "2021-02-04T18:34:05.027Z",
    "type": "execution"
   },
   {
    "id": "a2fb7b8ef77f46d399b88fd505868222",
    "time": "2021-02-04T18:34:05.121Z",
    "type": "completion"
   },
   {
    "code": "x = base_df['vote_general']\ny = base_df['treat']\nx = sm.add_constant(x)\nmodel = sm.ols(exog=x, endog=y)\nresults = model.fit()\nprint(results.summary())",
    "id": "a2fb7b8ef77f46d399b88fd505868222",
    "idx": 3,
    "time": "2021-02-04T18:34:18.892Z",
    "type": "execution"
   },
   {
    "id": "a2fb7b8ef77f46d399b88fd505868222",
    "time": "2021-02-04T18:34:18.985Z",
    "type": "completion"
   },
   {
    "code": "x = base_df['vote_general']\ny = base_df['treat']\n#x = sm.add_constant(x)\nmodel = sm.ols(exog=x, endog=y)\nresults = model.fit()\nprint(results.summary())",
    "id": "a2fb7b8ef77f46d399b88fd505868222",
    "idx": 3,
    "time": "2021-02-04T18:34:24.923Z",
    "type": "execution"
   },
   {
    "id": "a2fb7b8ef77f46d399b88fd505868222",
    "time": "2021-02-04T18:34:25.000Z",
    "type": "completion"
   },
   {
    "code": "x = base_df['vote_general']\ny = base_df['treat']\n#x = sm.add_constant(x)\nmodel = sm.ols(formula=\"v2~v\", data=base_df)\nresults = model.fit()\nprint(results.summary())",
    "id": "a2fb7b8ef77f46d399b88fd505868222",
    "idx": 3,
    "time": "2021-02-04T18:35:38.643Z",
    "type": "execution"
   },
   {
    "id": "a2fb7b8ef77f46d399b88fd505868222",
    "time": "2021-02-04T18:35:38.991Z",
    "type": "completion"
   },
   {
    "code": "x = base_df['vote_general']\ny = base_df['treat']\n#x = sm.add_constant(x)\nmodel = sm.ols(formula=\"v2~v1\", data=base_df)\nresults = model.fit()\nprint(results.summary())",
    "id": "a2fb7b8ef77f46d399b88fd505868222",
    "idx": 3,
    "time": "2021-02-04T18:35:47.341Z",
    "type": "execution"
   },
   {
    "id": "a2fb7b8ef77f46d399b88fd505868222",
    "time": "2021-02-04T18:35:47.693Z",
    "type": "completion"
   },
   {
    "code": "x = base_df['vote_general']\ny = base_df['treat']\n#x = sm.add_constant(x)\nmodel = sm.ols(formula=\"v2~v3\", data=base_df)\nresults = model.fit()\nprint(results.summary())",
    "id": "a2fb7b8ef77f46d399b88fd505868222",
    "idx": 3,
    "time": "2021-02-04T18:35:53.257Z",
    "type": "execution"
   },
   {
    "id": "a2fb7b8ef77f46d399b88fd505868222",
    "time": "2021-02-04T18:35:53.515Z",
    "type": "completion"
   },
   {
    "code": "x = base_df['vote_general']\ny = base_df['treat']\n#x = sm.add_constant(x)\nmodel = sm.ols(formula=\"v2\", data=base_df)\nresults = model.fit()\nprint(results.summary())",
    "id": "a2fb7b8ef77f46d399b88fd505868222",
    "idx": 3,
    "time": "2021-02-04T18:35:58.979Z",
    "type": "execution"
   },
   {
    "id": "a2fb7b8ef77f46d399b88fd505868222",
    "time": "2021-02-04T18:35:59.262Z",
    "type": "completion"
   },
   {
    "code": "import pandas as pd\nimport statsmodels.formula.api as sm",
    "id": "b41ed4e9ac774ee085510773d5144773",
    "idx": 0,
    "time": "2021-02-04T18:48:37.990Z",
    "type": "execution"
   },
   {
    "id": "b41ed4e9ac774ee085510773d5144773",
    "time": "2021-02-04T18:48:38.054Z",
    "type": "completion"
   },
   {
    "code": "import pandas as pd\nimport statsmodels.formula.api as sm",
    "id": "b41ed4e9ac774ee085510773d5144773",
    "idx": 0,
    "time": "2021-02-04T18:48:45.793Z",
    "type": "execution"
   },
   {
    "id": "b41ed4e9ac774ee085510773d5144773",
    "time": "2021-02-04T18:48:45.912Z",
    "type": "completion"
   },
   {
    "code": "df = pd.read_stata('hall_thompson_replication_files/rd_analysis_hs.dta')\ndf.head()",
    "id": "d38a1687a94746158550ec9c08b98f3f",
    "idx": 1,
    "time": "2021-02-04T18:48:46.191Z",
    "type": "execution"
   },
   {
    "code": "df['vote_general']",
    "id": "9ccac3a8d98b478d98df3927ee7bfd30",
    "idx": 2,
    "time": "2021-02-04T18:48:47.242Z",
    "type": "execution"
   },
   {
    "id": "d38a1687a94746158550ec9c08b98f3f",
    "time": "2021-02-04T18:48:47.338Z",
    "type": "completion"
   },
   {
    "id": "9ccac3a8d98b478d98df3927ee7bfd30",
    "time": "2021-02-04T18:48:47.361Z",
    "type": "completion"
   },
   {
    "code": "model = sm.ols(formula=\"\", data=df)\nresults = model.fit()\nprint(results.summary())",
    "id": "a2fb7b8ef77f46d399b88fd505868222",
    "idx": 3,
    "time": "2021-02-04T18:48:48.831Z",
    "type": "execution"
   },
   {
    "id": "a2fb7b8ef77f46d399b88fd505868222",
    "time": "2021-02-04T18:48:48.994Z",
    "type": "completion"
   },
   {
    "code": "model = sm.ols(formula='Vote Share ~ Extremist Nominee + N + Polynomial + Bandwidth', data=df)\nresults = model.fit()\nprint(results.summary())",
    "id": "a2fb7b8ef77f46d399b88fd505868222",
    "idx": 3,
    "time": "2021-02-04T18:56:16.328Z",
    "type": "execution"
   },
   {
    "id": "a2fb7b8ef77f46d399b88fd505868222",
    "time": "2021-02-04T18:56:16.471Z",
    "type": "completion"
   },
   {
    "code": "model = sm.ols(formula='Vote ~ Extremist Nominee + N + Polynomial + Bandwidth', data=df)\nresults = model.fit()\nprint(results.summary())",
    "id": "a2fb7b8ef77f46d399b88fd505868222",
    "idx": 3,
    "time": "2021-02-04T18:56:45.196Z",
    "type": "execution"
   },
   {
    "id": "a2fb7b8ef77f46d399b88fd505868222",
    "time": "2021-02-04T18:56:45.325Z",
    "type": "completion"
   },
   {
    "code": "model = sm.ols(formula='g ~ Extremist Nominee + N + Polynomial + Bandwidth', data=df)\nresults = model.fit()\nprint(results.summary())",
    "id": "a2fb7b8ef77f46d399b88fd505868222",
    "idx": 3,
    "time": "2021-02-04T18:56:48.442Z",
    "type": "execution"
   },
   {
    "id": "a2fb7b8ef77f46d399b88fd505868222",
    "time": "2021-02-04T18:56:48.624Z",
    "type": "completion"
   },
   {
    "code": "model = sm.ols(formula='District ~ Extremist Nominee + N + Polynomial + Bandwidth', data=df)\nresults = model.fit()\nprint(results.summary())",
    "id": "a2fb7b8ef77f46d399b88fd505868222",
    "idx": 3,
    "time": "2021-02-04T18:56:52.507Z",
    "type": "execution"
   },
   {
    "id": "a2fb7b8ef77f46d399b88fd505868222",
    "time": "2021-02-04T18:56:52.579Z",
    "type": "completion"
   },
   {
    "code": "model = sm.ols(formula='dist ~ Extremist Nominee + N + Polynomial + Bandwidth', data=df)\nresults = model.fit()\nprint(results.summary())",
    "id": "a2fb7b8ef77f46d399b88fd505868222",
    "idx": 3,
    "time": "2021-02-04T18:56:57.087Z",
    "type": "execution"
   },
   {
    "id": "a2fb7b8ef77f46d399b88fd505868222",
    "time": "2021-02-04T18:56:57.168Z",
    "type": "completion"
   },
   {
    "code": "model = sm.ols(formula='vs ~ Extremist Nominee + N + Polynomial + Bandwidth', data=df)\nresults = model.fit()\nprint(results.summary())",
    "id": "a2fb7b8ef77f46d399b88fd505868222",
    "idx": 3,
    "time": "2021-02-04T18:57:11.474Z",
    "type": "execution"
   },
   {
    "id": "a2fb7b8ef77f46d399b88fd505868222",
    "time": "2021-02-04T18:57:11.560Z",
    "type": "completion"
   },
   {
    "code": "model = sm.ols(formula='Vote Share ~ vote_general + treat + rv + treat_rv', data=df)\nresults = model.fit()\nprint(results.summary())",
    "id": "a2fb7b8ef77f46d399b88fd505868222",
    "idx": 3,
    "time": "2021-02-04T18:57:51.635Z",
    "type": "execution"
   },
   {
    "id": "a2fb7b8ef77f46d399b88fd505868222",
    "time": "2021-02-04T18:57:51.742Z",
    "type": "completion"
   },
   {
    "code": "model = sm.ols(formula='vote_general ~ victory_general', data=df)\nresults = model.fit()\nprint(results.summary())",
    "id": "a2fb7b8ef77f46d399b88fd505868222",
    "idx": 3,
    "time": "2021-02-04T19:09:34.602Z",
    "type": "execution"
   },
   {
    "id": "a2fb7b8ef77f46d399b88fd505868222",
    "time": "2021-02-04T19:09:34.891Z",
    "type": "completion"
   },
   {
    "code": "model = sm.ols(formula='vote_general ~ victory_general', data=df)\nresults = model.fit(cov_type='cluster', cov_kwds={'groups': df['dist']})\nprint(results.summary())",
    "id": "a2fb7b8ef77f46d399b88fd505868222",
    "idx": 3,
    "time": "2021-02-04T19:11:56.816Z",
    "type": "execution"
   },
   {
    "id": "a2fb7b8ef77f46d399b88fd505868222",
    "time": "2021-02-04T19:11:56.945Z",
    "type": "completion"
   },
   {
    "code": "model = sm.ols(formula='vote_general ~ victory_general', data=df)\nresults = model.fit(cov_type='cluster', cov_kwds={'groups': df['dist']})\nprint(results)",
    "id": "a2fb7b8ef77f46d399b88fd505868222",
    "idx": 3,
    "time": "2021-02-04T19:13:26.166Z",
    "type": "execution"
   },
   {
    "id": "a2fb7b8ef77f46d399b88fd505868222",
    "time": "2021-02-04T19:13:26.344Z",
    "type": "completion"
   },
   {
    "code": "model = sm.ols(formula='vote_general ~ victory_general', data=df)\nresults = model.fit(cov_type='cluster', cov_kwds={'groups': df['dist']})\nprint(results.summary())",
    "id": "a2fb7b8ef77f46d399b88fd505868222",
    "idx": 3,
    "time": "2021-02-04T19:13:38.358Z",
    "type": "execution"
   },
   {
    "id": "a2fb7b8ef77f46d399b88fd505868222",
    "time": "2021-02-04T19:13:38.485Z",
    "type": "completion"
   },
   {
    "code": "model = sm.ols(formula='vote_general ~ victory_general', data=df)\nresults = model.fit(cov_type='cluster', cov_kwds={'groups': df['dist']})\nprint(results.summary().tables[1])",
    "id": "a2fb7b8ef77f46d399b88fd505868222",
    "idx": 3,
    "time": "2021-02-04T19:14:14.680Z",
    "type": "execution"
   },
   {
    "id": "a2fb7b8ef77f46d399b88fd505868222",
    "time": "2021-02-04T19:14:14.831Z",
    "type": "completion"
   },
   {
    "code": "model = sm.ols(formula='vote_general ~ victory_general', data=df)\nresults = model.fit(cov_type='cluster', cov_kwds={'groups': df['dist']})\nprint(results.summary().tables[0])",
    "id": "a2fb7b8ef77f46d399b88fd505868222",
    "idx": 3,
    "time": "2021-02-04T19:14:23.419Z",
    "type": "execution"
   },
   {
    "id": "a2fb7b8ef77f46d399b88fd505868222",
    "time": "2021-02-04T19:14:23.555Z",
    "type": "completion"
   },
   {
    "code": "model = sm.ols(formula='vote_general ~ victory_general', data=df)\nresults = model.fit(cov_type='cluster', cov_kwds={'groups': df['dist']})\nprint(results.summary().tables[2])",
    "id": "a2fb7b8ef77f46d399b88fd505868222",
    "idx": 3,
    "time": "2021-02-04T19:14:28.100Z",
    "type": "execution"
   },
   {
    "id": "a2fb7b8ef77f46d399b88fd505868222",
    "time": "2021-02-04T19:14:28.345Z",
    "type": "completion"
   },
   {
    "code": "model = sm.ols(formula='vote_general ~ victory_general', data=df)\nresults = model.fit(cov_type='cluster', cov_kwds={'groups': df['dist']})\nprint(results.summary().tables[3])",
    "id": "a2fb7b8ef77f46d399b88fd505868222",
    "idx": 3,
    "time": "2021-02-04T19:14:32.957Z",
    "type": "execution"
   },
   {
    "id": "a2fb7b8ef77f46d399b88fd505868222",
    "time": "2021-02-04T19:14:33.085Z",
    "type": "completion"
   },
   {
    "code": "model = sm.ols(formula='vote_general ~ victory_general', data=df)\nresults = model.fit(cov_type='cluster', cov_kwds={'groups': df['dist']})\nprint(results.summary())",
    "id": "a2fb7b8ef77f46d399b88fd505868222",
    "idx": 3,
    "time": "2021-02-04T19:14:38.704Z",
    "type": "execution"
   },
   {
    "id": "a2fb7b8ef77f46d399b88fd505868222",
    "time": "2021-02-04T19:14:38.800Z",
    "type": "completion"
   },
   {
    "code": "model = sm.ols(formula='vote_general + treat ~ victory_general + treat', data=df)\nresults = model.fit(cov_type='cluster', cov_kwds={'groups': df['dist']})\nprint(results.summary())",
    "id": "a2fb7b8ef77f46d399b88fd505868222",
    "idx": 3,
    "time": "2021-02-04T19:15:14.748Z",
    "type": "execution"
   },
   {
    "id": "a2fb7b8ef77f46d399b88fd505868222",
    "time": "2021-02-04T19:15:14.981Z",
    "type": "completion"
   },
   {
    "code": "model = sm.ols(formula='vote_general ~ victory_general', data=df)\nresults = model.fit(cov_type='cluster', cov_kwds={'groups': df['dist']})\nprint(results.summary())",
    "id": "a2fb7b8ef77f46d399b88fd505868222",
    "idx": 3,
    "time": "2021-02-04T19:15:39.267Z",
    "type": "execution"
   },
   {
    "id": "a2fb7b8ef77f46d399b88fd505868222",
    "time": "2021-02-04T19:15:39.385Z",
    "type": "completion"
   },
   {
    "code": "model = sm.ols(formula='vote_general ~ victory_general', data=df)\nresults = model.fit(cov_type='cluster', cov_kwds={'groups': df['dist']})\nprint(results.summary())",
    "id": "a2fb7b8ef77f46d399b88fd505868222",
    "idx": 3,
    "time": "2021-02-04T19:20:38.447Z",
    "type": "execution"
   },
   {
    "id": "a2fb7b8ef77f46d399b88fd505868222",
    "time": "2021-02-04T19:20:38.539Z",
    "type": "completion"
   },
   {
    "code": "model = sm.ols(formula='vote_general ~ victory_general', data=df)\nresults = model.fit(cov_type='cluster')\nprint(results.summary())",
    "id": "a2fb7b8ef77f46d399b88fd505868222",
    "idx": 3,
    "time": "2021-02-04T19:20:46.385Z",
    "type": "execution"
   },
   {
    "id": "a2fb7b8ef77f46d399b88fd505868222",
    "time": "2021-02-04T19:20:46.542Z",
    "type": "completion"
   },
   {
    "code": "model = sm.ols(formula='vote_general ~ victory_general', data=df)\nresults = model.fit(cov_type='cluster', cov_kwds={df['dist']})\nprint(results.summary())",
    "id": "a2fb7b8ef77f46d399b88fd505868222",
    "idx": 3,
    "time": "2021-02-04T19:20:54.693Z",
    "type": "execution"
   },
   {
    "id": "a2fb7b8ef77f46d399b88fd505868222",
    "time": "2021-02-04T19:20:54.856Z",
    "type": "completion"
   },
   {
    "code": "model = sm.ols(formula='vote_general ~ victory_general', data=df)\nresults = model.fit(cov_type='cluster', cov_kwds={'groups': df['dist']})\nprint(results.summary())",
    "id": "a2fb7b8ef77f46d399b88fd505868222",
    "idx": 3,
    "time": "2021-02-04T19:20:59.777Z",
    "type": "execution"
   },
   {
    "id": "a2fb7b8ef77f46d399b88fd505868222",
    "time": "2021-02-04T19:20:59.910Z",
    "type": "completion"
   },
   {
    "code": "model = sm.ols(formula='vote_general ~ victory_general + treat', data=df)\nresults = model.fit(cov_type='cluster', cov_kwds={'groups': df['dist']})\nprint(results.summary())",
    "id": "a2fb7b8ef77f46d399b88fd505868222",
    "idx": 3,
    "time": "2021-02-04T19:21:15.084Z",
    "type": "execution"
   },
   {
    "id": "a2fb7b8ef77f46d399b88fd505868222",
    "time": "2021-02-04T19:21:15.174Z",
    "type": "completion"
   },
   {
    "code": "model = sm.ols(formula='vote_general ~ Extremist Nominee + treat', data=df)\nresults = model.fit(cov_type='cluster', cov_kwds={'groups': df['dist']})\nprint(results.summary())",
    "id": "a2fb7b8ef77f46d399b88fd505868222",
    "idx": 3,
    "time": "2021-02-04T19:21:42.770Z",
    "type": "execution"
   },
   {
    "id": "a2fb7b8ef77f46d399b88fd505868222",
    "time": "2021-02-04T19:21:42.903Z",
    "type": "completion"
   },
   {
    "code": "model = sm.ols(formula='vote_general ~ victory_general + treat', data=df)\nresults = model.fit(cov_type='cluster', cov_kwds={'groups': df['dist']})\nprint(results.summary())",
    "id": "a2fb7b8ef77f46d399b88fd505868222",
    "idx": 3,
    "time": "2021-02-04T19:21:47.623Z",
    "type": "execution"
   },
   {
    "id": "a2fb7b8ef77f46d399b88fd505868222",
    "time": "2021-02-04T19:21:47.761Z",
    "type": "completion"
   },
   {
    "code": "df['extremist']",
    "id": "9ccac3a8d98b478d98df3927ee7bfd30",
    "idx": 2,
    "time": "2021-02-04T19:22:07.649Z",
    "type": "execution"
   },
   {
    "id": "9ccac3a8d98b478d98df3927ee7bfd30",
    "time": "2021-02-04T19:22:07.832Z",
    "type": "completion"
   },
   {
    "code": "df[]",
    "id": "9ccac3a8d98b478d98df3927ee7bfd30",
    "idx": 2,
    "time": "2021-02-04T19:22:16.171Z",
    "type": "execution"
   },
   {
    "id": "9ccac3a8d98b478d98df3927ee7bfd30",
    "time": "2021-02-04T19:22:16.240Z",
    "type": "completion"
   },
   {
    "code": "df[0]",
    "id": "9ccac3a8d98b478d98df3927ee7bfd30",
    "idx": 2,
    "time": "2021-02-04T19:22:25.826Z",
    "type": "execution"
   },
   {
    "id": "9ccac3a8d98b478d98df3927ee7bfd30",
    "time": "2021-02-04T19:22:26.014Z",
    "type": "completion"
   },
   {
    "code": "df[1]",
    "id": "9ccac3a8d98b478d98df3927ee7bfd30",
    "idx": 2,
    "time": "2021-02-04T19:22:31.053Z",
    "type": "execution"
   },
   {
    "id": "9ccac3a8d98b478d98df3927ee7bfd30",
    "time": "2021-02-04T19:22:31.193Z",
    "type": "completion"
   },
   {
    "code": "df['treat']",
    "id": "9ccac3a8d98b478d98df3927ee7bfd30",
    "idx": 2,
    "time": "2021-02-04T19:22:54.912Z",
    "type": "execution"
   },
   {
    "id": "9ccac3a8d98b478d98df3927ee7bfd30",
    "time": "2021-02-04T19:22:55.047Z",
    "type": "completion"
   },
   {
    "code": "model = sm.ols(formula='dist ~ victory_general + treat', data=df)\nresults = model.fit(cov_type='cluster', cov_kwds={'groups': df['dist']})\nprint(results.summary())",
    "id": "a2fb7b8ef77f46d399b88fd505868222",
    "idx": 3,
    "time": "2021-02-04T19:23:22.040Z",
    "type": "execution"
   },
   {
    "id": "a2fb7b8ef77f46d399b88fd505868222",
    "time": "2021-02-04T19:23:22.127Z",
    "type": "completion"
   },
   {
    "code": "model = sm.ols(formula='vote-general ~ victory_general + treat', data=df)\nresults = model.fit(cov_type='cluster', cov_kwds={'groups': df['dist']})\nprint(results.summary())",
    "id": "a2fb7b8ef77f46d399b88fd505868222",
    "idx": 3,
    "time": "2021-02-04T19:23:38.350Z",
    "type": "execution"
   },
   {
    "id": "a2fb7b8ef77f46d399b88fd505868222",
    "time": "2021-02-04T19:23:38.677Z",
    "type": "completion"
   },
   {
    "code": "model = sm.ols(formula='vote_general ~ victory_general + treat', data=df)\nresults = model.fit(cov_type='cluster', cov_kwds={'groups': df['dist']})\nprint(results.summary())",
    "id": "a2fb7b8ef77f46d399b88fd505868222",
    "idx": 3,
    "time": "2021-02-04T19:23:42.577Z",
    "type": "execution"
   },
   {
    "id": "a2fb7b8ef77f46d399b88fd505868222",
    "time": "2021-02-04T19:23:42.663Z",
    "type": "completion"
   },
   {
    "code": "df['polynomial']",
    "id": "9ccac3a8d98b478d98df3927ee7bfd30",
    "idx": 2,
    "time": "2021-02-04T19:26:43.356Z",
    "type": "execution"
   },
   {
    "id": "9ccac3a8d98b478d98df3927ee7bfd30",
    "time": "2021-02-04T19:26:43.525Z",
    "type": "completion"
   },
   {
    "code": "df['Polynomial']",
    "id": "9ccac3a8d98b478d98df3927ee7bfd30",
    "idx": 2,
    "time": "2021-02-04T19:26:50.745Z",
    "type": "execution"
   },
   {
    "id": "9ccac3a8d98b478d98df3927ee7bfd30",
    "time": "2021-02-04T19:26:50.880Z",
    "type": "completion"
   },
   {
    "code": "df['vote_general']",
    "id": "9ccac3a8d98b478d98df3927ee7bfd30",
    "idx": 2,
    "time": "2021-02-04T19:26:58.891Z",
    "type": "execution"
   },
   {
    "id": "9ccac3a8d98b478d98df3927ee7bfd30",
    "time": "2021-02-04T19:26:59.001Z",
    "type": "completion"
   },
   {
    "code": "model = sm.ols(formula='vote_general ~ victory_general + treat', data=df)\nresults = model.fit(cov_type='cluster', cov_kwds={'groups': df['dist']})\nprint(results.summary())",
    "id": "a2fb7b8ef77f46d399b88fd505868222",
    "idx": 3,
    "time": "2021-02-04T19:27:02.017Z",
    "type": "execution"
   },
   {
    "id": "a2fb7b8ef77f46d399b88fd505868222",
    "time": "2021-02-04T19:27:02.117Z",
    "type": "completion"
   },
   {
    "code": "bin_size_rd = 10\n\nrd_main = read_dta(\"rd_master_hs.dta\")\nselect(treat, turnout_party_share, rv)\nfilter(!is.na(turnout_party_share))",
    "id": "b880219b397d4a8c9beae1ab510c1a11",
    "idx": 4,
    "time": "2021-02-04T19:30:45.854Z",
    "type": "execution"
   },
   {
    "id": "b880219b397d4a8c9beae1ab510c1a11",
    "time": "2021-02-04T19:30:45.976Z",
    "type": "completion"
   },
   {
    "code": "bin_size_rd = 10\n\nrd_main = read_dta(\"rd_master_hs.dta\")\nselect(treat, turnout_party_share, rv)\nfilter(!(is.na(turnout_party_share))",
    "id": "b880219b397d4a8c9beae1ab510c1a11",
    "idx": 4,
    "time": "2021-02-04T19:31:03.650Z",
    "type": "execution"
   },
   {
    "id": "b880219b397d4a8c9beae1ab510c1a11",
    "time": "2021-02-04T19:31:03.727Z",
    "type": "completion"
   },
   {
    "code": "bin_size_rd = 10\n\nrd_main = read_dta(\"rd_master_hs.dta\")\nselect(treat, turnout_party_share, rv)\nfilter(turnout_party_share.notna)",
    "id": "b880219b397d4a8c9beae1ab510c1a11",
    "idx": 4,
    "time": "2021-02-04T19:32:01.120Z",
    "type": "execution"
   },
   {
    "id": "b880219b397d4a8c9beae1ab510c1a11",
    "time": "2021-02-04T19:32:01.212Z",
    "type": "completion"
   },
   {
    "code": "bin_size_rd = 10\n\nrd_main = pd.read_stata('hall_thompson_replication_files/rd_analysis_hs.dta')\nselect(treat, turnout_party_share, rv)\nfilter(turnout_party_share.notna)",
    "id": "b880219b397d4a8c9beae1ab510c1a11",
    "idx": 4,
    "time": "2021-02-04T19:34:15.942Z",
    "type": "execution"
   },
   {
    "id": "b880219b397d4a8c9beae1ab510c1a11",
    "time": "2021-02-04T19:34:16.302Z",
    "type": "completion"
   },
   {
    "code": "bin_size_rd = 10\n\nrd_main = pd.read_stata('hall_thompson_replication_files/rd_analysis_hs.dta')\nrd_main['treat', 'turnout_party_share', 'rv'].filter(turnout_party_share.notna)",
    "id": "b880219b397d4a8c9beae1ab510c1a11",
    "idx": 4,
    "time": "2021-02-04T19:35:00.513Z",
    "type": "execution"
   },
   {
    "id": "b880219b397d4a8c9beae1ab510c1a11",
    "time": "2021-02-04T19:35:00.891Z",
    "type": "completion"
   },
   {
    "code": "bin_size_rd = 10\n\nrd_main = pd.read_stata('hall_thompson_replication_files/rd_analysis_hs.dta')\nrd_main['treat', 'turnout_party_share', 'rv'].filter(turnout_party_share.dropna())",
    "id": "b880219b397d4a8c9beae1ab510c1a11",
    "idx": 4,
    "time": "2021-02-04T19:37:30.272Z",
    "type": "execution"
   },
   {
    "id": "b880219b397d4a8c9beae1ab510c1a11",
    "time": "2021-02-04T19:37:30.682Z",
    "type": "completion"
   },
   {
    "code": "df['treat']",
    "id": "9ccac3a8d98b478d98df3927ee7bfd30",
    "idx": 2,
    "time": "2021-02-04T19:37:50.642Z",
    "type": "execution"
   },
   {
    "id": "9ccac3a8d98b478d98df3927ee7bfd30",
    "time": "2021-02-04T19:37:50.779Z",
    "type": "completion"
   },
   {
    "code": "df['rv']",
    "id": "9ccac3a8d98b478d98df3927ee7bfd30",
    "idx": 2,
    "time": "2021-02-04T19:37:54.588Z",
    "type": "execution"
   },
   {
    "id": "9ccac3a8d98b478d98df3927ee7bfd30",
    "time": "2021-02-04T19:37:54.659Z",
    "type": "completion"
   },
   {
    "code": "df['turnout_party_share']",
    "id": "9ccac3a8d98b478d98df3927ee7bfd30",
    "idx": 2,
    "time": "2021-02-04T19:38:05.777Z",
    "type": "execution"
   },
   {
    "id": "9ccac3a8d98b478d98df3927ee7bfd30",
    "time": "2021-02-04T19:38:05.901Z",
    "type": "completion"
   },
   {
    "code": "bin_size_rd = 10\n\ndf['vote_general']",
    "id": "b880219b397d4a8c9beae1ab510c1a11",
    "idx": 4,
    "time": "2021-02-04T19:38:23.456Z",
    "type": "execution"
   },
   {
    "id": "b880219b397d4a8c9beae1ab510c1a11",
    "time": "2021-02-04T19:38:23.536Z",
    "type": "completion"
   },
   {
    "code": "bin_size_rd = 10\n\ndf['vote_general', 'rv']",
    "id": "b880219b397d4a8c9beae1ab510c1a11",
    "idx": 4,
    "time": "2021-02-04T19:38:29.527Z",
    "type": "execution"
   },
   {
    "id": "b880219b397d4a8c9beae1ab510c1a11",
    "time": "2021-02-04T19:38:29.705Z",
    "type": "completion"
   },
   {
    "code": "bin_size_rd = 10\n\ndf[columns={'vote_general', 'rv'}]",
    "id": "b880219b397d4a8c9beae1ab510c1a11",
    "idx": 4,
    "time": "2021-02-04T19:38:49.225Z",
    "type": "execution"
   },
   {
    "id": "b880219b397d4a8c9beae1ab510c1a11",
    "time": "2021-02-04T19:38:49.308Z",
    "type": "completion"
   },
   {
    "code": "bin_size_rd = 10\n\ndf['vote_general']",
    "id": "b880219b397d4a8c9beae1ab510c1a11",
    "idx": 4,
    "time": "2021-02-04T19:39:03.948Z",
    "type": "execution"
   },
   {
    "id": "b880219b397d4a8c9beae1ab510c1a11",
    "time": "2021-02-04T19:39:04.019Z",
    "type": "completion"
   },
   {
    "code": "bin_size_rd = 10\n\ndf[['treat', 'turnout_party_share', 'rv']]",
    "id": "b880219b397d4a8c9beae1ab510c1a11",
    "idx": 4,
    "time": "2021-02-04T19:40:30.713Z",
    "type": "execution"
   },
   {
    "id": "b880219b397d4a8c9beae1ab510c1a11",
    "time": "2021-02-04T19:40:30.884Z",
    "type": "completion"
   },
   {
    "code": "bin_size_rd = 10\n\nrd_main = df[['treat', 'turnout_party_share', 'rv']]\nrd_main = rd_main.dropna(how='any',axis=0)",
    "id": "b880219b397d4a8c9beae1ab510c1a11",
    "idx": 4,
    "time": "2021-02-04T19:42:36.135Z",
    "type": "execution"
   },
   {
    "id": "b880219b397d4a8c9beae1ab510c1a11",
    "time": "2021-02-04T19:42:36.209Z",
    "type": "completion"
   },
   {
    "code": "bin_size_rd = 10\n\nrd_main = df[['treat', 'turnout_party_share', 'rv']]\nrd_main = rd_main.dropna(how='any',axis=0)\nrd_main",
    "id": "b880219b397d4a8c9beae1ab510c1a11",
    "idx": 4,
    "time": "2021-02-04T19:42:40.687Z",
    "type": "execution"
   },
   {
    "id": "b880219b397d4a8c9beae1ab510c1a11",
    "time": "2021-02-04T19:42:40.823Z",
    "type": "completion"
   },
   {
    "code": "bin_size_rd = 10\n\nrd_main = df[['treat', 'turnout_party_share', 'rv']]\nrd_main = rd_main.dropna(how='any',axis=0).grouby('treat')\nrd_main",
    "id": "b880219b397d4a8c9beae1ab510c1a11",
    "idx": 4,
    "time": "2021-02-04T19:42:58.850Z",
    "type": "execution"
   },
   {
    "id": "b880219b397d4a8c9beae1ab510c1a11",
    "time": "2021-02-04T19:42:58.994Z",
    "type": "completion"
   },
   {
    "code": "bin_size_rd = 10\n\nrd_main = df[['treat', 'turnout_party_share', 'rv']]\nrd_main = rd_main.dropna(how='any',axis=0)\nrd_main",
    "id": "b880219b397d4a8c9beae1ab510c1a11",
    "idx": 4,
    "time": "2021-02-04T19:43:04.275Z",
    "type": "execution"
   },
   {
    "id": "b880219b397d4a8c9beae1ab510c1a11",
    "time": "2021-02-04T19:43:04.466Z",
    "type": "completion"
   },
   {
    "code": "bin_size_rd = 10\n\nrd_main = df[['treat', 'turnout_party_share', 'rv']]\nrd_main = rd_main.dropna(how='any',axis=0).sort_values(by='rv')\nrd_main",
    "id": "b880219b397d4a8c9beae1ab510c1a11",
    "idx": 4,
    "time": "2021-02-04T19:44:55.980Z",
    "type": "execution"
   },
   {
    "id": "b880219b397d4a8c9beae1ab510c1a11",
    "time": "2021-02-04T19:44:56.063Z",
    "type": "completion"
   },
   {
    "code": "bin_size_rd = 10\n\nrd_main = df[['treat', 'turnout_party_share', 'rv']]\nrd_main = rd_main.dropna(how='any',axis=0).sort_values(by=abs('rv'))\nrd_main",
    "id": "b880219b397d4a8c9beae1ab510c1a11",
    "idx": 4,
    "time": "2021-02-04T19:45:07.260Z",
    "type": "execution"
   },
   {
    "id": "b880219b397d4a8c9beae1ab510c1a11",
    "time": "2021-02-04T19:45:07.389Z",
    "type": "completion"
   },
   {
    "code": "bin_size_rd = 10\n\nrd_main = df[['treat', 'turnout_party_share', 'rv']]\nrd_main = rd_main.dropna(how='any',axis=0).sort_values(by=abs(('rv').int())\nrd_main",
    "id": "b880219b397d4a8c9beae1ab510c1a11",
    "idx": 4,
    "time": "2021-02-04T19:45:28.445Z",
    "type": "execution"
   },
   {
    "id": "b880219b397d4a8c9beae1ab510c1a11",
    "time": "2021-02-04T19:45:28.518Z",
    "type": "completion"
   },
   {
    "code": "bin_size_rd = 10\n\nrd_main = df[['treat', 'turnout_party_share', 'rv']]\nrd_main = rd_main.dropna(how='any',axis=0).sort_values(by=abs(('rv').int()))\nrd_main",
    "id": "b880219b397d4a8c9beae1ab510c1a11",
    "idx": 4,
    "time": "2021-02-04T19:45:36.896Z",
    "type": "execution"
   },
   {
    "id": "b880219b397d4a8c9beae1ab510c1a11",
    "time": "2021-02-04T19:45:37.008Z",
    "type": "completion"
   },
   {
    "code": "bin_size_rd = 10\n\nrd_main = df[['treat', 'turnout_party_share', 'rv']]\nrd_main = rd_main.dropna(how='any',axis=0).sort_values(by='rv')\nrd_main",
    "id": "b880219b397d4a8c9beae1ab510c1a11",
    "idx": 4,
    "time": "2021-02-04T19:45:54.019Z",
    "type": "execution"
   },
   {
    "id": "b880219b397d4a8c9beae1ab510c1a11",
    "time": "2021-02-04T19:45:54.125Z",
    "type": "completion"
   },
   {
    "code": "bin_size_rd = 10\n\nrd_main = df[['treat', 'turnout_party_share', 'rv']]\nrd_main = rd_main.dropna(how='any',axis=0).sort_values(by='rv'*1)\nrd_main",
    "id": "b880219b397d4a8c9beae1ab510c1a11",
    "idx": 4,
    "time": "2021-02-04T19:46:03.609Z",
    "type": "execution"
   },
   {
    "id": "b880219b397d4a8c9beae1ab510c1a11",
    "time": "2021-02-04T19:46:03.696Z",
    "type": "completion"
   },
   {
    "code": "bin_size_rd = 10\n\nrd_main = df[['treat', 'turnout_party_share', 'rv']]\nrd_main = rd_main.dropna(how='any',axis=0).sort_values(by=('rv'*1))\nrd_main",
    "id": "b880219b397d4a8c9beae1ab510c1a11",
    "idx": 4,
    "time": "2021-02-04T19:46:57.141Z",
    "type": "execution"
   },
   {
    "id": "b880219b397d4a8c9beae1ab510c1a11",
    "time": "2021-02-04T19:46:57.263Z",
    "type": "completion"
   },
   {
    "code": "bin_size_rd = 10\n\nrd_main = df[['treat', 'turnout_party_share', 'rv']]\nrd_main = rd_main.dropna(how='any',axis=0).sort_values(by=abs('rv'*1))\nrd_main",
    "id": "b880219b397d4a8c9beae1ab510c1a11",
    "idx": 4,
    "time": "2021-02-04T19:47:00.286Z",
    "type": "execution"
   },
   {
    "id": "b880219b397d4a8c9beae1ab510c1a11",
    "time": "2021-02-04T19:47:00.396Z",
    "type": "completion"
   },
   {
    "code": "bin_size_rd = 10\n\nrd_main = df[['treat', 'turnout_party_share', 'rv']]\nrd_main = rd_main.dropna(how='any',axis=0).sort_values(by=('rv'*1))\nrd_main",
    "id": "b880219b397d4a8c9beae1ab510c1a11",
    "idx": 4,
    "time": "2021-02-04T19:47:06.066Z",
    "type": "execution"
   },
   {
    "id": "b880219b397d4a8c9beae1ab510c1a11",
    "time": "2021-02-04T19:47:06.185Z",
    "type": "completion"
   },
   {
    "code": "bin_size_rd = 10\n\nrd_main = df[['treat', 'turnout_party_share', 'rv']]\nrd_main = rd_main.dropna(how='any',axis=0).sort_values(by=('rv'*-1))\nrd_main",
    "id": "b880219b397d4a8c9beae1ab510c1a11",
    "idx": 4,
    "time": "2021-02-04T19:47:10.312Z",
    "type": "execution"
   },
   {
    "id": "b880219b397d4a8c9beae1ab510c1a11",
    "time": "2021-02-04T19:47:10.437Z",
    "type": "completion"
   },
   {
    "code": "bin_size_rd = 10\n\nrd_main = df[['treat', 'turnout_party_share', 'rv']]\nrd_main = rd_main.dropna(how='any',axis=0).sort_values(by=('rv'*1))\nrd_main",
    "id": "b880219b397d4a8c9beae1ab510c1a11",
    "idx": 4,
    "time": "2021-02-04T19:47:19.093Z",
    "type": "execution"
   },
   {
    "id": "b880219b397d4a8c9beae1ab510c1a11",
    "time": "2021-02-04T19:47:19.196Z",
    "type": "completion"
   },
   {
    "code": "bin_size_rd = 10\n\nrd_main = df[['treat', 'turnout_party_share', 'rv']]\nrd_main = rd_main.dropna(how='any',axis=0).sort_values(by=abs(df[['rv']])\nrd_main",
    "id": "b880219b397d4a8c9beae1ab510c1a11",
    "idx": 4,
    "time": "2021-02-04T19:49:03.740Z",
    "type": "execution"
   },
   {
    "id": "b880219b397d4a8c9beae1ab510c1a11",
    "time": "2021-02-04T19:49:04.305Z",
    "type": "completion"
   },
   {
    "code": "bin_size_rd = 10\n\nrd_main = df[['treat', 'turnout_party_share', 'rv']]\nrd_main = rd_main.dropna(how='any',axis=0).sort_values(by=abs(df[['rv']]))\nrd_main",
    "id": "b880219b397d4a8c9beae1ab510c1a11",
    "idx": 4,
    "time": "2021-02-04T19:49:08.938Z",
    "type": "execution"
   },
   {
    "id": "b880219b397d4a8c9beae1ab510c1a11",
    "time": "2021-02-04T19:49:09.282Z",
    "type": "completion"
   },
   {
    "code": "bin_size_rd = 10\n\nrd_main = df[['treat', 'turnout_party_share', 'rv']]\nrd_main = rd_main.dropna(how='any',axis=0).sort_values(by=abs(df['rv']))\nrd_main",
    "id": "b880219b397d4a8c9beae1ab510c1a11",
    "idx": 4,
    "time": "2021-02-04T19:49:15.768Z",
    "type": "execution"
   },
   {
    "id": "b880219b397d4a8c9beae1ab510c1a11",
    "time": "2021-02-04T19:49:17.837Z",
    "type": "completion"
   },
   {
    "code": "rd_main['rv']",
    "id": "f5ecbc86fea549e98c1a8cf89542f280",
    "idx": 5,
    "time": "2021-02-04T19:49:31.436Z",
    "type": "execution"
   },
   {
    "id": "f5ecbc86fea549e98c1a8cf89542f280",
    "time": "2021-02-04T19:49:31.722Z",
    "type": "completion"
   },
   {
    "code": "abs(rd_main['rv'])",
    "id": "f5ecbc86fea549e98c1a8cf89542f280",
    "idx": 5,
    "time": "2021-02-04T19:49:45.122Z",
    "type": "execution"
   },
   {
    "id": "f5ecbc86fea549e98c1a8cf89542f280",
    "time": "2021-02-04T19:49:45.309Z",
    "type": "completion"
   },
   {
    "code": "bin_size_rd = 10\n\nrd_main = df[['treat', 'turnout_party_share', 'rv']]\nrd_main = rd_main.dropna(how='any',axis=0).sort_values(by=abs(rd_main['rv']))\nrd_main",
    "id": "b880219b397d4a8c9beae1ab510c1a11",
    "idx": 4,
    "time": "2021-02-04T19:49:54.888Z",
    "type": "execution"
   },
   {
    "id": "b880219b397d4a8c9beae1ab510c1a11",
    "time": "2021-02-04T19:49:55.072Z",
    "type": "completion"
   },
   {
    "code": "abs(rd_main[['rv']])",
    "id": "f5ecbc86fea549e98c1a8cf89542f280",
    "idx": 5,
    "time": "2021-02-04T19:50:07.429Z",
    "type": "execution"
   },
   {
    "id": "f5ecbc86fea549e98c1a8cf89542f280",
    "time": "2021-02-04T19:50:07.589Z",
    "type": "completion"
   },
   {
    "code": "bin_size_rd = 10\n\nrd_main = df[['treat', 'turnout_party_share', 'rv']]\nrd_main = rd_main.dropna(how='any',axis=0).sort_values(by=abs(rd_main[['rv']]))\nrd_main",
    "id": "b880219b397d4a8c9beae1ab510c1a11",
    "idx": 4,
    "time": "2021-02-04T19:50:18.497Z",
    "type": "execution"
   },
   {
    "id": "b880219b397d4a8c9beae1ab510c1a11",
    "time": "2021-02-04T19:50:18.700Z",
    "type": "completion"
   },
   {
    "code": "bin_size_rd = 10\n\nrd_main = df[['treat', 'turnout_party_share', 'rv']]\nrd_main = rd_main.dropna(how='any',axis=0)\nrd_main[['rv']]=abs(rd_main[['rv']])\nrd_main",
    "id": "b880219b397d4a8c9beae1ab510c1a11",
    "idx": 4,
    "time": "2021-02-04T19:50:50.787Z",
    "type": "execution"
   },
   {
    "id": "b880219b397d4a8c9beae1ab510c1a11",
    "time": "2021-02-04T19:50:50.950Z",
    "type": "completion"
   },
   {
    "code": "model = sm.ols(formula='vote_general ~ victory_general + treat', data=df)\nresults = model.fit()\nprint(results.summary())",
    "id": "a2fb7b8ef77f46d399b88fd505868222",
    "idx": 3,
    "time": "2021-02-04T20:13:26.934Z",
    "type": "execution"
   },
   {
    "id": "a2fb7b8ef77f46d399b88fd505868222",
    "time": "2021-02-04T20:13:27.083Z",
    "type": "completion"
   },
   {
    "code": "model = sm.ols(formula='vote_general ~ victory_general + treat', data=df)\nresults = model.fit()\nprint(results.summary())",
    "id": "a2fb7b8ef77f46d399b88fd505868222",
    "idx": 3,
    "time": "2021-02-04T20:19:44.892Z",
    "type": "execution"
   },
   {
    "id": "a2fb7b8ef77f46d399b88fd505868222",
    "time": "2021-02-04T20:19:45.008Z",
    "type": "completion"
   },
   {
    "code": "model = sm.ols(formula='vote_general ~ victory_general + treat + rv', data=df)\nresults = model.fit()\nprint(results.summary())",
    "id": "a2fb7b8ef77f46d399b88fd505868222",
    "idx": 3,
    "time": "2021-02-04T20:19:51.732Z",
    "type": "execution"
   },
   {
    "id": "a2fb7b8ef77f46d399b88fd505868222",
    "time": "2021-02-04T20:19:51.837Z",
    "type": "completion"
   },
   {
    "code": "model = sm.ols(formula='vote_general ~ victory_general + treat + rv + treat_rv', data=df)\nresults = model.fit()\nprint(results.summary())",
    "id": "a2fb7b8ef77f46d399b88fd505868222",
    "idx": 3,
    "time": "2021-02-04T20:20:00.778Z",
    "type": "execution"
   },
   {
    "id": "a2fb7b8ef77f46d399b88fd505868222",
    "time": "2021-02-04T20:20:00.900Z",
    "type": "completion"
   },
   {
    "code": "model = sm.ols(formula='vote_general ~ victory_general + treat + rv + treat_rv if abs(rv)<0.1', data=df)\nresults = model.fit()\nprint(results.summary())",
    "id": "a2fb7b8ef77f46d399b88fd505868222",
    "idx": 3,
    "time": "2021-02-04T20:20:33.524Z",
    "type": "execution"
   },
   {
    "id": "a2fb7b8ef77f46d399b88fd505868222",
    "time": "2021-02-04T20:20:34.158Z",
    "type": "completion"
   },
   {
    "code": "model = sm.ols(formula='vote_general ~ victory_general + treat + rv + treat_rv', data=df)\nresults = model.fit()\nprint(results.summary())",
    "id": "a2fb7b8ef77f46d399b88fd505868222",
    "idx": 3,
    "time": "2021-02-04T20:20:41.122Z",
    "type": "execution"
   },
   {
    "id": "a2fb7b8ef77f46d399b88fd505868222",
    "time": "2021-02-04T20:20:41.232Z",
    "type": "completion"
   },
   {
    "code": "model = sm.ols(formula='dist ~ victory_general + treat + rv + treat_rv', data=df)\nresults = model.fit()\nprint(results.summary())",
    "id": "a2fb7b8ef77f46d399b88fd505868222",
    "idx": 3,
    "time": "2021-02-04T20:21:03.950Z",
    "type": "execution"
   },
   {
    "id": "a2fb7b8ef77f46d399b88fd505868222",
    "time": "2021-02-04T20:21:04.083Z",
    "type": "completion"
   },
   {
    "code": "model = sm.ols(formula='victory_general ~ vote_general + treat + rv + treat_rv', data=df)\nresults = model.fit()\nprint(results.summary())",
    "id": "a2fb7b8ef77f46d399b88fd505868222",
    "idx": 3,
    "time": "2021-02-04T20:21:20.022Z",
    "type": "execution"
   },
   {
    "id": "a2fb7b8ef77f46d399b88fd505868222",
    "time": "2021-02-04T20:21:20.168Z",
    "type": "completion"
   },
   {
    "code": "model = sm.ols(formula='dist ~ vote_general + treat + rv + treat_rv', data=df)\nresults = model.fit()\nprint(results.summary())",
    "id": "a2fb7b8ef77f46d399b88fd505868222",
    "idx": 3,
    "time": "2021-02-04T20:22:23.727Z",
    "type": "execution"
   },
   {
    "id": "a2fb7b8ef77f46d399b88fd505868222",
    "time": "2021-02-04T20:22:23.871Z",
    "type": "completion"
   },
   {
    "code": "model = sm.ols(formula='victory_general ~ vote_general + treat + rv + treat_rv', data=df)\nresults = model.fit()\nprint(results.summary())",
    "id": "a2fb7b8ef77f46d399b88fd505868222",
    "idx": 3,
    "time": "2021-02-04T20:22:27.060Z",
    "type": "execution"
   },
   {
    "id": "a2fb7b8ef77f46d399b88fd505868222",
    "time": "2021-02-04T20:22:27.158Z",
    "type": "completion"
   },
   {
    "code": "model = sm.ols(formula='vote_general ~ vote_general + treat + rv + treat_rv', data=df)\nresults = model.fit()\nprint(results.summary())",
    "id": "a2fb7b8ef77f46d399b88fd505868222",
    "idx": 3,
    "time": "2021-02-04T20:22:34.180Z",
    "type": "execution"
   },
   {
    "id": "a2fb7b8ef77f46d399b88fd505868222",
    "time": "2021-02-04T20:22:34.292Z",
    "type": "completion"
   },
   {
    "code": "model = sm.ols(formula='vote_general ~ vote_general + treat + rv + treat_rv', data=df[abs(df['rv']<0.1)]\nresults = model.fit()\nprint(results.summary())",
    "id": "a2fb7b8ef77f46d399b88fd505868222",
    "idx": 3,
    "time": "2021-02-04T20:41:11.423Z",
    "type": "execution"
   },
   {
    "id": "a2fb7b8ef77f46d399b88fd505868222",
    "time": "2021-02-04T20:41:11.534Z",
    "type": "completion"
   },
   {
    "code": "model = sm.ols(formula='vote_general ~ vote_general + treat + rv + treat_rv', data=df[abs(df['rv']<0.1)])\nresults = model.fit()\nprint(results.summary())",
    "id": "a2fb7b8ef77f46d399b88fd505868222",
    "idx": 3,
    "time": "2021-02-04T20:41:17.933Z",
    "type": "execution"
   },
   {
    "id": "a2fb7b8ef77f46d399b88fd505868222",
    "time": "2021-02-04T20:41:18.029Z",
    "type": "completion"
   },
   {
    "code": "model = sm.ols(formula='vote_general ~ vote_general + treat + rv + treat_rv', data=df[abs(df['rv']<0.1)]).fit().summary()",
    "id": "a2fb7b8ef77f46d399b88fd505868222",
    "idx": 3,
    "time": "2021-02-04T20:43:29.254Z",
    "type": "execution"
   },
   {
    "id": "a2fb7b8ef77f46d399b88fd505868222",
    "time": "2021-02-04T20:43:29.338Z",
    "type": "completion"
   },
   {
    "code": "model = sm.ols(formula='vote_general ~ vote_general + treat + rv + treat_rv', data=df[abs(df['rv']<0.1)]).fit().summary()\ndisplay(model)",
    "id": "a2fb7b8ef77f46d399b88fd505868222",
    "idx": 3,
    "time": "2021-02-04T20:44:12.662Z",
    "type": "execution"
   },
   {
    "id": "a2fb7b8ef77f46d399b88fd505868222",
    "time": "2021-02-04T20:44:12.812Z",
    "type": "completion"
   },
   {
    "code": "model = sm.ols(formula='vote_general ~ vote_general + treat + rv + treat_rv', data=df[abs(df['rv'])<0.1]).fit().summary()\ndisplay(model)",
    "id": "a2fb7b8ef77f46d399b88fd505868222",
    "idx": 3,
    "time": "2021-02-04T20:45:07.764Z",
    "type": "execution"
   },
   {
    "id": "a2fb7b8ef77f46d399b88fd505868222",
    "time": "2021-02-04T20:45:07.915Z",
    "type": "completion"
   },
   {
    "code": "sum absdist, d\ngl cutoff = r(p50)",
    "id": "9ccac3a8d98b478d98df3927ee7bfd30",
    "idx": 2,
    "time": "2021-02-04T20:46:21.273Z",
    "type": "execution"
   },
   {
    "id": "9ccac3a8d98b478d98df3927ee7bfd30",
    "time": "2021-02-04T20:46:21.351Z",
    "type": "completion"
   },
   {
    "code": "#sum absdist, d\ngl cutoff = r(p50)",
    "id": "9ccac3a8d98b478d98df3927ee7bfd30",
    "idx": 2,
    "time": "2021-02-04T20:48:05.946Z",
    "type": "execution"
   },
   {
    "id": "9ccac3a8d98b478d98df3927ee7bfd30",
    "time": "2021-02-04T20:48:06.048Z",
    "type": "completion"
   },
   {
    "code": "df.groupby('dist')['vote_general']",
    "id": "3d28b05898aa4ebf8f0bcddcec6306e0",
    "idx": 2,
    "time": "2021-02-04T21:19:24.515Z",
    "type": "execution"
   },
   {
    "id": "3d28b05898aa4ebf8f0bcddcec6306e0",
    "time": "2021-02-04T21:19:24.614Z",
    "type": "completion"
   },
   {
    "code": "df.groupby('dist')['vote_general'].mean()",
    "id": "3d28b05898aa4ebf8f0bcddcec6306e0",
    "idx": 2,
    "time": "2021-02-04T21:19:45.040Z",
    "type": "execution"
   },
   {
    "id": "3d28b05898aa4ebf8f0bcddcec6306e0",
    "time": "2021-02-04T21:19:45.128Z",
    "type": "completion"
   },
   {
    "code": "max('year')",
    "id": "6b44737f099d42b197cc02c1268175ca",
    "idx": 2,
    "time": "2021-02-04T21:26:53.961Z",
    "type": "execution"
   },
   {
    "id": "6b44737f099d42b197cc02c1268175ca",
    "time": "2021-02-04T21:26:54.058Z",
    "type": "completion"
   },
   {
    "code": "max(df['year'])",
    "id": "6b44737f099d42b197cc02c1268175ca",
    "idx": 2,
    "time": "2021-02-04T21:27:17.120Z",
    "type": "execution"
   },
   {
    "id": "6b44737f099d42b197cc02c1268175ca",
    "time": "2021-02-04T21:27:17.214Z",
    "type": "completion"
   },
   {
    "code": "min(df['year'])",
    "id": "6b44737f099d42b197cc02c1268175ca",
    "idx": 2,
    "time": "2021-02-04T21:27:23.242Z",
    "type": "execution"
   },
   {
    "id": "6b44737f099d42b197cc02c1268175ca",
    "time": "2021-02-04T21:27:23.305Z",
    "type": "completion"
   },
   {
    "code": "df.columns.tolist()",
    "id": "9faae4e76f08497a8631462bcd39770f",
    "idx": 2,
    "time": "2021-02-04T21:28:04.712Z",
    "type": "execution"
   },
   {
    "id": "9faae4e76f08497a8631462bcd39770f",
    "time": "2021-02-04T21:28:04.808Z",
    "type": "completion"
   },
   {
    "code": "import pandas as pd\nfrom pandas.stats.api import ols\n#from scipy import stats\n#import statsmodels.formula.api as sm",
    "id": "b41ed4e9ac774ee085510773d5144773",
    "idx": 0,
    "time": "2021-02-04T21:51:31.443Z",
    "type": "execution"
   },
   {
    "id": "b41ed4e9ac774ee085510773d5144773",
    "time": "2021-02-04T21:51:31.583Z",
    "type": "completion"
   },
   {
    "code": "import pandas as pd\n#from scipy import stats\n\nimport statsmodels.formula.api as sm",
    "id": "b41ed4e9ac774ee085510773d5144773",
    "idx": 0,
    "time": "2021-02-04T21:51:41.372Z",
    "type": "execution"
   },
   {
    "id": "b41ed4e9ac774ee085510773d5144773",
    "time": "2021-02-04T21:51:41.471Z",
    "type": "completion"
   },
   {
    "code": "df = pd.read_stata('hall_thompson_replication_files/rd_analysis_hs.dta')\ndf.head()",
    "id": "d38a1687a94746158550ec9c08b98f3f",
    "idx": 1,
    "time": "2021-02-04T21:51:42.233Z",
    "type": "execution"
   },
   {
    "code": "df.columns.tolist()",
    "id": "9faae4e76f08497a8631462bcd39770f",
    "idx": 2,
    "time": "2021-02-04T21:51:42.644Z",
    "type": "execution"
   },
   {
    "id": "d38a1687a94746158550ec9c08b98f3f",
    "time": "2021-02-04T21:51:42.756Z",
    "type": "completion"
   },
   {
    "id": "9faae4e76f08497a8631462bcd39770f",
    "time": "2021-02-04T21:51:42.787Z",
    "type": "completion"
   },
   {
    "code": "df.groupby('dist')['vote_general'].mean()",
    "id": "3d28b05898aa4ebf8f0bcddcec6306e0",
    "idx": 3,
    "time": "2021-02-04T21:51:42.992Z",
    "type": "execution"
   },
   {
    "id": "3d28b05898aa4ebf8f0bcddcec6306e0",
    "time": "2021-02-04T21:51:43.065Z",
    "type": "completion"
   },
   {
    "code": "#cutoff = stats.scoreatpercentile(a, 50)\n\nmodel = sm.ols(formula='vote_general ~ vote_general + treat + rv + treat_rv', data=df[abs(df['rv'])<0.1]).fit().summary()\ndisplay(model)",
    "id": "a2fb7b8ef77f46d399b88fd505868222",
    "idx": 4,
    "time": "2021-02-04T21:51:43.337Z",
    "type": "execution"
   },
   {
    "id": "a2fb7b8ef77f46d399b88fd505868222",
    "time": "2021-02-04T21:51:43.565Z",
    "type": "completion"
   },
   {
    "code": "import pandas as pd\nimport statsmodels.formula.api as sm",
    "id": "b41ed4e9ac774ee085510773d5144773",
    "idx": 0,
    "time": "2021-02-04T22:08:32.616Z",
    "type": "execution"
   },
   {
    "id": "b41ed4e9ac774ee085510773d5144773",
    "time": "2021-02-04T22:08:32.700Z",
    "type": "completion"
   },
   {
    "code": "df = pd.read_stata('hall_thompson_replication_files/rd_analysis_hs.dta')\ndf.head()",
    "id": "d38a1687a94746158550ec9c08b98f3f",
    "idx": 1,
    "time": "2021-02-04T22:08:32.822Z",
    "type": "execution"
   },
   {
    "code": "model = sm.ols(formula='vote_general ~ vote_general + treat + rv + treat_rv', data=df[abs(df['rv'])<0.1]).fit().summary()\ndisplay(model)",
    "id": "a2fb7b8ef77f46d399b88fd505868222",
    "idx": 2,
    "time": "2021-02-04T22:08:33.065Z",
    "type": "execution"
   },
   {
    "id": "d38a1687a94746158550ec9c08b98f3f",
    "time": "2021-02-04T22:08:33.154Z",
    "type": "completion"
   },
   {
    "id": "a2fb7b8ef77f46d399b88fd505868222",
    "time": "2021-02-04T22:08:33.176Z",
    "type": "completion"
   },
   {
    "code": "df.columns()",
    "id": "9b7a3d44fad54ca1895d75279ac895b3",
    "idx": 3,
    "time": "2021-02-05T06:31:45.038Z",
    "type": "execution"
   },
   {
    "id": "9b7a3d44fad54ca1895d75279ac895b3",
    "time": "2021-02-05T06:31:45.857Z",
    "type": "completion"
   },
   {
    "code": "import pandas as pd\nimport statsmodels.formula.api as sm",
    "id": "a6c935213e1348b8b09324dbb77a44f4",
    "idx": 0,
    "time": "2021-02-05T06:31:49.152Z",
    "type": "execution"
   },
   {
    "code": "df = pd.read_stata('hall_thompson_replication_files/rd_analysis_hs.dta')\ndf.head()",
    "id": "80b91cb3bcf5468381812395ce64dab3",
    "idx": 1,
    "time": "2021-02-05T06:31:49.457Z",
    "type": "execution"
   },
   {
    "code": "model = sm.ols(formula='vote_general ~ vote_general + treat + rv + treat_rv', data=df[abs(df['rv'])<0.1]).fit().summary()\ndisplay(model)",
    "id": "e82a2709bcdb4e3c9b292592a387d702",
    "idx": 2,
    "time": "2021-02-05T06:31:49.701Z",
    "type": "execution"
   },
   {
    "code": "df.columns()",
    "id": "9b7a3d44fad54ca1895d75279ac895b3",
    "idx": 3,
    "time": "2021-02-05T06:31:50.256Z",
    "type": "execution"
   },
   {
    "id": "a6c935213e1348b8b09324dbb77a44f4",
    "time": "2021-02-05T06:31:50.307Z",
    "type": "completion"
   },
   {
    "id": "80b91cb3bcf5468381812395ce64dab3",
    "time": "2021-02-05T06:31:50.727Z",
    "type": "completion"
   },
   {
    "id": "e82a2709bcdb4e3c9b292592a387d702",
    "time": "2021-02-05T06:31:50.760Z",
    "type": "completion"
   },
   {
    "id": "9b7a3d44fad54ca1895d75279ac895b3",
    "time": "2021-02-05T06:31:50.820Z",
    "type": "completion"
   },
   {
    "code": "df.columns().tolist()",
    "id": "9b7a3d44fad54ca1895d75279ac895b3",
    "idx": 3,
    "time": "2021-02-05T06:32:53.699Z",
    "type": "execution"
   },
   {
    "id": "9b7a3d44fad54ca1895d75279ac895b3",
    "time": "2021-02-05T06:32:54.011Z",
    "type": "completion"
   },
   {
    "code": "list(df.columns())",
    "id": "9b7a3d44fad54ca1895d75279ac895b3",
    "idx": 3,
    "time": "2021-02-05T06:33:02.187Z",
    "type": "execution"
   },
   {
    "id": "9b7a3d44fad54ca1895d75279ac895b3",
    "time": "2021-02-05T06:33:02.268Z",
    "type": "completion"
   },
   {
    "code": "list(df.columns",
    "id": "9b7a3d44fad54ca1895d75279ac895b3",
    "idx": 3,
    "time": "2021-02-05T06:33:10.488Z",
    "type": "execution"
   },
   {
    "id": "9b7a3d44fad54ca1895d75279ac895b3",
    "time": "2021-02-05T06:33:10.753Z",
    "type": "completion"
   },
   {
    "code": "df.columns",
    "id": "9b7a3d44fad54ca1895d75279ac895b3",
    "idx": 3,
    "time": "2021-02-05T06:33:14.592Z",
    "type": "execution"
   },
   {
    "id": "9b7a3d44fad54ca1895d75279ac895b3",
    "time": "2021-02-05T06:33:14.754Z",
    "type": "completion"
   },
   {
    "code": "list(df.columns)",
    "id": "9b7a3d44fad54ca1895d75279ac895b3",
    "idx": 3,
    "time": "2021-02-05T06:33:21.435Z",
    "type": "execution"
   },
   {
    "id": "9b7a3d44fad54ca1895d75279ac895b3",
    "time": "2021-02-05T06:33:21.582Z",
    "type": "completion"
   },
   {
    "code": "model2 = sm.ols(formula='turnout_party_share ~ turnout_party_share + treat + rv + treat_rv', data=df[abs(df['rv'])<0.1]).fit().summary()\ndisplay(model2)",
    "id": "e6cac7d338554eedac05428ad472f123",
    "idx": 3,
    "time": "2021-02-05T06:36:21.057Z",
    "type": "execution"
   },
   {
    "id": "e6cac7d338554eedac05428ad472f123",
    "time": "2021-02-05T06:36:21.230Z",
    "type": "completion"
   },
   {
    "code": "rd_main = df[['treat', 'turnout_party_share', 'rv']]\nfilter(!is.na(turnout_party_share))\nrd_main",
    "id": "95dd5439fbfc4527853047bd35dc01c5",
    "idx": 4,
    "time": "2021-02-05T06:46:03.309Z",
    "type": "execution"
   },
   {
    "id": "95dd5439fbfc4527853047bd35dc01c5",
    "time": "2021-02-05T06:46:03.428Z",
    "type": "completion"
   },
   {
    "code": "rd_main = df[['treat', 'turnout_party_share', 'rv']]\n#filter(!is.na(turnout_party_share))\nrd_main",
    "id": "95dd5439fbfc4527853047bd35dc01c5",
    "idx": 4,
    "time": "2021-02-05T06:46:07.646Z",
    "type": "execution"
   },
   {
    "id": "95dd5439fbfc4527853047bd35dc01c5",
    "time": "2021-02-05T06:46:07.798Z",
    "type": "completion"
   },
   {
    "code": "rd_main = df[['treat', 'turnout_party_share', 'rv']]\nfiltered_df = df[df['turnout_party_share'].notnull()]\n#filter(!is.na(turnout_party_share))\nfiltered_df",
    "id": "95dd5439fbfc4527853047bd35dc01c5",
    "idx": 4,
    "time": "2021-02-05T06:51:15.571Z",
    "type": "execution"
   },
   {
    "id": "95dd5439fbfc4527853047bd35dc01c5",
    "time": "2021-02-05T06:51:15.830Z",
    "type": "completion"
   },
   {
    "code": "import pandas as pd\nimport statsmodels.formula.api as sm",
    "id": "a6c935213e1348b8b09324dbb77a44f4",
    "idx": 0,
    "time": "2021-02-05T06:51:36.206Z",
    "type": "execution"
   },
   {
    "id": "a6c935213e1348b8b09324dbb77a44f4",
    "time": "2021-02-05T06:51:36.270Z",
    "type": "completion"
   },
   {
    "code": "df = pd.read_stata('hall_thompson_replication_files/rd_analysis_hs.dta')\ndf.head()",
    "id": "80b91cb3bcf5468381812395ce64dab3",
    "idx": 1,
    "time": "2021-02-05T06:51:36.591Z",
    "type": "execution"
   },
   {
    "id": "80b91cb3bcf5468381812395ce64dab3",
    "time": "2021-02-05T06:51:37.311Z",
    "type": "completion"
   },
   {
    "code": "import pandas as pd\nimport statsmodels.formula.api as sm",
    "id": "a6c935213e1348b8b09324dbb77a44f4",
    "idx": 0,
    "time": "2021-02-05T06:51:43.665Z",
    "type": "execution"
   },
   {
    "id": "a6c935213e1348b8b09324dbb77a44f4",
    "time": "2021-02-05T06:51:44.761Z",
    "type": "completion"
   },
   {
    "code": "df = pd.read_stata('hall_thompson_replication_files/rd_analysis_hs.dta')\ndf.head()",
    "id": "80b91cb3bcf5468381812395ce64dab3",
    "idx": 1,
    "time": "2021-02-05T06:51:48.756Z",
    "type": "execution"
   },
   {
    "id": "80b91cb3bcf5468381812395ce64dab3",
    "time": "2021-02-05T06:51:49.267Z",
    "type": "completion"
   },
   {
    "code": "model = sm.ols(formula='vote_general ~ vote_general + treat + rv + treat_rv', data=df[abs(df['rv'])<0.1]).fit().summary()\ndisplay(model)",
    "id": "e82a2709bcdb4e3c9b292592a387d702",
    "idx": 2,
    "time": "2021-02-05T06:51:54.530Z",
    "type": "execution"
   },
   {
    "id": "e82a2709bcdb4e3c9b292592a387d702",
    "time": "2021-02-05T06:51:54.684Z",
    "type": "completion"
   },
   {
    "code": "model2 = sm.ols(formula='turnout_party_share ~ turnout_party_share + treat + rv + treat_rv', data=df[abs(df['rv'])<0.1]).fit().summary()\ndisplay(model2)",
    "id": "e6cac7d338554eedac05428ad472f123",
    "idx": 3,
    "time": "2021-02-05T06:51:55.616Z",
    "type": "execution"
   },
   {
    "id": "e6cac7d338554eedac05428ad472f123",
    "time": "2021-02-05T06:51:55.750Z",
    "type": "completion"
   },
   {
    "code": "rd_main = df[['treat', 'turnout_party_share', 'rv']]\nfiltered_df = rd_main[rd_main['turnout_party_share'].notnull()]\n#filter(!is.na(turnout_party_share))\nfiltered_df",
    "id": "95dd5439fbfc4527853047bd35dc01c5",
    "idx": 4,
    "time": "2021-02-05T06:51:56.572Z",
    "type": "execution"
   },
   {
    "id": "95dd5439fbfc4527853047bd35dc01c5",
    "time": "2021-02-05T06:51:56.683Z",
    "type": "completion"
   },
   {
    "code": "rd_main = df[['treat', 'turnout_party_share', 'rv']]\nfiltered_df = rd_main[rd_main['turnout_party_share'].notnull()]\n#filter(!is.na(turnout_party_share))\nfiltered_df",
    "id": "95dd5439fbfc4527853047bd35dc01c5",
    "idx": 4,
    "time": "2021-02-05T06:52:01.312Z",
    "type": "execution"
   },
   {
    "id": "95dd5439fbfc4527853047bd35dc01c5",
    "time": "2021-02-05T06:52:01.416Z",
    "type": "completion"
   },
   {
    "code": "bin_size_rd = 10\nrd_main = df[['treat', 'turnout_party_share', 'rv']]\nfiltered_df = rd_main[rd_main['turnout_party_share'].notnull()]\nfiltered_df.groupby('treat')\n\n",
    "id": "95dd5439fbfc4527853047bd35dc01c5",
    "idx": 4,
    "time": "2021-02-05T06:52:43.478Z",
    "type": "execution"
   },
   {
    "id": "95dd5439fbfc4527853047bd35dc01c5",
    "time": "2021-02-05T06:52:43.555Z",
    "type": "completion"
   },
   {
    "code": "bin_size_rd = 10\nrd_main = df[['treat', 'turnout_party_share', 'rv']]\nfiltered_df = rd_main[rd_main['turnout_party_share'].notnull()]\nfiltered_df.groupby(by='treat')\n\n",
    "id": "95dd5439fbfc4527853047bd35dc01c5",
    "idx": 4,
    "time": "2021-02-05T06:53:18.199Z",
    "type": "execution"
   },
   {
    "id": "95dd5439fbfc4527853047bd35dc01c5",
    "time": "2021-02-05T06:53:18.274Z",
    "type": "completion"
   },
   {
    "code": "bin_size_rd = 10\nrd_main = df[['treat', 'turnout_party_share', 'rv']]\nrd_filtered = rd_main[rd_main['turnout_party_share'].notnull()]\nred_filtered.groupby(by='treat')\n\n",
    "id": "95dd5439fbfc4527853047bd35dc01c5",
    "idx": 4,
    "time": "2021-02-05T06:53:55.661Z",
    "type": "execution"
   },
   {
    "id": "95dd5439fbfc4527853047bd35dc01c5",
    "time": "2021-02-05T06:53:55.985Z",
    "type": "completion"
   },
   {
    "code": "bin_size_rd = 10\nrd_main = df[['treat', 'turnout_party_share', 'rv']]\nrd_filtered = rd_main[rd_main['turnout_party_share'].notnull()]\nrd_filtered.groupby(by='treat')\n\n",
    "id": "95dd5439fbfc4527853047bd35dc01c5",
    "idx": 4,
    "time": "2021-02-05T06:53:59.718Z",
    "type": "execution"
   },
   {
    "id": "95dd5439fbfc4527853047bd35dc01c5",
    "time": "2021-02-05T06:53:59.809Z",
    "type": "completion"
   },
   {
    "code": "model = sm.ols(formula='vote_general ~ vote_general + treat + rv + treat_rv', data=df[abs(df['rv'])<0.1]).fit().summary()\ndisplay(model)\ndf.assign(\n    column1 = lambda dataframe: dataframe['1'].map(lambda one: 'vote_general ~ vote_general + treat + rv + treat_rv' if abs(df['rv'])<0.1) \n)\ndf",
    "id": "e82a2709bcdb4e3c9b292592a387d702",
    "idx": 2,
    "time": "2021-02-05T06:59:15.431Z",
    "type": "execution"
   },
   {
    "id": "e82a2709bcdb4e3c9b292592a387d702",
    "time": "2021-02-05T06:59:15.531Z",
    "type": "completion"
   },
   {
    "code": "model = sm.ols(formula='vote_general ~ vote_general + treat + rv + treat_rv', data=df[abs(df['rv'])<0.1]).fit().summary()\ndisplay(model)\ndf.assign(\n    column1 = lambda dataframe: dataframe['1'].map(lambda one: 'vote_general ~ vote_general + treat + rv + treat_rv' if abs(df['rv'])<0.1)) \n)\ndf",
    "id": "e82a2709bcdb4e3c9b292592a387d702",
    "idx": 2,
    "time": "2021-02-05T06:59:25.175Z",
    "type": "execution"
   },
   {
    "id": "e82a2709bcdb4e3c9b292592a387d702",
    "time": "2021-02-05T06:59:25.253Z",
    "type": "completion"
   },
   {
    "code": "model = sm.ols(formula='vote_general ~ vote_general + treat + rv + treat_rv', data=df[abs(df['rv'])<0.1]).fit().summary()\ndisplay(model)\ndf.assign(\n    column1 = lambda dataframe: dataframe['1'].map(lambda vote_general: vote_general + treat + rv + treat_rv if abs(df['rv'])<0.1) \n)\ndf",
    "id": "e82a2709bcdb4e3c9b292592a387d702",
    "idx": 2,
    "time": "2021-02-05T06:59:51.735Z",
    "type": "execution"
   },
   {
    "id": "e82a2709bcdb4e3c9b292592a387d702",
    "time": "2021-02-05T06:59:51.883Z",
    "type": "completion"
   },
   {
    "code": "model = sm.ols(formula='vote_general ~ vote_general + treat + rv + treat_rv', data=df[abs(df['rv'])<0.1]).fit().summary()\ndisplay(model)\ndf.assign(\n    column1 = lambda dataframe: dataframe['1'].map(lambda vote_general: vote_general + treat + rv + treat_rv if df[abs(df['rv'])<0.1]) \n)\ndf",
    "id": "e82a2709bcdb4e3c9b292592a387d702",
    "idx": 2,
    "time": "2021-02-05T07:00:11.415Z",
    "type": "execution"
   },
   {
    "id": "e82a2709bcdb4e3c9b292592a387d702",
    "time": "2021-02-05T07:00:11.523Z",
    "type": "completion"
   },
   {
    "code": "model = sm.ols(formula='vote_general ~ vote_general + treat + rv + treat_rv', data=df[abs(df['rv'])<0.1]).fit().summary()\ndisplay(model)\ndf.assign(\n    column1 = lambda dataframe: dataframe['1'].map(lambda vote_general: vote_general + treat + rv + treat_rv if abs(df['rv'])<0.1) \n)\ndf",
    "id": "e82a2709bcdb4e3c9b292592a387d702",
    "idx": 2,
    "time": "2021-02-05T07:00:16.926Z",
    "type": "execution"
   },
   {
    "id": "e82a2709bcdb4e3c9b292592a387d702",
    "time": "2021-02-05T07:00:17.011Z",
    "type": "completion"
   },
   {
    "code": "model = sm.ols(formula='vote_general ~ vote_general + treat + rv + treat_rv', data=df[abs(df['rv'])<0.1]).fit().summary()\ndisplay(model)\ndf.assign(\n    column1 = lambda dataframe: dataframe['1'].map(lambda vote_general: vote_general + treat + rv + treat_rv if (abs(df['rv'])<0.1)) \n)\ndf",
    "id": "e82a2709bcdb4e3c9b292592a387d702",
    "idx": 2,
    "time": "2021-02-05T07:00:41.082Z",
    "type": "execution"
   },
   {
    "id": "e82a2709bcdb4e3c9b292592a387d702",
    "time": "2021-02-05T07:00:41.161Z",
    "type": "completion"
   },
   {
    "code": "model = sm.ols(formula='vote_general ~ vote_general + treat + rv + treat_rv', data=df[abs(df['rv'])<0.1]).fit().summary()\ndisplay(model)\ndf.assign(\n    column1 = lambda dataframe: dataframe['1'].map(lambda vote_general: vote_general + treat + rv + treat_rv if abs(rv)<0.1) \n)\ndf",
    "id": "e82a2709bcdb4e3c9b292592a387d702",
    "idx": 2,
    "time": "2021-02-05T07:01:12.367Z",
    "type": "execution"
   },
   {
    "id": "e82a2709bcdb4e3c9b292592a387d702",
    "time": "2021-02-05T07:01:12.476Z",
    "type": "completion"
   },
   {
    "code": "model = sm.ols(formula='vote_general ~ vote_general + treat + rv + treat_rv', data=df[abs(df['rv'])<0.1]).fit().summary()\ndisplay(model)",
    "id": "e82a2709bcdb4e3c9b292592a387d702",
    "idx": 2,
    "time": "2021-02-05T07:01:55.649Z",
    "type": "execution"
   },
   {
    "id": "e82a2709bcdb4e3c9b292592a387d702",
    "time": "2021-02-05T07:01:55.794Z",
    "type": "completion"
   },
   {
    "code": "model2 = sm.ols(formula='turnout_party_share ~ turnout_party_share + treat + rv + treat_rv', data=df[abs(df['rv'])<0.1]).fit().summary()\ndisplay(model2)",
    "id": "e6cac7d338554eedac05428ad472f123",
    "idx": 4,
    "time": "2021-02-05T07:01:56.968Z",
    "type": "execution"
   },
   {
    "id": "e6cac7d338554eedac05428ad472f123",
    "time": "2021-02-05T07:01:57.103Z",
    "type": "completion"
   },
   {
    "code": "bin_size_rd = 10\nrd_main = df[['treat', 'turnout_party_share', 'rv']]\nrd_filtered = rd_main[rd_main['turnout_party_share'].notnull()]\nrd_filtered.groupby(by='treat')\n\n",
    "id": "95dd5439fbfc4527853047bd35dc01c5",
    "idx": 5,
    "time": "2021-02-05T07:01:59.896Z",
    "type": "execution"
   },
   {
    "id": "95dd5439fbfc4527853047bd35dc01c5",
    "time": "2021-02-05T07:02:00.028Z",
    "type": "completion"
   },
   {
    "code": "bin_size_rd = 10\nrd_main = df[['treat', 'turnout_party_share', 'rv']]\nrd_filtered = rd_main[rd_main['turnout_party_share'].notnull()]\nrd_filtered\n",
    "id": "95dd5439fbfc4527853047bd35dc01c5",
    "idx": 5,
    "time": "2021-02-05T07:04:46.469Z",
    "type": "execution"
   },
   {
    "id": "95dd5439fbfc4527853047bd35dc01c5",
    "time": "2021-02-05T07:04:46.569Z",
    "type": "completion"
   },
   {
    "code": "bin_size_rd = 10\nrd_main = df[['treat', 'turnout_party_share', 'rv']]\nrd_filtered = rd_main[rd_main['turnout_party_share'].notnull()]\nrd_filtered",
    "id": "95dd5439fbfc4527853047bd35dc01c5",
    "idx": 5,
    "time": "2021-02-05T07:04:48.604Z",
    "type": "execution"
   },
   {
    "id": "95dd5439fbfc4527853047bd35dc01c5",
    "time": "2021-02-05T07:04:48.747Z",
    "type": "completion"
   },
   {
    "code": "bin_size_rd = 10\nrd_main = df[['treat', 'turnout_party_share', 'rv']]\nrd_filtered = rd_main[rd_main['turnout_party_share'].notnull()]\nrd_filtered",
    "id": "95dd5439fbfc4527853047bd35dc01c5",
    "idx": 5,
    "time": "2021-02-05T07:04:55.144Z",
    "type": "execution"
   },
   {
    "id": "95dd5439fbfc4527853047bd35dc01c5",
    "time": "2021-02-05T07:04:55.276Z",
    "type": "completion"
   },
   {
    "code": "df.head()",
    "id": "7a80e5cb67b04f698ec85c8ee34b01d3",
    "idx": 3,
    "time": "2021-02-05T07:05:11.024Z",
    "type": "execution"
   },
   {
    "id": "7a80e5cb67b04f698ec85c8ee34b01d3",
    "time": "2021-02-05T07:05:11.130Z",
    "type": "completion"
   },
   {
    "code": "df.assign(\n    column1 = lambda dataframe: dataframe['column1'].map(lambda one: sm.ols(formula='vote_general ~ vote_general + treat + rv + treat_rv', data=df if [abs(df['rv'])<0.1]))\n)",
    "id": "7a80e5cb67b04f698ec85c8ee34b01d3",
    "idx": 3,
    "time": "2021-02-05T07:10:37.930Z",
    "type": "execution"
   },
   {
    "id": "7a80e5cb67b04f698ec85c8ee34b01d3",
    "time": "2021-02-05T07:10:38.064Z",
    "type": "completion"
   },
   {
    "code": "df.assign(\n    column1 = lambda dataframe: dataframe['column1'].map(lambda one: sm.ols(formula='vote_general ~ vote_general + treat + rv + treat_rv', data=df[abs(df['rv'])<0.1]))\n)\n",
    "id": "7a80e5cb67b04f698ec85c8ee34b01d3",
    "idx": 3,
    "time": "2021-02-05T07:11:23.811Z",
    "type": "execution"
   },
   {
    "id": "7a80e5cb67b04f698ec85c8ee34b01d3",
    "time": "2021-02-05T07:11:24.090Z",
    "type": "completion"
   },
   {
    "code": "df2 = pd.DataFrame({\n    'name': ['alice','bob','charlie','daniel'],\n    'age': [25,66,56,78]\n})\ndf2.assign(\n    column1 = lambda dataframe: dataframe['column1'].map(lambda one: sm.ols(formula='vote_general ~ vote_general + treat + rv + treat_rv', data=df[abs(df['rv'])<0.1]))\n)\n",
    "id": "7a80e5cb67b04f698ec85c8ee34b01d3",
    "idx": 3,
    "time": "2021-02-05T07:12:26.158Z",
    "type": "execution"
   },
   {
    "id": "7a80e5cb67b04f698ec85c8ee34b01d3",
    "time": "2021-02-05T07:12:26.335Z",
    "type": "completion"
   },
   {
    "code": "df.assign(\n    column1 = lambda dataframe: dataframe['column1'].map(lambda one: sm.ols(formula='vote_general ~ vote_general + treat + rv + treat_rv', data=df[abs(df['rv'])<0.1]))\n)\n",
    "id": "7a80e5cb67b04f698ec85c8ee34b01d3",
    "idx": 3,
    "time": "2021-02-05T07:12:47.397Z",
    "type": "execution"
   },
   {
    "id": "7a80e5cb67b04f698ec85c8ee34b01d3",
    "time": "2021-02-05T07:12:47.565Z",
    "type": "completion"
   },
   {
    "code": "df.assign(\n    'column1' = lambda dataframe: dataframe['column1'].map(lambda one: sm.ols(formula='vote_general ~ vote_general + treat + rv + treat_rv', data=df[abs(df['rv'])<0.1]))\n)\n",
    "id": "7a80e5cb67b04f698ec85c8ee34b01d3",
    "idx": 3,
    "time": "2021-02-05T07:13:07.352Z",
    "type": "execution"
   },
   {
    "id": "7a80e5cb67b04f698ec85c8ee34b01d3",
    "time": "2021-02-05T07:13:07.449Z",
    "type": "completion"
   },
   {
    "code": "df.assign(\n    column1 = lambda dataframe: dataframe['column1'].map(lambda one: sm.ols(formula='vote_general ~ vote_general + treat + rv + treat_rv', data=df[abs(df['rv'])<0.1]))\n)\n",
    "id": "7a80e5cb67b04f698ec85c8ee34b01d3",
    "idx": 3,
    "time": "2021-02-05T07:13:34.170Z",
    "type": "execution"
   },
   {
    "id": "7a80e5cb67b04f698ec85c8ee34b01d3",
    "time": "2021-02-05T07:13:34.364Z",
    "type": "completion"
   },
   {
    "code": "df.assign(\n    column1 = lambda dataframe: dataframe['column1'].map(lambda : )\n)",
    "id": "7a80e5cb67b04f698ec85c8ee34b01d3",
    "idx": 3,
    "time": "2021-02-05T07:13:57.697Z",
    "type": "execution"
   },
   {
    "id": "7a80e5cb67b04f698ec85c8ee34b01d3",
    "time": "2021-02-05T07:13:57.770Z",
    "type": "completion"
   },
   {
    "code": "model = sm.ols(formula='vote_general ~ vote_general + treat + rv + treat_rv', data=df[abs(df['rv'])<0.1]).fit().summary()\ndisplay(model)\n\nbeginningtex = \"\"\"\\\\documentclass{report}\n\\\\usepackage{booktabs}\n\\\\begin{document}\"\"\"\nendtex = \"\\end{document}\"\n\nf = open('myreg.tex', 'w')\nf.write(beginningtex)\nf.write(res.summary().as_latex())\nf.write(endtex)\nf.close()",
    "id": "e82a2709bcdb4e3c9b292592a387d702",
    "idx": 2,
    "time": "2021-02-05T07:22:03.654Z",
    "type": "execution"
   },
   {
    "id": "e82a2709bcdb4e3c9b292592a387d702",
    "time": "2021-02-05T07:22:03.841Z",
    "type": "completion"
   },
   {
    "code": "model = sm.ols(formula='vote_general ~ vote_general + treat + rv + treat_rv', data=df[abs(df['rv'])<0.1]).fit()\ndisplay(model.summary())\n\nbeginningtex = \"\"\"\\\\documentclass{report}\n\\\\usepackage{booktabs}\n\\\\begin{document}\"\"\"\nendtex = \"\\end{document}\"\n\nf = open('myreg.tex', 'w')\nf.write(beginningtex)\nf.write(model.summary().as_latex())\nf.write(endtex)\nf.close()",
    "id": "e82a2709bcdb4e3c9b292592a387d702",
    "idx": 2,
    "time": "2021-02-05T07:22:58.556Z",
    "type": "execution"
   },
   {
    "id": "e82a2709bcdb4e3c9b292592a387d702",
    "time": "2021-02-05T07:22:58.780Z",
    "type": "completion"
   },
   {
    "code": "import pandas as pd\nimport statsmodels.formula.api as sm",
    "id": "a6c935213e1348b8b09324dbb77a44f4",
    "idx": 0,
    "time": "2021-02-05T07:23:11.443Z",
    "type": "execution"
   },
   {
    "id": "a6c935213e1348b8b09324dbb77a44f4",
    "time": "2021-02-05T07:23:11.531Z",
    "type": "completion"
   },
   {
    "code": "df = pd.read_stata('hall_thompson_replication_files/rd_analysis_hs.dta')\ndf.head()",
    "id": "80b91cb3bcf5468381812395ce64dab3",
    "idx": 1,
    "time": "2021-02-05T07:23:12.072Z",
    "type": "execution"
   },
   {
    "id": "80b91cb3bcf5468381812395ce64dab3",
    "time": "2021-02-05T07:23:12.509Z",
    "type": "completion"
   },
   {
    "code": "model = sm.ols(formula='vote_general ~ vote_general + treat + rv + treat_rv', data=df[abs(df['rv'])<0.1]).fit()\n#display(model.summary())\n\nbeginningtex = \"\"\"\\\\documentclass{report}\n\\\\usepackage{booktabs}\n\\\\begin{document}\"\"\"\nendtex = \"\\end{document}\"\n\nf = open('myreg.tex', 'w')\nf.write(beginningtex)\nf.write(model.summary().as_latex())\nf.write(endtex)\nf.close()",
    "id": "e82a2709bcdb4e3c9b292592a387d702",
    "idx": 2,
    "time": "2021-02-05T07:23:15.973Z",
    "type": "execution"
   },
   {
    "id": "e82a2709bcdb4e3c9b292592a387d702",
    "time": "2021-02-05T07:23:16.092Z",
    "type": "completion"
   },
   {
    "code": "model = sm.ols(formula='vote_general ~ vote_general + treat + rv + treat_rv', data=df[abs(df['rv'])<0.1]).fit()\n#display(model.summary())\n\nbeginningtex = \"\"\"\\\\documentclass{report}\n\\\\usepackage{booktabs}\n\\\\begin{document}\"\"\"\nendtex = \"\\end{document}\"\n\nf = open('myreg.tex', 'w')\nf.write(beginningtex)\nf.write(model.summary().as_latex())\nf.write(endtex)\nf.close()\n\nf.display()",
    "id": "e82a2709bcdb4e3c9b292592a387d702",
    "idx": 2,
    "time": "2021-02-05T07:23:24.494Z",
    "type": "execution"
   },
   {
    "id": "e82a2709bcdb4e3c9b292592a387d702",
    "time": "2021-02-05T07:23:24.615Z",
    "type": "completion"
   },
   {
    "code": "model = sm.ols(formula='vote_general ~ vote_general + treat + rv + treat_rv', data=df[abs(df['rv'])<0.1]).fit()\n#display(model.summary())\n\nbeginningtex = \"\"\"\\\\documentclass{report}\n\\\\usepackage{booktabs}\n\\\\begin{document}\"\"\"\nendtex = \"\\end{document}\"\n\nf = open('myreg.tex', 'w')\nf.write(beginningtex)\nf.write(model.summary().as_latex())\nf.write(endtex)\nf.close()\n\nf",
    "id": "e82a2709bcdb4e3c9b292592a387d702",
    "idx": 2,
    "time": "2021-02-05T07:23:30.322Z",
    "type": "execution"
   },
   {
    "id": "e82a2709bcdb4e3c9b292592a387d702",
    "time": "2021-02-05T07:23:30.504Z",
    "type": "completion"
   },
   {
    "code": "model = sm.ols(formula='vote_general ~ vote_general + treat + rv + treat_rv', data=df[abs(df['rv'])<0.1]).fit()\n#display(model.summary())\n\nbeginningtex = \"\"\"\\\\documentclass{report}\n\\\\usepackage{booktabs}\n\\\\begin{document}\"\"\"\nendtex = \"\\end{document}\"\n\nf = open('myreg.tex', 'w')\nf.write(beginningtex)\nf.write(model.summary().as_latex())\nf.write(endtex)\nf.close()\n\nprint(f)",
    "id": "e82a2709bcdb4e3c9b292592a387d702",
    "idx": 2,
    "time": "2021-02-05T07:24:27.514Z",
    "type": "execution"
   },
   {
    "id": "e82a2709bcdb4e3c9b292592a387d702",
    "time": "2021-02-05T07:24:27.660Z",
    "type": "completion"
   },
   {
    "code": "model = sm.ols(formula='vote_general ~ vote_general + treat + rv + treat_rv', data=df[abs(df['rv'])<0.1]).fit()\n#display(model.summary())\n\nbeginningtex = \"\"\"\\\\documentclass{report}\n\\\\usepackage{booktabs}\n\\\\begin{document}\"\"\"\nendtex = \"\\end{document}\"\n\nf = open('myreg.tex', 'w')\nf.write(beginningtex)\nf.write(model.summary().as_latex())\nf.write(endtex)\nf.close()\n\ndisplay(f)",
    "id": "e82a2709bcdb4e3c9b292592a387d702",
    "idx": 2,
    "time": "2021-02-05T07:24:32.188Z",
    "type": "execution"
   },
   {
    "id": "e82a2709bcdb4e3c9b292592a387d702",
    "time": "2021-02-05T07:24:32.360Z",
    "type": "completion"
   },
   {
    "code": "model = sm.ols(formula='vote_general ~ vote_general + treat + rv + treat_rv', data=df[abs(df['rv'])<0.1]).fit()\ndisplay(model.summary())",
    "id": "e82a2709bcdb4e3c9b292592a387d702",
    "idx": 2,
    "time": "2021-02-05T07:24:43.446Z",
    "type": "execution"
   },
   {
    "id": "e82a2709bcdb4e3c9b292592a387d702",
    "time": "2021-02-05T07:24:43.630Z",
    "type": "completion"
   },
   {
    "code": "model2 = sm.ols(formula='turnout_party_share ~ turnout_party_share + treat + rv + treat_rv', data=df[abs(df['rv'])<0.1]).fit()\ndisplay(model2.summary())",
    "id": "e6cac7d338554eedac05428ad472f123",
    "idx": 4,
    "time": "2021-02-05T07:25:05.409Z",
    "type": "execution"
   },
   {
    "id": "e6cac7d338554eedac05428ad472f123",
    "time": "2021-02-05T07:25:05.570Z",
    "type": "completion"
   },
   {
    "code": "import pandas as pd\nimport statsmodels.formula.api as sm",
    "id": "58b6d0658e274ddda3b99d6458884dbe",
    "idx": 0,
    "time": "2021-02-16T02:06:28.358Z",
    "type": "execution"
   },
   {
    "code": "df = pd.read_stata('hall_thompson_replication_files/rd_analysis_hs.dta')\ndf.head()",
    "id": "c2181b991b4f4ed48954fef9232c9273",
    "idx": 1,
    "time": "2021-02-16T02:06:29.225Z",
    "type": "execution"
   },
   {
    "id": "58b6d0658e274ddda3b99d6458884dbe",
    "time": "2021-02-16T02:06:29.564Z",
    "type": "completion"
   },
   {
    "id": "c2181b991b4f4ed48954fef9232c9273",
    "time": "2021-02-16T02:06:30.037Z",
    "type": "completion"
   },
   {
    "code": "model = sm.ols(formula='vote_general ~ vote_general + treat + rv + treat_rv', data=df[abs(df['rv'])<0.1]).fit()\ndisplay(model.summary())",
    "id": "a6c8e7ba59a347ea9ed392b87360515b",
    "idx": 2,
    "time": "2021-02-16T02:06:31.911Z",
    "type": "execution"
   },
   {
    "id": "a6c8e7ba59a347ea9ed392b87360515b",
    "time": "2021-02-16T02:06:32.203Z",
    "type": "completion"
   },
   {
    "code": "#df.assign(\n    #column1 = lambda dataframe: dataframe['column1'].map(lambda : )\n#)",
    "id": "09b1328243e84eb8b6c9a3c186987012",
    "idx": 3,
    "time": "2021-02-16T02:06:47.468Z",
    "type": "execution"
   },
   {
    "id": "09b1328243e84eb8b6c9a3c186987012",
    "time": "2021-02-16T02:06:47.571Z",
    "type": "completion"
   },
   {
    "code": "model2 = sm.ols(formula='turnout_party_share ~ turnout_party_share + treat + rv + treat_rv', data=df[abs(df['rv'])<0.1]).fit()\ndisplay(model2.summary())",
    "id": "8ff60e411a5145b5a120746043fa2120",
    "idx": 4,
    "time": "2021-02-16T02:06:48.829Z",
    "type": "execution"
   },
   {
    "id": "8ff60e411a5145b5a120746043fa2120",
    "time": "2021-02-16T02:06:48.950Z",
    "type": "completion"
   },
   {
    "code": "bin_size_rd = 10\nrd_main = df[['treat', 'turnout_party_share', 'rv']]\nrd_filtered = rd_main[rd_main['turnout_party_share'].notnull()]\nrd_filtered",
    "id": "7eac2ea8f2694c8789f78dd75de3e869",
    "idx": 5,
    "time": "2021-02-16T02:06:49.581Z",
    "type": "execution"
   },
   {
    "id": "7eac2ea8f2694c8789f78dd75de3e869",
    "time": "2021-02-16T02:06:50.007Z",
    "type": "completion"
   },
   {
    "code": "model = sm.ols(formula='vote_general ~ vote_general + treat + rv + treat_rv', data=df[abs(df['rv'])<0.1]).fit(cov_type='cluster')\ndisplay(model.summary())",
    "id": "a6c8e7ba59a347ea9ed392b87360515b",
    "idx": 2,
    "time": "2021-02-16T02:10:58.949Z",
    "type": "execution"
   },
   {
    "id": "a6c8e7ba59a347ea9ed392b87360515b",
    "time": "2021-02-16T02:10:59.315Z",
    "type": "completion"
   },
   {
    "code": "model = sm.ols(formula='vote_general ~ vote_general + treat + rv + treat_rv', data=df[abs(df['rv'])<0.1])\nresult = model.fit(cov_type = 'cluster', cov_kwds={'groups': df['g']})\ndisplay(result.summary())",
    "id": "a6c8e7ba59a347ea9ed392b87360515b",
    "idx": 2,
    "time": "2021-02-16T02:14:10.039Z",
    "type": "execution"
   },
   {
    "id": "a6c8e7ba59a347ea9ed392b87360515b",
    "time": "2021-02-16T02:14:10.306Z",
    "type": "completion"
   },
   {
    "code": "model = sm.ols(formula='vote_general ~ vote_general + treat + rv + treat_rv', data=df)\nresult = model.fit(cov_type = 'cluster', cov_kwds={'groups': df['g']})\ndisplay(result.summary())",
    "id": "a6c8e7ba59a347ea9ed392b87360515b",
    "idx": 2,
    "time": "2021-02-16T02:16:55.124Z",
    "type": "execution"
   },
   {
    "id": "a6c8e7ba59a347ea9ed392b87360515b",
    "time": "2021-02-16T02:16:55.384Z",
    "type": "completion"
   },
   {
    "code": "OLSresult = (result.summary().tables[1])",
    "id": "4662f53eed0444b8a8b9c2f2c8ad848a",
    "idx": 3,
    "time": "2021-02-16T02:19:16.897Z",
    "type": "execution"
   },
   {
    "id": "4662f53eed0444b8a8b9c2f2c8ad848a",
    "time": "2021-02-16T02:19:16.986Z",
    "type": "completion"
   },
   {
    "code": "type(LRresult)",
    "id": "2197137831c144eebd86a99fbb232313",
    "idx": 4,
    "time": "2021-02-16T02:19:17.508Z",
    "type": "execution"
   },
   {
    "id": "2197137831c144eebd86a99fbb232313",
    "time": "2021-02-16T02:19:17.590Z",
    "type": "completion"
   },
   {
    "code": "LRresult = (result.summary().tables[1])",
    "id": "4662f53eed0444b8a8b9c2f2c8ad848a",
    "idx": 3,
    "time": "2021-02-16T02:19:25.154Z",
    "type": "execution"
   },
   {
    "id": "4662f53eed0444b8a8b9c2f2c8ad848a",
    "time": "2021-02-16T02:19:25.234Z",
    "type": "completion"
   },
   {
    "code": "type(LRresult)",
    "id": "2197137831c144eebd86a99fbb232313",
    "idx": 4,
    "time": "2021-02-16T02:19:25.463Z",
    "type": "execution"
   },
   {
    "id": "2197137831c144eebd86a99fbb232313",
    "time": "2021-02-16T02:19:25.543Z",
    "type": "completion"
   },
   {
    "code": "LRresult = (result.summary().tables[1]).head",
    "id": "4662f53eed0444b8a8b9c2f2c8ad848a",
    "idx": 3,
    "time": "2021-02-16T02:19:36.955Z",
    "type": "execution"
   },
   {
    "id": "4662f53eed0444b8a8b9c2f2c8ad848a",
    "time": "2021-02-16T02:19:37.056Z",
    "type": "completion"
   },
   {
    "code": "LRresult = (result.summary().tables[1]).head()",
    "id": "4662f53eed0444b8a8b9c2f2c8ad848a",
    "idx": 3,
    "time": "2021-02-16T02:19:39.733Z",
    "type": "execution"
   },
   {
    "id": "4662f53eed0444b8a8b9c2f2c8ad848a",
    "time": "2021-02-16T02:19:39.868Z",
    "type": "completion"
   },
   {
    "code": "LRresult = (result.summary().tables[1])\n",
    "id": "4662f53eed0444b8a8b9c2f2c8ad848a",
    "idx": 3,
    "time": "2021-02-16T02:19:43.029Z",
    "type": "execution"
   },
   {
    "id": "4662f53eed0444b8a8b9c2f2c8ad848a",
    "time": "2021-02-16T02:19:43.139Z",
    "type": "completion"
   },
   {
    "code": "LRresult = (result.summary().tables[1])",
    "id": "4662f53eed0444b8a8b9c2f2c8ad848a",
    "idx": 3,
    "time": "2021-02-16T02:19:45.733Z",
    "type": "execution"
   },
   {
    "id": "4662f53eed0444b8a8b9c2f2c8ad848a",
    "time": "2021-02-16T02:19:45.862Z",
    "type": "completion"
   },
   {
    "code": "type(LRresult)",
    "id": "2197137831c144eebd86a99fbb232313",
    "idx": 4,
    "time": "2021-02-16T02:19:46.011Z",
    "type": "execution"
   },
   {
    "id": "2197137831c144eebd86a99fbb232313",
    "time": "2021-02-16T02:19:46.100Z",
    "type": "completion"
   },
   {
    "code": "newlist = list(LRresult[LRresult['P>|z|']<=0.05].index)[1:]\nmyform1 = 'binary_Target' + ' ~ ' + ' + '.join(newlist)\n\nM1_test2 = smf.logit(formula=myform1,data=myM1_1)\n\nresult2 = M1_test2.fit(maxiter=200)\nLRresult2 = (result2.summary2().tables[1])\nLRresult2",
    "id": "78fbc36af8774cb888713af61670c38e",
    "idx": 5,
    "time": "2021-02-16T02:20:40.069Z",
    "type": "execution"
   },
   {
    "id": "78fbc36af8774cb888713af61670c38e",
    "time": "2021-02-16T02:20:40.165Z",
    "type": "completion"
   },
   {
    "code": "df",
    "id": "aa90f0f86cf44d4e9de6a761f70de89e",
    "idx": 3,
    "time": "2021-02-16T02:32:13.602Z",
    "type": "execution"
   },
   {
    "id": "aa90f0f86cf44d4e9de6a761f70de89e",
    "time": "2021-02-16T02:32:13.793Z",
    "type": "completion"
   },
   {
    "code": "df[abs(df['rv'])<0.1]",
    "id": "aa90f0f86cf44d4e9de6a761f70de89e",
    "idx": 3,
    "time": "2021-02-16T02:32:23.584Z",
    "type": "execution"
   },
   {
    "id": "aa90f0f86cf44d4e9de6a761f70de89e",
    "time": "2021-02-16T02:32:23.814Z",
    "type": "completion"
   },
   {
    "code": "df[abs(df['rv'])<0.5]",
    "id": "aa90f0f86cf44d4e9de6a761f70de89e",
    "idx": 3,
    "time": "2021-02-16T02:32:28.039Z",
    "type": "execution"
   },
   {
    "id": "aa90f0f86cf44d4e9de6a761f70de89e",
    "time": "2021-02-16T02:32:28.260Z",
    "type": "completion"
   },
   {
    "code": "df[abs(df['rv'])<0.99]",
    "id": "aa90f0f86cf44d4e9de6a761f70de89e",
    "idx": 3,
    "time": "2021-02-16T02:32:38.123Z",
    "type": "execution"
   },
   {
    "id": "aa90f0f86cf44d4e9de6a761f70de89e",
    "time": "2021-02-16T02:32:38.281Z",
    "type": "completion"
   },
   {
    "code": "df[abs(df['rv'])<0.01]",
    "id": "aa90f0f86cf44d4e9de6a761f70de89e",
    "idx": 3,
    "time": "2021-02-16T02:33:25.113Z",
    "type": "execution"
   },
   {
    "id": "aa90f0f86cf44d4e9de6a761f70de89e",
    "time": "2021-02-16T02:33:25.588Z",
    "type": "completion"
   },
   {
    "code": "df[abs(df['rv'])<0.1]",
    "id": "aa90f0f86cf44d4e9de6a761f70de89e",
    "idx": 3,
    "time": "2021-02-16T02:33:31.949Z",
    "type": "execution"
   },
   {
    "id": "aa90f0f86cf44d4e9de6a761f70de89e",
    "time": "2021-02-16T02:33:32.148Z",
    "type": "completion"
   },
   {
    "code": "df[abs(df['rv'])<=0.1]",
    "id": "aa90f0f86cf44d4e9de6a761f70de89e",
    "idx": 3,
    "time": "2021-02-16T02:33:56.603Z",
    "type": "execution"
   },
   {
    "id": "aa90f0f86cf44d4e9de6a761f70de89e",
    "time": "2021-02-16T02:33:56.819Z",
    "type": "completion"
   },
   {
    "code": "model = sm.ols(formula='vote_general ~ vote_general + treat + rv + treat_rv', data=df[abs(df['rv'])<=0.1])\nresult = model.fit(cov_type = 'cluster', cov_kwds={'groups': df['g']})\ndisplay(result.summary())",
    "id": "a6c8e7ba59a347ea9ed392b87360515b",
    "idx": 2,
    "time": "2021-02-16T02:34:20.923Z",
    "type": "execution"
   },
   {
    "id": "a6c8e7ba59a347ea9ed392b87360515b",
    "time": "2021-02-16T02:34:21.119Z",
    "type": "completion"
   },
   {
    "code": "model = sm.ols(formula='vote_general ~ vote_general + treat + rv + treat_rv', data=df)\nresult = model.fit(cov_type = 'cluster', cov_kwds={'groups': df['g']})\ndisplay(result.summary())",
    "id": "a6c8e7ba59a347ea9ed392b87360515b",
    "idx": 2,
    "time": "2021-02-16T02:34:29.682Z",
    "type": "execution"
   },
   {
    "id": "a6c8e7ba59a347ea9ed392b87360515b",
    "time": "2021-02-16T02:34:29.841Z",
    "type": "completion"
   },
   {
    "code": "import pandas as pd\nimport statsmodels.api as sm",
    "id": "58b6d0658e274ddda3b99d6458884dbe",
    "idx": 0,
    "time": "2021-02-16T02:38:31.209Z",
    "type": "execution"
   },
   {
    "id": "58b6d0658e274ddda3b99d6458884dbe",
    "time": "2021-02-16T02:38:31.708Z",
    "type": "completion"
   },
   {
    "code": "df = pd.read_stata('hall_thompson_replication_files/rd_analysis_hs.dta')\ndf.head()",
    "id": "c2181b991b4f4ed48954fef9232c9273",
    "idx": 1,
    "time": "2021-02-16T02:38:32.539Z",
    "type": "execution"
   },
   {
    "id": "c2181b991b4f4ed48954fef9232c9273",
    "time": "2021-02-16T02:38:33.157Z",
    "type": "completion"
   },
   {
    "code": "df['treat', 'rv', 'treat_rv']",
    "id": "4811a4d6427045ba8b319cdcd84299fc",
    "idx": 2,
    "time": "2021-02-16T02:39:46.457Z",
    "type": "execution"
   },
   {
    "id": "4811a4d6427045ba8b319cdcd84299fc",
    "time": "2021-02-16T02:39:46.824Z",
    "type": "completion"
   },
   {
    "code": "df = pd.read_stata('hall_thompson_replication_files/rd_analysis_hs.dta')\ndf.head()",
    "id": "c2181b991b4f4ed48954fef9232c9273",
    "idx": 1,
    "time": "2021-02-16T02:39:51.647Z",
    "type": "execution"
   },
   {
    "id": "c2181b991b4f4ed48954fef9232c9273",
    "time": "2021-02-16T02:39:52.454Z",
    "type": "completion"
   },
   {
    "code": "df['treat']",
    "id": "4811a4d6427045ba8b319cdcd84299fc",
    "idx": 2,
    "time": "2021-02-16T02:39:58.210Z",
    "type": "execution"
   },
   {
    "id": "4811a4d6427045ba8b319cdcd84299fc",
    "time": "2021-02-16T02:39:58.341Z",
    "type": "completion"
   },
   {
    "code": "df['treat']['rv']",
    "id": "4811a4d6427045ba8b319cdcd84299fc",
    "idx": 2,
    "time": "2021-02-16T02:40:07.065Z",
    "type": "execution"
   },
   {
    "id": "4811a4d6427045ba8b319cdcd84299fc",
    "time": "2021-02-16T02:40:07.232Z",
    "type": "completion"
   },
   {
    "code": "df['vote_general']",
    "id": "4811a4d6427045ba8b319cdcd84299fc",
    "idx": 2,
    "time": "2021-02-16T02:40:19.537Z",
    "type": "execution"
   },
   {
    "id": "4811a4d6427045ba8b319cdcd84299fc",
    "time": "2021-02-16T02:40:19.618Z",
    "type": "completion"
   },
   {
    "code": "df.column('vote_general')",
    "id": "4811a4d6427045ba8b319cdcd84299fc",
    "idx": 2,
    "time": "2021-02-16T02:40:30.851Z",
    "type": "execution"
   },
   {
    "id": "4811a4d6427045ba8b319cdcd84299fc",
    "time": "2021-02-16T02:40:30.955Z",
    "type": "completion"
   },
   {
    "code": "df.columns('vote_general')",
    "id": "4811a4d6427045ba8b319cdcd84299fc",
    "idx": 2,
    "time": "2021-02-16T02:40:39.318Z",
    "type": "execution"
   },
   {
    "id": "4811a4d6427045ba8b319cdcd84299fc",
    "time": "2021-02-16T02:40:39.467Z",
    "type": "completion"
   },
   {
    "code": "df",
    "id": "4811a4d6427045ba8b319cdcd84299fc",
    "idx": 2,
    "time": "2021-02-16T02:41:13.636Z",
    "type": "execution"
   },
   {
    "id": "4811a4d6427045ba8b319cdcd84299fc",
    "time": "2021-02-16T02:41:13.859Z",
    "type": "completion"
   },
   {
    "code": "df[['vote_general']]",
    "id": "4811a4d6427045ba8b319cdcd84299fc",
    "idx": 2,
    "time": "2021-02-16T02:41:56.836Z",
    "type": "execution"
   },
   {
    "id": "4811a4d6427045ba8b319cdcd84299fc",
    "time": "2021-02-16T02:41:56.949Z",
    "type": "completion"
   },
   {
    "code": "df[['treat']]",
    "id": "42229b4abdf249fb8561372a3474bd8d",
    "idx": 3,
    "time": "2021-02-16T02:42:08.634Z",
    "type": "execution"
   },
   {
    "id": "42229b4abdf249fb8561372a3474bd8d",
    "time": "2021-02-16T02:42:08.789Z",
    "type": "completion"
   },
   {
    "code": "df[['treat', 'rv']]",
    "id": "42229b4abdf249fb8561372a3474bd8d",
    "idx": 3,
    "time": "2021-02-16T02:42:12.285Z",
    "type": "execution"
   },
   {
    "id": "42229b4abdf249fb8561372a3474bd8d",
    "time": "2021-02-16T02:42:12.365Z",
    "type": "completion"
   },
   {
    "code": "df[['treat', 'rv', 'treat_rv']]",
    "id": "42229b4abdf249fb8561372a3474bd8d",
    "idx": 3,
    "time": "2021-02-16T02:42:17.587Z",
    "type": "execution"
   },
   {
    "id": "42229b4abdf249fb8561372a3474bd8d",
    "time": "2021-02-16T02:42:17.762Z",
    "type": "completion"
   },
   {
    "code": "df[['vote_general']].type()",
    "id": "4811a4d6427045ba8b319cdcd84299fc",
    "idx": 2,
    "time": "2021-02-16T02:42:46.834Z",
    "type": "execution"
   },
   {
    "id": "4811a4d6427045ba8b319cdcd84299fc",
    "time": "2021-02-16T02:42:46.935Z",
    "type": "completion"
   },
   {
    "code": "df[['vote_general']].type",
    "id": "4811a4d6427045ba8b319cdcd84299fc",
    "idx": 2,
    "time": "2021-02-16T02:42:49.867Z",
    "type": "execution"
   },
   {
    "id": "4811a4d6427045ba8b319cdcd84299fc",
    "time": "2021-02-16T02:42:49.986Z",
    "type": "completion"
   },
   {
    "code": "df[['vote_general']]",
    "id": "4811a4d6427045ba8b319cdcd84299fc",
    "idx": 2,
    "time": "2021-02-16T02:42:53.789Z",
    "type": "execution"
   },
   {
    "id": "4811a4d6427045ba8b319cdcd84299fc",
    "time": "2021-02-16T02:42:53.881Z",
    "type": "completion"
   },
   {
    "code": "df[['treat', 'rv', 'treat_rv']]",
    "id": "42229b4abdf249fb8561372a3474bd8d",
    "idx": 3,
    "time": "2021-02-16T02:42:54.320Z",
    "type": "execution"
   },
   {
    "id": "42229b4abdf249fb8561372a3474bd8d",
    "time": "2021-02-16T02:42:54.494Z",
    "type": "completion"
   },
   {
    "code": "np.array(df[['vote_general']])",
    "id": "4811a4d6427045ba8b319cdcd84299fc",
    "idx": 2,
    "time": "2021-02-16T02:43:06.145Z",
    "type": "execution"
   },
   {
    "id": "4811a4d6427045ba8b319cdcd84299fc",
    "time": "2021-02-16T02:43:06.564Z",
    "type": "completion"
   },
   {
    "code": "import pandas as pd\nimport statsmodels.api as sm",
    "id": "58b6d0658e274ddda3b99d6458884dbe",
    "idx": 0,
    "time": "2021-02-16T02:43:13.932Z",
    "type": "execution"
   },
   {
    "id": "58b6d0658e274ddda3b99d6458884dbe",
    "time": "2021-02-16T02:43:14.021Z",
    "type": "completion"
   },
   {
    "code": "df = pd.read_stata('hall_thompson_replication_files/rd_analysis_hs.dta')\ndf.head()",
    "id": "c2181b991b4f4ed48954fef9232c9273",
    "idx": 1,
    "time": "2021-02-16T02:43:14.579Z",
    "type": "execution"
   },
   {
    "id": "c2181b991b4f4ed48954fef9232c9273",
    "time": "2021-02-16T02:43:15.339Z",
    "type": "completion"
   },
   {
    "code": "np.array(df[['vote_general']])",
    "id": "4811a4d6427045ba8b319cdcd84299fc",
    "idx": 2,
    "time": "2021-02-16T02:43:15.362Z",
    "type": "execution"
   },
   {
    "id": "4811a4d6427045ba8b319cdcd84299fc",
    "time": "2021-02-16T02:43:15.442Z",
    "type": "completion"
   },
   {
    "code": "import pandas as pd\nimport numpy as np\nimport statsmodels.api as sm",
    "id": "58b6d0658e274ddda3b99d6458884dbe",
    "idx": 0,
    "time": "2021-02-16T02:43:27.322Z",
    "type": "execution"
   },
   {
    "id": "58b6d0658e274ddda3b99d6458884dbe",
    "time": "2021-02-16T02:43:27.389Z",
    "type": "completion"
   },
   {
    "code": "df = pd.read_stata('hall_thompson_replication_files/rd_analysis_hs.dta')\ndf.head()",
    "id": "c2181b991b4f4ed48954fef9232c9273",
    "idx": 1,
    "time": "2021-02-16T02:43:27.735Z",
    "type": "execution"
   },
   {
    "id": "c2181b991b4f4ed48954fef9232c9273",
    "time": "2021-02-16T02:43:28.240Z",
    "type": "completion"
   },
   {
    "code": "np.array(df[['vote_general']])",
    "id": "4811a4d6427045ba8b319cdcd84299fc",
    "idx": 2,
    "time": "2021-02-16T02:43:29.010Z",
    "type": "execution"
   },
   {
    "id": "4811a4d6427045ba8b319cdcd84299fc",
    "time": "2021-02-16T02:43:29.396Z",
    "type": "completion"
   },
   {
    "code": "np.array(df['vote_general'])",
    "id": "4811a4d6427045ba8b319cdcd84299fc",
    "idx": 2,
    "time": "2021-02-16T02:43:37.551Z",
    "type": "execution"
   },
   {
    "id": "4811a4d6427045ba8b319cdcd84299fc",
    "time": "2021-02-16T02:43:37.697Z",
    "type": "completion"
   },
   {
    "code": "np.array(df[['treat', 'rv', 'treat_rv']])",
    "id": "42229b4abdf249fb8561372a3474bd8d",
    "idx": 3,
    "time": "2021-02-16T02:44:01.947Z",
    "type": "execution"
   },
   {
    "id": "42229b4abdf249fb8561372a3474bd8d",
    "time": "2021-02-16T02:44:02.085Z",
    "type": "completion"
   },
   {
    "code": "model = sm.ols(formula='vote_general ~ vote_general + treat + rv + treat_rv', data=df)\nresult = model.fit(cov_type = 'cluster', cov_kwds={'groups': df['g']})\ndisplay(result.summary())",
    "id": "a6c8e7ba59a347ea9ed392b87360515b",
    "idx": 2,
    "time": "2021-02-16T02:45:34.443Z",
    "type": "execution"
   },
   {
    "id": "a6c8e7ba59a347ea9ed392b87360515b",
    "time": "2021-02-16T02:45:34.580Z",
    "type": "completion"
   },
   {
    "code": "import pandas as pd\nimport numpy as np\nimport statsmodels.api as sm",
    "id": "58b6d0658e274ddda3b99d6458884dbe",
    "idx": 0,
    "time": "2021-02-16T02:45:36.855Z",
    "type": "execution"
   },
   {
    "id": "58b6d0658e274ddda3b99d6458884dbe",
    "time": "2021-02-16T02:45:36.922Z",
    "type": "completion"
   },
   {
    "code": "df = pd.read_stata('hall_thompson_replication_files/rd_analysis_hs.dta')\ndf.head()",
    "id": "c2181b991b4f4ed48954fef9232c9273",
    "idx": 1,
    "time": "2021-02-16T02:45:37.289Z",
    "type": "execution"
   },
   {
    "code": "model = sm.ols(formula='vote_general ~ vote_general + treat + rv + treat_rv', data=df)\nresult = model.fit(cov_type = 'cluster', cov_kwds={'groups': df['g']})\ndisplay(result.summary())",
    "id": "a6c8e7ba59a347ea9ed392b87360515b",
    "idx": 2,
    "time": "2021-02-16T02:45:37.852Z",
    "type": "execution"
   },
   {
    "id": "c2181b991b4f4ed48954fef9232c9273",
    "time": "2021-02-16T02:45:37.906Z",
    "type": "completion"
   },
   {
    "id": "a6c8e7ba59a347ea9ed392b87360515b",
    "time": "2021-02-16T02:45:37.952Z",
    "type": "completion"
   },
   {
    "code": "df[abs(df['rv'])<=0.1]",
    "id": "aa90f0f86cf44d4e9de6a761f70de89e",
    "idx": 3,
    "time": "2021-02-16T02:45:38.441Z",
    "type": "execution"
   },
   {
    "id": "aa90f0f86cf44d4e9de6a761f70de89e",
    "time": "2021-02-16T02:45:38.642Z",
    "type": "completion"
   },
   {
    "code": "import pandas as pd\nimport numpy as np\nimport statsmodels.formula.api as sm",
    "id": "58b6d0658e274ddda3b99d6458884dbe",
    "idx": 0,
    "time": "2021-02-16T02:45:51.821Z",
    "type": "execution"
   },
   {
    "id": "58b6d0658e274ddda3b99d6458884dbe",
    "time": "2021-02-16T02:45:51.895Z",
    "type": "completion"
   },
   {
    "code": "df = pd.read_stata('hall_thompson_replication_files/rd_analysis_hs.dta')\ndf.head()",
    "id": "c2181b991b4f4ed48954fef9232c9273",
    "idx": 1,
    "time": "2021-02-16T02:45:52.094Z",
    "type": "execution"
   },
   {
    "code": "model = sm.ols(formula='vote_general ~ vote_general + treat + rv + treat_rv', data=df)\nresult = model.fit(cov_type = 'cluster', cov_kwds={'groups': df['g']})\ndisplay(result.summary())",
    "id": "a6c8e7ba59a347ea9ed392b87360515b",
    "idx": 2,
    "time": "2021-02-16T02:45:52.417Z",
    "type": "execution"
   },
   {
    "id": "c2181b991b4f4ed48954fef9232c9273",
    "time": "2021-02-16T02:45:52.601Z",
    "type": "completion"
   },
   {
    "id": "a6c8e7ba59a347ea9ed392b87360515b",
    "time": "2021-02-16T02:45:52.702Z",
    "type": "completion"
   },
   {
    "code": "df[abs(df['rv'])<=0.1]",
    "id": "aa90f0f86cf44d4e9de6a761f70de89e",
    "idx": 3,
    "time": "2021-02-16T02:45:53.051Z",
    "type": "execution"
   },
   {
    "id": "aa90f0f86cf44d4e9de6a761f70de89e",
    "time": "2021-02-16T02:45:53.465Z",
    "type": "completion"
   },
   {
    "code": "import pandas as pd\nimport numpy as np\nimport statsmodels.formula.api as sm",
    "id": "58b6d0658e274ddda3b99d6458884dbe",
    "idx": 0,
    "time": "2021-02-16T02:46:04.069Z",
    "type": "execution"
   },
   {
    "id": "58b6d0658e274ddda3b99d6458884dbe",
    "time": "2021-02-16T02:46:04.215Z",
    "type": "completion"
   },
   {
    "code": "df = pd.read_stata('hall_thompson_replication_files/rd_analysis_hs.dta')\ndf.head()",
    "id": "c2181b991b4f4ed48954fef9232c9273",
    "idx": 1,
    "time": "2021-02-16T02:46:04.281Z",
    "type": "execution"
   },
   {
    "code": "model = sm.ols(formula='vote_general ~ vote_general + treat + rv + treat_rv', data=df)\nresult = model.fit(cov_type = 'cluster', cov_kwds={'groups': df['g']})\ndisplay(result.summary())",
    "id": "a6c8e7ba59a347ea9ed392b87360515b",
    "idx": 2,
    "time": "2021-02-16T02:46:04.513Z",
    "type": "execution"
   },
   {
    "id": "c2181b991b4f4ed48954fef9232c9273",
    "time": "2021-02-16T02:46:04.767Z",
    "type": "completion"
   },
   {
    "id": "a6c8e7ba59a347ea9ed392b87360515b",
    "time": "2021-02-16T02:46:04.797Z",
    "type": "completion"
   },
   {
    "code": "import pandas as pd\nimport statsmodels.formula.api as sm",
    "id": "58b6d0658e274ddda3b99d6458884dbe",
    "idx": 0,
    "time": "2021-02-16T02:51:25.760Z",
    "type": "execution"
   },
   {
    "id": "58b6d0658e274ddda3b99d6458884dbe",
    "time": "2021-02-16T02:51:25.920Z",
    "type": "completion"
   },
   {
    "code": "df = pd.read_stata('hall_thompson_replication_files/rd_analysis_hs.dta')\ndf.head()",
    "id": "c2181b991b4f4ed48954fef9232c9273",
    "idx": 1,
    "time": "2021-02-16T02:51:26.214Z",
    "type": "execution"
   },
   {
    "id": "c2181b991b4f4ed48954fef9232c9273",
    "time": "2021-02-16T02:51:26.691Z",
    "type": "completion"
   },
   {
    "code": "model = sm.ols(formula='vote_general ~ vote_general + treat + rv + treat_rv', data=df)\nresult = model.fit(cov_type = 'cluster', cov_kwds={'groups': df['g']})\ndisplay(result.summary())",
    "id": "a6c8e7ba59a347ea9ed392b87360515b",
    "idx": 2,
    "time": "2021-02-16T02:51:26.791Z",
    "type": "execution"
   },
   {
    "id": "a6c8e7ba59a347ea9ed392b87360515b",
    "time": "2021-02-16T02:51:26.926Z",
    "type": "completion"
   },
   {
    "code": "t1_df = ",
    "id": "47d189eaf8ee4c6c831906d5a86bb91d",
    "idx": 3,
    "time": "2021-02-16T02:51:28.249Z",
    "type": "execution"
   },
   {
    "id": "47d189eaf8ee4c6c831906d5a86bb91d",
    "time": "2021-02-16T02:51:28.323Z",
    "type": "completion"
   },
   {
    "code": "t1_df = pd.Dataframe()",
    "id": "47d189eaf8ee4c6c831906d5a86bb91d",
    "idx": 3,
    "time": "2021-02-16T02:51:35.052Z",
    "type": "execution"
   },
   {
    "id": "47d189eaf8ee4c6c831906d5a86bb91d",
    "time": "2021-02-16T02:51:35.184Z",
    "type": "completion"
   },
   {
    "code": "t1_df = pd.DataFrame()",
    "id": "47d189eaf8ee4c6c831906d5a86bb91d",
    "idx": 3,
    "time": "2021-02-16T02:51:46.650Z",
    "type": "execution"
   },
   {
    "id": "47d189eaf8ee4c6c831906d5a86bb91d",
    "time": "2021-02-16T02:51:53.557Z",
    "type": "completion"
   },
   {
    "code": "t1_df = pd.DataFrame()\n\nt1_df.head()",
    "id": "47d189eaf8ee4c6c831906d5a86bb91d",
    "idx": 3,
    "time": "2021-02-16T02:54:43.080Z",
    "type": "execution"
   },
   {
    "id": "47d189eaf8ee4c6c831906d5a86bb91d",
    "time": "2021-02-16T02:54:43.370Z",
    "type": "completion"
   },
   {
    "code": "model = sm.ols(formula='vote_general ~ vote_general, treat, rv, treat_rv', data=df)\nresult = model.fit(cov_type = 'cluster', cov_kwds={'groups': df['g']})\ndisplay(result.summary())",
    "id": "a6c8e7ba59a347ea9ed392b87360515b",
    "idx": 2,
    "time": "2021-02-16T02:58:38.661Z",
    "type": "execution"
   },
   {
    "id": "a6c8e7ba59a347ea9ed392b87360515b",
    "time": "2021-02-16T02:58:39.355Z",
    "type": "completion"
   },
   {
    "code": "model = sm.ols(formula='vote_general ~ vote_general + treat + rv + treat_rv', data=df)\nresult = model.fit(cov_type = 'cluster', cov_kwds={'groups': df['g']})\ndisplay(result.summary())",
    "id": "a6c8e7ba59a347ea9ed392b87360515b",
    "idx": 2,
    "time": "2021-02-16T02:58:45.955Z",
    "type": "execution"
   },
   {
    "id": "a6c8e7ba59a347ea9ed392b87360515b",
    "time": "2021-02-16T02:58:46.122Z",
    "type": "completion"
   },
   {
    "code": "t1_df = pd.DataFrame()\n\nt1_df.head()",
    "id": "47d189eaf8ee4c6c831906d5a86bb91d",
    "idx": 3,
    "time": "2021-02-16T02:58:46.773Z",
    "type": "execution"
   },
   {
    "id": "47d189eaf8ee4c6c831906d5a86bb91d",
    "time": "2021-02-16T02:58:46.858Z",
    "type": "completion"
   },
   {
    "code": "t1_df = pd.concat([t1_df, pd.DataFrame(columns=list('f'))])\nt1_df.head()",
    "id": "47d189eaf8ee4c6c831906d5a86bb91d",
    "idx": 4,
    "time": "2021-02-16T03:16:04.910Z",
    "type": "execution"
   },
   {
    "id": "47d189eaf8ee4c6c831906d5a86bb91d",
    "time": "2021-02-16T03:16:05.068Z",
    "type": "completion"
   },
   {
    "code": "t1_df = pd.concat([t1_df, pd.DataFrame(columns=list('c1'))])\nt1_df.head()",
    "id": "47d189eaf8ee4c6c831906d5a86bb91d",
    "idx": 4,
    "time": "2021-02-16T03:16:10.451Z",
    "type": "execution"
   },
   {
    "id": "47d189eaf8ee4c6c831906d5a86bb91d",
    "time": "2021-02-16T03:16:10.567Z",
    "type": "completion"
   },
   {
    "code": "t1_df = pd.concat([t1_df, pd.DataFrame(columns=list('c1'))])\nt1_df.head()",
    "id": "47d189eaf8ee4c6c831906d5a86bb91d",
    "idx": 4,
    "time": "2021-02-16T03:16:14.718Z",
    "type": "execution"
   },
   {
    "id": "47d189eaf8ee4c6c831906d5a86bb91d",
    "time": "2021-02-16T03:16:14.832Z",
    "type": "completion"
   },
   {
    "code": "t1_df = pd.DataFrame()\nt1_df.head()",
    "id": "47d189eaf8ee4c6c831906d5a86bb91d",
    "idx": 4,
    "time": "2021-02-16T03:18:54.512Z",
    "type": "execution"
   },
   {
    "id": "47d189eaf8ee4c6c831906d5a86bb91d",
    "time": "2021-02-16T03:18:54.706Z",
    "type": "completion"
   },
   {
    "code": "t1_df = pd.DataFrame().assign({'c1': df.apply(lambda vote_general: vote_general ** 2)})\n\nt1_df.head()",
    "id": "47d189eaf8ee4c6c831906d5a86bb91d",
    "idx": 4,
    "time": "2021-02-16T03:20:56.182Z",
    "type": "execution"
   },
   {
    "id": "47d189eaf8ee4c6c831906d5a86bb91d",
    "time": "2021-02-16T03:20:56.871Z",
    "type": "completion"
   },
   {
    "code": "t1_df = pd.DataFrame().assign({'c1': df.apply(lambda vote_general: vote_general)})\n\nt1_df.head()",
    "id": "47d189eaf8ee4c6c831906d5a86bb91d",
    "idx": 4,
    "time": "2021-02-16T03:21:06.486Z",
    "type": "execution"
   },
   {
    "id": "47d189eaf8ee4c6c831906d5a86bb91d",
    "time": "2021-02-16T03:21:06.658Z",
    "type": "completion"
   },
   {
    "code": "t1_df = pd.DataFrame()\nt1_df.head()",
    "id": "47d189eaf8ee4c6c831906d5a86bb91d",
    "idx": 4,
    "time": "2021-02-16T03:21:57.675Z",
    "type": "execution"
   },
   {
    "id": "47d189eaf8ee4c6c831906d5a86bb91d",
    "time": "2021-02-16T03:21:57.792Z",
    "type": "completion"
   },
   {
    "code": "result.summary()",
    "id": "220aec0ba9174ab59a8e72c5641f23cf",
    "idx": 4,
    "time": "2021-02-16T03:31:26.683Z",
    "type": "execution"
   },
   {
    "id": "220aec0ba9174ab59a8e72c5641f23cf",
    "time": "2021-02-16T03:31:26.859Z",
    "type": "completion"
   },
   {
    "code": "model = sm.ols(formula='vote_general ~ vote_general + treat + rv + treat_rv', data=df)\nresult = model.fit(cov_type = 'cluster', cov_kwds={'groups': df['g']})\nresult.summary()",
    "id": "a6c8e7ba59a347ea9ed392b87360515b",
    "idx": 2,
    "time": "2021-02-16T03:31:54.539Z",
    "type": "execution"
   },
   {
    "id": "a6c8e7ba59a347ea9ed392b87360515b",
    "time": "2021-02-16T03:31:54.756Z",
    "type": "completion"
   },
   {
    "code": "result.summary()['coef']",
    "id": "77d88ed51b774a55884c4f7e5c23f1a4",
    "idx": 4,
    "time": "2021-02-16T03:32:12.695Z",
    "type": "execution"
   },
   {
    "id": "77d88ed51b774a55884c4f7e5c23f1a4",
    "time": "2021-02-16T03:32:12.866Z",
    "type": "completion"
   },
   {
    "code": "result.summary['coef']",
    "id": "77d88ed51b774a55884c4f7e5c23f1a4",
    "idx": 4,
    "time": "2021-02-16T03:32:17.092Z",
    "type": "execution"
   },
   {
    "id": "77d88ed51b774a55884c4f7e5c23f1a4",
    "time": "2021-02-16T03:32:17.219Z",
    "type": "completion"
   },
   {
    "code": "result['coef']",
    "id": "77d88ed51b774a55884c4f7e5c23f1a4",
    "idx": 4,
    "time": "2021-02-16T03:32:19.971Z",
    "type": "execution"
   },
   {
    "id": "77d88ed51b774a55884c4f7e5c23f1a4",
    "time": "2021-02-16T03:32:21.373Z",
    "type": "completion"
   },
   {
    "code": "model = sm.ols(formula='vote_general ~ vote_general + treat + rv + treat_rv', data=df)\nresult = model.fit(cov_type = 'cluster', cov_kwds={'groups': df['g']})\nresult.summary()\nresult.params",
    "id": "a6c8e7ba59a347ea9ed392b87360515b",
    "idx": 2,
    "time": "2021-02-16T03:45:47.509Z",
    "type": "execution"
   },
   {
    "id": "a6c8e7ba59a347ea9ed392b87360515b",
    "time": "2021-02-16T03:45:47.675Z",
    "type": "completion"
   },
   {
    "code": "model = sm.ols(formula='vote_general ~ vote_general + treat + rv + treat_rv', data=df)\nresult = model.fit(cov_type = 'cluster', cov_kwds={'groups': df['g']})\nresult.summary()",
    "id": "a6c8e7ba59a347ea9ed392b87360515b",
    "idx": 2,
    "time": "2021-02-16T03:45:57.669Z",
    "type": "execution"
   },
   {
    "id": "a6c8e7ba59a347ea9ed392b87360515b",
    "time": "2021-02-16T03:45:57.825Z",
    "type": "completion"
   },
   {
    "code": "result.params",
    "id": "9b866b1de63245f7855991774c8f2024",
    "idx": 3,
    "time": "2021-02-16T03:46:12.507Z",
    "type": "execution"
   },
   {
    "id": "9b866b1de63245f7855991774c8f2024",
    "time": "2021-02-16T03:46:12.596Z",
    "type": "completion"
   },
   {
    "code": "fig = plt.figure()\n",
    "id": "47d189eaf8ee4c6c831906d5a86bb91d",
    "idx": 4,
    "time": "2021-02-16T04:01:28.923Z",
    "type": "execution"
   },
   {
    "id": "47d189eaf8ee4c6c831906d5a86bb91d",
    "time": "2021-02-16T04:01:29.077Z",
    "type": "completion"
   },
   {
    "code": "import pandas as pd\nimport statsmodels.formula.api as sm\nimport matplotlib.pyplot as plt ",
    "id": "58b6d0658e274ddda3b99d6458884dbe",
    "idx": 0,
    "time": "2021-02-16T04:01:32.835Z",
    "type": "execution"
   },
   {
    "code": "df = pd.read_stata('hall_thompson_replication_files/rd_analysis_hs.dta')\ndf.head()",
    "id": "c2181b991b4f4ed48954fef9232c9273",
    "idx": 1,
    "time": "2021-02-16T04:01:33.148Z",
    "type": "execution"
   },
   {
    "id": "58b6d0658e274ddda3b99d6458884dbe",
    "time": "2021-02-16T04:01:33.307Z",
    "type": "completion"
   },
   {
    "code": "model = sm.ols(formula='vote_general ~ vote_general + treat + rv + treat_rv', data=df)\nresult = model.fit(cov_type = 'cluster', cov_kwds={'groups': df['g']})\nresult.summary()",
    "id": "a6c8e7ba59a347ea9ed392b87360515b",
    "idx": 2,
    "time": "2021-02-16T04:01:33.456Z",
    "type": "execution"
   },
   {
    "code": "result.params",
    "id": "9b866b1de63245f7855991774c8f2024",
    "idx": 3,
    "time": "2021-02-16T04:01:33.804Z",
    "type": "execution"
   },
   {
    "id": "c2181b991b4f4ed48954fef9232c9273",
    "time": "2021-02-16T04:01:33.950Z",
    "type": "completion"
   },
   {
    "id": "a6c8e7ba59a347ea9ed392b87360515b",
    "time": "2021-02-16T04:01:33.970Z",
    "type": "completion"
   },
   {
    "id": "9b866b1de63245f7855991774c8f2024",
    "time": "2021-02-16T04:01:34.025Z",
    "type": "completion"
   },
   {
    "code": "fig = plt.figure()\n",
    "id": "47d189eaf8ee4c6c831906d5a86bb91d",
    "idx": 4,
    "time": "2021-02-16T04:01:34.856Z",
    "type": "execution"
   },
   {
    "id": "47d189eaf8ee4c6c831906d5a86bb91d",
    "time": "2021-02-16T04:01:34.938Z",
    "type": "completion"
   },
   {
    "code": "fig = plt.figure()\nax = fig.add_subplot(111, projection='3d')\n",
    "id": "47d189eaf8ee4c6c831906d5a86bb91d",
    "idx": 4,
    "time": "2021-02-16T04:01:42.324Z",
    "type": "execution"
   },
   {
    "id": "47d189eaf8ee4c6c831906d5a86bb91d",
    "time": "2021-02-16T04:01:42.870Z",
    "type": "completion"
   },
   {
    "code": "fig = plt.figure()\nax = fig.add_subplot(111, projection='2d')\n",
    "id": "47d189eaf8ee4c6c831906d5a86bb91d",
    "idx": 4,
    "time": "2021-02-16T04:01:58.334Z",
    "type": "execution"
   },
   {
    "id": "47d189eaf8ee4c6c831906d5a86bb91d",
    "time": "2021-02-16T04:01:58.574Z",
    "type": "completion"
   },
   {
    "code": "fig = plt.figure()\nax = fig.add_subplot(111, projection='3d')\n",
    "id": "47d189eaf8ee4c6c831906d5a86bb91d",
    "idx": 4,
    "time": "2021-02-16T04:02:01.299Z",
    "type": "execution"
   },
   {
    "id": "47d189eaf8ee4c6c831906d5a86bb91d",
    "time": "2021-02-16T04:02:01.819Z",
    "type": "completion"
   },
   {
    "code": "fig = plt.figure()\nax = fig.add_subplot(111, projection='3d')\nax.scatter(df['vote_general'], df ['treat'], df['rv'], c='red', marker='o', alpha=0.5)\n",
    "id": "47d189eaf8ee4c6c831906d5a86bb91d",
    "idx": 4,
    "time": "2021-02-16T04:02:45.998Z",
    "type": "execution"
   },
   {
    "id": "47d189eaf8ee4c6c831906d5a86bb91d",
    "time": "2021-02-16T04:02:46.592Z",
    "type": "completion"
   }
  ],
  "kernelspec": {
   "display_name": "Python 3",
   "language": "python",
   "name": "python3"
  },
  "language_info": {
   "codemirror_mode": {
    "name": "ipython",
    "version": 3
   },
   "file_extension": ".py",
   "mimetype": "text/x-python",
   "name": "python",
   "nbconvert_exporter": "python",
   "pygments_lexer": "ipython3",
   "version": "3.8.8"
  }
 },
 "nbformat": 4,
 "nbformat_minor": 4
}
