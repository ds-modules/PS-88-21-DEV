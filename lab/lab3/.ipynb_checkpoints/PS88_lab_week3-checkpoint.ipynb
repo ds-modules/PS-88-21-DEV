{
 "cells": [
  {
   "cell_type": "markdown",
   "metadata": {},
   "source": [
    "```\n",
    "BEGIN ASSIGNMENT\n",
    "solutions_pdf: true\n",
    "requirements: requirements.txt\n",
    "export_cell:\n",
    "    instructions: \"These are some submission instructions.\"\n",
    "generate: \n",
    "    pdf: true\n",
    "    zips: false\n",
    "    seed: 88\n",
    "```"
   ]
  },
  {
   "cell_type": "markdown",
   "metadata": {},
   "source": [
    "# PS 88 Week 3 Lab: Simulations and Pivotal Voters"
   ]
  },
  {
   "cell_type": "code",
   "execution_count": 1,
   "metadata": {},
   "outputs": [],
   "source": [
    "import numpy as np\n",
    "import pandas as pd\n",
    "import matplotlib.pyplot as plt\n",
    "import seaborn as sns\n",
    "from datascience import Table\n",
    "from ipywidgets import interact\n",
    "%matplotlib inline\n"
   ]
  },
  {
   "cell_type": "markdown",
   "metadata": {},
   "source": [
    "## Part 1: Plotting expected utility\n",
    "\n",
    "We can use Python to do expected utility calculations and explore the relationship between parameters in decision models and optimal choices. \n",
    "\n",
    "In class we showed that the expected utility for voting for a preferred candidate can be written $p_1 b - c$. A nice way to do calculations like this is to first assign values to the variables:"
   ]
  },
  {
   "cell_type": "code",
   "execution_count": 2,
   "metadata": {},
   "outputs": [
    {
     "data": {
      "text/plain": [
       "58.0"
      ]
     },
     "execution_count": 2,
     "metadata": {},
     "output_type": "execute_result"
    }
   ],
   "source": [
    "p1=.6\n",
    "b=100\n",
    "c=2\n",
    "p1*b-c"
   ]
  },
  {
   "cell_type": "markdown",
   "metadata": {},
   "source": [
    "**Question 1.1. Write code to compute the expected utility to voting when $p_1 = .5$, $b=50$, and $c=.5$ **"
   ]
  },
  {
   "cell_type": "code",
   "execution_count": 3,
   "metadata": {},
   "outputs": [
    {
     "data": {
      "text/plain": [
       "24.5"
      ]
     },
     "execution_count": 3,
     "metadata": {},
     "output_type": "execute_result"
    }
   ],
   "source": [
    "#Answer to 1.1 here\n",
    "p1=.5\n",
    "b=50\n",
    "c=.5\n",
    "p1*b-c"
   ]
  },
  {
   "cell_type": "markdown",
   "metadata": {},
   "source": [
    "We don't necessarily care about these expected utilities on their own, but how they compare to the expected utility to abstaining. \n",
    "\n",
    "**Question 1.2. If $b=50$ and $p_0 = .48$, write code to compute the expected utility to abstaining.**"
   ]
  },
  {
   "cell_type": "code",
   "execution_count": 4,
   "metadata": {},
   "outputs": [
    {
     "data": {
      "text/plain": [
       "24.0"
      ]
     },
     "execution_count": 4,
     "metadata": {},
     "output_type": "execute_result"
    }
   ],
   "source": [
    "# Code for 1.2 here\n",
    "p0=.48\n",
    "b=50\n",
    "p0*b"
   ]
  },
  {
   "cell_type": "markdown",
   "metadata": {},
   "source": [
    "**Question 1.3. Given 1.1 and 1.2, is voting the expected utility maximizing choice given given these parameters?**"
   ]
  },
  {
   "cell_type": "markdown",
   "metadata": {},
   "source": [
    "Answer to 1.3 here"
   ]
  },
  {
   "cell_type": "markdown",
   "metadata": {},
   "source": [
    "We can also use the graphic capabilities of Python to learn more about how these models work. "
   ]
  },
  {
   "cell_type": "code",
   "execution_count": null,
   "metadata": {},
   "outputs": [],
   "source": []
  },
  {
   "cell_type": "code",
   "execution_count": 5,
   "metadata": {},
   "outputs": [
    {
     "data": {
      "text/plain": [
       "<matplotlib.collections.LineCollection at 0x7f13d079a2e0>"
      ]
     },
     "execution_count": 5,
     "metadata": {},
     "output_type": "execute_result"
    },
    {
     "data": {
      "image/png": "[encoded data removed]",
      "text/plain": [
       "<Figure size 432x288 with 1 Axes>"
      ]
     },
     "metadata": {
      "needs_background": "light"
     },
     "output_type": "display_data"
    }
   ],
   "source": [
    "plt.hlines(p0*b, 0,1, label='Abstaining Utility')"
   ]
  },
  {
   "cell_type": "code",
   "execution_count": 6,
   "metadata": {},
   "outputs": [
    {
     "data": {
      "application/vnd.jupyter.widget-view+json": {
       "model_id": "7008bfcb03a94ed6915efff000fbc2d1",
       "version_major": 2,
       "version_minor": 0
      },
      "text/plain": [
       "interactive(children=(IntSlider(value=100, description='b', max=300), Output()), _dom_classes=('widget-interac…"
      ]
     },
     "metadata": {},
     "output_type": "display_data"
    },
    {
     "data": {
      "text/plain": [
       "<function __main__.plotEU(b)>"
      ]
     },
     "execution_count": 6,
     "metadata": {},
     "output_type": "execute_result"
    }
   ],
   "source": [
    "import matplotlib.pyplot as plt\n",
    "import numpy as np\n",
    "from ipywidgets import interact, IntSlider, FloatSlider\n",
    "def plotEU(b):\n",
    "    plt.hlines(p0*b, 0,2, label='Abstaining Utility')\n",
    "    c = np.arange(0,2, step=.01)\n",
    "    y = p1*b-c\n",
    "    plt.ticklabel_format(style='plain')\n",
    "    plt.xticks(rotation=45)\n",
    "    plt.plot(c,y, label='Voting Expected Utility')\n",
    "#    plt.vlines(no_lobbying+1e7-1e5*p, -2e7, 0, linestyles=\"dashed\")\n",
    "    plt.xlabel('Voting Cost')\n",
    "    plt.ylabel('Expected Utility')\n",
    "    plt.legend()\n",
    "interact(plotEU, b=IntSlider(min=0,max=300, value=100))"
   ]
  },
  {
   "cell_type": "markdown",
   "metadata": {},
   "source": [
    "## Part 2: Simulating votes"
   ]
  },
  {
   "cell_type": "markdown",
   "metadata": {},
   "source": [
    "How can we estimate the probability of a vote mattering? One route is to use probability theory, which in realistic settings (like the electoral college in the US) requires lots of complicated mathematical manipulation. Another way, which will often be faster and uses the tools you are learning in Data 8, is to run simulations."
   ]
  },
  {
   "cell_type": "markdown",
   "metadata": {},
   "source": [
    "As we will see throughout the class, simulation is an incredibly powerful tool that can be used for many purposes. For example, later in the class we will use simulation to see how different causal processes can produce similar data.\n",
    "\n",
    "For now, we are going to use simulation to simulate the probability a vote matters. The general idea is simple. We will create a large number of \"fake electorates\" with parameters and randomness that we control, and then see how often an individual vote matters in these simulations. "
   ]
  },
  {
   "cell_type": "markdown",
   "metadata": {},
   "source": [
    "Before we get to voting, let's do a simple exercise as warmup. Suppose we want to simulate flipping a coin 10 times. To do this we can use the `random.binomial` function from `numpy` (imported above as `np`). This function takes two arguments: the number of flips (`n`) and the probability that a flip is \"heads\" (`p`). More generally, we often call $n$ the number of \"trials\" and $p$ the probability of \"success\".\n",
    "\n",
    "The following line of code simulates flipping a \"fair\" (i.e., $p=.5$) coin 10 times. Run it a few times."
   ]
  },
  {
   "cell_type": "code",
   "execution_count": 7,
   "metadata": {},
   "outputs": [
    {
     "data": {
      "text/plain": [
       "6"
      ]
     },
     "execution_count": 7,
     "metadata": {},
     "output_type": "execute_result"
    }
   ],
   "source": [
    "# First number argument is the number of times to flip, the second is the probability of a \"heads\"\n",
    "np.random.binomial(n=10, p=.5)"
   ]
  },
  {
   "cell_type": "markdown",
   "metadata": {},
   "source": [
    "We can simulate 100 coin flips at a time by changing the `n` argument to 100:"
   ]
  },
  {
   "cell_type": "code",
   "execution_count": 8,
   "metadata": {},
   "outputs": [
    {
     "data": {
      "text/plain": [
       "55"
      ]
     },
     "execution_count": 8,
     "metadata": {},
     "output_type": "execute_result"
    }
   ],
   "source": [
    "np.random.binomial(n=100, p=.5)"
   ]
  },
  {
   "cell_type": "markdown",
   "metadata": {},
   "source": [
    "In the 2020 election, about 158.4 million people voted. This is a big number to have to keep typing, so let's define a variable: "
   ]
  },
  {
   "cell_type": "code",
   "execution_count": 9,
   "metadata": {},
   "outputs": [],
   "source": [
    "voters2020 = 158400000"
   ]
  },
  {
   "cell_type": "markdown",
   "metadata": {},
   "source": [
    "**Question 2a. Write a line of code to simulate 158.4 million people flipping a coin and counting how many heads there are.**\n",
    "```\n",
    "BEGIN QUESTION\n",
    "name: q2a\n",
    "```"
   ]
  },
  {
   "cell_type": "code",
   "execution_count": 10,
   "metadata": {},
   "outputs": [],
   "source": [
    "## Ignore ##\n",
    "np.random.seed(88)"
   ]
  },
  {
   "cell_type": "code",
   "execution_count": 11,
   "metadata": {},
   "outputs": [
    {
     "data": {
      "text/plain": [
       "79204833"
      ]
     },
     "execution_count": 11,
     "metadata": {},
     "output_type": "execute_result"
    }
   ],
   "source": [
    "# Code for 2a here\n",
    "sim = np.random.binomial(n=voters2020, p=.5) #SOLUTION\n",
    "sim"
   ]
  },
  {
   "cell_type": "code",
   "execution_count": 12,
   "metadata": {},
   "outputs": [
    {
     "data": {
      "text/plain": [
       "True"
      ]
     },
     "execution_count": 12,
     "metadata": {},
     "output_type": "execute_result"
    }
   ],
   "source": [
    "## Test ##\n",
    "0 <= sim <= voters2020"
   ]
  },
  {
   "cell_type": "code",
   "execution_count": 13,
   "metadata": {},
   "outputs": [
    {
     "data": {
      "text/plain": [
       "True"
      ]
     },
     "execution_count": 13,
     "metadata": {},
     "output_type": "execute_result"
    }
   ],
   "source": [
    "## Hidden Test ##\n",
    "np.random.seed(88)\n",
    "sim == np.random.binomial(n=voters2020, p=.5)"
   ]
  },
  {
   "cell_type": "markdown",
   "metadata": {},
   "source": [
    "Of course, we don't care about coin flipping per se, but we can think about this as the number of \"yes\" votes if we have n people who vote for a candidate with probability $p$. In the 2020 election, about 51.3% of the voters voted fro Joe Biden. Let's do a simulated version of the election: by running `np.random.binomial` with 160 million trials and a probability of \"success\" of 51.3%. \n",
    "\n",
    "**Question 2b. Write code for this trial**\n",
    "```\n",
    "BEGIN QUESTION\n",
    "name: q2b\n",
    "```"
   ]
  },
  {
   "cell_type": "code",
   "execution_count": 14,
   "metadata": {},
   "outputs": [],
   "source": [
    "## Ignore ##\n",
    "np.random.seed(88)"
   ]
  },
  {
   "cell_type": "code",
   "execution_count": 15,
   "metadata": {},
   "outputs": [
    {
     "data": {
      "text/plain": [
       "81254368"
      ]
     },
     "execution_count": 15,
     "metadata": {},
     "output_type": "execute_result"
    }
   ],
   "source": [
    "# Code for 2b\n",
    "joe_count = np.random.binomial(n=voters2020, p=.513) #SOLUTION\n",
    "joe_count"
   ]
  },
  {
   "cell_type": "code",
   "execution_count": 16,
   "metadata": {},
   "outputs": [],
   "source": [
    "## Test ##\n",
    "assert 0 <= joe_count <= voters2020"
   ]
  },
  {
   "cell_type": "code",
   "execution_count": 17,
   "metadata": {},
   "outputs": [],
   "source": [
    "## Hidden Test ##\n",
    "np.random.seed(88)\n",
    "assert joe_count == np.random.binomial(n=voters2020, p=.513)"
   ]
  },
  {
   "cell_type": "markdown",
   "metadata": {},
   "source": [
    "In reality, Biden won 81.3 million votes. \n",
    "\n",
    "**Question 2c. How close was your answer to the real election? Compare this to the cases where you flipped 10 coins at a time.**\n",
    "```\n",
    "BEGIN QUESTION\n",
    "name: q2c\n",
    "manual: true\n",
    "```\n"
   ]
  },
  {
   "cell_type": "markdown",
   "metadata": {},
   "source": [
    "**SOLUTION**: Answer to 2c here"
   ]
  },
  {
   "cell_type": "markdown",
   "metadata": {},
   "source": [
    "## Part 3. Pivotal votes."
   ]
  },
  {
   "cell_type": "markdown",
   "metadata": {},
   "source": [
    "Suppose that you are a voter in a population with 10 people who are equally likely to vote for candidate A or candidate B, and you prefer candidate A. If you turn out to vote, you will be pivotal if the other 10 are split evenly between the two candidates. How often will this happen?\n",
    "\n",
    "We can answer this question by running a whole bunch of simulations where we effectively flip 10 coins and count how many heads there are. \n",
    "\n",
    "The following line runs the code to do 10 coin flips with `p=5` 10,000 times, and stores the results in an array.(Don't worry about the details here: we will cover how to write \"loops\" like this later.)"
   ]
  },
  {
   "cell_type": "code",
   "execution_count": 18,
   "metadata": {
    "tags": []
   },
   "outputs": [],
   "source": [
    "## Ignore ##\n",
    "np.random.seed(88)"
   ]
  },
  {
   "cell_type": "code",
   "execution_count": 19,
   "metadata": {
    "tags": []
   },
   "outputs": [],
   "source": [
    "ntrials=10000\n",
    "trials10 = [np.random.binomial(n=10, p=.5) for _ in range(ntrials)]"
   ]
  },
  {
   "cell_type": "markdown",
   "metadata": {
    "tags": []
   },
   "source": [
    "Here is the ouput:"
   ]
  },
  {
   "cell_type": "code",
   "execution_count": 20,
   "metadata": {
    "collapsed": true,
    "jupyter": {
     "outputs_hidden": true
    },
    "tags": []
   },
   "outputs": [
    {
     "data": {
      "text/plain": [
       "[6,\n",
       " 5,\n",
       " 5,\n",
       " 7,\n",
       " 6,\n",
       " 6,\n",
       " 6,\n",
       " 4,\n",
       " 4,\n",
       " 5,\n",
       " 7,\n",
       " 1,\n",
       " 3,\n",
       " 7,\n",
       " 5,\n",
       " 7,\n",
       " 4,\n",
       " 5,\n",
       " 5,\n",
       " 3,\n",
       " 6,\n",
       " 4,\n",
       " 6,\n",
       " 2,\n",
       " 3,\n",
       " 5,\n",
       " 4,\n",
       " 8,\n",
       " 7,\n",
       " 7,\n",
       " 2,\n",
       " 6,\n",
       " 7,\n",
       " 6,\n",
       " 4,\n",
       " 5,\n",
       " 8,\n",
       " 4,\n",
       " 5,\n",
       " 5,\n",
       " 5,\n",
       " 4,\n",
       " 7,\n",
       " 5,\n",
       " 4,\n",
       " 2,\n",
       " 5,\n",
       " 3,\n",
       " 6,\n",
       " 6,\n",
       " 7,\n",
       " 3,\n",
       " 2,\n",
       " 4,\n",
       " 5,\n",
       " 6,\n",
       " 4,\n",
       " 4,\n",
       " 4,\n",
       " 3,\n",
       " 4,\n",
       " 7,\n",
       " 3,\n",
       " 3,\n",
       " 2,\n",
       " 6,\n",
       " 9,\n",
       " 3,\n",
       " 6,\n",
       " 4,\n",
       " 4,\n",
       " 7,\n",
       " 8,\n",
       " 6,\n",
       " 5,\n",
       " 5,\n",
       " 6,\n",
       " 2,\n",
       " 3,\n",
       " 6,\n",
       " 7,\n",
       " 8,\n",
       " 5,\n",
       " 4,\n",
       " 5,\n",
       " 4,\n",
       " 3,\n",
       " 6,\n",
       " 4,\n",
       " 2,\n",
       " 6,\n",
       " 8,\n",
       " 7,\n",
       " 4,\n",
       " 7,\n",
       " 5,\n",
       " 7,\n",
       " 5,\n",
       " 2,\n",
       " 4,\n",
       " 3,\n",
       " 4,\n",
       " 4,\n",
       " 6,\n",
       " 7,\n",
       " 4,\n",
       " 6,\n",
       " 3,\n",
       " 3,\n",
       " 6,\n",
       " 4,\n",
       " 5,\n",
       " 9,\n",
       " 5,\n",
       " 7,\n",
       " 4,\n",
       " 4,\n",
       " 3,\n",
       " 5,\n",
       " 8,\n",
       " 5,\n",
       " 2,\n",
       " 6,\n",
       " 2,\n",
       " 4,\n",
       " 8,\n",
       " 3,\n",
       " 4,\n",
       " 1,\n",
       " 6,\n",
       " 2,\n",
       " 4,\n",
       " 2,\n",
       " 3,\n",
       " 8,\n",
       " 7,\n",
       " 6,\n",
       " 8,\n",
       " 5,\n",
       " 3,\n",
       " 6,\n",
       " 6,\n",
       " 6,\n",
       " 8,\n",
       " 6,\n",
       " 6,\n",
       " 4,\n",
       " 6,\n",
       " 4,\n",
       " 1,\n",
       " 8,\n",
       " 4,\n",
       " 7,\n",
       " 5,\n",
       " 7,\n",
       " 5,\n",
       " 7,\n",
       " 5,\n",
       " 8,\n",
       " 7,\n",
       " 7,\n",
       " 8,\n",
       " 6,\n",
       " 4,\n",
       " 4,\n",
       " 3,\n",
       " 3,\n",
       " 1,\n",
       " 3,\n",
       " 5,\n",
       " 8,\n",
       " 5,\n",
       " 5,\n",
       " 5,\n",
       " 5,\n",
       " 5,\n",
       " 5,\n",
       " 3,\n",
       " 4,\n",
       " 6,\n",
       " 2,\n",
       " 6,\n",
       " 4,\n",
       " 5,\n",
       " 5,\n",
       " 5,\n",
       " 6,\n",
       " 6,\n",
       " 4,\n",
       " 6,\n",
       " 5,\n",
       " 3,\n",
       " 4,\n",
       " 5,\n",
       " 6,\n",
       " 5,\n",
       " 4,\n",
       " 4,\n",
       " 5,\n",
       " 6,\n",
       " 4,\n",
       " 4,\n",
       " 6,\n",
       " 6,\n",
       " 2,\n",
       " 5,\n",
       " 4,\n",
       " 5,\n",
       " 3,\n",
       " 5,\n",
       " 6,\n",
       " 4,\n",
       " 6,\n",
       " 4,\n",
       " 5,\n",
       " 5,\n",
       " 5,\n",
       " 8,\n",
       " 5,\n",
       " 3,\n",
       " 6,\n",
       " 3,\n",
       " 7,\n",
       " 2,\n",
       " 3,\n",
       " 7,\n",
       " 3,\n",
       " 6,\n",
       " 5,\n",
       " 5,\n",
       " 5,\n",
       " 4,\n",
       " 3,\n",
       " 4,\n",
       " 6,\n",
       " 6,\n",
       " 6,\n",
       " 7,\n",
       " 6,\n",
       " 7,\n",
       " 3,\n",
       " 8,\n",
       " 5,\n",
       " 7,\n",
       " 2,\n",
       " 6,\n",
       " 5,\n",
       " 4,\n",
       " 4,\n",
       " 2,\n",
       " 7,\n",
       " 4,\n",
       " 7,\n",
       " 7,\n",
       " 6,\n",
       " 7,\n",
       " 3,\n",
       " 3,\n",
       " 2,\n",
       " 4,\n",
       " 2,\n",
       " 7,\n",
       " 5,\n",
       " 3,\n",
       " 4,\n",
       " 7,\n",
       " 8,\n",
       " 7,\n",
       " 7,\n",
       " 6,\n",
       " 4,\n",
       " 5,\n",
       " 3,\n",
       " 6,\n",
       " 2,\n",
       " 5,\n",
       " 3,\n",
       " 6,\n",
       " 5,\n",
       " 7,\n",
       " 6,\n",
       " 2,\n",
       " 3,\n",
       " 5,\n",
       " 5,\n",
       " 5,\n",
       " 8,\n",
       " 7,\n",
       " 6,\n",
       " 6,\n",
       " 3,\n",
       " 3,\n",
       " 9,\n",
       " 7,\n",
       " 5,\n",
       " 2,\n",
       " 7,\n",
       " 4,\n",
       " 4,\n",
       " 7,\n",
       " 7,\n",
       " 2,\n",
       " 6,\n",
       " 5,\n",
       " 5,\n",
       " 6,\n",
       " 5,\n",
       " 5,\n",
       " 8,\n",
       " 3,\n",
       " 8,\n",
       " 3,\n",
       " 6,\n",
       " 3,\n",
       " 5,\n",
       " 5,\n",
       " 4,\n",
       " 4,\n",
       " 8,\n",
       " 6,\n",
       " 4,\n",
       " 2,\n",
       " 4,\n",
       " 3,\n",
       " 6,\n",
       " 8,\n",
       " 5,\n",
       " 5,\n",
       " 5,\n",
       " 6,\n",
       " 6,\n",
       " 4,\n",
       " 3,\n",
       " 6,\n",
       " 5,\n",
       " 3,\n",
       " 7,\n",
       " 7,\n",
       " 6,\n",
       " 5,\n",
       " 3,\n",
       " 3,\n",
       " 8,\n",
       " 7,\n",
       " 6,\n",
       " 5,\n",
       " 3,\n",
       " 5,\n",
       " 8,\n",
       " 6,\n",
       " 8,\n",
       " 6,\n",
       " 3,\n",
       " 5,\n",
       " 5,\n",
       " 8,\n",
       " 6,\n",
       " 4,\n",
       " 0,\n",
       " 6,\n",
       " 3,\n",
       " 6,\n",
       " 6,\n",
       " 8,\n",
       " 8,\n",
       " 5,\n",
       " 3,\n",
       " 6,\n",
       " 6,\n",
       " 3,\n",
       " 7,\n",
       " 3,\n",
       " 5,\n",
       " 5,\n",
       " 1,\n",
       " 5,\n",
       " 2,\n",
       " 3,\n",
       " 5,\n",
       " 5,\n",
       " 6,\n",
       " 7,\n",
       " 7,\n",
       " 4,\n",
       " 4,\n",
       " 6,\n",
       " 6,\n",
       " 5,\n",
       " 6,\n",
       " 7,\n",
       " 5,\n",
       " 5,\n",
       " 4,\n",
       " 6,\n",
       " 6,\n",
       " 5,\n",
       " 5,\n",
       " 2,\n",
       " 7,\n",
       " 3,\n",
       " 7,\n",
       " 2,\n",
       " 6,\n",
       " 6,\n",
       " 5,\n",
       " 5,\n",
       " 5,\n",
       " 5,\n",
       " 3,\n",
       " 7,\n",
       " 7,\n",
       " 7,\n",
       " 6,\n",
       " 7,\n",
       " 5,\n",
       " 6,\n",
       " 5,\n",
       " 3,\n",
       " 4,\n",
       " 4,\n",
       " 6,\n",
       " 6,\n",
       " 7,\n",
       " 5,\n",
       " 5,\n",
       " 7,\n",
       " 8,\n",
       " 7,\n",
       " 4,\n",
       " 5,\n",
       " 4,\n",
       " 5,\n",
       " 6,\n",
       " 6,\n",
       " 4,\n",
       " 2,\n",
       " 4,\n",
       " 4,\n",
       " 3,\n",
       " 3,\n",
       " 5,\n",
       " 5,\n",
       " 6,\n",
       " 4,\n",
       " 4,\n",
       " 4,\n",
       " 4,\n",
       " 6,\n",
       " 5,\n",
       " 4,\n",
       " 3,\n",
       " 2,\n",
       " 5,\n",
       " 4,\n",
       " 2,\n",
       " 6,\n",
       " 5,\n",
       " 6,\n",
       " 5,\n",
       " 5,\n",
       " 5,\n",
       " 5,\n",
       " 4,\n",
       " 4,\n",
       " 5,\n",
       " 7,\n",
       " 4,\n",
       " 7,\n",
       " 7,\n",
       " 4,\n",
       " 7,\n",
       " 6,\n",
       " 4,\n",
       " 6,\n",
       " 5,\n",
       " 4,\n",
       " 4,\n",
       " 5,\n",
       " 4,\n",
       " 7,\n",
       " 3,\n",
       " 4,\n",
       " 6,\n",
       " 8,\n",
       " 3,\n",
       " 3,\n",
       " 6,\n",
       " 6,\n",
       " 5,\n",
       " 6,\n",
       " 5,\n",
       " 6,\n",
       " 6,\n",
       " 5,\n",
       " 3,\n",
       " 3,\n",
       " 3,\n",
       " 7,\n",
       " 6,\n",
       " 6,\n",
       " 5,\n",
       " 4,\n",
       " 6,\n",
       " 4,\n",
       " 5,\n",
       " 6,\n",
       " 8,\n",
       " 5,\n",
       " 6,\n",
       " 5,\n",
       " 4,\n",
       " 4,\n",
       " 6,\n",
       " 5,\n",
       " 3,\n",
       " 5,\n",
       " 7,\n",
       " 7,\n",
       " 5,\n",
       " 3,\n",
       " 5,\n",
       " 6,\n",
       " 6,\n",
       " 5,\n",
       " 7,\n",
       " 7,\n",
       " 5,\n",
       " 1,\n",
       " 4,\n",
       " 3,\n",
       " 8,\n",
       " 6,\n",
       " 6,\n",
       " 7,\n",
       " 4,\n",
       " 4,\n",
       " 3,\n",
       " 6,\n",
       " 5,\n",
       " 6,\n",
       " 7,\n",
       " 8,\n",
       " 3,\n",
       " 7,\n",
       " 7,\n",
       " 9,\n",
       " 6,\n",
       " 6,\n",
       " 3,\n",
       " 5,\n",
       " 5,\n",
       " 4,\n",
       " 6,\n",
       " 2,\n",
       " 4,\n",
       " 6,\n",
       " 4,\n",
       " 6,\n",
       " 8,\n",
       " 5,\n",
       " 6,\n",
       " 4,\n",
       " 6,\n",
       " 6,\n",
       " 4,\n",
       " 6,\n",
       " 6,\n",
       " 5,\n",
       " 4,\n",
       " 6,\n",
       " 5,\n",
       " 6,\n",
       " 0,\n",
       " 7,\n",
       " 7,\n",
       " 5,\n",
       " 6,\n",
       " 4,\n",
       " 5,\n",
       " 6,\n",
       " 3,\n",
       " 5,\n",
       " 5,\n",
       " 5,\n",
       " 4,\n",
       " 5,\n",
       " 3,\n",
       " 6,\n",
       " 6,\n",
       " 3,\n",
       " 6,\n",
       " 6,\n",
       " 5,\n",
       " 5,\n",
       " 6,\n",
       " 5,\n",
       " 5,\n",
       " 1,\n",
       " 4,\n",
       " 5,\n",
       " 6,\n",
       " 9,\n",
       " 6,\n",
       " 5,\n",
       " 6,\n",
       " 5,\n",
       " 7,\n",
       " 2,\n",
       " 5,\n",
       " 2,\n",
       " 4,\n",
       " 4,\n",
       " 3,\n",
       " 6,\n",
       " 6,\n",
       " 5,\n",
       " 2,\n",
       " 8,\n",
       " 3,\n",
       " 4,\n",
       " 4,\n",
       " 7,\n",
       " 3,\n",
       " 6,\n",
       " 6,\n",
       " 3,\n",
       " 5,\n",
       " 5,\n",
       " 4,\n",
       " 7,\n",
       " 5,\n",
       " 6,\n",
       " 6,\n",
       " 4,\n",
       " 3,\n",
       " 8,\n",
       " 5,\n",
       " 5,\n",
       " 3,\n",
       " 6,\n",
       " 4,\n",
       " 1,\n",
       " 4,\n",
       " 6,\n",
       " 5,\n",
       " 6,\n",
       " 6,\n",
       " 6,\n",
       " 4,\n",
       " 4,\n",
       " 4,\n",
       " 3,\n",
       " 7,\n",
       " 3,\n",
       " 6,\n",
       " 3,\n",
       " 4,\n",
       " 5,\n",
       " 6,\n",
       " 5,\n",
       " 6,\n",
       " 6,\n",
       " 5,\n",
       " 4,\n",
       " 3,\n",
       " 4,\n",
       " 6,\n",
       " 6,\n",
       " 4,\n",
       " 2,\n",
       " 7,\n",
       " 2,\n",
       " 7,\n",
       " 4,\n",
       " 5,\n",
       " 5,\n",
       " 8,\n",
       " 6,\n",
       " 3,\n",
       " 5,\n",
       " 1,\n",
       " 4,\n",
       " 5,\n",
       " 6,\n",
       " 5,\n",
       " 5,\n",
       " 6,\n",
       " 4,\n",
       " 3,\n",
       " 6,\n",
       " 6,\n",
       " 6,\n",
       " 6,\n",
       " 5,\n",
       " 7,\n",
       " 6,\n",
       " 4,\n",
       " 8,\n",
       " 6,\n",
       " 6,\n",
       " 6,\n",
       " 5,\n",
       " 4,\n",
       " 6,\n",
       " 5,\n",
       " 2,\n",
       " 3,\n",
       " 5,\n",
       " 7,\n",
       " 3,\n",
       " 5,\n",
       " 6,\n",
       " 4,\n",
       " 7,\n",
       " 6,\n",
       " 5,\n",
       " 5,\n",
       " 6,\n",
       " 6,\n",
       " 7,\n",
       " 4,\n",
       " 5,\n",
       " 4,\n",
       " 6,\n",
       " 8,\n",
       " 6,\n",
       " 5,\n",
       " 7,\n",
       " 6,\n",
       " 8,\n",
       " 4,\n",
       " 5,\n",
       " 4,\n",
       " 7,\n",
       " 1,\n",
       " 6,\n",
       " 5,\n",
       " 7,\n",
       " 6,\n",
       " 6,\n",
       " 5,\n",
       " 7,\n",
       " 4,\n",
       " 3,\n",
       " 4,\n",
       " 1,\n",
       " 7,\n",
       " 7,\n",
       " 7,\n",
       " 5,\n",
       " 5,\n",
       " 5,\n",
       " 5,\n",
       " 7,\n",
       " 3,\n",
       " 7,\n",
       " 2,\n",
       " 5,\n",
       " 6,\n",
       " 6,\n",
       " 3,\n",
       " 4,\n",
       " 5,\n",
       " 3,\n",
       " 4,\n",
       " 5,\n",
       " 5,\n",
       " 5,\n",
       " 5,\n",
       " 6,\n",
       " 5,\n",
       " 4,\n",
       " 4,\n",
       " 4,\n",
       " 2,\n",
       " 4,\n",
       " 5,\n",
       " 4,\n",
       " 5,\n",
       " 1,\n",
       " 4,\n",
       " 8,\n",
       " 5,\n",
       " 6,\n",
       " 7,\n",
       " 3,\n",
       " 2,\n",
       " 5,\n",
       " 5,\n",
       " 6,\n",
       " 6,\n",
       " 7,\n",
       " 4,\n",
       " 6,\n",
       " 4,\n",
       " 5,\n",
       " 5,\n",
       " 7,\n",
       " 4,\n",
       " 5,\n",
       " 4,\n",
       " 4,\n",
       " 7,\n",
       " 5,\n",
       " 4,\n",
       " 7,\n",
       " 6,\n",
       " 6,\n",
       " 5,\n",
       " 5,\n",
       " 4,\n",
       " 4,\n",
       " 1,\n",
       " 3,\n",
       " 6,\n",
       " 4,\n",
       " 7,\n",
       " 4,\n",
       " 3,\n",
       " 3,\n",
       " 6,\n",
       " 6,\n",
       " 4,\n",
       " 0,\n",
       " 4,\n",
       " 5,\n",
       " 5,\n",
       " 3,\n",
       " 5,\n",
       " 7,\n",
       " 5,\n",
       " 7,\n",
       " 5,\n",
       " 6,\n",
       " 3,\n",
       " 4,\n",
       " 5,\n",
       " 4,\n",
       " 5,\n",
       " 6,\n",
       " 6,\n",
       " 4,\n",
       " 5,\n",
       " 5,\n",
       " 6,\n",
       " 3,\n",
       " 6,\n",
       " 3,\n",
       " 5,\n",
       " 4,\n",
       " 6,\n",
       " 6,\n",
       " 5,\n",
       " 6,\n",
       " 5,\n",
       " 4,\n",
       " 4,\n",
       " 3,\n",
       " 6,\n",
       " 7,\n",
       " 5,\n",
       " 7,\n",
       " 4,\n",
       " 7,\n",
       " 5,\n",
       " 6,\n",
       " 7,\n",
       " 5,\n",
       " 5,\n",
       " 6,\n",
       " 5,\n",
       " 5,\n",
       " 5,\n",
       " 3,\n",
       " 4,\n",
       " 8,\n",
       " 5,\n",
       " 5,\n",
       " 5,\n",
       " 4,\n",
       " 4,\n",
       " 9,\n",
       " 6,\n",
       " 6,\n",
       " 5,\n",
       " 3,\n",
       " 4,\n",
       " 1,\n",
       " 7,\n",
       " 7,\n",
       " 4,\n",
       " 3,\n",
       " 5,\n",
       " 6,\n",
       " 5,\n",
       " 4,\n",
       " 8,\n",
       " 4,\n",
       " 8,\n",
       " 3,\n",
       " 6,\n",
       " 4,\n",
       " 4,\n",
       " 6,\n",
       " 4,\n",
       " 4,\n",
       " 3,\n",
       " 5,\n",
       " 6,\n",
       " 6,\n",
       " 6,\n",
       " 6,\n",
       " 4,\n",
       " 1,\n",
       " 5,\n",
       " 6,\n",
       " 5,\n",
       " 5,\n",
       " 5,\n",
       " 5,\n",
       " 7,\n",
       " 5,\n",
       " 2,\n",
       " 2,\n",
       " 3,\n",
       " 6,\n",
       " 6,\n",
       " 6,\n",
       " 3,\n",
       " 5,\n",
       " 4,\n",
       " 2,\n",
       " 2,\n",
       " 5,\n",
       " 6,\n",
       " 5,\n",
       " 6,\n",
       " 6,\n",
       " 5,\n",
       " 2,\n",
       " 7,\n",
       " 6,\n",
       " 5,\n",
       " 6,\n",
       " 3,\n",
       " 6,\n",
       " 3,\n",
       " 6,\n",
       " 3,\n",
       " 2,\n",
       " 7,\n",
       " 5,\n",
       " 8,\n",
       " 6,\n",
       " 7,\n",
       " 7,\n",
       " 7,\n",
       " 6,\n",
       " 5,\n",
       " 6,\n",
       " 5,\n",
       " 6,\n",
       " 7,\n",
       " 5,\n",
       " 5,\n",
       " 5,\n",
       " 2,\n",
       " 4,\n",
       " 5,\n",
       " 7,\n",
       " 5,\n",
       " 6,\n",
       " 8,\n",
       " 7,\n",
       " 7,\n",
       " 4,\n",
       " 4,\n",
       " 4,\n",
       " 3,\n",
       " 7,\n",
       " 6,\n",
       " 6,\n",
       " 5,\n",
       " 5,\n",
       " 2,\n",
       " 5,\n",
       " 6,\n",
       " 6,\n",
       " 4,\n",
       " 7,\n",
       " 2,\n",
       " 7,\n",
       " 5,\n",
       " 6,\n",
       " 5,\n",
       " 7,\n",
       " 3,\n",
       " 8,\n",
       " 3,\n",
       " 3,\n",
       " ...]"
      ]
     },
     "execution_count": 20,
     "metadata": {},
     "output_type": "execute_result"
    }
   ],
   "source": [
    "trials10"
   ]
  },
  {
   "cell_type": "markdown",
   "metadata": {},
   "source": [
    "Let's put these in a table, and then make a histogram to see how often each trial number happens. To make sure we just get a count of how many are at each interval, we need to get the \"bins\" right."
   ]
  },
  {
   "cell_type": "code",
   "execution_count": 21,
   "metadata": {},
   "outputs": [
    {
     "data": {
      "text/plain": [
       "[0, 1, 2, 3, 4, 5, 6, 7, 8, 9, 10]"
      ]
     },
     "execution_count": 21,
     "metadata": {},
     "output_type": "execute_result"
    }
   ],
   "source": [
    "list(range(11))"
   ]
  },
  {
   "cell_type": "code",
   "execution_count": 22,
   "metadata": {
    "tags": []
   },
   "outputs": [
    {
     "data": {
      "image/png": "[encoded data removed]",
      "text/plain": [
       "<Figure size 432x288 with 1 Axes>"
      ]
     },
     "metadata": {
      "needs_background": "light"
     },
     "output_type": "display_data"
    }
   ],
   "source": [
    "simtable = Table().with_column(\"sims10\",trials10)\n",
    "simtable.hist(\"sims10\", bins=range(11))"
   ]
  },
  {
   "cell_type": "markdown",
   "metadata": {},
   "source": [
    "Let's see what happens with 20 coin flips. First we create a bunch of simulations:"
   ]
  },
  {
   "cell_type": "code",
   "execution_count": 23,
   "metadata": {},
   "outputs": [],
   "source": [
    "## Ignore ##\n",
    "np.random.seed(88)"
   ]
  },
  {
   "cell_type": "code",
   "execution_count": 24,
   "metadata": {},
   "outputs": [],
   "source": [
    "trials20 = [np.random.binomial(n=20, p=.5) for _ in range(ntrials)]"
   ]
  },
  {
   "cell_type": "markdown",
   "metadata": {},
   "source": [
    "And then add the new trials to `simtable` using the `.with_column()` function."
   ]
  },
  {
   "cell_type": "code",
   "execution_count": 25,
   "metadata": {},
   "outputs": [
    {
     "data": {
      "text/html": [
       "<table border=\"1\" class=\"dataframe\">\n",
       "    <thead>\n",
       "        <tr>\n",
       "            <th>sims10</th> <th>sims20</th>\n",
       "        </tr>\n",
       "    </thead>\n",
       "    <tbody>\n",
       "        <tr>\n",
       "            <td>6     </td> <td>11    </td>\n",
       "        </tr>\n",
       "        <tr>\n",
       "            <td>5     </td> <td>10    </td>\n",
       "        </tr>\n",
       "        <tr>\n",
       "            <td>5     </td> <td>10    </td>\n",
       "        </tr>\n",
       "        <tr>\n",
       "            <td>7     </td> <td>13    </td>\n",
       "        </tr>\n",
       "        <tr>\n",
       "            <td>6     </td> <td>11    </td>\n",
       "        </tr>\n",
       "        <tr>\n",
       "            <td>6     </td> <td>11    </td>\n",
       "        </tr>\n",
       "        <tr>\n",
       "            <td>6     </td> <td>11    </td>\n",
       "        </tr>\n",
       "        <tr>\n",
       "            <td>4     </td> <td>8     </td>\n",
       "        </tr>\n",
       "        <tr>\n",
       "            <td>4     </td> <td>8     </td>\n",
       "        </tr>\n",
       "        <tr>\n",
       "            <td>5     </td> <td>10    </td>\n",
       "        </tr>\n",
       "    </tbody>\n",
       "</table>\n",
       "<p>... (9990 rows omitted)</p>"
      ],
      "text/plain": [
       "sims10 | sims20\n",
       "6      | 11\n",
       "5      | 10\n",
       "5      | 10\n",
       "7      | 13\n",
       "6      | 11\n",
       "6      | 11\n",
       "6      | 11\n",
       "4      | 8\n",
       "4      | 8\n",
       "5      | 10\n",
       "... (9990 rows omitted)"
      ]
     },
     "execution_count": 25,
     "metadata": {},
     "output_type": "execute_result"
    }
   ],
   "source": [
    "simtable=simtable.with_column(\"sims20\", trials20)\n",
    "simtable"
   ]
  },
  {
   "cell_type": "markdown",
   "metadata": {},
   "source": [
    "**Question 3.1 Make a histogram of the number of heads in the trials with 20 flips. Make sure to set the bins so there each one contains exactly one integer.**\n",
    "```\n",
    "BEGIN QUESTION\n",
    "name: q3a\n",
    "manual: true\n",
    "```"
   ]
  },
  {
   "cell_type": "code",
   "execution_count": 26,
   "metadata": {},
   "outputs": [
    {
     "data": {
      "image/png": "[encoded data removed]",
      "text/plain": [
       "<Figure size 432x288 with 1 Axes>"
      ]
     },
     "metadata": {
      "needs_background": "light"
     },
     "output_type": "display_data"
    }
   ],
   "source": [
    "simtable.hist(\"sims20\", bins=range(21)) # SOLUTION"
   ]
  },
  {
   "cell_type": "markdown",
   "metadata": {},
   "source": [
    "Let's see what this looks like with a different probability of success. Here is a set of 10 trials with a higher probaility of success ($p = .7$)"
   ]
  },
  {
   "cell_type": "code",
   "execution_count": 27,
   "metadata": {},
   "outputs": [],
   "source": [
    "## Ignore ##\n",
    "np.random.seed(88)"
   ]
  },
  {
   "cell_type": "code",
   "execution_count": 28,
   "metadata": {},
   "outputs": [],
   "source": [
    "trials_high = [np.random.binomial(n=10, p=.7) for _ in range(ntrials)]"
   ]
  },
  {
   "cell_type": "markdown",
   "metadata": {},
   "source": [
    "**Question 3.2. Add this array to `simtable`, as a variable called `sims_high`, and create a histogram which shows the frequency of heads in these trials**\n",
    "```\n",
    "BEGIN QUESTION\n",
    "name: q3b\n",
    "manual: true\n",
    "```"
   ]
  },
  {
   "cell_type": "code",
   "execution_count": 29,
   "metadata": {},
   "outputs": [
    {
     "data": {
      "image/png": "[encoded data removed]",
      "text/plain": [
       "<Figure size 432x288 with 1 Axes>"
      ]
     },
     "metadata": {
      "needs_background": "light"
     },
     "output_type": "display_data"
    }
   ],
   "source": [
    "simtable=simtable.with_column(\"sims_high\", trials_high) # SOLUTION\n",
    "simtable.hist(\"sims_high\", bins=range(11)) # SOLUTION"
   ]
  },
  {
   "cell_type": "code",
   "execution_count": 30,
   "metadata": {
    "tags": []
   },
   "outputs": [
    {
     "data": {
      "text/html": [
       "<table border=\"1\" class=\"dataframe\">\n",
       "    <thead>\n",
       "        <tr>\n",
       "            <th>sims10</th> <th>sims20</th> <th>sims_high</th>\n",
       "        </tr>\n",
       "    </thead>\n",
       "    <tbody>\n",
       "        <tr>\n",
       "            <td>6     </td> <td>11    </td> <td>7        </td>\n",
       "        </tr>\n",
       "        <tr>\n",
       "            <td>5     </td> <td>10    </td> <td>7        </td>\n",
       "        </tr>\n",
       "        <tr>\n",
       "            <td>5     </td> <td>10    </td> <td>7        </td>\n",
       "        </tr>\n",
       "        <tr>\n",
       "            <td>7     </td> <td>13    </td> <td>5        </td>\n",
       "        </tr>\n",
       "        <tr>\n",
       "            <td>6     </td> <td>11    </td> <td>6        </td>\n",
       "        </tr>\n",
       "        <tr>\n",
       "            <td>6     </td> <td>11    </td> <td>6        </td>\n",
       "        </tr>\n",
       "        <tr>\n",
       "            <td>6     </td> <td>11    </td> <td>6        </td>\n",
       "        </tr>\n",
       "        <tr>\n",
       "            <td>4     </td> <td>8     </td> <td>8        </td>\n",
       "        </tr>\n",
       "        <tr>\n",
       "            <td>4     </td> <td>8     </td> <td>8        </td>\n",
       "        </tr>\n",
       "        <tr>\n",
       "            <td>5     </td> <td>10    </td> <td>7        </td>\n",
       "        </tr>\n",
       "    </tbody>\n",
       "</table>\n",
       "<p>... (9990 rows omitted)</p>"
      ],
      "text/plain": [
       "sims10 | sims20 | sims_high\n",
       "6      | 11     | 7\n",
       "5      | 10     | 7\n",
       "5      | 10     | 7\n",
       "7      | 13     | 5\n",
       "6      | 11     | 6\n",
       "6      | 11     | 6\n",
       "6      | 11     | 6\n",
       "4      | 8      | 8\n",
       "4      | 8      | 8\n",
       "5      | 10     | 7\n",
       "... (9990 rows omitted)"
      ]
     },
     "execution_count": 30,
     "metadata": {},
     "output_type": "execute_result"
    }
   ],
   "source": [
    "simtable"
   ]
  },
  {
   "cell_type": "markdown",
   "metadata": {},
   "source": [
    "**Question 3.3. Compare this to the graph where $p=.5$**\n",
    "```\n",
    "BEGIN QUESTION\n",
    "name: q3c\n",
    "manual: true\n",
    "```\n"
   ]
  },
  {
   "cell_type": "markdown",
   "metadata": {},
   "source": [
    "**SOLUTION**: Answer to 3.3 here"
   ]
  },
  {
   "cell_type": "markdown",
   "metadata": {},
   "source": [
    "Next we want to figure out exactly how often a voter is pivotal in different situations. To do this, let's create a variable called `pivot10` which is true when there are exactly 5 other voters choosing each candidate."
   ]
  },
  {
   "cell_type": "code",
   "execution_count": 31,
   "metadata": {},
   "outputs": [
    {
     "data": {
      "text/html": [
       "<table border=\"1\" class=\"dataframe\">\n",
       "    <thead>\n",
       "        <tr>\n",
       "            <th>sims10</th> <th>sims20</th> <th>sims_high</th> <th>pivot10</th>\n",
       "        </tr>\n",
       "    </thead>\n",
       "    <tbody>\n",
       "        <tr>\n",
       "            <td>6     </td> <td>11    </td> <td>7        </td> <td>False  </td>\n",
       "        </tr>\n",
       "        <tr>\n",
       "            <td>5     </td> <td>10    </td> <td>7        </td> <td>True   </td>\n",
       "        </tr>\n",
       "        <tr>\n",
       "            <td>5     </td> <td>10    </td> <td>7        </td> <td>True   </td>\n",
       "        </tr>\n",
       "        <tr>\n",
       "            <td>7     </td> <td>13    </td> <td>5        </td> <td>False  </td>\n",
       "        </tr>\n",
       "        <tr>\n",
       "            <td>6     </td> <td>11    </td> <td>6        </td> <td>False  </td>\n",
       "        </tr>\n",
       "        <tr>\n",
       "            <td>6     </td> <td>11    </td> <td>6        </td> <td>False  </td>\n",
       "        </tr>\n",
       "        <tr>\n",
       "            <td>6     </td> <td>11    </td> <td>6        </td> <td>False  </td>\n",
       "        </tr>\n",
       "        <tr>\n",
       "            <td>4     </td> <td>8     </td> <td>8        </td> <td>False  </td>\n",
       "        </tr>\n",
       "        <tr>\n",
       "            <td>4     </td> <td>8     </td> <td>8        </td> <td>False  </td>\n",
       "        </tr>\n",
       "        <tr>\n",
       "            <td>5     </td> <td>10    </td> <td>7        </td> <td>True   </td>\n",
       "        </tr>\n",
       "    </tbody>\n",
       "</table>\n",
       "<p>... (9990 rows omitted)</p>"
      ],
      "text/plain": [
       "sims10 | sims20 | sims_high | pivot10\n",
       "6      | 11     | 7         | False\n",
       "5      | 10     | 7         | True\n",
       "5      | 10     | 7         | True\n",
       "7      | 13     | 5         | False\n",
       "6      | 11     | 6         | False\n",
       "6      | 11     | 6         | False\n",
       "6      | 11     | 6         | False\n",
       "4      | 8      | 8         | False\n",
       "4      | 8      | 8         | False\n",
       "5      | 10     | 7         | True\n",
       "... (9990 rows omitted)"
      ]
     },
     "execution_count": 31,
     "metadata": {},
     "output_type": "execute_result"
    }
   ],
   "source": [
    "simtable = simtable.with_column(\"pivot10\", simtable.column(\"sims10\")==5)\n",
    "simtable"
   ]
  },
  {
   "cell_type": "markdown",
   "metadata": {},
   "source": [
    "We can then count the number of trials where a voter was pivotal."
   ]
  },
  {
   "cell_type": "code",
   "execution_count": 32,
   "metadata": {},
   "outputs": [
    {
     "data": {
      "text/plain": [
       "2489"
      ]
     },
     "execution_count": 32,
     "metadata": {},
     "output_type": "execute_result"
    }
   ],
   "source": [
    "sum(simtable.column(\"pivot10\"))"
   ]
  },
  {
   "cell_type": "markdown",
   "metadata": {},
   "source": [
    "Since there were 10,000 trials, we can convert this into a percentage:"
   ]
  },
  {
   "cell_type": "code",
   "execution_count": 33,
   "metadata": {},
   "outputs": [
    {
     "data": {
      "text/plain": [
       "0.2489"
      ]
     },
     "execution_count": 33,
     "metadata": {},
     "output_type": "execute_result"
    }
   ],
   "source": [
    "sum(simtable.column(\"pivot10\"))/ntrials"
   ]
  },
  {
   "cell_type": "markdown",
   "metadata": {},
   "source": [
    "**Question 3.4. Write code to determine what proportion of the time a voter is pivotal when $n=20$**\n",
    "```\n",
    "BEGIN QUESTION\n",
    "name: q3d\n",
    "```\n"
   ]
  },
  {
   "cell_type": "code",
   "execution_count": 34,
   "metadata": {},
   "outputs": [
    {
     "data": {
      "text/plain": [
       "0.1776"
      ]
     },
     "execution_count": 34,
     "metadata": {},
     "output_type": "execute_result"
    }
   ],
   "source": [
    "simtable=simtable.with_column(\"pivot20\", simtable.column(\"sims20\")==10) # SOLUTION\n",
    "pivotal_freq = sum(simtable.column(\"pivot20\"))/ntrials # SOLUTION\n",
    "pivotal_freq"
   ]
  },
  {
   "cell_type": "code",
   "execution_count": 35,
   "metadata": {},
   "outputs": [
    {
     "data": {
      "text/plain": [
       "True"
      ]
     },
     "execution_count": 35,
     "metadata": {},
     "output_type": "execute_result"
    }
   ],
   "source": [
    "## Hidden Test ##\n",
    "np.random.seed(88)\n",
    "pivotal_freq == sum(simtable.column(\"pivot20\"))/ntrials"
   ]
  },
  {
   "cell_type": "markdown",
   "metadata": {},
   "source": [
    "To explore how chaning the size of the electorate and the probabilities of voting affect the probability of being pivotal without having to go through all of these steps, we will define a function which does one simulation and then checks whether a new voter would be pivotal."
   ]
  },
  {
   "cell_type": "code",
   "execution_count": 36,
   "metadata": {},
   "outputs": [],
   "source": [
    "## Ignore ##\n",
    "np.random.seed(88)"
   ]
  },
  {
   "cell_type": "code",
   "execution_count": 37,
   "metadata": {},
   "outputs": [],
   "source": [
    "def one_pivot(n,p):\n",
    "    return 1*(np.random.binomial(n=n,p=p)==n/2)"
   ]
  },
  {
   "cell_type": "markdown",
   "metadata": {},
   "source": [
    "Run this a few times."
   ]
  },
  {
   "cell_type": "code",
   "execution_count": 38,
   "metadata": {},
   "outputs": [
    {
     "data": {
      "text/plain": [
       "1"
      ]
     },
     "execution_count": 38,
     "metadata": {},
     "output_type": "execute_result"
    }
   ],
   "source": [
    "one_pivot(n=10, p=.6)"
   ]
  },
  {
   "cell_type": "markdown",
   "metadata": {},
   "source": [
    "Let's see how the probability of being pivotal changes with a higher n. To do so, we will use the same looping trick to store 10,000 simulations in an array called piv_trials100. (Note we defined `ntrials=10,000` above)"
   ]
  },
  {
   "cell_type": "code",
   "execution_count": 39,
   "metadata": {},
   "outputs": [
    {
     "data": {
      "application/vnd.jupyter.widget-view+json": {
       "model_id": "0a0982de62564cb19e6625140cb90e1f",
       "version_major": 2,
       "version_minor": 0
      },
      "text/plain": [
       "interactive(children=(FloatSlider(value=0.0, description='p', max=1.0), Output()), _dom_classes=('widget-inter…"
      ]
     },
     "metadata": {},
     "output_type": "display_data"
    },
    {
     "data": {
      "text/plain": [
       "<function __main__.pivotal_prob(p)>"
      ]
     },
     "execution_count": 39,
     "metadata": {},
     "output_type": "execute_result"
    }
   ],
   "source": [
    "def pivotal_prob(p):\n",
    "    return sum(one_pivot(n=100, p=.5) for _ in range(ntrials))/ntrials\n",
    "interact(pivotal_prob, p=(0,1, .1))"
   ]
  },
  {
   "cell_type": "markdown",
   "metadata": {},
   "source": [
    "Or a lower p"
   ]
  },
  {
   "cell_type": "code",
   "execution_count": 40,
   "metadata": {},
   "outputs": [
    {
     "data": {
      "text/plain": [
       "0.0094"
      ]
     },
     "execution_count": 40,
     "metadata": {},
     "output_type": "execute_result"
    }
   ],
   "source": [
    "piv_trials100 = [one_pivot(n=100, p=.4) for _ in range(ntrials)]\n",
    "sum(piv_trials100)/ntrials"
   ]
  },
  {
   "cell_type": "markdown",
   "metadata": {},
   "source": [
    "**Question 3.5 Write a line of code to simulate how often a voter will be pivotal in an electorate with 50 voters and $p=.55$**\n",
    "```\n",
    "BEGIN QUESTION\n",
    "name: q3e\n",
    "```\n"
   ]
  },
  {
   "cell_type": "code",
   "execution_count": 41,
   "metadata": {},
   "outputs": [],
   "source": [
    "## Ignore ##\n",
    "np.random.seed(88)"
   ]
  },
  {
   "cell_type": "code",
   "execution_count": 42,
   "metadata": {},
   "outputs": [
    {
     "data": {
      "text/plain": [
       "0.0904"
      ]
     },
     "execution_count": 42,
     "metadata": {},
     "output_type": "execute_result"
    }
   ],
   "source": [
    "piv_trials35 = [one_pivot(n=50, p=.55) for _ in range(ntrials)] # SOLUTION\n",
    "pivotal_freq = sum(piv_trials35)/ntrials # SOLUTION\n",
    "pivotal_freq"
   ]
  },
  {
   "cell_type": "code",
   "execution_count": 43,
   "metadata": {},
   "outputs": [],
   "source": [
    "## Hidden Test ##\n",
    "np.random.seed(88)\n",
    "assert piv_trials35 == [one_pivot(n=50, p=.55) for _ in range(ntrials)]\n",
    "assert pivotal_freq == sum(piv_trials35)/ntrials"
   ]
  },
  {
   "cell_type": "markdown",
   "metadata": {},
   "source": [
    "**Question 3.6 (Optional) Try running the one_pivot function with an odd number of voters. What happens and why?**\n",
    "```\n",
    "BEGIN QUESTION\n",
    "name: q\n",
    "manual: true\n",
    "```\n"
   ]
  },
  {
   "cell_type": "code",
   "execution_count": 44,
   "metadata": {},
   "outputs": [
    {
     "data": {
      "text/plain": [
       "0"
      ]
     },
     "execution_count": 44,
     "metadata": {},
     "output_type": "execute_result"
    }
   ],
   "source": [
    "one_pivot(n=11, p=.5) # SOLUTION"
   ]
  },
  {
   "cell_type": "markdown",
   "metadata": {},
   "source": [
    "## Part 4. Pivotal votes with groups"
   ]
  },
  {
   "cell_type": "markdown",
   "metadata": {},
   "source": [
    "To learn about situations like the electoral college, let's do a simluation with groups. Imagine there are three groups, who all make a choice by majority vote. The winning candidate is the one who wins a majority vote of the majority of groups, in this case at least two groups. \n",
    "\n",
    "Questions like this become interesting when the groups vary, maybe in size or in predisposition towards certain candidates. To get started, we will look at an example where all the groups have 50 voters. Group 1 leans against candidate A, group B is split, and group C leans towards group A.\n",
    "\n",
    "We start by making a table with the number of votes for candidate A in each group. All groups have 50 members, but they have different probabilities of voting for A."
   ]
  },
  {
   "cell_type": "code",
   "execution_count": 45,
   "metadata": {},
   "outputs": [],
   "source": [
    "## Ignore ##\n",
    "np.random.seed(88)"
   ]
  },
  {
   "cell_type": "code",
   "execution_count": 46,
   "metadata": {},
   "outputs": [
    {
     "data": {
      "text/html": [
       "<table border=\"1\" class=\"dataframe\">\n",
       "    <thead>\n",
       "        <tr>\n",
       "            <th>votes1</th> <th>votes2</th> <th>votes3</th>\n",
       "        </tr>\n",
       "    </thead>\n",
       "    <tbody>\n",
       "        <tr>\n",
       "            <td>21    </td> <td>26    </td> <td>29    </td>\n",
       "        </tr>\n",
       "        <tr>\n",
       "            <td>20    </td> <td>25    </td> <td>30    </td>\n",
       "        </tr>\n",
       "        <tr>\n",
       "            <td>20    </td> <td>25    </td> <td>30    </td>\n",
       "        </tr>\n",
       "        <tr>\n",
       "            <td>24    </td> <td>29    </td> <td>26    </td>\n",
       "        </tr>\n",
       "        <tr>\n",
       "            <td>22    </td> <td>27    </td> <td>28    </td>\n",
       "        </tr>\n",
       "        <tr>\n",
       "            <td>22    </td> <td>27    </td> <td>28    </td>\n",
       "        </tr>\n",
       "        <tr>\n",
       "            <td>22    </td> <td>27    </td> <td>28    </td>\n",
       "        </tr>\n",
       "        <tr>\n",
       "            <td>17    </td> <td>22    </td> <td>33    </td>\n",
       "        </tr>\n",
       "        <tr>\n",
       "            <td>17    </td> <td>22    </td> <td>33    </td>\n",
       "        </tr>\n",
       "        <tr>\n",
       "            <td>20    </td> <td>25    </td> <td>30    </td>\n",
       "        </tr>\n",
       "    </tbody>\n",
       "</table>\n",
       "<p>... (9990 rows omitted)</p>"
      ],
      "text/plain": [
       "votes1 | votes2 | votes3\n",
       "21     | 26     | 29\n",
       "20     | 25     | 30\n",
       "20     | 25     | 30\n",
       "24     | 29     | 26\n",
       "22     | 27     | 28\n",
       "22     | 27     | 28\n",
       "22     | 27     | 28\n",
       "17     | 22     | 33\n",
       "17     | 22     | 33\n",
       "20     | 25     | 30\n",
       "... (9990 rows omitted)"
      ]
     },
     "execution_count": 46,
     "metadata": {},
     "output_type": "execute_result"
    }
   ],
   "source": [
    "#Group sizes\n",
    "n1=50\n",
    "n2=50\n",
    "n3=50\n",
    "# Probability of voting for A, by group\n",
    "p1=.4\n",
    "p2=.5\n",
    "p3=.6\n",
    "np.random.seed(88)\n",
    "# Creating arrays for simulations for each group\n",
    "np.random.seed(88) # IGNORE\n",
    "group1 = [np.random.binomial(n=n1, p=p1) for _ in range(ntrials)]\n",
    "np.random.seed(88) # IGNORE\n",
    "group2 = [np.random.binomial(n=n2, p=p2) for _ in range(ntrials)]\n",
    "np.random.seed(88) # IGNORE\n",
    "group3 = [np.random.binomial(n=n3, p=p3) for _ in range(ntrials)] \n",
    "#Putting the arrays into a table\n",
    "grouptrials = Table().with_columns(\"votes1\",group1,\n",
    "                                 \"votes2\", group2,\n",
    "                                 \"votes3\",group3)\n",
    "grouptrials"
   ]
  },
  {
   "cell_type": "markdown",
   "metadata": {},
   "source": [
    "Next we create a variable to check whether an individual voter would be pivotal if placed in each group."
   ]
  },
  {
   "cell_type": "code",
   "execution_count": 47,
   "metadata": {},
   "outputs": [
    {
     "data": {
      "text/html": [
       "<table border=\"1\" class=\"dataframe\">\n",
       "    <thead>\n",
       "        <tr>\n",
       "            <th>votes1</th> <th>votes2</th> <th>votes3</th> <th>voter piv1</th> <th>voter piv2</th> <th>voter piv3</th>\n",
       "        </tr>\n",
       "    </thead>\n",
       "    <tbody>\n",
       "        <tr>\n",
       "            <td>21    </td> <td>26    </td> <td>29    </td> <td>0         </td> <td>0         </td> <td>0         </td>\n",
       "        </tr>\n",
       "        <tr>\n",
       "            <td>20    </td> <td>25    </td> <td>30    </td> <td>0         </td> <td>1         </td> <td>0         </td>\n",
       "        </tr>\n",
       "        <tr>\n",
       "            <td>20    </td> <td>25    </td> <td>30    </td> <td>0         </td> <td>1         </td> <td>0         </td>\n",
       "        </tr>\n",
       "        <tr>\n",
       "            <td>24    </td> <td>29    </td> <td>26    </td> <td>0         </td> <td>0         </td> <td>0         </td>\n",
       "        </tr>\n",
       "        <tr>\n",
       "            <td>22    </td> <td>27    </td> <td>28    </td> <td>0         </td> <td>0         </td> <td>0         </td>\n",
       "        </tr>\n",
       "        <tr>\n",
       "            <td>22    </td> <td>27    </td> <td>28    </td> <td>0         </td> <td>0         </td> <td>0         </td>\n",
       "        </tr>\n",
       "        <tr>\n",
       "            <td>22    </td> <td>27    </td> <td>28    </td> <td>0         </td> <td>0         </td> <td>0         </td>\n",
       "        </tr>\n",
       "        <tr>\n",
       "            <td>17    </td> <td>22    </td> <td>33    </td> <td>0         </td> <td>0         </td> <td>0         </td>\n",
       "        </tr>\n",
       "        <tr>\n",
       "            <td>17    </td> <td>22    </td> <td>33    </td> <td>0         </td> <td>0         </td> <td>0         </td>\n",
       "        </tr>\n",
       "        <tr>\n",
       "            <td>20    </td> <td>25    </td> <td>30    </td> <td>0         </td> <td>1         </td> <td>0         </td>\n",
       "        </tr>\n",
       "    </tbody>\n",
       "</table>\n",
       "<p>... (9990 rows omitted)</p>"
      ],
      "text/plain": [
       "votes1 | votes2 | votes3 | voter piv1 | voter piv2 | voter piv3\n",
       "21     | 26     | 29     | 0          | 0          | 0\n",
       "20     | 25     | 30     | 0          | 1          | 0\n",
       "20     | 25     | 30     | 0          | 1          | 0\n",
       "24     | 29     | 26     | 0          | 0          | 0\n",
       "22     | 27     | 28     | 0          | 0          | 0\n",
       "22     | 27     | 28     | 0          | 0          | 0\n",
       "22     | 27     | 28     | 0          | 0          | 0\n",
       "17     | 22     | 33     | 0          | 0          | 0\n",
       "17     | 22     | 33     | 0          | 0          | 0\n",
       "20     | 25     | 30     | 0          | 1          | 0\n",
       "... (9990 rows omitted)"
      ]
     },
     "execution_count": 47,
     "metadata": {},
     "output_type": "execute_result"
    }
   ],
   "source": [
    "grouptrials = grouptrials.with_columns(\"voter piv1\", 1*(grouptrials.column(\"votes1\")==n1/2),\n",
    "                                       \"voter piv2\", 1*(grouptrials.column(\"votes2\")==n2/2),\n",
    "                                       \"voter piv3\", 1*(grouptrials.column(\"votes3\")==n3/2))\n",
    "grouptrials"
   ]
  },
  {
   "cell_type": "markdown",
   "metadata": {},
   "source": [
    "Let's check how often voters in group 1 are pivotal"
   ]
  },
  {
   "cell_type": "code",
   "execution_count": 48,
   "metadata": {},
   "outputs": [
    {
     "data": {
      "text/plain": [
       "0.0408"
      ]
     },
     "execution_count": 48,
     "metadata": {},
     "output_type": "execute_result"
    }
   ],
   "source": [
    "sum(grouptrials.column(\"voter piv1\"))/ntrials"
   ]
  },
  {
   "cell_type": "markdown",
   "metadata": {},
   "source": [
    "**Question 4a. Check how often voters in groups 2 and 3 are pivotal.**\n",
    "```\n",
    "BEGIN QUESTION\n",
    "name: q4a\n",
    "```"
   ]
  },
  {
   "cell_type": "code",
   "execution_count": 49,
   "metadata": {},
   "outputs": [
    {
     "data": {
      "text/plain": [
       "(0.1163, 0.0408)"
      ]
     },
     "execution_count": 49,
     "metadata": {},
     "output_type": "execute_result"
    }
   ],
   "source": [
    "group2pivotal = sum(grouptrials.column(\"voter piv2\"))/ntrials #SOLUTION\n",
    "group3pivotal = sum(grouptrials.column(\"voter piv3\"))/ntrials #SOLUTION\n",
    "group2pivotal, group3pivotal"
   ]
  },
  {
   "cell_type": "code",
   "execution_count": 50,
   "metadata": {},
   "outputs": [
    {
     "data": {
      "text/plain": [
       "True"
      ]
     },
     "execution_count": 50,
     "metadata": {},
     "output_type": "execute_result"
    }
   ],
   "source": [
    "## Hidden Test ## \n",
    "np.random.seed(88)\n",
    "group2pivotal == sum(grouptrials.column(\"voter piv2\"))/ntrials #SOLUTION"
   ]
  },
  {
   "cell_type": "code",
   "execution_count": 51,
   "metadata": {},
   "outputs": [
    {
     "data": {
      "text/plain": [
       "True"
      ]
     },
     "execution_count": 51,
     "metadata": {},
     "output_type": "execute_result"
    }
   ],
   "source": [
    "## Hidden Test ##\n",
    "np.random.seed(88)\n",
    "group3pivotal == sum(grouptrials.column(\"voter piv3\"))/ntrials"
   ]
  },
  {
   "cell_type": "markdown",
   "metadata": {},
   "source": [
    "**Question: you should get that two of the groups have a similar probability of being pivotal, but one is different. Which is different any why?**\n",
    "```\n",
    "BEGIN QUESTION\n",
    "name: q4b\n",
    "manual: true\n",
    "```"
   ]
  },
  {
   "cell_type": "markdown",
   "metadata": {},
   "source": [
    "**SOLUTION**"
   ]
  },
  {
   "cell_type": "markdown",
   "metadata": {},
   "source": [
    "Now let's check if each group is pivotal, i.e., if the group changing their vote changes which candidate wins the majority of groups. [Note: tricky stuff about ties here is important]"
   ]
  },
  {
   "cell_type": "code",
   "execution_count": 52,
   "metadata": {},
   "outputs": [
    {
     "data": {
      "text/html": [
       "<table border=\"1\" class=\"dataframe\">\n",
       "    <thead>\n",
       "        <tr>\n",
       "            <th>votes1</th> <th>votes2</th> <th>votes3</th> <th>voter piv1</th> <th>voter piv2</th> <th>voter piv3</th> <th>group piv1</th> <th>group piv2</th> <th>group piv3</th>\n",
       "        </tr>\n",
       "    </thead>\n",
       "    <tbody>\n",
       "        <tr>\n",
       "            <td>21    </td> <td>26    </td> <td>29    </td> <td>0         </td> <td>0         </td> <td>0         </td> <td>0         </td> <td>1         </td> <td>1         </td>\n",
       "        </tr>\n",
       "        <tr>\n",
       "            <td>20    </td> <td>25    </td> <td>30    </td> <td>0         </td> <td>1         </td> <td>0         </td> <td>1         </td> <td>1         </td> <td>1         </td>\n",
       "        </tr>\n",
       "        <tr>\n",
       "            <td>20    </td> <td>25    </td> <td>30    </td> <td>0         </td> <td>1         </td> <td>0         </td> <td>1         </td> <td>1         </td> <td>1         </td>\n",
       "        </tr>\n",
       "        <tr>\n",
       "            <td>24    </td> <td>29    </td> <td>26    </td> <td>0         </td> <td>0         </td> <td>0         </td> <td>0         </td> <td>1         </td> <td>1         </td>\n",
       "        </tr>\n",
       "        <tr>\n",
       "            <td>22    </td> <td>27    </td> <td>28    </td> <td>0         </td> <td>0         </td> <td>0         </td> <td>0         </td> <td>1         </td> <td>1         </td>\n",
       "        </tr>\n",
       "        <tr>\n",
       "            <td>22    </td> <td>27    </td> <td>28    </td> <td>0         </td> <td>0         </td> <td>0         </td> <td>0         </td> <td>1         </td> <td>1         </td>\n",
       "        </tr>\n",
       "        <tr>\n",
       "            <td>22    </td> <td>27    </td> <td>28    </td> <td>0         </td> <td>0         </td> <td>0         </td> <td>0         </td> <td>1         </td> <td>1         </td>\n",
       "        </tr>\n",
       "        <tr>\n",
       "            <td>17    </td> <td>22    </td> <td>33    </td> <td>0         </td> <td>0         </td> <td>0         </td> <td>1         </td> <td>1         </td> <td>0         </td>\n",
       "        </tr>\n",
       "        <tr>\n",
       "            <td>17    </td> <td>22    </td> <td>33    </td> <td>0         </td> <td>0         </td> <td>0         </td> <td>1         </td> <td>1         </td> <td>0         </td>\n",
       "        </tr>\n",
       "        <tr>\n",
       "            <td>20    </td> <td>25    </td> <td>30    </td> <td>0         </td> <td>1         </td> <td>0         </td> <td>1         </td> <td>1         </td> <td>1         </td>\n",
       "        </tr>\n",
       "    </tbody>\n",
       "</table>\n",
       "<p>... (9990 rows omitted)</p>"
      ],
      "text/plain": [
       "votes1 | votes2 | votes3 | voter piv1 | voter piv2 | voter piv3 | group piv1 | group piv2 | group piv3\n",
       "21     | 26     | 29     | 0          | 0          | 0          | 0          | 1          | 1\n",
       "20     | 25     | 30     | 0          | 1          | 0          | 1          | 1          | 1\n",
       "20     | 25     | 30     | 0          | 1          | 0          | 1          | 1          | 1\n",
       "24     | 29     | 26     | 0          | 0          | 0          | 0          | 1          | 1\n",
       "22     | 27     | 28     | 0          | 0          | 0          | 0          | 1          | 1\n",
       "22     | 27     | 28     | 0          | 0          | 0          | 0          | 1          | 1\n",
       "22     | 27     | 28     | 0          | 0          | 0          | 0          | 1          | 1\n",
       "17     | 22     | 33     | 0          | 0          | 0          | 1          | 1          | 0\n",
       "17     | 22     | 33     | 0          | 0          | 0          | 1          | 1          | 0\n",
       "20     | 25     | 30     | 0          | 1          | 0          | 1          | 1          | 1\n",
       "... (9990 rows omitted)"
      ]
     },
     "execution_count": 52,
     "metadata": {},
     "output_type": "execute_result"
    }
   ],
   "source": [
    "group1piv = 1*((grouptrials.column(\"votes2\") <= n2/2)*(grouptrials.column(\"votes3\") >= n3/2)+\n",
    "   (grouptrials.column(\"votes2\") >= n2/2)*(grouptrials.column(\"votes3\") <= n3/2))\n",
    "group2piv = 1*((grouptrials.column(\"votes1\") <= n2/2)*(grouptrials.column(\"votes3\") >= n3/2)+\n",
    "   (grouptrials.column(\"votes1\") >= n2/2)*(grouptrials.column(\"votes3\") <= n3/2))\n",
    "group3piv = 1*((grouptrials.column(\"votes1\") <= n2/2)*(grouptrials.column(\"votes2\") >= n3/2)+\n",
    "   (grouptrials.column(\"votes1\") >= n2/2)*(grouptrials.column(\"votes2\") <= n3/2))\n",
    "\n",
    "grouptrials = grouptrials.with_columns(\"group piv1\", group1piv,\n",
    "                                       \"group piv2\", group2piv,\n",
    "                                       \"group piv3\", group3piv)\n",
    "grouptrials"
   ]
  },
  {
   "cell_type": "markdown",
   "metadata": {},
   "source": [
    "**How often is each group pivotal?**\n",
    "```\n",
    "BEGIN QUESTION\n",
    "name: q4c\n",
    "```"
   ]
  },
  {
   "cell_type": "code",
   "execution_count": 53,
   "metadata": {},
   "outputs": [
    {
     "data": {
      "text/plain": [
       "(0.6486, 1.0, 0.5085)"
      ]
     },
     "execution_count": 53,
     "metadata": {},
     "output_type": "execute_result"
    }
   ],
   "source": [
    "group1_pivotal_rate = sum(grouptrials.column(\"group piv1\"))/ntrials # SOLUTION\n",
    "group2_pivotal_rate = sum(grouptrials.column(\"group piv2\"))/ntrials # SOLUTION\n",
    "group3_pivotal_rate = sum(grouptrials.column(\"group piv3\"))/ntrials # SOLUTION\n",
    "group1_pivotal_rate, group2_pivotal_rate, group3_pivotal_rate"
   ]
  },
  {
   "cell_type": "code",
   "execution_count": 54,
   "metadata": {
    "tags": []
   },
   "outputs": [
    {
     "data": {
      "text/plain": [
       "True"
      ]
     },
     "execution_count": 54,
     "metadata": {},
     "output_type": "execute_result"
    }
   ],
   "source": [
    "## Test ##\n",
    "0 <= group1_pivotal_rate <= 1"
   ]
  },
  {
   "cell_type": "code",
   "execution_count": 55,
   "metadata": {
    "tags": []
   },
   "outputs": [
    {
     "data": {
      "text/plain": [
       "True"
      ]
     },
     "execution_count": 55,
     "metadata": {},
     "output_type": "execute_result"
    }
   ],
   "source": [
    "## Hidden Test ##\n",
    "np.random.seed(88)\n",
    "group1_pivotal_rate == sum(grouptrials.column(\"group piv1\"))/ntrials # SOLUTION"
   ]
  },
  {
   "cell_type": "code",
   "execution_count": 56,
   "metadata": {},
   "outputs": [
    {
     "data": {
      "text/plain": [
       "True"
      ]
     },
     "execution_count": 56,
     "metadata": {},
     "output_type": "execute_result"
    }
   ],
   "source": [
    "## Test ##\n",
    "0 <= group2_pivotal_rate <= 1"
   ]
  },
  {
   "cell_type": "code",
   "execution_count": 57,
   "metadata": {},
   "outputs": [
    {
     "data": {
      "text/plain": [
       "True"
      ]
     },
     "execution_count": 57,
     "metadata": {},
     "output_type": "execute_result"
    }
   ],
   "source": [
    "## Hidden Test ##\n",
    "np.random.seed(88)\n",
    "group2_pivotal_rate == sum(grouptrials.column(\"group piv2\"))/ntrials # SOLUTION"
   ]
  },
  {
   "cell_type": "code",
   "execution_count": 58,
   "metadata": {},
   "outputs": [
    {
     "data": {
      "text/plain": [
       "True"
      ]
     },
     "execution_count": 58,
     "metadata": {},
     "output_type": "execute_result"
    }
   ],
   "source": [
    "## Test ##\n",
    "0 <= group3_pivotal_rate <= 1"
   ]
  },
  {
   "cell_type": "code",
   "execution_count": 59,
   "metadata": {},
   "outputs": [
    {
     "data": {
      "text/plain": [
       "True"
      ]
     },
     "execution_count": 59,
     "metadata": {},
     "output_type": "execute_result"
    }
   ],
   "source": [
    "## Hidden Test ##\n",
    "np.random.seed(88)\n",
    "group3_pivotal_rate == sum(grouptrials.column(\"group piv3\"))/ntrials # SOLUTION"
   ]
  },
  {
   "cell_type": "markdown",
   "metadata": {},
   "source": [
    "```\n",
    "BEGIN QUESTION\n",
    "name: q4d\n",
    "manual: true\n",
    "```\n",
    "**Two groups should have similar probabilities, with one group fairly different. Why is the case?**"
   ]
  },
  {
   "cell_type": "markdown",
   "metadata": {},
   "source": [
    "**SOLUTION**: Answer to 2c here"
   ]
  },
  {
   "cell_type": "markdown",
   "metadata": {},
   "source": [
    "A voter will be pivotal \"overall\" if they are pivotal within the group and the group is pivotal in the election. We can compute this by multiplying whether a voter is pivotal by whether their group is pivotal: the only voters who will be pivotal (represented by a 1) will have a 1 in both columns."
   ]
  },
  {
   "cell_type": "code",
   "execution_count": 60,
   "metadata": {
    "scrolled": true
   },
   "outputs": [
    {
     "data": {
      "text/html": [
       "<table border=\"1\" class=\"dataframe\">\n",
       "    <thead>\n",
       "        <tr>\n",
       "            <th>votes1</th> <th>votes2</th> <th>votes3</th> <th>voter piv1</th> <th>voter piv2</th> <th>voter piv3</th> <th>group piv1</th> <th>group piv2</th> <th>group piv3</th> <th>overall piv 1</th> <th>overall piv 2</th> <th>overall piv 3</th>\n",
       "        </tr>\n",
       "    </thead>\n",
       "    <tbody>\n",
       "        <tr>\n",
       "            <td>21    </td> <td>26    </td> <td>29    </td> <td>0         </td> <td>0         </td> <td>0         </td> <td>0         </td> <td>1         </td> <td>1         </td> <td>0            </td> <td>0            </td> <td>0            </td>\n",
       "        </tr>\n",
       "        <tr>\n",
       "            <td>20    </td> <td>25    </td> <td>30    </td> <td>0         </td> <td>1         </td> <td>0         </td> <td>1         </td> <td>1         </td> <td>1         </td> <td>0            </td> <td>1            </td> <td>0            </td>\n",
       "        </tr>\n",
       "        <tr>\n",
       "            <td>20    </td> <td>25    </td> <td>30    </td> <td>0         </td> <td>1         </td> <td>0         </td> <td>1         </td> <td>1         </td> <td>1         </td> <td>0            </td> <td>1            </td> <td>0            </td>\n",
       "        </tr>\n",
       "        <tr>\n",
       "            <td>24    </td> <td>29    </td> <td>26    </td> <td>0         </td> <td>0         </td> <td>0         </td> <td>0         </td> <td>1         </td> <td>1         </td> <td>0            </td> <td>0            </td> <td>0            </td>\n",
       "        </tr>\n",
       "        <tr>\n",
       "            <td>22    </td> <td>27    </td> <td>28    </td> <td>0         </td> <td>0         </td> <td>0         </td> <td>0         </td> <td>1         </td> <td>1         </td> <td>0            </td> <td>0            </td> <td>0            </td>\n",
       "        </tr>\n",
       "        <tr>\n",
       "            <td>22    </td> <td>27    </td> <td>28    </td> <td>0         </td> <td>0         </td> <td>0         </td> <td>0         </td> <td>1         </td> <td>1         </td> <td>0            </td> <td>0            </td> <td>0            </td>\n",
       "        </tr>\n",
       "        <tr>\n",
       "            <td>22    </td> <td>27    </td> <td>28    </td> <td>0         </td> <td>0         </td> <td>0         </td> <td>0         </td> <td>1         </td> <td>1         </td> <td>0            </td> <td>0            </td> <td>0            </td>\n",
       "        </tr>\n",
       "        <tr>\n",
       "            <td>17    </td> <td>22    </td> <td>33    </td> <td>0         </td> <td>0         </td> <td>0         </td> <td>1         </td> <td>1         </td> <td>0         </td> <td>0            </td> <td>0            </td> <td>0            </td>\n",
       "        </tr>\n",
       "        <tr>\n",
       "            <td>17    </td> <td>22    </td> <td>33    </td> <td>0         </td> <td>0         </td> <td>0         </td> <td>1         </td> <td>1         </td> <td>0         </td> <td>0            </td> <td>0            </td> <td>0            </td>\n",
       "        </tr>\n",
       "        <tr>\n",
       "            <td>20    </td> <td>25    </td> <td>30    </td> <td>0         </td> <td>1         </td> <td>0         </td> <td>1         </td> <td>1         </td> <td>1         </td> <td>0            </td> <td>1            </td> <td>0            </td>\n",
       "        </tr>\n",
       "    </tbody>\n",
       "</table>\n",
       "<p>... (9990 rows omitted)</p>"
      ],
      "text/plain": [
       "votes1 | votes2 | votes3 | voter piv1 | voter piv2 | voter piv3 | group piv1 | group piv2 | group piv3 | overall piv 1 | overall piv 2 | overall piv 3\n",
       "21     | 26     | 29     | 0          | 0          | 0          | 0          | 1          | 1          | 0             | 0             | 0\n",
       "20     | 25     | 30     | 0          | 1          | 0          | 1          | 1          | 1          | 0             | 1             | 0\n",
       "20     | 25     | 30     | 0          | 1          | 0          | 1          | 1          | 1          | 0             | 1             | 0\n",
       "24     | 29     | 26     | 0          | 0          | 0          | 0          | 1          | 1          | 0             | 0             | 0\n",
       "22     | 27     | 28     | 0          | 0          | 0          | 0          | 1          | 1          | 0             | 0             | 0\n",
       "22     | 27     | 28     | 0          | 0          | 0          | 0          | 1          | 1          | 0             | 0             | 0\n",
       "22     | 27     | 28     | 0          | 0          | 0          | 0          | 1          | 1          | 0             | 0             | 0\n",
       "17     | 22     | 33     | 0          | 0          | 0          | 1          | 1          | 0          | 0             | 0             | 0\n",
       "17     | 22     | 33     | 0          | 0          | 0          | 1          | 1          | 0          | 0             | 0             | 0\n",
       "20     | 25     | 30     | 0          | 1          | 0          | 1          | 1          | 1          | 0             | 1             | 0\n",
       "... (9990 rows omitted)"
      ]
     },
     "execution_count": 60,
     "metadata": {},
     "output_type": "execute_result"
    }
   ],
   "source": [
    "grouptrials = grouptrials.with_columns(\"overall piv 1\", \n",
    "                                      grouptrials.column(\"voter piv1\")*grouptrials.column(\"group piv1\"),\n",
    "                                       \"overall piv 2\", \n",
    "                                      grouptrials.column(\"voter piv2\")*grouptrials.column(\"group piv2\"),\n",
    "                                       \"overall piv 3\", \n",
    "                                      grouptrials.column(\"voter piv3\")*grouptrials.column(\"group piv3\"))\n",
    "\n",
    "grouptrials"
   ]
  },
  {
   "cell_type": "markdown",
   "metadata": {},
   "source": [
    "**What is the probability of a voter in each group being pivotal?**\n",
    "```\n",
    "BEGIN QUESTION\n",
    "name: q4e\n",
    "```"
   ]
  },
  {
   "cell_type": "code",
   "execution_count": 61,
   "metadata": {},
   "outputs": [
    {
     "data": {
      "text/plain": [
       "(0.0408, 0.1163, 0.0408)"
      ]
     },
     "execution_count": 61,
     "metadata": {},
     "output_type": "execute_result"
    }
   ],
   "source": [
    "voter_1_pivotal_prob = sum(grouptrials.column(\"overall piv 1\"))/ntrials\n",
    "voter_2_pivotal_prob = sum(grouptrials.column(\"overall piv 2\"))/ntrials # SOLUTION\n",
    "voter_3_pivotal_prob = sum(grouptrials.column(\"overall piv 3\"))/ntrials # SOLUTION\n",
    "\n",
    "voter_1_pivotal_prob, voter_2_pivotal_prob, voter_3_pivotal_prob"
   ]
  },
  {
   "cell_type": "code",
   "execution_count": 62,
   "metadata": {},
   "outputs": [
    {
     "data": {
      "text/plain": [
       "True"
      ]
     },
     "execution_count": 62,
     "metadata": {},
     "output_type": "execute_result"
    }
   ],
   "source": [
    "# TEST \n",
    "0 <= voter_2_pivotal_prob <= .25"
   ]
  },
  {
   "cell_type": "code",
   "execution_count": 63,
   "metadata": {},
   "outputs": [
    {
     "data": {
      "text/plain": [
       "True"
      ]
     },
     "execution_count": 63,
     "metadata": {},
     "output_type": "execute_result"
    }
   ],
   "source": [
    "## Hidden Test ##\n",
    "voter_2_pivotal_prob == sum(grouptrials.column(\"overall piv 2\"))/ntrials"
   ]
  },
  {
   "cell_type": "code",
   "execution_count": 64,
   "metadata": {},
   "outputs": [
    {
     "data": {
      "text/plain": [
       "True"
      ]
     },
     "execution_count": 64,
     "metadata": {},
     "output_type": "execute_result"
    }
   ],
   "source": [
    "# TEST \n",
    "0 <= voter_3_pivotal_prob <= .25"
   ]
  },
  {
   "cell_type": "code",
   "execution_count": 65,
   "metadata": {},
   "outputs": [
    {
     "data": {
      "text/plain": [
       "True"
      ]
     },
     "execution_count": 65,
     "metadata": {},
     "output_type": "execute_result"
    }
   ],
   "source": [
    "## Hidden Test ##\n",
    "voter_3_pivotal_prob == sum(grouptrials.column(\"overall piv 3\"))/ntrials"
   ]
  },
  {
   "cell_type": "markdown",
   "metadata": {},
   "source": [
    "We can graph the frequency with which a voter in a group is pivotal using `.hist(\"COLUMNNAME\")`. Below, we graph the frequency of a voter in group one being pivotal. You can try graphing the frequency for voters in other groups by changing the column name below. "
   ]
  },
  {
   "cell_type": "code",
   "execution_count": 66,
   "metadata": {},
   "outputs": [
    {
     "data": {
      "image/png": "[encoded data removed]",
      "text/plain": [
       "<Figure size 432x288 with 1 Axes>"
      ]
     },
     "metadata": {
      "needs_background": "light"
     },
     "output_type": "display_data"
    }
   ],
   "source": [
    "grouptrials.hist(\"overall piv 1\")"
   ]
  },
  {
   "cell_type": "markdown",
   "metadata": {},
   "source": [
    "How frequently do we see the combination of different voter and group pivotal status? In the cells below, we calculate both the absolute frequency as well as percentage of times in which a voter is or is not pivotal within their group as well as their group is or is not. For example, for the cell in which `col_0` and `row_0` equal 0, neither the voter nor the group was pivotal."
   ]
  },
  {
   "cell_type": "code",
   "execution_count": 67,
   "metadata": {},
   "outputs": [
    {
     "data": {
      "text/html": [
       "<div>\n",
       "<style scoped>\n",
       "    .dataframe tbody tr th:only-of-type {\n",
       "        vertical-align: middle;\n",
       "    }\n",
       "\n",
       "    .dataframe tbody tr th {\n",
       "        vertical-align: top;\n",
       "    }\n",
       "\n",
       "    .dataframe thead th {\n",
       "        text-align: right;\n",
       "    }\n",
       "</style>\n",
       "<table border=\"1\" class=\"dataframe\">\n",
       "  <thead>\n",
       "    <tr style=\"text-align: right;\">\n",
       "      <th>col_0</th>\n",
       "      <th>0</th>\n",
       "      <th>1</th>\n",
       "    </tr>\n",
       "    <tr>\n",
       "      <th>row_0</th>\n",
       "      <th></th>\n",
       "      <th></th>\n",
       "    </tr>\n",
       "  </thead>\n",
       "  <tbody>\n",
       "    <tr>\n",
       "      <th>0</th>\n",
       "      <td>3514</td>\n",
       "      <td>6078</td>\n",
       "    </tr>\n",
       "    <tr>\n",
       "      <th>1</th>\n",
       "      <td>0</td>\n",
       "      <td>408</td>\n",
       "    </tr>\n",
       "  </tbody>\n",
       "</table>\n",
       "</div>"
      ],
      "text/plain": [
       "col_0     0     1\n",
       "row_0            \n",
       "0      3514  6078\n",
       "1         0   408"
      ]
     },
     "execution_count": 67,
     "metadata": {},
     "output_type": "execute_result"
    }
   ],
   "source": [
    "pd.crosstab(grouptrials.column(\"voter piv1\"), grouptrials.column(\"group piv1\"))"
   ]
  },
  {
   "cell_type": "markdown",
   "metadata": {},
   "source": [
    "This cell mimics the above, except that by normalizing, we see the frequencies as a percentage overall."
   ]
  },
  {
   "cell_type": "code",
   "execution_count": 68,
   "metadata": {},
   "outputs": [
    {
     "data": {
      "text/html": [
       "<div>\n",
       "<style scoped>\n",
       "    .dataframe tbody tr th:only-of-type {\n",
       "        vertical-align: middle;\n",
       "    }\n",
       "\n",
       "    .dataframe tbody tr th {\n",
       "        vertical-align: top;\n",
       "    }\n",
       "\n",
       "    .dataframe thead th {\n",
       "        text-align: right;\n",
       "    }\n",
       "</style>\n",
       "<table border=\"1\" class=\"dataframe\">\n",
       "  <thead>\n",
       "    <tr style=\"text-align: right;\">\n",
       "      <th>col_0</th>\n",
       "      <th>0</th>\n",
       "      <th>1</th>\n",
       "    </tr>\n",
       "    <tr>\n",
       "      <th>row_0</th>\n",
       "      <th></th>\n",
       "      <th></th>\n",
       "    </tr>\n",
       "  </thead>\n",
       "  <tbody>\n",
       "    <tr>\n",
       "      <th>0</th>\n",
       "      <td>0.3514</td>\n",
       "      <td>0.6078</td>\n",
       "    </tr>\n",
       "    <tr>\n",
       "      <th>1</th>\n",
       "      <td>0.0000</td>\n",
       "      <td>0.0408</td>\n",
       "    </tr>\n",
       "  </tbody>\n",
       "</table>\n",
       "</div>"
      ],
      "text/plain": [
       "col_0       0       1\n",
       "row_0                \n",
       "0      0.3514  0.6078\n",
       "1      0.0000  0.0408"
      ]
     },
     "execution_count": 68,
     "metadata": {},
     "output_type": "execute_result"
    }
   ],
   "source": [
    "pd.crosstab(grouptrials.column(\"voter piv1\"), grouptrials.column(\"group piv1\"), normalize=True)"
   ]
  },
  {
   "cell_type": "markdown",
   "metadata": {},
   "source": [
    "Here is a function that ties it all together. It creates a table with group population parameter sizes as well as parameters for the probability of each kind of voter voting for candidate A."
   ]
  },
  {
   "cell_type": "code",
   "execution_count": 69,
   "metadata": {},
   "outputs": [],
   "source": [
    "def maketable(n1=50, n2=50, n3=50, p1=.4, p2=.5, p3=.6, ntrials=10000):\n",
    "    group1 = [np.random.binomial(n=n1, p=p1) for _ in range(ntrials)]\n",
    "    group2 = [np.random.binomial(n=n2, p=p2) for _ in range(ntrials)]\n",
    "    group3 = [np.random.binomial(n=n3, p=p3) for _ in range(ntrials)] \n",
    "    grouptrials = Table().with_columns(\"votes1\",group1,\n",
    "                                 \"votes2\", group2,\n",
    "                                 \"votes3\",group3)\n",
    "    grouptrials = grouptrials.with_columns(\"voter piv1\", 1*(grouptrials.column(\"votes1\")==n1/2),\n",
    "                                       \"voter piv2\", 1*(grouptrials.column(\"votes2\")==n2/2),\n",
    "                                       \"voter piv3\", 1*(grouptrials.column(\"votes3\")==n3/2))\n",
    "    group1piv = 1*((grouptrials.column(\"votes2\") <= n2/2)*(grouptrials.column(\"votes3\") >= n3/2)+\n",
    "   (grouptrials.column(\"votes2\") >= n2/2)*(grouptrials.column(\"votes3\") <= n3/2))\n",
    "    group2piv = 1*((grouptrials.column(\"votes1\") <= n2/2)*(grouptrials.column(\"votes3\") >= n3/2)+\n",
    "   (grouptrials.column(\"votes1\") >= n2/2)*(grouptrials.column(\"votes3\") <= n3/2))\n",
    "    group3piv = 1*((grouptrials.column(\"votes1\") <= n2/2)*(grouptrials.column(\"votes2\") >= n3/2)+\n",
    "   (grouptrials.column(\"votes1\") >= n2/2)*(grouptrials.column(\"votes2\") <= n3/2))\n",
    "    grouptrials = grouptrials.with_columns(\"group piv1\", group1piv,\n",
    "                                       \"group piv2\", group2piv,\n",
    "                                       \"group piv3\", group3piv)\n",
    "    grouptrials = grouptrials.with_columns(\"overall piv1\", \n",
    "                                      grouptrials.column(\"voter piv1\")*grouptrials.column(\"group piv1\"),\n",
    "                                       \"overall piv2\", \n",
    "                                      grouptrials.column(\"voter piv2\")*grouptrials.column(\"group piv2\"),\n",
    "                                       \"overall piv3\", \n",
    "                                      grouptrials.column(\"voter piv3\")*grouptrials.column(\"group piv3\"))\n",
    "    return grouptrials"
   ]
  },
  {
   "cell_type": "code",
   "execution_count": 70,
   "metadata": {},
   "outputs": [
    {
     "data": {
      "text/html": [
       "<table border=\"1\" class=\"dataframe\">\n",
       "    <thead>\n",
       "        <tr>\n",
       "            <th>votes1</th> <th>votes2</th> <th>votes3</th> <th>voter piv1</th> <th>voter piv2</th> <th>voter piv3</th> <th>group piv1</th> <th>group piv2</th> <th>group piv3</th> <th>overall piv1</th> <th>overall piv2</th> <th>overall piv3</th>\n",
       "        </tr>\n",
       "    </thead>\n",
       "    <tbody>\n",
       "        <tr>\n",
       "            <td>21    </td> <td>30    </td> <td>33    </td> <td>0         </td> <td>0         </td> <td>0         </td> <td>0         </td> <td>1         </td> <td>1         </td> <td>0           </td> <td>0           </td> <td>0           </td>\n",
       "        </tr>\n",
       "        <tr>\n",
       "            <td>20    </td> <td>29    </td> <td>33    </td> <td>0         </td> <td>0         </td> <td>0         </td> <td>0         </td> <td>1         </td> <td>1         </td> <td>0           </td> <td>0           </td> <td>0           </td>\n",
       "        </tr>\n",
       "        <tr>\n",
       "            <td>20    </td> <td>30    </td> <td>32    </td> <td>0         </td> <td>0         </td> <td>0         </td> <td>0         </td> <td>1         </td> <td>1         </td> <td>0           </td> <td>0           </td> <td>0           </td>\n",
       "        </tr>\n",
       "        <tr>\n",
       "            <td>24    </td> <td>25    </td> <td>28    </td> <td>0         </td> <td>1         </td> <td>0         </td> <td>1         </td> <td>1         </td> <td>1         </td> <td>0           </td> <td>1           </td> <td>0           </td>\n",
       "        </tr>\n",
       "        <tr>\n",
       "            <td>22    </td> <td>21    </td> <td>24    </td> <td>0         </td> <td>0         </td> <td>0         </td> <td>0         </td> <td>0         </td> <td>0         </td> <td>0           </td> <td>0           </td> <td>0           </td>\n",
       "        </tr>\n",
       "        <tr>\n",
       "            <td>22    </td> <td>26    </td> <td>31    </td> <td>0         </td> <td>0         </td> <td>0         </td> <td>0         </td> <td>1         </td> <td>1         </td> <td>0           </td> <td>0           </td> <td>0           </td>\n",
       "        </tr>\n",
       "        <tr>\n",
       "            <td>22    </td> <td>19    </td> <td>29    </td> <td>0         </td> <td>0         </td> <td>0         </td> <td>1         </td> <td>1         </td> <td>0         </td> <td>0           </td> <td>0           </td> <td>0           </td>\n",
       "        </tr>\n",
       "        <tr>\n",
       "            <td>17    </td> <td>29    </td> <td>32    </td> <td>0         </td> <td>0         </td> <td>0         </td> <td>0         </td> <td>1         </td> <td>1         </td> <td>0           </td> <td>0           </td> <td>0           </td>\n",
       "        </tr>\n",
       "        <tr>\n",
       "            <td>17    </td> <td>25    </td> <td>27    </td> <td>0         </td> <td>1         </td> <td>0         </td> <td>1         </td> <td>1         </td> <td>1         </td> <td>0           </td> <td>1           </td> <td>0           </td>\n",
       "        </tr>\n",
       "        <tr>\n",
       "            <td>20    </td> <td>22    </td> <td>26    </td> <td>0         </td> <td>0         </td> <td>0         </td> <td>1         </td> <td>1         </td> <td>0         </td> <td>0           </td> <td>0           </td> <td>0           </td>\n",
       "        </tr>\n",
       "    </tbody>\n",
       "</table>\n",
       "<p>... (9990 rows omitted)</p>"
      ],
      "text/plain": [
       "votes1 | votes2 | votes3 | voter piv1 | voter piv2 | voter piv3 | group piv1 | group piv2 | group piv3 | overall piv1 | overall piv2 | overall piv3\n",
       "21     | 30     | 33     | 0          | 0          | 0          | 0          | 1          | 1          | 0            | 0            | 0\n",
       "20     | 29     | 33     | 0          | 0          | 0          | 0          | 1          | 1          | 0            | 0            | 0\n",
       "20     | 30     | 32     | 0          | 0          | 0          | 0          | 1          | 1          | 0            | 0            | 0\n",
       "24     | 25     | 28     | 0          | 1          | 0          | 1          | 1          | 1          | 0            | 1            | 0\n",
       "22     | 21     | 24     | 0          | 0          | 0          | 0          | 0          | 0          | 0            | 0            | 0\n",
       "22     | 26     | 31     | 0          | 0          | 0          | 0          | 1          | 1          | 0            | 0            | 0\n",
       "22     | 19     | 29     | 0          | 0          | 0          | 1          | 1          | 0          | 0            | 0            | 0\n",
       "17     | 29     | 32     | 0          | 0          | 0          | 0          | 1          | 1          | 0            | 0            | 0\n",
       "17     | 25     | 27     | 0          | 1          | 0          | 1          | 1          | 1          | 0            | 1            | 0\n",
       "20     | 22     | 26     | 0          | 0          | 0          | 1          | 1          | 0          | 0            | 0            | 0\n",
       "... (9990 rows omitted)"
      ]
     },
     "execution_count": 70,
     "metadata": {},
     "output_type": "execute_result"
    }
   ],
   "source": [
    "test = maketable()\n",
    "test"
   ]
  },
  {
   "cell_type": "markdown",
   "metadata": {},
   "source": [
    "What happens as we change the number of voters in each group relative to one another? In the following cell, use the sliders to change the number of voters in each group."
   ]
  },
  {
   "cell_type": "code",
   "execution_count": 71,
   "metadata": {},
   "outputs": [
    {
     "data": {
      "application/vnd.jupyter.widget-view+json": {
       "model_id": "7c39f0826f194944a5d0f4233c572118",
       "version_major": 2,
       "version_minor": 0
      },
      "text/plain": [
       "interactive(children=(IntSlider(value=100, description='n1', max=300), IntSlider(value=100, description='n2', …"
      ]
     },
     "metadata": {},
     "output_type": "display_data"
    },
    {
     "data": {
      "text/plain": [
       "<function __main__.voter_piv_rate(n1, n2, n3)>"
      ]
     },
     "execution_count": 71,
     "metadata": {},
     "output_type": "execute_result"
    }
   ],
   "source": [
    "def voter_piv_rate(n1, n2, n3):\n",
    "    sims = maketable(n1, n2, n3)\n",
    "    for i in range(1,4):\n",
    "        print(\"Voter and Group are Both Pivotal Frequency\", sum(sims.column(f\"overall piv{i}\"))/ntrials)\n",
    "        sims.hist(f\"overall piv{i}\")\n",
    "        plt.show()\n",
    "interact(voter_piv_rate, n1=IntSlider(min=0,max=300, value=100), n2=IntSlider(min=0,max=300, value=100), n3=IntSlider(min=0,max=300, value=100))"
   ]
  },
  {
   "cell_type": "markdown",
   "metadata": {},
   "source": [
    "What happens as you change the sliders? Can you make the frequencies the same? How?\n",
    "```\n",
    "BEGIN QUESTION\n",
    "name: q4f\n",
    "manual: true\n",
    "```\n"
   ]
  },
  {
   "cell_type": "markdown",
   "metadata": {},
   "source": [
    "**SOLUTION**: Answer to 4f here"
   ]
  },
  {
   "cell_type": "markdown",
   "metadata": {},
   "source": [
    "If we keep the voter populations static, but change their probability of voting for candidate A, what happens?"
   ]
  },
  {
   "cell_type": "code",
   "execution_count": 72,
   "metadata": {},
   "outputs": [
    {
     "data": {
      "application/vnd.jupyter.widget-view+json": {
       "model_id": "4ead372b1ac345e68ba82774dfcdaece",
       "version_major": 2,
       "version_minor": 0
      },
      "text/plain": [
       "interactive(children=(FloatSlider(value=0.4, description='p1', max=1.0), FloatSlider(value=0.5, description='p…"
      ]
     },
     "metadata": {},
     "output_type": "display_data"
    },
    {
     "data": {
      "text/plain": [
       "<function __main__.voter_piv_rate(p1, p2, p3)>"
      ]
     },
     "execution_count": 72,
     "metadata": {},
     "output_type": "execute_result"
    }
   ],
   "source": [
    "def voter_piv_rate(p1, p2, p3):\n",
    "    sims = maketable(p1=p1, p2=p2, p3=p3)\n",
    "    for i in range(1,4):\n",
    "        print(\"Voter and Group are Both Pivotal Frequency\", sum(sims.column(f\"overall piv{i}\"))/ntrials)\n",
    "        sims.hist(f\"overall piv{i}\")\n",
    "        plt.show()\n",
    "    return sims\n",
    "interact(voter_piv_rate, p1=FloatSlider(min=0,max=1, value=.4, step=.1), p2=FloatSlider(min=0,max=1, value=.5, step=.1), p3=FloatSlider(min=0,max=1, value=.6, step=.1))"
   ]
  },
  {
   "cell_type": "markdown",
   "metadata": {},
   "source": [
    "What happens as you change the sliders? Can you make the frequencies the same? How?\n",
    "```\n",
    "BEGIN QUESTION\n",
    "name: q4g\n",
    "manual: true\n",
    "```\n"
   ]
  },
  {
   "cell_type": "markdown",
   "metadata": {},
   "source": [
    "**SOLUTION**: Answer to 4g here"
   ]
  },
  {
   "cell_type": "code",
   "execution_count": null,
   "metadata": {},
   "outputs": [],
   "source": []
  }
 ],
 "metadata": {
  "history": [
   {
    "code": "import numpy as np",
    "id": "b057406b9b0c4fb3ab292181761c6e8c",
    "idx": 0,
    "time": "2021-02-01T20:39:23.775Z",
    "type": "execution"
   },
   {
    "id": "b057406b9b0c4fb3ab292181761c6e8c",
    "time": "2021-02-01T20:39:23.971Z",
    "type": "completion"
   },
   {
    "code": "np.random.binomial(n=10, p=.5)",
    "id": "553ac8852d5e48a194d8329684042af0",
    "idx": 1,
    "time": "2021-02-01T20:40:20.323Z",
    "type": "execution"
   },
   {
    "id": "553ac8852d5e48a194d8329684042af0",
    "time": "2021-02-01T20:40:20.398Z",
    "type": "completion"
   },
   {
    "code": "np.random.binomial(n=10, p=.5)",
    "id": "553ac8852d5e48a194d8329684042af0",
    "idx": 1,
    "time": "2021-02-01T20:40:23.484Z",
    "type": "execution"
   },
   {
    "id": "553ac8852d5e48a194d8329684042af0",
    "time": "2021-02-01T20:40:23.548Z",
    "type": "completion"
   },
   {
    "code": "np.random.binomial(n=10, p=.5)",
    "id": "553ac8852d5e48a194d8329684042af0",
    "idx": 1,
    "time": "2021-02-01T20:40:25.206Z",
    "type": "execution"
   },
   {
    "id": "553ac8852d5e48a194d8329684042af0",
    "time": "2021-02-01T20:40:25.269Z",
    "type": "completion"
   },
   {
    "code": "trials = [np.random.binomial(n=10, p.5)] for _ in range(1000)",
    "id": "99931d290bf1463cbcddafa7291a9466",
    "idx": 2,
    "time": "2021-02-01T20:50:52.207Z",
    "type": "execution"
   },
   {
    "id": "99931d290bf1463cbcddafa7291a9466",
    "time": "2021-02-01T20:50:52.275Z",
    "type": "completion"
   },
   {
    "code": "trials = [np.random.binomial(n=10, p=.5)] for _ in range(1000)",
    "id": "99931d290bf1463cbcddafa7291a9466",
    "idx": 2,
    "time": "2021-02-01T20:50:56.321Z",
    "type": "execution"
   },
   {
    "id": "99931d290bf1463cbcddafa7291a9466",
    "time": "2021-02-01T20:50:56.385Z",
    "type": "completion"
   },
   {
    "code": "trials = [np.random.binomial(n=10, p=.5] for _ in range(1000)]",
    "id": "99931d290bf1463cbcddafa7291a9466",
    "idx": 2,
    "time": "2021-02-01T20:51:07.968Z",
    "type": "execution"
   },
   {
    "id": "99931d290bf1463cbcddafa7291a9466",
    "time": "2021-02-01T20:51:08.030Z",
    "type": "completion"
   },
   {
    "code": "trials = [np.random.binomial(n=10, p=.5) for _ in range(1000)]",
    "id": "99931d290bf1463cbcddafa7291a9466",
    "idx": 2,
    "time": "2021-02-01T20:51:13.424Z",
    "type": "execution"
   },
   {
    "id": "99931d290bf1463cbcddafa7291a9466",
    "time": "2021-02-01T20:51:13.489Z",
    "type": "completion"
   },
   {
    "code": "trials",
    "id": "2780c65db9ec46ce832d3ac2c9ce31db",
    "idx": 3,
    "time": "2021-02-01T20:51:17.721Z",
    "type": "execution"
   },
   {
    "id": "2780c65db9ec46ce832d3ac2c9ce31db",
    "time": "2021-02-01T20:51:17.795Z",
    "type": "completion"
   },
   {
    "code": "import numpy as np\nimport pandas as pd",
    "id": "b057406b9b0c4fb3ab292181761c6e8c",
    "idx": 0,
    "time": "2021-02-01T20:51:34.135Z",
    "type": "execution"
   },
   {
    "id": "b057406b9b0c4fb3ab292181761c6e8c",
    "time": "2021-02-01T20:51:34.413Z",
    "type": "completion"
   },
   {
    "code": "import numpy as np\nimport pandas as pd\nimport matplotlib.pyplot as plt",
    "id": "b057406b9b0c4fb3ab292181761c6e8c",
    "idx": 0,
    "time": "2021-02-01T20:51:49.187Z",
    "type": "execution"
   },
   {
    "id": "b057406b9b0c4fb3ab292181761c6e8c",
    "time": "2021-02-01T20:51:49.478Z",
    "type": "completion"
   },
   {
    "code": "sns.distplot(trials)",
    "id": "af0c213d61b74fe68a39a23060d9f26e",
    "idx": 4,
    "time": "2021-02-01T20:52:23.093Z",
    "type": "execution"
   },
   {
    "id": "af0c213d61b74fe68a39a23060d9f26e",
    "time": "2021-02-01T20:52:23.257Z",
    "type": "completion"
   },
   {
    "code": "import numpy as np\nimport pandas as pd\nimport matplotlib.pyplot as plt\nimport seaborn as sns",
    "id": "b057406b9b0c4fb3ab292181761c6e8c",
    "idx": 0,
    "time": "2021-02-01T20:52:31.958Z",
    "type": "execution"
   },
   {
    "id": "b057406b9b0c4fb3ab292181761c6e8c",
    "time": "2021-02-01T20:52:32.430Z",
    "type": "completion"
   },
   {
    "code": "sns.distplot(trials)",
    "id": "af0c213d61b74fe68a39a23060d9f26e",
    "idx": 4,
    "time": "2021-02-01T20:52:33.915Z",
    "type": "execution"
   },
   {
    "id": "af0c213d61b74fe68a39a23060d9f26e",
    "time": "2021-02-01T20:52:34.234Z",
    "type": "completion"
   },
   {
    "code": "sns.barplot(trials)",
    "id": "af0c213d61b74fe68a39a23060d9f26e",
    "idx": 4,
    "time": "2021-02-01T20:52:51.015Z",
    "type": "execution"
   },
   {
    "id": "af0c213d61b74fe68a39a23060d9f26e",
    "time": "2021-02-01T20:52:51.190Z",
    "type": "completion"
   },
   {
    "code": "sns.countplot(trials)",
    "id": "af0c213d61b74fe68a39a23060d9f26e",
    "idx": 4,
    "time": "2021-02-01T20:53:31.098Z",
    "type": "execution"
   },
   {
    "id": "af0c213d61b74fe68a39a23060d9f26e",
    "time": "2021-02-01T20:53:31.318Z",
    "type": "completion"
   },
   {
    "code": "np.random.binomial(n=10, p=.5) ==5",
    "id": "51f58e174c89401782038f51f0043831",
    "idx": 2,
    "time": "2021-02-01T20:56:42.951Z",
    "type": "execution"
   },
   {
    "id": "51f58e174c89401782038f51f0043831",
    "time": "2021-02-01T20:56:43.014Z",
    "type": "completion"
   },
   {
    "code": "np.random.binomial(n=10, p=.5) ==5",
    "id": "51f58e174c89401782038f51f0043831",
    "idx": 2,
    "time": "2021-02-01T20:56:45.459Z",
    "type": "execution"
   },
   {
    "id": "51f58e174c89401782038f51f0043831",
    "time": "2021-02-01T20:56:45.520Z",
    "type": "completion"
   },
   {
    "code": "1*(np.random.binomial(n=10, p=.5) ==5)",
    "id": "51f58e174c89401782038f51f0043831",
    "idx": 2,
    "time": "2021-02-01T20:56:51.443Z",
    "type": "execution"
   },
   {
    "id": "51f58e174c89401782038f51f0043831",
    "time": "2021-02-01T20:56:51.506Z",
    "type": "completion"
   },
   {
    "code": "1*(np.random.binomial(n=10, p=.5) ==5)",
    "id": "51f58e174c89401782038f51f0043831",
    "idx": 2,
    "time": "2021-02-01T20:56:53.761Z",
    "type": "execution"
   },
   {
    "id": "51f58e174c89401782038f51f0043831",
    "time": "2021-02-01T20:56:53.823Z",
    "type": "completion"
   },
   {
    "code": "trials = [np.random.binomial(n=10, p=.5) for _ in range(1000)]",
    "id": "99931d290bf1463cbcddafa7291a9466",
    "idx": 3,
    "time": "2021-02-01T20:56:55.020Z",
    "type": "execution"
   },
   {
    "id": "99931d290bf1463cbcddafa7291a9466",
    "time": "2021-02-01T20:56:55.083Z",
    "type": "completion"
   },
   {
    "code": "1*(np.random.binomial(n=10, p=.5) ==5)",
    "id": "51f58e174c89401782038f51f0043831",
    "idx": 2,
    "time": "2021-02-01T20:56:56.764Z",
    "type": "execution"
   },
   {
    "id": "51f58e174c89401782038f51f0043831",
    "time": "2021-02-01T20:56:56.826Z",
    "type": "completion"
   },
   {
    "code": "1*(np.random.binomial(n=10, p=.5) ==5)",
    "id": "51f58e174c89401782038f51f0043831",
    "idx": 2,
    "time": "2021-02-01T20:56:57.844Z",
    "type": "execution"
   },
   {
    "id": "51f58e174c89401782038f51f0043831",
    "time": "2021-02-01T20:56:57.907Z",
    "type": "completion"
   },
   {
    "code": "def one_pivot(n=10, p=.5): 1*(np.random.binomial(n=n, p=.p) ==n/2)",
    "id": "570af43ca8a64a908c9b0cfdcf43bcc3",
    "idx": 6,
    "time": "2021-02-01T20:57:13.021Z",
    "type": "execution"
   },
   {
    "id": "570af43ca8a64a908c9b0cfdcf43bcc3",
    "time": "2021-02-01T20:57:13.083Z",
    "type": "completion"
   },
   {
    "code": "def one_pivot(n=10, p=.5): 1*(np.random.binomial(n=n, p=p) ==n/2)",
    "id": "570af43ca8a64a908c9b0cfdcf43bcc3",
    "idx": 6,
    "time": "2021-02-01T20:57:17.419Z",
    "type": "execution"
   },
   {
    "id": "570af43ca8a64a908c9b0cfdcf43bcc3",
    "time": "2021-02-01T20:57:17.481Z",
    "type": "completion"
   },
   {
    "code": "one_pivot(10, .5)",
    "id": "339516de7d074db4936ff46be76d4c9f",
    "idx": 7,
    "time": "2021-02-01T20:57:23.100Z",
    "type": "execution"
   },
   {
    "id": "339516de7d074db4936ff46be76d4c9f",
    "time": "2021-02-01T20:57:23.160Z",
    "type": "completion"
   },
   {
    "code": "def one_pivot(n=10, p=.5): return(1*(np.random.binomial(n=n, p=p) ==n/2))",
    "id": "570af43ca8a64a908c9b0cfdcf43bcc3",
    "idx": 6,
    "time": "2021-02-01T20:57:31.245Z",
    "type": "execution"
   },
   {
    "id": "570af43ca8a64a908c9b0cfdcf43bcc3",
    "time": "2021-02-01T20:57:31.307Z",
    "type": "completion"
   },
   {
    "code": "one_pivot(10, .5)",
    "id": "339516de7d074db4936ff46be76d4c9f",
    "idx": 7,
    "time": "2021-02-01T20:57:32.460Z",
    "type": "execution"
   },
   {
    "id": "339516de7d074db4936ff46be76d4c9f",
    "time": "2021-02-01T20:57:32.523Z",
    "type": "completion"
   },
   {
    "code": "one_pivot(10, .5)",
    "id": "339516de7d074db4936ff46be76d4c9f",
    "idx": 7,
    "time": "2021-02-01T20:57:33.585Z",
    "type": "execution"
   },
   {
    "id": "339516de7d074db4936ff46be76d4c9f",
    "time": "2021-02-01T20:57:33.647Z",
    "type": "completion"
   },
   {
    "code": "one_pivot(10, .5)",
    "id": "339516de7d074db4936ff46be76d4c9f",
    "idx": 7,
    "time": "2021-02-01T20:57:34.428Z",
    "type": "execution"
   },
   {
    "id": "339516de7d074db4936ff46be76d4c9f",
    "time": "2021-02-01T20:57:34.490Z",
    "type": "completion"
   },
   {
    "code": "piv_trials = [one_pivot(n=10, p=.5) for _ in range(1000)]",
    "id": "9bdf3ce79d3a4e9c84b73452e19aecff",
    "idx": 8,
    "time": "2021-02-01T20:57:53.823Z",
    "type": "execution"
   },
   {
    "id": "9bdf3ce79d3a4e9c84b73452e19aecff",
    "time": "2021-02-01T20:57:53.893Z",
    "type": "completion"
   },
   {
    "code": "piv_trials",
    "id": "3308aad64a9044a089de37f94ab4f133",
    "idx": 9,
    "time": "2021-02-01T20:57:59.245Z",
    "type": "execution"
   },
   {
    "id": "3308aad64a9044a089de37f94ab4f133",
    "time": "2021-02-01T20:57:59.318Z",
    "type": "completion"
   },
   {
    "code": "sns.countplot(piv_trials)",
    "id": "3308aad64a9044a089de37f94ab4f133",
    "idx": 9,
    "time": "2021-02-01T20:58:12.813Z",
    "type": "execution"
   },
   {
    "id": "3308aad64a9044a089de37f94ab4f133",
    "time": "2021-02-01T20:58:13.003Z",
    "type": "completion"
   },
   {
    "code": "sum(piv_trials)/1000",
    "id": "3308aad64a9044a089de37f94ab4f133",
    "idx": 9,
    "time": "2021-02-01T20:58:23.365Z",
    "type": "execution"
   },
   {
    "id": "3308aad64a9044a089de37f94ab4f133",
    "time": "2021-02-01T20:58:23.427Z",
    "type": "completion"
   },
   {
    "code": "piv_trials100 = [one_pivot(n=100, p=.5) for _ in range(1000)]\npivtrials100/1000",
    "id": "bfcfe94f8a14496799c29b5e78420b16",
    "idx": 10,
    "time": "2021-02-01T20:58:52.940Z",
    "type": "execution"
   },
   {
    "id": "bfcfe94f8a14496799c29b5e78420b16",
    "time": "2021-02-01T20:58:53.035Z",
    "type": "completion"
   },
   {
    "code": "piv_trials100 = [one_pivot(n=100, p=.5) for _ in range(1000)]\npiv_trials100/1000",
    "id": "bfcfe94f8a14496799c29b5e78420b16",
    "idx": 10,
    "time": "2021-02-01T20:59:00.016Z",
    "type": "execution"
   },
   {
    "id": "bfcfe94f8a14496799c29b5e78420b16",
    "time": "2021-02-01T20:59:00.090Z",
    "type": "completion"
   },
   {
    "code": "piv_trials100 = [one_pivot(n=100, p=.5) for _ in range(1000)]\nsum(piv_trials100)/1000",
    "id": "bfcfe94f8a14496799c29b5e78420b16",
    "idx": 10,
    "time": "2021-02-01T20:59:17.363Z",
    "type": "execution"
   },
   {
    "id": "bfcfe94f8a14496799c29b5e78420b16",
    "time": "2021-02-01T20:59:17.430Z",
    "type": "completion"
   },
   {
    "code": "piv_trials100 = [one_pivot(n=100, p=.5) for _ in range(1000)]\nsum(piv_trials100)/1000",
    "id": "bfcfe94f8a14496799c29b5e78420b16",
    "idx": 10,
    "time": "2021-02-01T20:59:22.738Z",
    "type": "execution"
   },
   {
    "id": "bfcfe94f8a14496799c29b5e78420b16",
    "time": "2021-02-01T20:59:22.804Z",
    "type": "completion"
   },
   {
    "code": "piv_trials100 = [one_pivot(n=100, p=.5) for _ in range(1000)]\nsum(piv_trials100)/1000",
    "id": "bfcfe94f8a14496799c29b5e78420b16",
    "idx": 10,
    "time": "2021-02-01T20:59:23.944Z",
    "type": "execution"
   },
   {
    "id": "bfcfe94f8a14496799c29b5e78420b16",
    "time": "2021-02-01T20:59:24.009Z",
    "type": "completion"
   },
   {
    "code": "piv_trials100 = [one_pivot(n=100, p=.5) for _ in range(1000)]\nsum(piv_trials100)/1000",
    "id": "bfcfe94f8a14496799c29b5e78420b16",
    "idx": 10,
    "time": "2021-02-01T20:59:24.811Z",
    "type": "execution"
   },
   {
    "id": "bfcfe94f8a14496799c29b5e78420b16",
    "time": "2021-02-01T20:59:24.875Z",
    "type": "completion"
   },
   {
    "code": "piv_trials100 = [one_pivot(n=100, p=.5) for _ in range(10000)]\nsum(piv_trials100)/1000",
    "id": "bfcfe94f8a14496799c29b5e78420b16",
    "idx": 10,
    "time": "2021-02-01T20:59:26.700Z",
    "type": "execution"
   },
   {
    "id": "bfcfe94f8a14496799c29b5e78420b16",
    "time": "2021-02-01T20:59:26.816Z",
    "type": "completion"
   },
   {
    "code": "piv_trials100 = [one_pivot(n=100, p=.5) for _ in range(10000)]\nsum(piv_trials100)/1000",
    "id": "bfcfe94f8a14496799c29b5e78420b16",
    "idx": 10,
    "time": "2021-02-01T20:59:28.759Z",
    "type": "execution"
   },
   {
    "id": "bfcfe94f8a14496799c29b5e78420b16",
    "time": "2021-02-01T20:59:28.862Z",
    "type": "completion"
   },
   {
    "code": "piv_trials100 = [one_pivot(n=100, p=.5) for _ in range(10000)]\nsum(piv_trials100)/10000",
    "id": "bfcfe94f8a14496799c29b5e78420b16",
    "idx": 10,
    "time": "2021-02-01T20:59:30.998Z",
    "type": "execution"
   },
   {
    "id": "bfcfe94f8a14496799c29b5e78420b16",
    "time": "2021-02-01T20:59:31.112Z",
    "type": "completion"
   },
   {
    "code": "piv_trials100 = [one_pivot(n=100, p=.5) for _ in range(10000)]\nsum(piv_trials100)/10000",
    "id": "bfcfe94f8a14496799c29b5e78420b16",
    "idx": 10,
    "time": "2021-02-01T20:59:31.987Z",
    "type": "execution"
   },
   {
    "id": "bfcfe94f8a14496799c29b5e78420b16",
    "time": "2021-02-01T20:59:32.086Z",
    "type": "completion"
   },
   {
    "code": "piv_trials100 = [one_pivot(n=100, p=.5) for _ in range(10000)]\nsum(piv_trials100)/10000",
    "id": "bfcfe94f8a14496799c29b5e78420b16",
    "idx": 10,
    "time": "2021-02-01T20:59:33.619Z",
    "type": "execution"
   },
   {
    "id": "bfcfe94f8a14496799c29b5e78420b16",
    "time": "2021-02-01T20:59:33.714Z",
    "type": "completion"
   },
   {
    "code": "piv_trials100 = [one_pivot(n=100, p=.5) for _ in range(10000)]\nsum(piv_trials100)/10000",
    "id": "bfcfe94f8a14496799c29b5e78420b16",
    "idx": 10,
    "time": "2021-02-01T20:59:34.451Z",
    "type": "execution"
   },
   {
    "id": "bfcfe94f8a14496799c29b5e78420b16",
    "time": "2021-02-01T20:59:34.548Z",
    "type": "completion"
   },
   {
    "code": "piv_trials100 = [one_pivot(n=100, p=.5) for _ in range(10000)]\nsum(piv_trials100)/10000",
    "id": "bfcfe94f8a14496799c29b5e78420b16",
    "idx": 10,
    "time": "2021-02-01T20:59:35.329Z",
    "type": "execution"
   },
   {
    "id": "bfcfe94f8a14496799c29b5e78420b16",
    "time": "2021-02-01T20:59:35.431Z",
    "type": "completion"
   },
   {
    "code": "piv_trials100 = [one_pivot(n=100, p=.45) for _ in range(10000)]\nsum(piv_trials100)/10000",
    "id": "a922e8d6ad7846beacde6762deaef148",
    "idx": 11,
    "time": "2021-02-01T20:59:47.118Z",
    "type": "execution"
   },
   {
    "id": "a922e8d6ad7846beacde6762deaef148",
    "time": "2021-02-01T20:59:47.220Z",
    "type": "completion"
   },
   {
    "code": "piv_trials100 = [one_pivot(n=100, p=.45) for _ in range(10000)]\nsum(piv_trials100)/10000",
    "id": "a922e8d6ad7846beacde6762deaef148",
    "idx": 11,
    "time": "2021-02-01T20:59:49.211Z",
    "type": "execution"
   },
   {
    "id": "a922e8d6ad7846beacde6762deaef148",
    "time": "2021-02-01T20:59:49.309Z",
    "type": "completion"
   },
   {
    "code": "piv_trials100 = [one_pivot(n=100, p=.45) for _ in range(10000)]\nsum(piv_trials100)/10000",
    "id": "a922e8d6ad7846beacde6762deaef148",
    "idx": 11,
    "time": "2021-02-01T20:59:50.426Z",
    "type": "execution"
   },
   {
    "id": "a922e8d6ad7846beacde6762deaef148",
    "time": "2021-02-01T20:59:50.520Z",
    "type": "completion"
   },
   {
    "code": "ntrials = 10000\npiv_trials100 = [one_pivot(n=100, p=.5) for _ in range(ntrials)]\nsum(piv_trials100)/ntrials",
    "id": "bfcfe94f8a14496799c29b5e78420b16",
    "idx": 10,
    "time": "2021-02-01T21:00:16.638Z",
    "type": "execution"
   },
   {
    "id": "bfcfe94f8a14496799c29b5e78420b16",
    "time": "2021-02-01T21:00:16.738Z",
    "type": "completion"
   },
   {
    "code": "ntrials = 10000\npiv_trials100 = [one_pivot(n=100, p=.4) for _ in range(ntrials)]\nsum(piv_trials100)/ntrials",
    "id": "a922e8d6ad7846beacde6762deaef148",
    "idx": 11,
    "time": "2021-02-01T21:00:23.748Z",
    "type": "execution"
   },
   {
    "id": "a922e8d6ad7846beacde6762deaef148",
    "time": "2021-02-01T21:00:23.845Z",
    "type": "completion"
   },
   {
    "code": "ntrials = 10000\npiv_trials100 = [one_pivot(n=100, p=.4) for _ in range(ntrials)]\nsum(piv_trials100)/ntrials",
    "id": "a922e8d6ad7846beacde6762deaef148",
    "idx": 11,
    "time": "2021-02-01T21:00:24.884Z",
    "type": "execution"
   },
   {
    "id": "a922e8d6ad7846beacde6762deaef148",
    "time": "2021-02-01T21:00:24.984Z",
    "type": "completion"
   },
   {
    "code": "ntrials = 10000\npiv_trials100 = [one_pivot(n=100, p=.4) for _ in range(ntrials)]\nsum(piv_trials100)/ntrials",
    "id": "a922e8d6ad7846beacde6762deaef148",
    "idx": 11,
    "time": "2021-02-01T21:00:25.806Z",
    "type": "execution"
   },
   {
    "id": "a922e8d6ad7846beacde6762deaef148",
    "time": "2021-02-01T21:00:25.910Z",
    "type": "completion"
   },
   {
    "code": "ntrials = 10000\npiv_trials100 = [one_pivot(n=100, p=.4) for _ in range(ntrials)]\nsum(piv_trials100)/ntrials",
    "id": "a922e8d6ad7846beacde6762deaef148",
    "idx": 11,
    "time": "2021-02-01T21:00:26.651Z",
    "type": "execution"
   },
   {
    "id": "a922e8d6ad7846beacde6762deaef148",
    "time": "2021-02-01T21:00:26.749Z",
    "type": "completion"
   },
   {
    "code": "ntrials = 10000\npiv_trials100 = [one_pivot(n=100, p=.4) for _ in range(ntrials)]\nsum(piv_trials100)/ntrials",
    "id": "a922e8d6ad7846beacde6762deaef148",
    "idx": 11,
    "time": "2021-02-01T21:00:27.539Z",
    "type": "execution"
   },
   {
    "id": "a922e8d6ad7846beacde6762deaef148",
    "time": "2021-02-01T21:00:27.635Z",
    "type": "completion"
   },
   {
    "code": "ntrials = 10000\npiv_trials100 = [one_pivot(n=100, p=.4) for _ in range(ntrials)]\nsum(piv_trials100)/ntrials",
    "id": "a922e8d6ad7846beacde6762deaef148",
    "idx": 11,
    "time": "2021-02-01T21:00:28.372Z",
    "type": "execution"
   },
   {
    "id": "a922e8d6ad7846beacde6762deaef148",
    "time": "2021-02-01T21:00:28.475Z",
    "type": "completion"
   },
   {
    "code": "ntrials = 10000\npiv_trials100 = [one_pivot(n=100, p=.4) for _ in range(ntrials)]\nsum(piv_trials100)/ntrials",
    "id": "a922e8d6ad7846beacde6762deaef148",
    "idx": 11,
    "time": "2021-02-01T21:00:35.042Z",
    "type": "execution"
   },
   {
    "id": "a922e8d6ad7846beacde6762deaef148",
    "time": "2021-02-01T21:00:35.171Z",
    "type": "completion"
   },
   {
    "code": "import numpy as np\nimport pandas as pd\nimport matplotlib.pyplot as plt\nimport seaborn as sns\nfrom datascience import Table",
    "id": "b057406b9b0c4fb3ab292181761c6e8c",
    "idx": 0,
    "time": "2021-02-01T21:24:04.228Z",
    "type": "execution"
   },
   {
    "id": "b057406b9b0c4fb3ab292181761c6e8c",
    "time": "2021-02-01T21:24:04.872Z",
    "type": "completion"
   },
   {
    "code": "ntrials = 10000\nn1=10\nn2=10\nn3=10\np1=.4\np2=.5\np3=.6\ngroup1 = [np.random.binomial(n=n1, p=p1) for _ in range(ntrials)]\ngroup2 = [np.random.binomial(n=n2, p=p2) for _ in range(ntrials)]\ngroup3 = [np.random.binomial(n=n3, p=p3) for _ in range(ntrials)] ",
    "id": "46ed26dc40ae4ecb90931b99cfa94e50",
    "idx": 12,
    "time": "2021-02-01T21:25:12.735Z",
    "type": "execution"
   },
   {
    "id": "46ed26dc40ae4ecb90931b99cfa94e50",
    "time": "2021-02-01T21:25:12.910Z",
    "type": "completion"
   },
   {
    "code": "ntrials = 10000\nn1=10\nn2=10\nn3=10\np1=.4\np2=.5\np3=.6\ngroup1 = [np.random.binomial(n=n1, p=p1) for _ in range(ntrials)]\ngroup2 = [np.random.binomial(n=n2, p=p2) for _ in range(ntrials)]\ngroup3 = [np.random.binomial(n=n3, p=p3) for _ in range(ntrials)] \n\ngrouptrials = Table.from_array(group1)",
    "id": "46ed26dc40ae4ecb90931b99cfa94e50",
    "idx": 12,
    "time": "2021-02-01T21:28:12.178Z",
    "type": "execution"
   },
   {
    "id": "46ed26dc40ae4ecb90931b99cfa94e50",
    "time": "2021-02-01T21:28:12.396Z",
    "type": "completion"
   },
   {
    "code": "ntrials = 10000\nn1=10\nn2=10\nn3=10\np1=.4\np2=.5\np3=.6\ngroup1 = [np.random.binomial(n=n1, p=p1) for _ in range(ntrials)]\ngroup2 = [np.random.binomial(n=n2, p=p2) for _ in range(ntrials)]\ngroup3 = [np.random.binomial(n=n3, p=p3) for _ in range(ntrials)] \n",
    "id": "46ed26dc40ae4ecb90931b99cfa94e50",
    "idx": 12,
    "time": "2021-02-01T21:28:27.006Z",
    "type": "execution"
   },
   {
    "id": "46ed26dc40ae4ecb90931b99cfa94e50",
    "time": "2021-02-01T21:28:27.163Z",
    "type": "completion"
   },
   {
    "code": "ntrials = 10000\nn1=10\nn2=10\nn3=10\np1=.4\np2=.5\np3=.6\ngroup1 = [np.random.binomial(n=n1, p=p1) for _ in range(ntrials)]\ngroup2 = [np.random.binomial(n=n2, p=p2) for _ in range(ntrials)]\ngroup3 = [np.random.binomial(n=n3, p=p3) for _ in range(ntrials)] \ngroup1",
    "id": "46ed26dc40ae4ecb90931b99cfa94e50",
    "idx": 12,
    "time": "2021-02-01T21:28:30.819Z",
    "type": "execution"
   },
   {
    "id": "46ed26dc40ae4ecb90931b99cfa94e50",
    "time": "2021-02-01T21:28:31.015Z",
    "type": "completion"
   },
   {
    "code": "type(group1)",
    "id": "1b3303453a8149fc9c621740cdac379a",
    "idx": 13,
    "time": "2021-02-01T21:28:40.528Z",
    "type": "execution"
   },
   {
    "id": "1b3303453a8149fc9c621740cdac379a",
    "time": "2021-02-01T21:28:40.591Z",
    "type": "completion"
   },
   {
    "code": "np.array(type(group1))",
    "id": "1b3303453a8149fc9c621740cdac379a",
    "idx": 13,
    "time": "2021-02-01T21:28:58.685Z",
    "type": "execution"
   },
   {
    "id": "1b3303453a8149fc9c621740cdac379a",
    "time": "2021-02-01T21:28:58.746Z",
    "type": "completion"
   },
   {
    "code": "ntrials = 10000\nn1=10\nn2=10\nn3=10\np1=.4\np2=.5\np3=.6\ngroup1 = [np.random.binomial(n=n1, p=p1) for _ in range(ntrials)]\ngroup2 = [np.random.binomial(n=n2, p=p2) for _ in range(ntrials)]\ngroup3 = [np.random.binomial(n=n3, p=p3) for _ in range(ntrials)] \ngrouptrials = Table.from_array(np.array(group1))",
    "id": "46ed26dc40ae4ecb90931b99cfa94e50",
    "idx": 12,
    "time": "2021-02-01T21:29:17.776Z",
    "type": "execution"
   },
   {
    "id": "46ed26dc40ae4ecb90931b99cfa94e50",
    "time": "2021-02-01T21:29:17.968Z",
    "type": "completion"
   },
   {
    "code": "ntrials = 10000\nn1=10\nn2=10\nn3=10\np1=.4\np2=.5\np3=.6\ngroup1 = [np.random.binomial(n=n1, p=p1) for _ in range(ntrials)]\ngroup2 = [np.random.binomial(n=n2, p=p2) for _ in range(ntrials)]\ngroup3 = [np.random.binomial(n=n3, p=p3) for _ in range(ntrials)] \ngrouptrials = Table.from_array(np.array(group1))",
    "id": "46ed26dc40ae4ecb90931b99cfa94e50",
    "idx": 12,
    "time": "2021-02-01T21:30:04.496Z",
    "type": "execution"
   },
   {
    "id": "46ed26dc40ae4ecb90931b99cfa94e50",
    "time": "2021-02-01T21:30:04.675Z",
    "type": "completion"
   },
   {
    "code": "ntrials = 10000\nn1=10\nn2=10\nn3=10\np1=.4\np2=.5\np3=.6\ngroup1 = [np.random.binomial(n=n1, p=p1) for _ in range(ntrials)]\ngroup2 = [np.random.binomial(n=n2, p=p2) for _ in range(ntrials)]\ngroup3 = [np.random.binomial(n=n3, p=p3) for _ in range(ntrials)] \ngrouptrials = Table.empty\n",
    "id": "46ed26dc40ae4ecb90931b99cfa94e50",
    "idx": 12,
    "time": "2021-02-01T21:30:48.819Z",
    "type": "execution"
   },
   {
    "id": "46ed26dc40ae4ecb90931b99cfa94e50",
    "time": "2021-02-01T21:30:49.004Z",
    "type": "completion"
   },
   {
    "code": "ntrials = 10000\nn1=10\nn2=10\nn3=10\np1=.4\np2=.5\np3=.6\ngroup1 = [np.random.binomial(n=n1, p=p1) for _ in range(ntrials)]\ngroup2 = [np.random.binomial(n=n2, p=p2) for _ in range(ntrials)]\ngroup3 = [np.random.binomial(n=n3, p=p3) for _ in range(ntrials)] \ngrouptrials = Table.empty\ngroup.trials.with_column(\"votes1\", group1)",
    "id": "46ed26dc40ae4ecb90931b99cfa94e50",
    "idx": 12,
    "time": "2021-02-01T21:31:07.763Z",
    "type": "execution"
   },
   {
    "id": "46ed26dc40ae4ecb90931b99cfa94e50",
    "time": "2021-02-01T21:31:07.958Z",
    "type": "completion"
   },
   {
    "code": "ntrials = 10000\nn1=10\nn2=10\nn3=10\np1=.4\np2=.5\np3=.6\ngroup1 = [np.random.binomial(n=n1, p=p1) for _ in range(ntrials)]\ngroup2 = [np.random.binomial(n=n2, p=p2) for _ in range(ntrials)]\ngroup3 = [np.random.binomial(n=n3, p=p3) for _ in range(ntrials)] \ngrouptrials = Table.empty\ngrouptrials = grouptrials.with_column(\"votes1\", group1)",
    "id": "46ed26dc40ae4ecb90931b99cfa94e50",
    "idx": 12,
    "time": "2021-02-01T21:31:24.964Z",
    "type": "execution"
   },
   {
    "id": "46ed26dc40ae4ecb90931b99cfa94e50",
    "time": "2021-02-01T21:31:25.132Z",
    "type": "completion"
   },
   {
    "code": "ntrials = 10000\nn1=10\nn2=10\nn3=10\np1=.4\np2=.5\np3=.6\ngroup1 = [np.random.binomial(n=n1, p=p1) for _ in range(ntrials)]\ngroup2 = [np.random.binomial(n=n2, p=p2) for _ in range(ntrials)]\ngroup3 = [np.random.binomial(n=n3, p=p3) for _ in range(ntrials)] \ngrouptrials = Table.empty()\ngrouptrials = grouptrials.with_column(\"votes1\", group1)",
    "id": "46ed26dc40ae4ecb90931b99cfa94e50",
    "idx": 12,
    "time": "2021-02-01T21:31:35.258Z",
    "type": "execution"
   },
   {
    "id": "46ed26dc40ae4ecb90931b99cfa94e50",
    "time": "2021-02-01T21:31:35.422Z",
    "type": "completion"
   },
   {
    "code": "ntrials = 10000\nn1=10\nn2=10\nn3=10\np1=.4\np2=.5\np3=.6\ngroup1 = [np.random.binomial(n=n1, p=p1) for _ in range(ntrials)]\ngroup2 = [np.random.binomial(n=n2, p=p2) for _ in range(ntrials)]\ngroup3 = [np.random.binomial(n=n3, p=p3) for _ in range(ntrials)] \ngrouptrials = Table.empty()\ngrouptrials = grouptrials.with_column(\"votes1\", group1)\ngrouptrials",
    "id": "46ed26dc40ae4ecb90931b99cfa94e50",
    "idx": 12,
    "time": "2021-02-01T21:31:40.905Z",
    "type": "execution"
   },
   {
    "id": "46ed26dc40ae4ecb90931b99cfa94e50",
    "time": "2021-02-01T21:31:41.083Z",
    "type": "completion"
   },
   {
    "code": "ntrials = 10000\nn1=10\nn2=10\nn3=10\np1=.4\np2=.5\np3=.6\ngroup1 = [np.random.binomial(n=n1, p=p1) for _ in range(ntrials)]\ngroup2 = [np.random.binomial(n=n2, p=p2) for _ in range(ntrials)]\ngroup3 = [np.random.binomial(n=n3, p=p3) for _ in range(ntrials)] \ngrouptrials = Table.empty()\ngrouptrials = grouptrials.with_column(\"votes1\", group1)\ngrouptrials = grouptrials.with_column(\"votes2\", group2)\ngrouptrials = grouptrials.with_column(\"votes3\", group3)\ngrouptrials",
    "id": "46ed26dc40ae4ecb90931b99cfa94e50",
    "idx": 12,
    "time": "2021-02-01T21:31:58.405Z",
    "type": "execution"
   },
   {
    "id": "46ed26dc40ae4ecb90931b99cfa94e50",
    "time": "2021-02-01T21:31:58.599Z",
    "type": "completion"
   },
   {
    "code": "grouptrials = grouptrials.with_column(\"voter piv1\", grouptrials.column(\"votes1\")==n1/2)\ngrouptrials",
    "id": "1b3303453a8149fc9c621740cdac379a",
    "idx": 13,
    "time": "2021-02-01T21:36:14.723Z",
    "type": "execution"
   },
   {
    "id": "1b3303453a8149fc9c621740cdac379a",
    "time": "2021-02-01T21:36:14.790Z",
    "type": "completion"
   },
   {
    "code": "grouptrials = grouptrials.with_column(\"voter piv1\", 1*(grouptrials.column(\"votes1\")==n1/2))\ngrouptrials",
    "id": "1b3303453a8149fc9c621740cdac379a",
    "idx": 13,
    "time": "2021-02-01T21:36:21.304Z",
    "type": "execution"
   },
   {
    "id": "1b3303453a8149fc9c621740cdac379a",
    "time": "2021-02-01T21:36:21.373Z",
    "type": "completion"
   },
   {
    "code": "grouptrials = grouptrials.with_column(\"voter piv1\", as.int(grouptrials.column(\"votes1\")==n1/2))\ngrouptrials",
    "id": "1b3303453a8149fc9c621740cdac379a",
    "idx": 13,
    "time": "2021-02-01T21:36:29.021Z",
    "type": "execution"
   },
   {
    "id": "1b3303453a8149fc9c621740cdac379a",
    "time": "2021-02-01T21:36:29.082Z",
    "type": "completion"
   },
   {
    "code": "grouptrials = grouptrials.with_column(\"voter piv1\", as.integer(grouptrials.column(\"votes1\")==n1/2))\ngrouptrials",
    "id": "1b3303453a8149fc9c621740cdac379a",
    "idx": 13,
    "time": "2021-02-01T21:36:45.805Z",
    "type": "execution"
   },
   {
    "id": "1b3303453a8149fc9c621740cdac379a",
    "time": "2021-02-01T21:36:45.870Z",
    "type": "completion"
   },
   {
    "code": "grouptrials = grouptrials.with_column(\"voter piv1\", int(grouptrials.column(\"votes1\")==n1/2))\ngrouptrials",
    "id": "1b3303453a8149fc9c621740cdac379a",
    "idx": 13,
    "time": "2021-02-01T21:37:21.287Z",
    "type": "execution"
   },
   {
    "id": "1b3303453a8149fc9c621740cdac379a",
    "time": "2021-02-01T21:37:21.357Z",
    "type": "completion"
   },
   {
    "code": "grouptrials = grouptrials.with_column(\"voter piv1\", 1*(grouptrials.column(\"votes1\")==n1/2))\ngrouptrials",
    "id": "1b3303453a8149fc9c621740cdac379a",
    "idx": 13,
    "time": "2021-02-01T21:38:13.981Z",
    "type": "execution"
   },
   {
    "id": "1b3303453a8149fc9c621740cdac379a",
    "time": "2021-02-01T21:38:14.049Z",
    "type": "completion"
   },
   {
    "code": "grouptrials = grouptrials.with_column(\"voter piv1\", 1*(grouptrials.column(\"votes1\")==n1/2))\ngrouptrials = grouptrials.with_column(\"voter piv2\", 1*(grouptrials.column(\"votes1\")==n2/2))\ngrouptrials = grouptrials.with_column(\"voter piv3\", 1*(grouptrials.column(\"votes1\")==n3/2))\ngrouptrials",
    "id": "1b3303453a8149fc9c621740cdac379a",
    "idx": 13,
    "time": "2021-02-01T21:38:36.222Z",
    "type": "execution"
   },
   {
    "id": "1b3303453a8149fc9c621740cdac379a",
    "time": "2021-02-01T21:38:36.298Z",
    "type": "completion"
   },
   {
    "code": "(grouptrials.column(\"votes2\") <= n/2)*(grouptrials.column(\"votes3\") >= n/2)",
    "id": "fc4ca59c7f154b6cbb6d8b62cc83da9e",
    "idx": 14,
    "time": "2021-02-01T21:41:07.709Z",
    "type": "execution"
   },
   {
    "id": "fc4ca59c7f154b6cbb6d8b62cc83da9e",
    "time": "2021-02-01T21:41:07.784Z",
    "type": "completion"
   },
   {
    "code": "(grouptrials.column(\"votes2\") <= n2/2)*(grouptrials.column(\"votes3\") >= n3/2)",
    "id": "fc4ca59c7f154b6cbb6d8b62cc83da9e",
    "idx": 14,
    "time": "2021-02-01T21:41:14.999Z",
    "type": "execution"
   },
   {
    "id": "fc4ca59c7f154b6cbb6d8b62cc83da9e",
    "time": "2021-02-01T21:41:15.062Z",
    "type": "completion"
   },
   {
    "code": "sum((grouptrials.column(\"votes2\") <= n2/2)*(grouptrials.column(\"votes3\") >= n3/2))",
    "id": "fc4ca59c7f154b6cbb6d8b62cc83da9e",
    "idx": 14,
    "time": "2021-02-01T21:41:19.410Z",
    "type": "execution"
   },
   {
    "id": "fc4ca59c7f154b6cbb6d8b62cc83da9e",
    "time": "2021-02-01T21:41:19.494Z",
    "type": "completion"
   },
   {
    "code": "sum((grouptrials.column(\"votes2\") <= n2/2)*(grouptrials.column(\"votes3\") >= n3/2)+\n   (grouptrials.column(\"votes2\") >= n2/2)*(grouptrials.column(\"votes3\") <= n3/2))\"\"",
    "id": "fc4ca59c7f154b6cbb6d8b62cc83da9e",
    "idx": 14,
    "time": "2021-02-01T21:42:00.290Z",
    "type": "execution"
   },
   {
    "id": "fc4ca59c7f154b6cbb6d8b62cc83da9e",
    "time": "2021-02-01T21:42:00.354Z",
    "type": "completion"
   },
   {
    "code": "sum((grouptrials.column(\"votes2\") <= n2/2)*(grouptrials.column(\"votes3\") >= n3/2)+\n   (grouptrials.column(\"votes2\") >= n2/2)*(grouptrials.column(\"votes3\") <= n3/2))",
    "id": "fc4ca59c7f154b6cbb6d8b62cc83da9e",
    "idx": 14,
    "time": "2021-02-01T21:42:03.160Z",
    "type": "execution"
   },
   {
    "id": "fc4ca59c7f154b6cbb6d8b62cc83da9e",
    "time": "2021-02-01T21:42:03.245Z",
    "type": "completion"
   },
   {
    "code": "sum((grouptrials.column(\"votes2\") <= n2/2)*(grouptrials.column(\"votes3\") >= n3/2)+\n   (grouptrials.column(\"votes2\") >= n2/2)*(grouptrials.column(\"votes3\") <= n3/2))",
    "id": "fc4ca59c7f154b6cbb6d8b62cc83da9e",
    "idx": 14,
    "time": "2021-02-01T21:42:23.386Z",
    "type": "execution"
   },
   {
    "id": "fc4ca59c7f154b6cbb6d8b62cc83da9e",
    "time": "2021-02-01T21:42:23.472Z",
    "type": "completion"
   },
   {
    "code": "sum((grouptrials.column(\"votes2\") <= n2/2)*(grouptrials.column(\"votes3\") >= n3/2)+\n   (grouptrials.column(\"votes2\") >= n2/2)*(grouptrials.column(\"votes3\") <= n3/2))",
    "id": "fc4ca59c7f154b6cbb6d8b62cc83da9e",
    "idx": 14,
    "time": "2021-02-01T21:42:24.972Z",
    "type": "execution"
   },
   {
    "id": "fc4ca59c7f154b6cbb6d8b62cc83da9e",
    "time": "2021-02-01T21:42:25.057Z",
    "type": "completion"
   },
   {
    "code": "sum((grouptrials.column(\"votes2\") < n2/2)*(grouptrials.column(\"votes3\") < n3/2)+\n   (grouptrials.column(\"votes2\") > n2/2)*(grouptrials.column(\"votes3\") > n3/2))",
    "id": "014537e6f47645d28029b7352ddba8be",
    "idx": 15,
    "time": "2021-02-01T21:42:59.104Z",
    "type": "execution"
   },
   {
    "id": "014537e6f47645d28029b7352ddba8be",
    "time": "2021-02-01T21:42:59.191Z",
    "type": "completion"
   },
   {
    "code": "sum(1 - ((grouptrials.column(\"votes2\") < n2/2)*(grouptrials.column(\"votes3\") < n3/2)+\n   (grouptrials.column(\"votes2\") > n2/2)*(grouptrials.column(\"votes3\") > n3/2)))",
    "id": "014537e6f47645d28029b7352ddba8be",
    "idx": 15,
    "time": "2021-02-01T21:43:13.537Z",
    "type": "execution"
   },
   {
    "id": "014537e6f47645d28029b7352ddba8be",
    "time": "2021-02-01T21:43:13.604Z",
    "type": "completion"
   },
   {
    "code": "1*((grouptrials.column(\"votes2\") <= n2/2)*(grouptrials.column(\"votes3\") >= n3/2)+\n   (grouptrials.column(\"votes2\") >= n2/2)*(grouptrials.column(\"votes3\") <= n3/2))",
    "id": "fc4ca59c7f154b6cbb6d8b62cc83da9e",
    "idx": 14,
    "time": "2021-02-01T21:43:30.063Z",
    "type": "execution"
   },
   {
    "id": "fc4ca59c7f154b6cbb6d8b62cc83da9e",
    "time": "2021-02-01T21:43:30.135Z",
    "type": "completion"
   },
   {
    "code": "group1piv = 1*((grouptrials.column(\"votes2\") <= n2/2)*(grouptrials.column(\"votes3\") >= n3/2)+\n   (grouptrials.column(\"votes2\") >= n2/2)*(grouptrials.column(\"votes3\") <= n3/2))\ngroup2piv = 1*((grouptrials.column(\"votes1\") <= n2/2)*(grouptrials.column(\"votes3\") >= n3/2)+\n   (grouptrials.column(\"votes1\") >= n2/2)*(grouptrials.column(\"votes3\") <= n3/2))\ngroup3piv = 1*((grouptrials.column(\"votes1\") <= n2/2)*(grouptrials.column(\"votes2\") >= n3/2)+\n   (grouptrials.column(\"votes1\") >= n2/2)*(grouptrials.column(\"votes2\") <= n3/2))\n\ngrouptrials = grouptrials.with_column(\"group piv1\", group1piv)",
    "id": "fc4ca59c7f154b6cbb6d8b62cc83da9e",
    "idx": 14,
    "time": "2021-02-01T21:44:44.559Z",
    "type": "execution"
   },
   {
    "id": "fc4ca59c7f154b6cbb6d8b62cc83da9e",
    "time": "2021-02-01T21:44:44.629Z",
    "type": "completion"
   },
   {
    "code": "group1piv = 1*((grouptrials.column(\"votes2\") <= n2/2)*(grouptrials.column(\"votes3\") >= n3/2)+\n   (grouptrials.column(\"votes2\") >= n2/2)*(grouptrials.column(\"votes3\") <= n3/2))\ngroup2piv = 1*((grouptrials.column(\"votes1\") <= n2/2)*(grouptrials.column(\"votes3\") >= n3/2)+\n   (grouptrials.column(\"votes1\") >= n2/2)*(grouptrials.column(\"votes3\") <= n3/2))\ngroup3piv = 1*((grouptrials.column(\"votes1\") <= n2/2)*(grouptrials.column(\"votes2\") >= n3/2)+\n   (grouptrials.column(\"votes1\") >= n2/2)*(grouptrials.column(\"votes2\") <= n3/2))\n\ngrouptrials = grouptrials.with_column(\"group piv1\", group1piv)\ngrouptrials = grouptrials.with_column(\"group piv2\", group2piv)\ngrouptrials = grouptrials.with_column(\"group piv3\", group3piv)",
    "id": "fc4ca59c7f154b6cbb6d8b62cc83da9e",
    "idx": 14,
    "time": "2021-02-01T21:44:56.843Z",
    "type": "execution"
   },
   {
    "id": "fc4ca59c7f154b6cbb6d8b62cc83da9e",
    "time": "2021-02-01T21:44:56.915Z",
    "type": "completion"
   },
   {
    "code": "group1piv = 1*((grouptrials.column(\"votes2\") <= n2/2)*(grouptrials.column(\"votes3\") >= n3/2)+\n   (grouptrials.column(\"votes2\") >= n2/2)*(grouptrials.column(\"votes3\") <= n3/2))\ngroup2piv = 1*((grouptrials.column(\"votes1\") <= n2/2)*(grouptrials.column(\"votes3\") >= n3/2)+\n   (grouptrials.column(\"votes1\") >= n2/2)*(grouptrials.column(\"votes3\") <= n3/2))\ngroup3piv = 1*((grouptrials.column(\"votes1\") <= n2/2)*(grouptrials.column(\"votes2\") >= n3/2)+\n   (grouptrials.column(\"votes1\") >= n2/2)*(grouptrials.column(\"votes2\") <= n3/2))\n\ngrouptrials = grouptrials.with_column(\"group piv1\", group1piv)\ngrouptrials = grouptrials.with_column(\"group piv2\", group2piv)\ngrouptrials = grouptrials.with_column(\"group piv3\", group3piv)\ngrouptrials",
    "id": "fc4ca59c7f154b6cbb6d8b62cc83da9e",
    "idx": 14,
    "time": "2021-02-01T21:45:00.409Z",
    "type": "execution"
   },
   {
    "id": "fc4ca59c7f154b6cbb6d8b62cc83da9e",
    "time": "2021-02-01T21:45:00.502Z",
    "type": "completion"
   },
   {
    "code": "sum(grouptrials.column\"group piv1)",
    "id": "b58939b97c7e48898fe2d5b2a2f8d165",
    "idx": 16,
    "time": "2021-02-01T21:45:40.942Z",
    "type": "execution"
   },
   {
    "id": "b58939b97c7e48898fe2d5b2a2f8d165",
    "time": "2021-02-01T21:45:41.006Z",
    "type": "completion"
   },
   {
    "code": "sum(grouptrials.column\"group piv1\")",
    "id": "b58939b97c7e48898fe2d5b2a2f8d165",
    "idx": 16,
    "time": "2021-02-01T21:45:43.765Z",
    "type": "execution"
   },
   {
    "id": "b58939b97c7e48898fe2d5b2a2f8d165",
    "time": "2021-02-01T21:45:43.829Z",
    "type": "completion"
   },
   {
    "code": "sum(grouptrials.column\"group piv1\"))",
    "id": "b58939b97c7e48898fe2d5b2a2f8d165",
    "idx": 16,
    "time": "2021-02-01T21:45:47.084Z",
    "type": "execution"
   },
   {
    "id": "b58939b97c7e48898fe2d5b2a2f8d165",
    "time": "2021-02-01T21:45:47.154Z",
    "type": "completion"
   },
   {
    "code": "sum(grouptrials.column()\"group piv1\"))",
    "id": "b58939b97c7e48898fe2d5b2a2f8d165",
    "idx": 16,
    "time": "2021-02-01T21:45:51.112Z",
    "type": "execution"
   },
   {
    "id": "b58939b97c7e48898fe2d5b2a2f8d165",
    "time": "2021-02-01T21:45:51.173Z",
    "type": "completion"
   },
   {
    "code": "sum(grouptrials.column(\"group piv1\"))",
    "id": "b58939b97c7e48898fe2d5b2a2f8d165",
    "idx": 16,
    "time": "2021-02-01T21:45:53.216Z",
    "type": "execution"
   },
   {
    "id": "b58939b97c7e48898fe2d5b2a2f8d165",
    "time": "2021-02-01T21:45:53.280Z",
    "type": "completion"
   },
   {
    "code": "sum(grouptrials.column(\"group piv2\"))",
    "id": "d88fd95167d949488c05f3be72caf15e",
    "idx": 17,
    "time": "2021-02-01T21:46:02.631Z",
    "type": "execution"
   },
   {
    "id": "d88fd95167d949488c05f3be72caf15e",
    "time": "2021-02-01T21:46:02.696Z",
    "type": "completion"
   },
   {
    "code": "sum(grouptrials.column(\"group piv3\"))",
    "id": "7f2eb3e78ff244feb75b7e7c9525281f",
    "idx": 18,
    "time": "2021-02-01T21:46:07.030Z",
    "type": "execution"
   },
   {
    "id": "7f2eb3e78ff244feb75b7e7c9525281f",
    "time": "2021-02-01T21:46:07.095Z",
    "type": "completion"
   },
   {
    "code": "ntrials = 10000\nn1=100\nn2=100\nn3=100\np1=.4\np2=.5\np3=.6\ngroup1 = [np.random.binomial(n=n1, p=p1) for _ in range(ntrials)]\ngroup2 = [np.random.binomial(n=n2, p=p2) for _ in range(ntrials)]\ngroup3 = [np.random.binomial(n=n3, p=p3) for _ in range(ntrials)] \ngrouptrials = Table.empty()\ngrouptrials = grouptrials.with_column(\"votes1\", group1)\ngrouptrials = grouptrials.with_column(\"votes2\", group2)\ngrouptrials = grouptrials.with_column(\"votes3\", group3)\ngrouptrials",
    "id": "46ed26dc40ae4ecb90931b99cfa94e50",
    "idx": 12,
    "time": "2021-02-01T21:47:50.680Z",
    "type": "execution"
   },
   {
    "id": "46ed26dc40ae4ecb90931b99cfa94e50",
    "time": "2021-02-01T21:47:50.906Z",
    "type": "completion"
   },
   {
    "code": "grouptrials = grouptrials.with_column(\"voter piv1\", 1*(grouptrials.column(\"votes1\")==n1/2))\ngrouptrials = grouptrials.with_column(\"voter piv2\", 1*(grouptrials.column(\"votes1\")==n2/2))\ngrouptrials = grouptrials.with_column(\"voter piv3\", 1*(grouptrials.column(\"votes1\")==n3/2))\ngrouptrials",
    "id": "1b3303453a8149fc9c621740cdac379a",
    "idx": 13,
    "time": "2021-02-01T21:47:52.034Z",
    "type": "execution"
   },
   {
    "id": "1b3303453a8149fc9c621740cdac379a",
    "time": "2021-02-01T21:47:52.105Z",
    "type": "completion"
   },
   {
    "code": "group1piv = 1*((grouptrials.column(\"votes2\") <= n2/2)*(grouptrials.column(\"votes3\") >= n3/2)+\n   (grouptrials.column(\"votes2\") >= n2/2)*(grouptrials.column(\"votes3\") <= n3/2))\ngroup2piv = 1*((grouptrials.column(\"votes1\") <= n2/2)*(grouptrials.column(\"votes3\") >= n3/2)+\n   (grouptrials.column(\"votes1\") >= n2/2)*(grouptrials.column(\"votes3\") <= n3/2))\ngroup3piv = 1*((grouptrials.column(\"votes1\") <= n2/2)*(grouptrials.column(\"votes2\") >= n3/2)+\n   (grouptrials.column(\"votes1\") >= n2/2)*(grouptrials.column(\"votes2\") <= n3/2))\n\ngrouptrials = grouptrials.with_column(\"group piv1\", group1piv)\ngrouptrials = grouptrials.with_column(\"group piv2\", group2piv)\ngrouptrials = grouptrials.with_column(\"group piv3\", group3piv)\ngrouptrials",
    "id": "fc4ca59c7f154b6cbb6d8b62cc83da9e",
    "idx": 14,
    "time": "2021-02-01T21:47:53.069Z",
    "type": "execution"
   },
   {
    "id": "fc4ca59c7f154b6cbb6d8b62cc83da9e",
    "time": "2021-02-01T21:47:53.140Z",
    "type": "completion"
   },
   {
    "code": "sum(1 - ((grouptrials.column(\"votes2\") < n2/2)*(grouptrials.column(\"votes3\") < n3/2)+\n   (grouptrials.column(\"votes2\") > n2/2)*(grouptrials.column(\"votes3\") > n3/2)))",
    "id": "014537e6f47645d28029b7352ddba8be",
    "idx": 15,
    "time": "2021-02-01T21:47:53.576Z",
    "type": "execution"
   },
   {
    "id": "014537e6f47645d28029b7352ddba8be",
    "time": "2021-02-01T21:47:53.641Z",
    "type": "completion"
   },
   {
    "code": "sum(grouptrials.column(\"group piv1\"))",
    "id": "b58939b97c7e48898fe2d5b2a2f8d165",
    "idx": 16,
    "time": "2021-02-01T21:47:54.577Z",
    "type": "execution"
   },
   {
    "id": "b58939b97c7e48898fe2d5b2a2f8d165",
    "time": "2021-02-01T21:47:54.640Z",
    "type": "completion"
   },
   {
    "code": "sum(grouptrials.column(\"group piv2\"))",
    "id": "d88fd95167d949488c05f3be72caf15e",
    "idx": 17,
    "time": "2021-02-01T21:47:55.026Z",
    "type": "execution"
   },
   {
    "id": "d88fd95167d949488c05f3be72caf15e",
    "time": "2021-02-01T21:47:55.090Z",
    "type": "completion"
   },
   {
    "code": "sum(grouptrials.column(\"group piv3\"))",
    "id": "7f2eb3e78ff244feb75b7e7c9525281f",
    "idx": 18,
    "time": "2021-02-01T21:47:55.545Z",
    "type": "execution"
   },
   {
    "id": "7f2eb3e78ff244feb75b7e7c9525281f",
    "time": "2021-02-01T21:47:55.607Z",
    "type": "completion"
   },
   {
    "code": "sum(grouptrials.column(\"voter piv 1\"))",
    "id": "c8e8b862bff1494b82a4fca02feee951",
    "idx": 15,
    "time": "2021-02-01T21:48:38.552Z",
    "type": "execution"
   },
   {
    "id": "c8e8b862bff1494b82a4fca02feee951",
    "time": "2021-02-01T21:48:38.622Z",
    "type": "completion"
   },
   {
    "code": "sum(grouptrials.column(\"voter piv1\"))",
    "id": "c8e8b862bff1494b82a4fca02feee951",
    "idx": 15,
    "time": "2021-02-01T21:48:44.098Z",
    "type": "execution"
   },
   {
    "id": "c8e8b862bff1494b82a4fca02feee951",
    "time": "2021-02-01T21:48:44.168Z",
    "type": "completion"
   },
   {
    "code": "sum(grouptrials.column(\"voter piv2\"))",
    "id": "1c425b789bc348b69ffd40a924f59b79",
    "idx": 16,
    "time": "2021-02-01T21:48:55.708Z",
    "type": "execution"
   },
   {
    "id": "1c425b789bc348b69ffd40a924f59b79",
    "time": "2021-02-01T21:48:55.777Z",
    "type": "completion"
   },
   {
    "code": "sum(grouptrials.column(\"voter piv3\"))",
    "id": "2bc8d8c2f02841249ea01259d546d9ad",
    "idx": 17,
    "time": "2021-02-01T21:49:01.535Z",
    "type": "execution"
   },
   {
    "id": "2bc8d8c2f02841249ea01259d546d9ad",
    "time": "2021-02-01T21:49:01.600Z",
    "type": "completion"
   },
   {
    "code": "grouptrials = grouptrials.with_column(\"voter piv1\", 1*(grouptrials.column(\"votes1\")==n1/2))\ngrouptrials = grouptrials.with_column(\"voter piv2\", 1*(grouptrials.column(\"votes2\")==n2/2))\ngrouptrials = grouptrials.with_column(\"voter piv3\", 1*(grouptrials.column(\"votes3\")==n3/2))\ngrouptrials",
    "id": "1b3303453a8149fc9c621740cdac379a",
    "idx": 13,
    "time": "2021-02-01T21:49:22.776Z",
    "type": "execution"
   },
   {
    "id": "1b3303453a8149fc9c621740cdac379a",
    "time": "2021-02-01T21:49:22.843Z",
    "type": "completion"
   },
   {
    "code": "group1piv = 1*((grouptrials.column(\"votes2\") <= n2/2)*(grouptrials.column(\"votes3\") >= n3/2)+\n   (grouptrials.column(\"votes2\") >= n2/2)*(grouptrials.column(\"votes3\") <= n3/2))\ngroup2piv = 1*((grouptrials.column(\"votes1\") <= n2/2)*(grouptrials.column(\"votes3\") >= n3/2)+\n   (grouptrials.column(\"votes1\") >= n2/2)*(grouptrials.column(\"votes3\") <= n3/2))\ngroup3piv = 1*((grouptrials.column(\"votes1\") <= n2/2)*(grouptrials.column(\"votes2\") >= n3/2)+\n   (grouptrials.column(\"votes1\") >= n2/2)*(grouptrials.column(\"votes2\") <= n3/2))\n\ngrouptrials = grouptrials.with_column(\"group piv1\", group1piv)\ngrouptrials = grouptrials.with_column(\"group piv2\", group2piv)\ngrouptrials = grouptrials.with_column(\"group piv3\", group3piv)\ngrouptrials",
    "id": "fc4ca59c7f154b6cbb6d8b62cc83da9e",
    "idx": 14,
    "time": "2021-02-01T21:49:24.699Z",
    "type": "execution"
   },
   {
    "id": "fc4ca59c7f154b6cbb6d8b62cc83da9e",
    "time": "2021-02-01T21:49:24.769Z",
    "type": "completion"
   },
   {
    "code": "sum(grouptrials.column(\"voter piv1\"))",
    "id": "c8e8b862bff1494b82a4fca02feee951",
    "idx": 15,
    "time": "2021-02-01T21:49:26.926Z",
    "type": "execution"
   },
   {
    "id": "c8e8b862bff1494b82a4fca02feee951",
    "time": "2021-02-01T21:49:26.999Z",
    "type": "completion"
   },
   {
    "code": "sum(grouptrials.column(\"voter piv2\"))",
    "id": "1c425b789bc348b69ffd40a924f59b79",
    "idx": 16,
    "time": "2021-02-01T21:49:28.174Z",
    "type": "execution"
   },
   {
    "id": "1c425b789bc348b69ffd40a924f59b79",
    "time": "2021-02-01T21:49:28.246Z",
    "type": "completion"
   },
   {
    "code": "sum(grouptrials.column(\"voter piv3\"))",
    "id": "2bc8d8c2f02841249ea01259d546d9ad",
    "idx": 17,
    "time": "2021-02-01T21:49:28.624Z",
    "type": "execution"
   },
   {
    "id": "2bc8d8c2f02841249ea01259d546d9ad",
    "time": "2021-02-01T21:49:28.694Z",
    "type": "completion"
   },
   {
    "code": "ntrials = 10000\nn1=50\nn2=50\nn3=50\np1=.4\np2=.5\np3=.6\ngroup1 = [np.random.binomial(n=n1, p=p1) for _ in range(ntrials)]\ngroup2 = [np.random.binomial(n=n2, p=p2) for _ in range(ntrials)]\ngroup3 = [np.random.binomial(n=n3, p=p3) for _ in range(ntrials)] \ngrouptrials = Table.empty()\ngrouptrials = grouptrials.with_column(\"votes1\", group1)\ngrouptrials = grouptrials.with_column(\"votes2\", group2)\ngrouptrials = grouptrials.with_column(\"votes3\", group3)\ngrouptrials",
    "id": "46ed26dc40ae4ecb90931b99cfa94e50",
    "idx": 12,
    "time": "2021-02-01T21:49:51.394Z",
    "type": "execution"
   },
   {
    "id": "46ed26dc40ae4ecb90931b99cfa94e50",
    "time": "2021-02-01T21:49:51.566Z",
    "type": "completion"
   },
   {
    "code": "grouptrials = grouptrials.with_column(\"voter piv1\", 1*(grouptrials.column(\"votes1\")==n1/2))\ngrouptrials = grouptrials.with_column(\"voter piv2\", 1*(grouptrials.column(\"votes2\")==n2/2))\ngrouptrials = grouptrials.with_column(\"voter piv3\", 1*(grouptrials.column(\"votes3\")==n3/2))\ngrouptrials",
    "id": "1b3303453a8149fc9c621740cdac379a",
    "idx": 13,
    "time": "2021-02-01T21:49:52.969Z",
    "type": "execution"
   },
   {
    "id": "1b3303453a8149fc9c621740cdac379a",
    "time": "2021-02-01T21:49:53.037Z",
    "type": "completion"
   },
   {
    "code": "group1piv = 1*((grouptrials.column(\"votes2\") <= n2/2)*(grouptrials.column(\"votes3\") >= n3/2)+\n   (grouptrials.column(\"votes2\") >= n2/2)*(grouptrials.column(\"votes3\") <= n3/2))\ngroup2piv = 1*((grouptrials.column(\"votes1\") <= n2/2)*(grouptrials.column(\"votes3\") >= n3/2)+\n   (grouptrials.column(\"votes1\") >= n2/2)*(grouptrials.column(\"votes3\") <= n3/2))\ngroup3piv = 1*((grouptrials.column(\"votes1\") <= n2/2)*(grouptrials.column(\"votes2\") >= n3/2)+\n   (grouptrials.column(\"votes1\") >= n2/2)*(grouptrials.column(\"votes2\") <= n3/2))\n\ngrouptrials = grouptrials.with_column(\"group piv1\", group1piv)\ngrouptrials = grouptrials.with_column(\"group piv2\", group2piv)\ngrouptrials = grouptrials.with_column(\"group piv3\", group3piv)\ngrouptrials",
    "id": "fc4ca59c7f154b6cbb6d8b62cc83da9e",
    "idx": 14,
    "time": "2021-02-01T21:49:54.915Z",
    "type": "execution"
   },
   {
    "id": "fc4ca59c7f154b6cbb6d8b62cc83da9e",
    "time": "2021-02-01T21:49:54.988Z",
    "type": "completion"
   },
   {
    "code": "sum(grouptrials.column(\"voter piv1\"))",
    "id": "c8e8b862bff1494b82a4fca02feee951",
    "idx": 15,
    "time": "2021-02-01T21:49:56.569Z",
    "type": "execution"
   },
   {
    "id": "c8e8b862bff1494b82a4fca02feee951",
    "time": "2021-02-01T21:49:56.634Z",
    "type": "completion"
   },
   {
    "code": "sum(grouptrials.column(\"voter piv2\"))",
    "id": "1c425b789bc348b69ffd40a924f59b79",
    "idx": 16,
    "time": "2021-02-01T21:49:56.996Z",
    "type": "execution"
   },
   {
    "id": "1c425b789bc348b69ffd40a924f59b79",
    "time": "2021-02-01T21:49:57.060Z",
    "type": "completion"
   },
   {
    "code": "sum(grouptrials.column(\"voter piv3\"))",
    "id": "2bc8d8c2f02841249ea01259d546d9ad",
    "idx": 17,
    "time": "2021-02-01T21:49:57.299Z",
    "type": "execution"
   },
   {
    "id": "2bc8d8c2f02841249ea01259d546d9ad",
    "time": "2021-02-01T21:49:57.369Z",
    "type": "completion"
   },
   {
    "code": "sum(1 - ((grouptrials.column(\"votes2\") < n2/2)*(grouptrials.column(\"votes3\") < n3/2)+\n   (grouptrials.column(\"votes2\") > n2/2)*(grouptrials.column(\"votes3\") > n3/2)))",
    "id": "014537e6f47645d28029b7352ddba8be",
    "idx": 18,
    "time": "2021-02-01T21:49:58.953Z",
    "type": "execution"
   },
   {
    "id": "014537e6f47645d28029b7352ddba8be",
    "time": "2021-02-01T21:49:59.017Z",
    "type": "completion"
   },
   {
    "code": "sum(grouptrials.column(\"group piv1\"))",
    "id": "b58939b97c7e48898fe2d5b2a2f8d165",
    "idx": 19,
    "time": "2021-02-01T21:49:59.347Z",
    "type": "execution"
   },
   {
    "id": "b58939b97c7e48898fe2d5b2a2f8d165",
    "time": "2021-02-01T21:49:59.411Z",
    "type": "completion"
   },
   {
    "code": "sum(grouptrials.column(\"group piv2\"))",
    "id": "d88fd95167d949488c05f3be72caf15e",
    "idx": 20,
    "time": "2021-02-01T21:49:59.628Z",
    "type": "execution"
   },
   {
    "id": "d88fd95167d949488c05f3be72caf15e",
    "time": "2021-02-01T21:49:59.692Z",
    "type": "completion"
   },
   {
    "code": "sum(grouptrials.column(\"group piv3\"))",
    "id": "7f2eb3e78ff244feb75b7e7c9525281f",
    "idx": 21,
    "time": "2021-02-01T21:50:02.171Z",
    "type": "execution"
   },
   {
    "id": "7f2eb3e78ff244feb75b7e7c9525281f",
    "time": "2021-02-01T21:50:02.235Z",
    "type": "completion"
   },
   {
    "code": "grouptrials = grouptrials.with_column(\"overall piv 1\", grouptrials.column(\"voter piv 1\")*grouptrials.column(\"group piv 1\"))",
    "id": "1f43892f9c7b487f8473a812f8247da8",
    "idx": 22,
    "time": "2021-02-02T00:38:51.314Z",
    "type": "execution"
   },
   {
    "id": "1f43892f9c7b487f8473a812f8247da8",
    "time": "2021-02-02T00:38:51.447Z",
    "type": "completion"
   },
   {
    "code": "import numpy as np\nimport pandas as pd\nimport matplotlib.pyplot as plt\nimport seaborn as sns\nfrom datascience import Table",
    "id": "07f0c79b496e4c0e8e30011d38012bc2",
    "idx": 0,
    "time": "2021-02-02T00:38:56.878Z",
    "type": "execution"
   },
   {
    "code": "np.random.binomial(n=10, p=.5)",
    "id": "d358707742604289907a3e2ab441346e",
    "idx": 1,
    "time": "2021-02-02T00:38:57.237Z",
    "type": "execution"
   },
   {
    "code": "1*(np.random.binomial(n=10, p=.5) ==5)",
    "id": "66cbdf3c453c46629d8a56d3f4b6bffa",
    "idx": 2,
    "time": "2021-02-02T00:38:57.597Z",
    "type": "execution"
   },
   {
    "code": "trials = [np.random.binomial(n=10, p=.5) for _ in range(1000)]",
    "id": "eecd195e8a5143f889f315960f619893",
    "idx": 3,
    "time": "2021-02-02T00:38:57.923Z",
    "type": "execution"
   },
   {
    "id": "07f0c79b496e4c0e8e30011d38012bc2",
    "time": "2021-02-02T00:38:58.415Z",
    "type": "completion"
   },
   {
    "id": "d358707742604289907a3e2ab441346e",
    "time": "2021-02-02T00:38:58.421Z",
    "type": "completion"
   },
   {
    "id": "66cbdf3c453c46629d8a56d3f4b6bffa",
    "time": "2021-02-02T00:38:58.469Z",
    "type": "completion"
   },
   {
    "id": "eecd195e8a5143f889f315960f619893",
    "time": "2021-02-02T00:38:58.471Z",
    "type": "completion"
   },
   {
    "code": "trials",
    "id": "b312f0a109c2447389621f43e0d9cd33",
    "idx": 4,
    "time": "2021-02-02T00:39:01.816Z",
    "type": "execution"
   },
   {
    "id": "b312f0a109c2447389621f43e0d9cd33",
    "time": "2021-02-02T00:39:01.891Z",
    "type": "completion"
   },
   {
    "code": "sns.countplot(trials)",
    "id": "842d54cef2304d3283ae3f05eb1f38db",
    "idx": 5,
    "time": "2021-02-02T00:39:02.209Z",
    "type": "execution"
   },
   {
    "id": "842d54cef2304d3283ae3f05eb1f38db",
    "time": "2021-02-02T00:39:02.369Z",
    "type": "completion"
   },
   {
    "code": "def one_pivot(n=10, p=.5): return(1*(np.random.binomial(n=n, p=p) ==n/2))",
    "id": "58bebd57814a40668bbdd532410bc06e",
    "idx": 6,
    "time": "2021-02-02T00:39:02.839Z",
    "type": "execution"
   },
   {
    "id": "58bebd57814a40668bbdd532410bc06e",
    "time": "2021-02-02T00:39:02.901Z",
    "type": "completion"
   },
   {
    "code": "one_pivot(10, .5)",
    "id": "e6db10245b6b419fa60a7a4e393b724f",
    "idx": 7,
    "time": "2021-02-02T00:39:03.166Z",
    "type": "execution"
   },
   {
    "id": "e6db10245b6b419fa60a7a4e393b724f",
    "time": "2021-02-02T00:39:03.228Z",
    "type": "completion"
   },
   {
    "code": "piv_trials = [one_pivot(n=10, p=.5) for _ in range(1000)]",
    "id": "d9e5d36b4907423594173c0d721955d2",
    "idx": 8,
    "time": "2021-02-02T00:39:03.876Z",
    "type": "execution"
   },
   {
    "id": "d9e5d36b4907423594173c0d721955d2",
    "time": "2021-02-02T00:39:03.944Z",
    "type": "completion"
   },
   {
    "code": "sum(piv_trials)/1000",
    "id": "668e04a9b9124b32beb3e5e9b8f484b8",
    "idx": 9,
    "time": "2021-02-02T00:39:06.023Z",
    "type": "execution"
   },
   {
    "id": "668e04a9b9124b32beb3e5e9b8f484b8",
    "time": "2021-02-02T00:39:06.087Z",
    "type": "completion"
   },
   {
    "code": "ntrials = 10000\npiv_trials100 = [one_pivot(n=100, p=.5) for _ in range(ntrials)]\nsum(piv_trials100)/ntrials",
    "id": "0245d884de49413784ecf17c496b7d84",
    "idx": 10,
    "time": "2021-02-02T00:39:06.777Z",
    "type": "execution"
   },
   {
    "id": "0245d884de49413784ecf17c496b7d84",
    "time": "2021-02-02T00:39:06.873Z",
    "type": "completion"
   },
   {
    "code": "ntrials = 10000\npiv_trials100 = [one_pivot(n=100, p=.4) for _ in range(ntrials)]\nsum(piv_trials100)/ntrials",
    "id": "6f161089dd214b7882c2324c7fdfa040",
    "idx": 11,
    "time": "2021-02-02T00:39:07.521Z",
    "type": "execution"
   },
   {
    "id": "6f161089dd214b7882c2324c7fdfa040",
    "time": "2021-02-02T00:39:07.620Z",
    "type": "completion"
   },
   {
    "code": "ntrials = 10000\nn1=50\nn2=50\nn3=50\np1=.4\np2=.5\np3=.6\ngroup1 = [np.random.binomial(n=n1, p=p1) for _ in range(ntrials)]\ngroup2 = [np.random.binomial(n=n2, p=p2) for _ in range(ntrials)]\ngroup3 = [np.random.binomial(n=n3, p=p3) for _ in range(ntrials)] \ngrouptrials = Table.empty()\ngrouptrials = grouptrials.with_column(\"votes1\", group1)\ngrouptrials = grouptrials.with_column(\"votes2\", group2)\ngrouptrials = grouptrials.with_column(\"votes3\", group3)\ngrouptrials",
    "id": "39b581380fff4d1daf049c3491ed0089",
    "idx": 12,
    "time": "2021-02-02T00:39:07.953Z",
    "type": "execution"
   },
   {
    "id": "39b581380fff4d1daf049c3491ed0089",
    "time": "2021-02-02T00:39:08.130Z",
    "type": "completion"
   },
   {
    "code": "grouptrials = grouptrials.with_column(\"voter piv1\", 1*(grouptrials.column(\"votes1\")==n1/2))\ngrouptrials = grouptrials.with_column(\"voter piv2\", 1*(grouptrials.column(\"votes2\")==n2/2))\ngrouptrials = grouptrials.with_column(\"voter piv3\", 1*(grouptrials.column(\"votes3\")==n3/2))\ngrouptrials",
    "id": "59ee26f48cb24a45884e9d9b8251169e",
    "idx": 13,
    "time": "2021-02-02T00:39:10.085Z",
    "type": "execution"
   },
   {
    "id": "59ee26f48cb24a45884e9d9b8251169e",
    "time": "2021-02-02T00:39:10.161Z",
    "type": "completion"
   },
   {
    "code": "group1piv = 1*((grouptrials.column(\"votes2\") <= n2/2)*(grouptrials.column(\"votes3\") >= n3/2)+\n   (grouptrials.column(\"votes2\") >= n2/2)*(grouptrials.column(\"votes3\") <= n3/2))\ngroup2piv = 1*((grouptrials.column(\"votes1\") <= n2/2)*(grouptrials.column(\"votes3\") >= n3/2)+\n   (grouptrials.column(\"votes1\") >= n2/2)*(grouptrials.column(\"votes3\") <= n3/2))\ngroup3piv = 1*((grouptrials.column(\"votes1\") <= n2/2)*(grouptrials.column(\"votes2\") >= n3/2)+\n   (grouptrials.column(\"votes1\") >= n2/2)*(grouptrials.column(\"votes2\") <= n3/2))\n\ngrouptrials = grouptrials.with_column(\"group piv1\", group1piv)\ngrouptrials = grouptrials.with_column(\"group piv2\", group2piv)\ngrouptrials = grouptrials.with_column(\"group piv3\", group3piv)\ngrouptrials",
    "id": "cc9d87f87c694903beb492890c422f19",
    "idx": 14,
    "time": "2021-02-02T00:39:10.793Z",
    "type": "execution"
   },
   {
    "id": "cc9d87f87c694903beb492890c422f19",
    "time": "2021-02-02T00:39:10.868Z",
    "type": "completion"
   },
   {
    "code": "sum(grouptrials.column(\"voter piv1\"))",
    "id": "dcb14d47ecb54f759a666ad45ea0dae7",
    "idx": 15,
    "time": "2021-02-02T00:39:11.457Z",
    "type": "execution"
   },
   {
    "id": "dcb14d47ecb54f759a666ad45ea0dae7",
    "time": "2021-02-02T00:39:11.524Z",
    "type": "completion"
   },
   {
    "code": "sum(grouptrials.column(\"voter piv2\"))",
    "id": "cfbab3effb1843608e4ae637a61a2d0c",
    "idx": 16,
    "time": "2021-02-02T00:39:12.123Z",
    "type": "execution"
   },
   {
    "id": "cfbab3effb1843608e4ae637a61a2d0c",
    "time": "2021-02-02T00:39:12.187Z",
    "type": "completion"
   },
   {
    "code": "sum(grouptrials.column(\"voter piv3\"))",
    "id": "be58d0b7e6bb430dacfd5fbb38734593",
    "idx": 17,
    "time": "2021-02-02T00:39:12.334Z",
    "type": "execution"
   },
   {
    "id": "be58d0b7e6bb430dacfd5fbb38734593",
    "time": "2021-02-02T00:39:12.399Z",
    "type": "completion"
   },
   {
    "code": "sum(1 - ((grouptrials.column(\"votes2\") < n2/2)*(grouptrials.column(\"votes3\") < n3/2)+\n   (grouptrials.column(\"votes2\") > n2/2)*(grouptrials.column(\"votes3\") > n3/2)))",
    "id": "e260d2adfb0b48fc8b6d77b06b03bfd5",
    "idx": 18,
    "time": "2021-02-02T00:39:12.998Z",
    "type": "execution"
   },
   {
    "id": "e260d2adfb0b48fc8b6d77b06b03bfd5",
    "time": "2021-02-02T00:39:13.064Z",
    "type": "completion"
   },
   {
    "code": "sum(grouptrials.column(\"group piv1\"))",
    "id": "952663ddc5574f8f8f406608a5574fcb",
    "idx": 19,
    "time": "2021-02-02T00:39:13.583Z",
    "type": "execution"
   },
   {
    "id": "952663ddc5574f8f8f406608a5574fcb",
    "time": "2021-02-02T00:39:13.648Z",
    "type": "completion"
   },
   {
    "code": "sum(grouptrials.column(\"group piv2\"))",
    "id": "e93281cb04134b218c69e86b09c108d4",
    "idx": 20,
    "time": "2021-02-02T00:39:13.955Z",
    "type": "execution"
   },
   {
    "id": "e93281cb04134b218c69e86b09c108d4",
    "time": "2021-02-02T00:39:14.020Z",
    "type": "completion"
   },
   {
    "code": "sum(grouptrials.column(\"group piv3\"))",
    "id": "f784d2954f6f4e6184c83190a3d59a45",
    "idx": 21,
    "time": "2021-02-02T00:39:14.370Z",
    "type": "execution"
   },
   {
    "id": "f784d2954f6f4e6184c83190a3d59a45",
    "time": "2021-02-02T00:39:14.437Z",
    "type": "completion"
   },
   {
    "code": "grouptrials = grouptrials.with_column(\"overall piv 1\", grouptrials.column(\"voter piv 1\")*grouptrials.column(\"group piv 1\"))",
    "id": "1f43892f9c7b487f8473a812f8247da8",
    "idx": 22,
    "time": "2021-02-02T00:39:15.023Z",
    "type": "execution"
   },
   {
    "id": "1f43892f9c7b487f8473a812f8247da8",
    "time": "2021-02-02T00:39:15.166Z",
    "type": "completion"
   },
   {
    "code": "grouptrials = grouptrials.with_column(\"overall piv 1\", grouptrials.column(\"voter piv1\")*grouptrials.column(\"group piv1\"))",
    "id": "1f43892f9c7b487f8473a812f8247da8",
    "idx": 22,
    "time": "2021-02-02T00:39:31.628Z",
    "type": "execution"
   },
   {
    "id": "1f43892f9c7b487f8473a812f8247da8",
    "time": "2021-02-02T00:39:31.692Z",
    "type": "completion"
   },
   {
    "code": "grouptrials = grouptrials.with_column(\"overall piv 1\", \n                                      grouptrials.column(\"voter piv1\")*grouptrials.column(\"group piv1\"))\ngrouptrials",
    "id": "1f43892f9c7b487f8473a812f8247da8",
    "idx": 22,
    "time": "2021-02-02T00:39:44.790Z",
    "type": "execution"
   },
   {
    "id": "1f43892f9c7b487f8473a812f8247da8",
    "time": "2021-02-02T00:39:44.858Z",
    "type": "completion"
   },
   {
    "code": "grouptrials = grouptrials.with_column(\"overall piv 1\", \n                                      grouptrials.column(\"voter piv1\")*grouptrials.column(\"group piv1\"))\ngrouptrials = grouptrials.with_column(\"overall piv 2\", \n                                      grouptrials.column(\"voter piv2\")*grouptrials.column(\"group piv2\"))\ngrouptrials = grouptrials.with_column(\"overall piv 3\", \n                                      grouptrials.column(\"voter piv3\")*grouptrials.column(\"group piv3\"))\n\ngrouptrials",
    "id": "1f43892f9c7b487f8473a812f8247da8",
    "idx": 22,
    "time": "2021-02-02T00:40:11.295Z",
    "type": "execution"
   },
   {
    "id": "1f43892f9c7b487f8473a812f8247da8",
    "time": "2021-02-02T00:40:11.365Z",
    "type": "completion"
   },
   {
    "code": "sum(grouptrials.column(\"overall piv 1\"))",
    "id": "05a9f836b763459480351c80b0936d8a",
    "idx": 23,
    "time": "2021-02-02T00:40:32.669Z",
    "type": "execution"
   },
   {
    "id": "05a9f836b763459480351c80b0936d8a",
    "time": "2021-02-02T00:40:32.733Z",
    "type": "completion"
   },
   {
    "code": "sum(grouptrials.column(\"overall piv 1\")), sum(grouptrials.column(\"overall piv 2\")), sum(grouptrials.column(\"overall piv 3\")) ",
    "id": "05a9f836b763459480351c80b0936d8a",
    "idx": 23,
    "time": "2021-02-02T00:40:46.955Z",
    "type": "execution"
   },
   {
    "id": "05a9f836b763459480351c80b0936d8a",
    "time": "2021-02-02T00:40:47.025Z",
    "type": "completion"
   },
   {
    "code": "sum(grouptrials.column(\"overall piv 1\")), \nsum(grouptrials.column(\"overall piv 2\")), \nsum(grouptrials.column(\"overall piv 3\")) ",
    "id": "05a9f836b763459480351c80b0936d8a",
    "idx": 23,
    "time": "2021-02-02T00:40:53.593Z",
    "type": "execution"
   },
   {
    "id": "05a9f836b763459480351c80b0936d8a",
    "time": "2021-02-02T00:40:53.669Z",
    "type": "completion"
   },
   {
    "code": "sum(grouptrials.column(\"overall piv 1\")), sum(grouptrials.column(\"overall piv 2\")),  sum(grouptrials.column(\"overall piv 3\")) ",
    "id": "05a9f836b763459480351c80b0936d8a",
    "idx": 23,
    "time": "2021-02-02T00:41:00.073Z",
    "type": "execution"
   },
   {
    "id": "05a9f836b763459480351c80b0936d8a",
    "time": "2021-02-02T00:41:00.144Z",
    "type": "completion"
   },
   {
    "code": "sum(grouptrials.column(\"overall piv 1\"))/ntrials, sum(grouptrials.column(\"overall piv 2\"))/ntrials,  sum(grouptrials.column(\"overall piv 3\")) /ntrials",
    "id": "05a9f836b763459480351c80b0936d8a",
    "idx": 23,
    "time": "2021-02-02T00:41:13.595Z",
    "type": "execution"
   },
   {
    "id": "05a9f836b763459480351c80b0936d8a",
    "time": "2021-02-02T00:41:13.665Z",
    "type": "completion"
   },
   {
    "code": "grouptrials.bar(\"overall piv 1\")",
    "id": "4952d228f8724cd58d3db97054040c1a",
    "idx": 24,
    "time": "2021-02-02T00:42:56.158Z",
    "type": "execution"
   },
   {
    "code": "sns.countplot(trials)",
    "id": "842d54cef2304d3283ae3f05eb1f38db",
    "idx": 5,
    "time": "2021-02-02T00:43:09.995Z",
    "type": "execution"
   },
   {
    "code": "import numpy as np\nimport pandas as pd\nimport matplotlib.pyplot as plt\nimport seaborn as sns\nfrom datascience import Table",
    "id": "07f0c79b496e4c0e8e30011d38012bc2",
    "idx": 0,
    "time": "2021-02-02T00:43:22.190Z",
    "type": "execution"
   },
   {
    "id": "07f0c79b496e4c0e8e30011d38012bc2",
    "time": "2021-02-02T00:43:28.078Z",
    "type": "completion"
   },
   {
    "code": "np.random.binomial(n=10, p=.5)",
    "id": "d358707742604289907a3e2ab441346e",
    "idx": 1,
    "time": "2021-02-02T00:43:31.583Z",
    "type": "execution"
   },
   {
    "id": "d358707742604289907a3e2ab441346e",
    "time": "2021-02-02T00:43:31.648Z",
    "type": "completion"
   },
   {
    "code": "1*(np.random.binomial(n=10, p=.5) ==5)",
    "id": "66cbdf3c453c46629d8a56d3f4b6bffa",
    "idx": 2,
    "time": "2021-02-02T00:43:32.112Z",
    "type": "execution"
   },
   {
    "id": "66cbdf3c453c46629d8a56d3f4b6bffa",
    "time": "2021-02-02T00:43:32.174Z",
    "type": "completion"
   },
   {
    "code": "trials = [np.random.binomial(n=10, p=.5) for _ in range(1000)]",
    "id": "eecd195e8a5143f889f315960f619893",
    "idx": 3,
    "time": "2021-02-02T00:43:32.697Z",
    "type": "execution"
   },
   {
    "id": "eecd195e8a5143f889f315960f619893",
    "time": "2021-02-02T00:43:32.761Z",
    "type": "completion"
   },
   {
    "code": "trials",
    "id": "b312f0a109c2447389621f43e0d9cd33",
    "idx": 4,
    "time": "2021-02-02T00:43:34.182Z",
    "type": "execution"
   },
   {
    "id": "b312f0a109c2447389621f43e0d9cd33",
    "time": "2021-02-02T00:43:34.277Z",
    "type": "completion"
   },
   {
    "code": "sns.countplot(trials)",
    "id": "842d54cef2304d3283ae3f05eb1f38db",
    "idx": 5,
    "time": "2021-02-02T00:43:34.789Z",
    "type": "execution"
   },
   {
    "id": "842d54cef2304d3283ae3f05eb1f38db",
    "time": "2021-02-02T00:43:34.946Z",
    "type": "completion"
   },
   {
    "id": "842d54cef2304d3283ae3f05eb1f38db",
    "time": "2021-02-02T00:43:34.946Z",
    "type": "completion"
   },
   {
    "code": "sns.countplot(trials)",
    "id": "842d54cef2304d3283ae3f05eb1f38db",
    "idx": 5,
    "time": "2021-02-02T00:43:53.600Z",
    "type": "execution"
   },
   {
    "id": "842d54cef2304d3283ae3f05eb1f38db",
    "time": "2021-02-02T00:43:53.715Z",
    "type": "completion"
   },
   {
    "code": "import numpy as np\nimport pandas as pd\nimport matplotlib.pyplot as plt\nimport seaborn as sns\nfrom datascience import Table\n%matplotlib inline",
    "id": "07f0c79b496e4c0e8e30011d38012bc2",
    "idx": 0,
    "time": "2021-02-02T00:43:55.444Z",
    "type": "execution"
   },
   {
    "id": "07f0c79b496e4c0e8e30011d38012bc2",
    "time": "2021-02-02T00:43:55.507Z",
    "type": "completion"
   },
   {
    "code": "sns.countplot(trials)",
    "id": "842d54cef2304d3283ae3f05eb1f38db",
    "idx": 5,
    "time": "2021-02-02T00:43:57.076Z",
    "type": "execution"
   },
   {
    "id": "842d54cef2304d3283ae3f05eb1f38db",
    "time": "2021-02-02T00:43:57.385Z",
    "type": "completion"
   },
   {
    "code": "def one_pivot(n=10, p=.5): return(1*(np.random.binomial(n=n, p=p) ==n/2))",
    "id": "58bebd57814a40668bbdd532410bc06e",
    "idx": 6,
    "time": "2021-02-02T00:44:03.803Z",
    "type": "execution"
   },
   {
    "id": "58bebd57814a40668bbdd532410bc06e",
    "time": "2021-02-02T00:44:03.864Z",
    "type": "completion"
   },
   {
    "code": "one_pivot(10, .5)",
    "id": "e6db10245b6b419fa60a7a4e393b724f",
    "idx": 7,
    "time": "2021-02-02T00:44:04.297Z",
    "type": "execution"
   },
   {
    "id": "e6db10245b6b419fa60a7a4e393b724f",
    "time": "2021-02-02T00:44:04.359Z",
    "type": "completion"
   },
   {
    "code": "piv_trials = [one_pivot(n=10, p=.5) for _ in range(1000)]",
    "id": "d9e5d36b4907423594173c0d721955d2",
    "idx": 8,
    "time": "2021-02-02T00:44:04.657Z",
    "type": "execution"
   },
   {
    "id": "d9e5d36b4907423594173c0d721955d2",
    "time": "2021-02-02T00:44:04.726Z",
    "type": "completion"
   },
   {
    "code": "sum(piv_trials)/1000",
    "id": "668e04a9b9124b32beb3e5e9b8f484b8",
    "idx": 9,
    "time": "2021-02-02T00:44:05.039Z",
    "type": "execution"
   },
   {
    "id": "668e04a9b9124b32beb3e5e9b8f484b8",
    "time": "2021-02-02T00:44:05.102Z",
    "type": "completion"
   },
   {
    "code": "ntrials = 10000\npiv_trials100 = [one_pivot(n=100, p=.5) for _ in range(ntrials)]\nsum(piv_trials100)/ntrials",
    "id": "0245d884de49413784ecf17c496b7d84",
    "idx": 10,
    "time": "2021-02-02T00:44:05.490Z",
    "type": "execution"
   },
   {
    "id": "0245d884de49413784ecf17c496b7d84",
    "time": "2021-02-02T00:44:05.589Z",
    "type": "completion"
   },
   {
    "code": "ntrials = 10000\npiv_trials100 = [one_pivot(n=100, p=.4) for _ in range(ntrials)]\nsum(piv_trials100)/ntrials",
    "id": "6f161089dd214b7882c2324c7fdfa040",
    "idx": 11,
    "time": "2021-02-02T00:44:05.941Z",
    "type": "execution"
   },
   {
    "id": "6f161089dd214b7882c2324c7fdfa040",
    "time": "2021-02-02T00:44:06.037Z",
    "type": "completion"
   },
   {
    "code": "ntrials = 10000\nn1=50\nn2=50\nn3=50\np1=.4\np2=.5\np3=.6\ngroup1 = [np.random.binomial(n=n1, p=p1) for _ in range(ntrials)]\ngroup2 = [np.random.binomial(n=n2, p=p2) for _ in range(ntrials)]\ngroup3 = [np.random.binomial(n=n3, p=p3) for _ in range(ntrials)] \ngrouptrials = Table.empty()\ngrouptrials = grouptrials.with_column(\"votes1\", group1)\ngrouptrials = grouptrials.with_column(\"votes2\", group2)\ngrouptrials = grouptrials.with_column(\"votes3\", group3)\ngrouptrials",
    "id": "39b581380fff4d1daf049c3491ed0089",
    "idx": 12,
    "time": "2021-02-02T00:44:06.333Z",
    "type": "execution"
   },
   {
    "id": "39b581380fff4d1daf049c3491ed0089",
    "time": "2021-02-02T00:44:06.499Z",
    "type": "completion"
   },
   {
    "code": "grouptrials = grouptrials.with_column(\"voter piv1\", 1*(grouptrials.column(\"votes1\")==n1/2))\ngrouptrials = grouptrials.with_column(\"voter piv2\", 1*(grouptrials.column(\"votes2\")==n2/2))\ngrouptrials = grouptrials.with_column(\"voter piv3\", 1*(grouptrials.column(\"votes3\")==n3/2))\ngrouptrials",
    "id": "59ee26f48cb24a45884e9d9b8251169e",
    "idx": 13,
    "time": "2021-02-02T00:44:06.998Z",
    "type": "execution"
   },
   {
    "id": "59ee26f48cb24a45884e9d9b8251169e",
    "time": "2021-02-02T00:44:07.074Z",
    "type": "completion"
   },
   {
    "code": "group1piv = 1*((grouptrials.column(\"votes2\") <= n2/2)*(grouptrials.column(\"votes3\") >= n3/2)+\n   (grouptrials.column(\"votes2\") >= n2/2)*(grouptrials.column(\"votes3\") <= n3/2))\ngroup2piv = 1*((grouptrials.column(\"votes1\") <= n2/2)*(grouptrials.column(\"votes3\") >= n3/2)+\n   (grouptrials.column(\"votes1\") >= n2/2)*(grouptrials.column(\"votes3\") <= n3/2))\ngroup3piv = 1*((grouptrials.column(\"votes1\") <= n2/2)*(grouptrials.column(\"votes2\") >= n3/2)+\n   (grouptrials.column(\"votes1\") >= n2/2)*(grouptrials.column(\"votes2\") <= n3/2))\n\ngrouptrials = grouptrials.with_column(\"group piv1\", group1piv)\ngrouptrials = grouptrials.with_column(\"group piv2\", group2piv)\ngrouptrials = grouptrials.with_column(\"group piv3\", group3piv)\ngrouptrials",
    "id": "cc9d87f87c694903beb492890c422f19",
    "idx": 14,
    "time": "2021-02-02T00:44:07.694Z",
    "type": "execution"
   },
   {
    "id": "cc9d87f87c694903beb492890c422f19",
    "time": "2021-02-02T00:44:07.774Z",
    "type": "completion"
   },
   {
    "code": "sum(grouptrials.column(\"voter piv1\"))",
    "id": "dcb14d47ecb54f759a666ad45ea0dae7",
    "idx": 15,
    "time": "2021-02-02T00:44:08.178Z",
    "type": "execution"
   },
   {
    "id": "dcb14d47ecb54f759a666ad45ea0dae7",
    "time": "2021-02-02T00:44:08.241Z",
    "type": "completion"
   },
   {
    "code": "sum(grouptrials.column(\"voter piv2\"))",
    "id": "cfbab3effb1843608e4ae637a61a2d0c",
    "idx": 16,
    "time": "2021-02-02T00:44:08.606Z",
    "type": "execution"
   },
   {
    "id": "cfbab3effb1843608e4ae637a61a2d0c",
    "time": "2021-02-02T00:44:08.671Z",
    "type": "completion"
   },
   {
    "code": "sum(grouptrials.column(\"voter piv3\"))",
    "id": "be58d0b7e6bb430dacfd5fbb38734593",
    "idx": 17,
    "time": "2021-02-02T00:44:08.977Z",
    "type": "execution"
   },
   {
    "id": "be58d0b7e6bb430dacfd5fbb38734593",
    "time": "2021-02-02T00:44:09.040Z",
    "type": "completion"
   },
   {
    "code": "sum(1 - ((grouptrials.column(\"votes2\") < n2/2)*(grouptrials.column(\"votes3\") < n3/2)+\n   (grouptrials.column(\"votes2\") > n2/2)*(grouptrials.column(\"votes3\") > n3/2)))",
    "id": "e260d2adfb0b48fc8b6d77b06b03bfd5",
    "idx": 18,
    "time": "2021-02-02T00:44:09.371Z",
    "type": "execution"
   },
   {
    "id": "e260d2adfb0b48fc8b6d77b06b03bfd5",
    "time": "2021-02-02T00:44:09.436Z",
    "type": "completion"
   },
   {
    "code": "sum(grouptrials.column(\"group piv1\"))",
    "id": "952663ddc5574f8f8f406608a5574fcb",
    "idx": 19,
    "time": "2021-02-02T00:44:09.607Z",
    "type": "execution"
   },
   {
    "id": "952663ddc5574f8f8f406608a5574fcb",
    "time": "2021-02-02T00:44:09.672Z",
    "type": "completion"
   },
   {
    "code": "sum(grouptrials.column(\"group piv2\"))",
    "id": "e93281cb04134b218c69e86b09c108d4",
    "idx": 20,
    "time": "2021-02-02T00:44:09.821Z",
    "type": "execution"
   },
   {
    "id": "e93281cb04134b218c69e86b09c108d4",
    "time": "2021-02-02T00:44:09.890Z",
    "type": "completion"
   },
   {
    "code": "sum(grouptrials.column(\"group piv3\"))",
    "id": "f784d2954f6f4e6184c83190a3d59a45",
    "idx": 21,
    "time": "2021-02-02T00:44:10.057Z",
    "type": "execution"
   },
   {
    "id": "f784d2954f6f4e6184c83190a3d59a45",
    "time": "2021-02-02T00:44:10.120Z",
    "type": "completion"
   },
   {
    "code": "grouptrials = grouptrials.with_column(\"overall piv 1\", \n                                      grouptrials.column(\"voter piv1\")*grouptrials.column(\"group piv1\"))\ngrouptrials = grouptrials.with_column(\"overall piv 2\", \n                                      grouptrials.column(\"voter piv2\")*grouptrials.column(\"group piv2\"))\ngrouptrials = grouptrials.with_column(\"overall piv 3\", \n                                      grouptrials.column(\"voter piv3\")*grouptrials.column(\"group piv3\"))\n\ngrouptrials",
    "id": "1f43892f9c7b487f8473a812f8247da8",
    "idx": 22,
    "time": "2021-02-02T00:44:10.338Z",
    "type": "execution"
   },
   {
    "id": "1f43892f9c7b487f8473a812f8247da8",
    "time": "2021-02-02T00:44:10.410Z",
    "type": "completion"
   },
   {
    "code": "sum(grouptrials.column(\"overall piv 1\"))/ntrials, sum(grouptrials.column(\"overall piv 2\"))/ntrials,  sum(grouptrials.column(\"overall piv 3\")) /ntrials",
    "id": "05a9f836b763459480351c80b0936d8a",
    "idx": 23,
    "time": "2021-02-02T00:44:13.860Z",
    "type": "execution"
   },
   {
    "id": "05a9f836b763459480351c80b0936d8a",
    "time": "2021-02-02T00:44:13.936Z",
    "type": "completion"
   },
   {
    "code": "grouptrials.bar(\"overall piv 1\")",
    "id": "4952d228f8724cd58d3db97054040c1a",
    "idx": 24,
    "time": "2021-02-02T00:44:14.590Z",
    "type": "execution"
   },
   {
    "code": "grouptrials.barh(\"overall piv 1\")",
    "id": "4952d228f8724cd58d3db97054040c1a",
    "idx": 24,
    "time": "2021-02-02T00:44:43.582Z",
    "type": "execution"
   },
   {
    "id": "4952d228f8724cd58d3db97054040c1a",
    "time": "2021-02-02T00:44:51.457Z",
    "type": "completion"
   },
   {
    "id": "4952d228f8724cd58d3db97054040c1a",
    "time": "2021-02-02T00:44:51.457Z",
    "type": "completion"
   },
   {
    "id": "4952d228f8724cd58d3db97054040c1a",
    "time": "2021-02-02T00:44:51.457Z",
    "type": "completion"
   },
   {
    "code": "grouptrials.hist(\"overall piv 1\")",
    "id": "4952d228f8724cd58d3db97054040c1a",
    "idx": 24,
    "time": "2021-02-02T00:49:06.430Z",
    "type": "execution"
   },
   {
    "id": "4952d228f8724cd58d3db97054040c1a",
    "time": "2021-02-02T00:49:06.663Z",
    "type": "completion"
   },
   {
    "code": "grouptrials_df = grouptrials.to_df()",
    "id": "87029cebeb8641019853616ce148e8b5",
    "idx": 25,
    "time": "2021-02-02T00:50:37.812Z",
    "type": "execution"
   },
   {
    "id": "87029cebeb8641019853616ce148e8b5",
    "time": "2021-02-02T00:50:37.880Z",
    "type": "completion"
   },
   {
    "code": "grouptrials_df = grouptrials.to_df()\npd.crosstab(grouptrials.column(\"voter piv1\"), grouptrials.column(\"group piv 1\"))",
    "id": "87029cebeb8641019853616ce148e8b5",
    "idx": 25,
    "time": "2021-02-02T00:52:25.483Z",
    "type": "execution"
   },
   {
    "id": "87029cebeb8641019853616ce148e8b5",
    "time": "2021-02-02T00:52:25.566Z",
    "type": "completion"
   },
   {
    "code": "grouptrials_df = grouptrials.to_df()\npd.crosstab(grouptrials.column(\"voter piv1\"), grouptrials.column(\"group piv1\"))",
    "id": "87029cebeb8641019853616ce148e8b5",
    "idx": 25,
    "time": "2021-02-02T00:52:33.684Z",
    "type": "execution"
   },
   {
    "id": "87029cebeb8641019853616ce148e8b5",
    "time": "2021-02-02T00:52:33.784Z",
    "type": "completion"
   },
   {
    "code": "pd.crosstab(grouptrials.column(\"voter piv1\"), grouptrials.column(\"group piv1\"), normalize=TRUE)",
    "id": "9c0719873407448f8cbffcc4a990b5c6",
    "idx": 26,
    "time": "2021-02-02T00:53:03.585Z",
    "type": "execution"
   },
   {
    "id": "9c0719873407448f8cbffcc4a990b5c6",
    "time": "2021-02-02T00:53:03.656Z",
    "type": "completion"
   },
   {
    "code": "pd.crosstab(grouptrials.column(\"voter piv1\"), grouptrials.column(\"group piv1\"), normalize=True)",
    "id": "9c0719873407448f8cbffcc4a990b5c6",
    "idx": 26,
    "time": "2021-02-02T00:53:07.174Z",
    "type": "execution"
   },
   {
    "id": "9c0719873407448f8cbffcc4a990b5c6",
    "time": "2021-02-02T00:53:07.253Z",
    "type": "completion"
   },
   {
    "code": "Table.from_array(trials)",
    "id": "dc8601b32cc24cbbaa94ba2311405d94",
    "idx": 6,
    "time": "2021-02-02T23:02:21.663Z",
    "type": "execution"
   },
   {
    "id": "dc8601b32cc24cbbaa94ba2311405d94",
    "time": "2021-02-02T23:02:21.793Z",
    "type": "completion"
   },
   {
    "code": "import numpy as np\nimport pandas as pd\nimport matplotlib.pyplot as plt\nimport seaborn as sns\nfrom datascience import Table\n%matplotlib inline",
    "id": "60e34636f47047aa83f55d6f132341a3",
    "idx": 0,
    "time": "2021-02-02T23:02:25.016Z",
    "type": "execution"
   },
   {
    "code": "trials = [np.random.binomial(n=10, p=.5) for _ in range(1000)]",
    "id": "c28b97bda2444974b99fd68012727a89",
    "idx": 4,
    "time": "2021-02-02T23:02:26.640Z",
    "type": "execution"
   },
   {
    "id": "60e34636f47047aa83f55d6f132341a3",
    "time": "2021-02-02T23:02:26.675Z",
    "type": "completion"
   },
   {
    "id": "c28b97bda2444974b99fd68012727a89",
    "time": "2021-02-02T23:02:26.712Z",
    "type": "completion"
   },
   {
    "code": "trials",
    "id": "a60f42fbe69b4ff088779f16049f50fe",
    "idx": 5,
    "time": "2021-02-02T23:02:27.953Z",
    "type": "execution"
   },
   {
    "id": "a60f42fbe69b4ff088779f16049f50fe",
    "time": "2021-02-02T23:02:28.032Z",
    "type": "completion"
   },
   {
    "code": "Table.from_array(trials)",
    "id": "dc8601b32cc24cbbaa94ba2311405d94",
    "idx": 6,
    "time": "2021-02-02T23:02:29.715Z",
    "type": "execution"
   },
   {
    "id": "dc8601b32cc24cbbaa94ba2311405d94",
    "time": "2021-02-02T23:02:29.878Z",
    "type": "completion"
   },
   {
    "code": "Table.from_array(\"sims1\", trials)",
    "id": "dc8601b32cc24cbbaa94ba2311405d94",
    "idx": 6,
    "time": "2021-02-02T23:02:46.426Z",
    "type": "execution"
   },
   {
    "id": "dc8601b32cc24cbbaa94ba2311405d94",
    "time": "2021-02-02T23:02:46.505Z",
    "type": "completion"
   },
   {
    "code": "Table.from_array(trials, \"sims1\")",
    "id": "dc8601b32cc24cbbaa94ba2311405d94",
    "idx": 6,
    "time": "2021-02-02T23:02:56.987Z",
    "type": "execution"
   },
   {
    "id": "dc8601b32cc24cbbaa94ba2311405d94",
    "time": "2021-02-02T23:02:57.062Z",
    "type": "completion"
   },
   {
    "code": "Table.empty.with_column(\"sims1\".trials)",
    "id": "dc8601b32cc24cbbaa94ba2311405d94",
    "idx": 6,
    "time": "2021-02-02T23:04:11.489Z",
    "type": "execution"
   },
   {
    "id": "dc8601b32cc24cbbaa94ba2311405d94",
    "time": "2021-02-02T23:04:11.568Z",
    "type": "completion"
   },
   {
    "code": "Table.empty().with_column(\"sims1\".trials)",
    "id": "dc8601b32cc24cbbaa94ba2311405d94",
    "idx": 6,
    "time": "2021-02-02T23:04:16.821Z",
    "type": "execution"
   },
   {
    "id": "dc8601b32cc24cbbaa94ba2311405d94",
    "time": "2021-02-02T23:04:16.916Z",
    "type": "completion"
   },
   {
    "code": "Table.empty().with_column(\"sims1\",trials)",
    "id": "dc8601b32cc24cbbaa94ba2311405d94",
    "idx": 6,
    "time": "2021-02-02T23:04:22.381Z",
    "type": "execution"
   },
   {
    "id": "dc8601b32cc24cbbaa94ba2311405d94",
    "time": "2021-02-02T23:04:22.469Z",
    "type": "completion"
   },
   {
    "code": "simtable = Table.empty().with_column(\"sims1\",trials)\nsimtable.hist(\"sims1\")",
    "id": "dc8601b32cc24cbbaa94ba2311405d94",
    "idx": 6,
    "time": "2021-02-02T23:04:44.698Z",
    "type": "execution"
   },
   {
    "id": "dc8601b32cc24cbbaa94ba2311405d94",
    "time": "2021-02-02T23:04:44.955Z",
    "type": "completion"
   },
   {
    "code": "trials10 = [np.random.binomial(n=10, p=.5) for _ in range(1000)]",
    "id": "c28b97bda2444974b99fd68012727a89",
    "idx": 4,
    "time": "2021-02-02T23:05:18.525Z",
    "type": "execution"
   },
   {
    "id": "c28b97bda2444974b99fd68012727a89",
    "time": "2021-02-02T23:05:18.595Z",
    "type": "completion"
   },
   {
    "code": "trials",
    "id": "a60f42fbe69b4ff088779f16049f50fe",
    "idx": 5,
    "time": "2021-02-02T23:05:19.180Z",
    "type": "execution"
   },
   {
    "id": "a60f42fbe69b4ff088779f16049f50fe",
    "time": "2021-02-02T23:05:19.263Z",
    "type": "completion"
   },
   {
    "code": "simtable = Table.empty().with_column(\"sims10\",trials)\nsimtable.hist(\"sims10\")",
    "id": "dc8601b32cc24cbbaa94ba2311405d94",
    "idx": 6,
    "time": "2021-02-02T23:05:19.918Z",
    "type": "execution"
   },
   {
    "id": "dc8601b32cc24cbbaa94ba2311405d94",
    "time": "2021-02-02T23:05:20.142Z",
    "type": "completion"
   },
   {
    "code": "ntrials = 10000\nn1=50\nn2=50\nn3=50\np1=.4\np2=.5\np3=.6\ngroup1 = [np.random.binomial(n=n1, p=p1) for _ in range(ntrials)]\ngroup2 = [np.random.binomial(n=n2, p=p2) for _ in range(ntrials)]\ngroup3 = [np.random.binomial(n=n3, p=p3) for _ in range(ntrials)] \ngrouptrials = Table()\ngrouptrials = grouptrials.with_column(\"votes1\", group1)\ngrouptrials = grouptrials.with_column(\"votes2\", group2)\ngrouptrials = grouptrials.with_column(\"votes3\", group3)\ngrouptrials",
    "id": "b9c6d67dfab742028967f3d8e7a1cc65",
    "idx": 13,
    "time": "2021-02-02T23:13:43.665Z",
    "type": "execution"
   },
   {
    "id": "b9c6d67dfab742028967f3d8e7a1cc65",
    "time": "2021-02-02T23:13:43.931Z",
    "type": "completion"
   },
   {
    "code": "simtable.column(\"sims10\")==5",
    "id": "1dd0079d1bba4dd785dd15cb88a96724",
    "idx": 7,
    "time": "2021-02-02T23:14:03.261Z",
    "type": "execution"
   },
   {
    "id": "1dd0079d1bba4dd785dd15cb88a96724",
    "time": "2021-02-02T23:14:03.386Z",
    "type": "completion"
   },
   {
    "code": "simtable = simtable.with_column(\"pivot10simtable.column(\"sims10\")==5",
    "id": "1dd0079d1bba4dd785dd15cb88a96724",
    "idx": 7,
    "time": "2021-02-02T23:14:23.847Z",
    "type": "execution"
   },
   {
    "id": "1dd0079d1bba4dd785dd15cb88a96724",
    "time": "2021-02-02T23:14:23.919Z",
    "type": "completion"
   },
   {
    "code": "simtable = simtable.with_column(\"pivot10\", simtable.column(\"sims10\")==5)",
    "id": "1dd0079d1bba4dd785dd15cb88a96724",
    "idx": 7,
    "time": "2021-02-02T23:14:28.617Z",
    "type": "execution"
   },
   {
    "id": "1dd0079d1bba4dd785dd15cb88a96724",
    "time": "2021-02-02T23:14:28.682Z",
    "type": "completion"
   },
   {
    "code": "simtable = simtable.with_column(\"pivot10\", simtable.column(\"sims10\")==5)\nsimtable",
    "id": "1dd0079d1bba4dd785dd15cb88a96724",
    "idx": 7,
    "time": "2021-02-02T23:14:31.929Z",
    "type": "execution"
   },
   {
    "id": "1dd0079d1bba4dd785dd15cb88a96724",
    "time": "2021-02-02T23:14:32.003Z",
    "type": "completion"
   },
   {
    "code": "sum(simtable.column(\"pivot10\"))",
    "id": "086178576b0a410d8c43b105dbdf0151",
    "idx": 8,
    "time": "2021-02-02T23:14:45.979Z",
    "type": "execution"
   },
   {
    "id": "086178576b0a410d8c43b105dbdf0151",
    "time": "2021-02-02T23:14:46.058Z",
    "type": "completion"
   },
   {
    "code": "sum(simtable.column(\"pivot10\"))/1000",
    "id": "086178576b0a410d8c43b105dbdf0151",
    "idx": 8,
    "time": "2021-02-02T23:14:51.924Z",
    "type": "execution"
   },
   {
    "id": "086178576b0a410d8c43b105dbdf0151",
    "time": "2021-02-02T23:14:52.000Z",
    "type": "completion"
   },
   {
    "code": "sum(simtable.column(\"pivot10\"))",
    "id": "086178576b0a410d8c43b105dbdf0151",
    "idx": 8,
    "time": "2021-02-02T23:15:00.426Z",
    "type": "execution"
   },
   {
    "id": "086178576b0a410d8c43b105dbdf0151",
    "time": "2021-02-02T23:15:00.496Z",
    "type": "completion"
   },
   {
    "code": "sum(simtable.column(\"pivot10\"))/1000",
    "id": "05f4e1661d9d435d8b66a863f20971fd",
    "idx": 9,
    "time": "2021-02-02T23:15:02.030Z",
    "type": "execution"
   },
   {
    "id": "05f4e1661d9d435d8b66a863f20971fd",
    "time": "2021-02-02T23:15:02.104Z",
    "type": "completion"
   },
   {
    "code": "def one_pivot(n,p):\n    return 1*(np.random.binomial(n=n,p=p)==n/2)",
    "id": "e931e392b43d402e84b249d6bda3a22e",
    "idx": 10,
    "time": "2021-02-02T23:16:26.002Z",
    "type": "execution"
   },
   {
    "id": "e931e392b43d402e84b249d6bda3a22e",
    "time": "2021-02-02T23:16:26.079Z",
    "type": "completion"
   },
   {
    "code": "ntrials = 10000\npiv_trials100 = [one_pivot(n=100, p=.5) for _ in range(ntrials)]\nsum(piv_trials100)/ntrials",
    "id": "9f1bd1317fde4878a58c229e65e49a09",
    "idx": 11,
    "time": "2021-02-02T23:16:28.044Z",
    "type": "execution"
   },
   {
    "id": "9f1bd1317fde4878a58c229e65e49a09",
    "time": "2021-02-02T23:16:28.156Z",
    "type": "completion"
   },
   {
    "code": "ntrials = 10000\npiv_trials100 = [one_pivot(n=100, p=.5) for _ in range(ntrials)]\nsum(piv_trials100)/ntrials",
    "id": "9f1bd1317fde4878a58c229e65e49a09",
    "idx": 11,
    "time": "2021-02-02T23:16:29.661Z",
    "type": "execution"
   },
   {
    "id": "9f1bd1317fde4878a58c229e65e49a09",
    "time": "2021-02-02T23:16:29.766Z",
    "type": "completion"
   },
   {
    "code": "ntrials = 10000\npiv_trials100 = [one_pivot(n=100, p=.4) for _ in range(ntrials)]\nsum(piv_trials100)/ntrials",
    "id": "0f743a7d3ecf4a59859192c507de7b1d",
    "idx": 12,
    "time": "2021-02-02T23:16:35.288Z",
    "type": "execution"
   },
   {
    "id": "0f743a7d3ecf4a59859192c507de7b1d",
    "time": "2021-02-02T23:16:35.397Z",
    "type": "completion"
   },
   {
    "code": "ntrials = 10000\nn1=50\nn2=50\nn3=50\np1=.4\np2=.5\np3=.6\ngroup1 = [np.random.binomial(n=n1, p=p1) for _ in range(ntrials)]\ngroup2 = [np.random.binomial(n=n2, p=p2) for _ in range(ntrials)]\ngroup3 = [np.random.binomial(n=n3, p=p3) for _ in range(ntrials)] \ngrouptrials = Table()\ngrouptrials = grouptrials.with_column(\"votes1\", group1)\ngrouptrials = grouptrials.with_column(\"votes2\", group2)\ngrouptrials = grouptrials.with_column(\"votes3\", group3)\ngrouptrials",
    "id": "b9c6d67dfab742028967f3d8e7a1cc65",
    "idx": 13,
    "time": "2021-02-02T23:16:51.801Z",
    "type": "execution"
   },
   {
    "id": "b9c6d67dfab742028967f3d8e7a1cc65",
    "time": "2021-02-02T23:16:52.006Z",
    "type": "completion"
   },
   {
    "code": "grouptrials = Table().with_column(\"votes1\",group1,\n                                 \"votes2\", group2,\n                                 \"votes3\",group3)",
    "id": "875cdd95ef3143728f88c158c3e64180",
    "idx": 14,
    "time": "2021-02-02T23:17:21.641Z",
    "type": "execution"
   },
   {
    "id": "875cdd95ef3143728f88c158c3e64180",
    "time": "2021-02-02T23:17:21.716Z",
    "type": "completion"
   },
   {
    "code": "grouptrials = Table().with_columns(\"votes1\",group1,\n                                 \"votes2\", group2,\n                                 \"votes3\",group3)",
    "id": "875cdd95ef3143728f88c158c3e64180",
    "idx": 14,
    "time": "2021-02-02T23:17:36.624Z",
    "type": "execution"
   },
   {
    "id": "875cdd95ef3143728f88c158c3e64180",
    "time": "2021-02-02T23:17:36.697Z",
    "type": "completion"
   },
   {
    "code": "grouptrials = Table().with_columns(\"votes1\",group1,\n                                 \"votes2\", group2,\n                                 \"votes3\",group3)\ngrouptrials",
    "id": "875cdd95ef3143728f88c158c3e64180",
    "idx": 14,
    "time": "2021-02-02T23:17:40.804Z",
    "type": "execution"
   },
   {
    "id": "875cdd95ef3143728f88c158c3e64180",
    "time": "2021-02-02T23:17:40.890Z",
    "type": "completion"
   },
   {
    "code": "ntrials = 10000\nn1=50\nn2=50\nn3=50\np1=.4\np2=.5\np3=.6\ngroup1 = [np.random.binomial(n=n1, p=p1) for _ in range(ntrials)]\ngroup2 = [np.random.binomial(n=n2, p=p2) for _ in range(ntrials)]\ngroup3 = [np.random.binomial(n=n3, p=p3) for _ in range(ntrials)] \ngrouptrials = Table().with_columns(\"votes1\",group1,\n                                 \"votes2\", group2,\n                                 \"votes3\",group3)\ngrouptrials",
    "id": "b9c6d67dfab742028967f3d8e7a1cc65",
    "idx": 13,
    "time": "2021-02-02T23:18:00.874Z",
    "type": "execution"
   },
   {
    "id": "b9c6d67dfab742028967f3d8e7a1cc65",
    "time": "2021-02-02T23:18:01.093Z",
    "type": "completion"
   },
   {
    "code": "grouptrials = grouptrials.with_columns(\"voter piv1\", 1*(grouptrials.column(\"votes1\")==n1/2),\n                                       \"voter piv2\", 1*(grouptrials.column(\"votes2\")==n2/2),\n                                       \"voter piv3\", 1*(grouptrials.column(\"votes3\")==n3/2))\ngrouptrials",
    "id": "92c55465402446938e90e33a17f1b173",
    "idx": 15,
    "time": "2021-02-02T23:18:47.263Z",
    "type": "execution"
   },
   {
    "id": "92c55465402446938e90e33a17f1b173",
    "time": "2021-02-02T23:18:47.372Z",
    "type": "completion"
   },
   {
    "code": "group1piv = 1*((grouptrials.column(\"votes2\") <= n2/2)*(grouptrials.column(\"votes3\") >= n3/2)+\n   (grouptrials.column(\"votes2\") >= n2/2)*(grouptrials.column(\"votes3\") <= n3/2))\ngroup2piv = 1*((grouptrials.column(\"votes1\") <= n2/2)*(grouptrials.column(\"votes3\") >= n3/2)+\n   (grouptrials.column(\"votes1\") >= n2/2)*(grouptrials.column(\"votes3\") <= n3/2))\ngroup3piv = 1*((grouptrials.column(\"votes1\") <= n2/2)*(grouptrials.column(\"votes2\") >= n3/2)+\n   (grouptrials.column(\"votes1\") >= n2/2)*(grouptrials.column(\"votes2\") <= n3/2))\n\ngrouptrials = grouptrials.with_columns(\"group piv1\", group1piv,\n                                       \"group piv2\", group2piv,\n                                       \"group piv3\", group3piv)\ngrouptrials",
    "id": "a436f9efe7c843b19100558f4d8613b0",
    "idx": 16,
    "time": "2021-02-02T23:19:06.110Z",
    "type": "execution"
   },
   {
    "id": "a436f9efe7c843b19100558f4d8613b0",
    "time": "2021-02-02T23:19:06.213Z",
    "type": "completion"
   },
   {
    "code": "def maketable(n1=50, n2=50, n3=50, p1=.4, p2=.5, p3=.6, ntrials=1000):\n    group1 = [np.random.binomial(n=n1, p=p1) for _ in range(ntrials)]\n    group2 = [np.random.binomial(n=n2, p=p2) for _ in range(ntrials)]\n    group3 = [np.random.binomial(n=n3, p=p3) for _ in range(ntrials)] \n    grouptrials = Table().with_columns(\"votes1\",group1,\n                                 \"votes2\", group2,\n                                 \"votes3\",group3)\n    grouptrials = grouptrials.with_columns(\"voter piv1\", 1*(grouptrials.column(\"votes1\")==n1/2),\n                                       \"voter piv2\", 1*(grouptrials.column(\"votes2\")==n2/2),\n                                       \"voter piv3\", 1*(grouptrials.column(\"votes3\")==n3/2))\n    group1piv = 1*((grouptrials.column(\"votes2\") <= n2/2)*(grouptrials.column(\"votes3\") >= n3/2)+\n   (grouptrials.column(\"votes2\") >= n2/2)*(grouptrials.column(\"votes3\") <= n3/2))\ngroup2piv = 1*((grouptrials.column(\"votes1\") <= n2/2)*(grouptrials.column(\"votes3\") >= n3/2)+\n   (grouptrials.column(\"votes1\") >= n2/2)*(grouptrials.column(\"votes3\") <= n3/2))\ngroup3piv = 1*((grouptrials.column(\"votes1\") <= n2/2)*(grouptrials.column(\"votes2\") >= n3/2)+\n   (grouptrials.column(\"votes1\") >= n2/2)*(grouptrials.column(\"votes2\") <= n3/2))\n\ngrouptrials = grouptrials.with_columns(\"group piv1\", group1piv,\n                                       \"group piv2\", group2piv,\n                                       \"group piv3\", group3piv)\nreturn grouptrials",
    "id": "627178fc395a47f989248c53a3e9befa",
    "idx": 29,
    "time": "2021-02-02T23:24:38.903Z",
    "type": "execution"
   },
   {
    "id": "627178fc395a47f989248c53a3e9befa",
    "time": "2021-02-02T23:24:38.988Z",
    "type": "completion"
   },
   {
    "code": "def maketable(n1=50, n2=50, n3=50, p1=.4, p2=.5, p3=.6, ntrials=1000):\n    group1 = [np.random.binomial(n=n1, p=p1) for _ in range(ntrials)]\n    group2 = [np.random.binomial(n=n2, p=p2) for _ in range(ntrials)]\n    group3 = [np.random.binomial(n=n3, p=p3) for _ in range(ntrials)] \n    grouptrials = Table().with_columns(\"votes1\",group1,\n                                 \"votes2\", group2,\n                                 \"votes3\",group3)\n    grouptrials = grouptrials.with_columns(\"voter piv1\", 1*(grouptrials.column(\"votes1\")==n1/2),\n                                       \"voter piv2\", 1*(grouptrials.column(\"votes2\")==n2/2),\n                                       \"voter piv3\", 1*(grouptrials.column(\"votes3\")==n3/2))\n    group1piv = 1*((grouptrials.column(\"votes2\") <= n2/2)*(grouptrials.column(\"votes3\") >= n3/2)+\n   (grouptrials.column(\"votes2\") >= n2/2)*(grouptrials.column(\"votes3\") <= n3/2))\ngroup2piv = 1*((grouptrials.column(\"votes1\") <= n2/2)*(grouptrials.column(\"votes3\") >= n3/2)+\n   (grouptrials.column(\"votes1\") >= n2/2)*(grouptrials.column(\"votes3\") <= n3/2))\ngroup3piv = 1*((grouptrials.column(\"votes1\") <= n2/2)*(grouptrials.column(\"votes2\") >= n3/2)+\n   (grouptrials.column(\"votes1\") >= n2/2)*(grouptrials.column(\"votes2\") <= n3/2))\ngrouptrials = grouptrials.with_columns(\"group piv1\", group1piv,\n                                       \"group piv2\", group2piv,\n                                       \"group piv3\", group3piv)\nreturn grouptrials",
    "id": "627178fc395a47f989248c53a3e9befa",
    "idx": 29,
    "time": "2021-02-02T23:24:45.678Z",
    "type": "execution"
   },
   {
    "id": "627178fc395a47f989248c53a3e9befa",
    "time": "2021-02-02T23:24:45.759Z",
    "type": "completion"
   },
   {
    "code": "def maketable(n1=50, n2=50, n3=50, p1=.4, p2=.5, p3=.6, ntrials=1000):\n    group1 = [np.random.binomial(n=n1, p=p1) for _ in range(ntrials)]\n    group2 = [np.random.binomial(n=n2, p=p2) for _ in range(ntrials)]\n    group3 = [np.random.binomial(n=n3, p=p3) for _ in range(ntrials)] \n    grouptrials = Table().with_columns(\"votes1\",group1,\n                                 \"votes2\", group2,\n                                 \"votes3\",group3)\n    grouptrials = grouptrials.with_columns(\"voter piv1\", 1*(grouptrials.column(\"votes1\")==n1/2),\n                                       \"voter piv2\", 1*(grouptrials.column(\"votes2\")==n2/2),\n                                       \"voter piv3\", 1*(grouptrials.column(\"votes3\")==n3/2))\n    group1piv = 1*((grouptrials.column(\"votes2\") <= n2/2)*(grouptrials.column(\"votes3\") >= n3/2)+\n   (grouptrials.column(\"votes2\") >= n2/2)*(grouptrials.column(\"votes3\") <= n3/2))\n    group2piv = 1*((grouptrials.column(\"votes1\") <= n2/2)*(grouptrials.column(\"votes3\") >= n3/2)+\n   (grouptrials.column(\"votes1\") >= n2/2)*(grouptrials.column(\"votes3\") <= n3/2))\n    group3piv = 1*((grouptrials.column(\"votes1\") <= n2/2)*(grouptrials.column(\"votes2\") >= n3/2)+\n   (grouptrials.column(\"votes1\") >= n2/2)*(grouptrials.column(\"votes2\") <= n3/2))\n    grouptrials = grouptrials.with_columns(\"group piv1\", group1piv,\n                                       \"group piv2\", group2piv,\n                                       \"group piv3\", group3piv)\n    return grouptrials",
    "id": "627178fc395a47f989248c53a3e9befa",
    "idx": 29,
    "time": "2021-02-02T23:26:44.351Z",
    "type": "execution"
   },
   {
    "id": "627178fc395a47f989248c53a3e9befa",
    "time": "2021-02-02T23:26:44.434Z",
    "type": "completion"
   },
   {
    "code": "test = maketable()",
    "id": "007616060aaf4ca38d3f076de01d7c2e",
    "idx": 30,
    "time": "2021-02-02T23:27:00.033Z",
    "type": "execution"
   },
   {
    "id": "007616060aaf4ca38d3f076de01d7c2e",
    "time": "2021-02-02T23:27:00.114Z",
    "type": "completion"
   },
   {
    "code": "test = maketable()\ntest",
    "id": "007616060aaf4ca38d3f076de01d7c2e",
    "idx": 30,
    "time": "2021-02-02T23:27:02.760Z",
    "type": "execution"
   },
   {
    "id": "007616060aaf4ca38d3f076de01d7c2e",
    "time": "2021-02-02T23:27:02.879Z",
    "type": "completion"
   },
   {
    "code": "grouptrials = grouptrials.with_columns(\"overall piv1\", \n                                      grouptrials.column(\"voter piv1\")*grouptrials.column(\"group piv1\"),\n                                       \"overall piv2\", \n                                      grouptrials.column(\"voter piv2\")*grouptrials.column(\"group piv2\"),\n                                       \"overall piv3\", \n                                      grouptrials.column(\"voter piv3\")*grouptrials.column(\"group piv3\"))\n\ngrouptrials",
    "id": "1ef5c1d4672e4f24ad6ed7bdf8dabce9",
    "idx": 24,
    "time": "2021-02-02T23:27:49.385Z",
    "type": "execution"
   },
   {
    "id": "1ef5c1d4672e4f24ad6ed7bdf8dabce9",
    "time": "2021-02-02T23:27:49.459Z",
    "type": "completion"
   },
   {
    "code": "def maketable(n1=50, n2=50, n3=50, p1=.4, p2=.5, p3=.6, ntrials=1000):\n    group1 = [np.random.binomial(n=n1, p=p1) for _ in range(ntrials)]\n    group2 = [np.random.binomial(n=n2, p=p2) for _ in range(ntrials)]\n    group3 = [np.random.binomial(n=n3, p=p3) for _ in range(ntrials)] \n    grouptrials = Table().with_columns(\"votes1\",group1,\n                                 \"votes2\", group2,\n                                 \"votes3\",group3)\n    grouptrials = grouptrials.with_columns(\"voter piv1\", 1*(grouptrials.column(\"votes1\")==n1/2),\n                                       \"voter piv2\", 1*(grouptrials.column(\"votes2\")==n2/2),\n                                       \"voter piv3\", 1*(grouptrials.column(\"votes3\")==n3/2))\n    group1piv = 1*((grouptrials.column(\"votes2\") <= n2/2)*(grouptrials.column(\"votes3\") >= n3/2)+\n   (grouptrials.column(\"votes2\") >= n2/2)*(grouptrials.column(\"votes3\") <= n3/2))\n    group2piv = 1*((grouptrials.column(\"votes1\") <= n2/2)*(grouptrials.column(\"votes3\") >= n3/2)+\n   (grouptrials.column(\"votes1\") >= n2/2)*(grouptrials.column(\"votes3\") <= n3/2))\n    group3piv = 1*((grouptrials.column(\"votes1\") <= n2/2)*(grouptrials.column(\"votes2\") >= n3/2)+\n   (grouptrials.column(\"votes1\") >= n2/2)*(grouptrials.column(\"votes2\") <= n3/2))\n    grouptrials = grouptrials.with_columns(\"group piv1\", group1piv,\n                                       \"group piv2\", group2piv,\n                                       \"group piv3\", group3piv)\n    grouptrials = grouptrials.with_columns(\"overall piv1\", \n                                      grouptrials.column(\"voter piv1\")*grouptrials.column(\"group piv1\"),\n                                       \"overall piv2\", \n                                      grouptrials.column(\"voter piv2\")*grouptrials.column(\"group piv2\"),\n                                       \"overall piv3\", \n                                      grouptrials.column(\"voter piv3\")*grouptrials.column(\"group piv3\"))\n    return grouptrials",
    "id": "627178fc395a47f989248c53a3e9befa",
    "idx": 29,
    "time": "2021-02-02T23:27:57.005Z",
    "type": "execution"
   },
   {
    "id": "627178fc395a47f989248c53a3e9befa",
    "time": "2021-02-02T23:27:57.087Z",
    "type": "completion"
   },
   {
    "code": "test = maketable()\ntest",
    "id": "007616060aaf4ca38d3f076de01d7c2e",
    "idx": 30,
    "time": "2021-02-02T23:27:58.413Z",
    "type": "execution"
   },
   {
    "id": "007616060aaf4ca38d3f076de01d7c2e",
    "time": "2021-02-02T23:27:58.550Z",
    "type": "completion"
   },
   {
    "code": "np.random.binomial(n=10, p=.5)",
    "id": "57e156b39116483f9ed35bf0d372a32b",
    "idx": 6,
    "time": "2021-02-10T00:45:59.922Z",
    "type": "execution"
   },
   {
    "id": "57e156b39116483f9ed35bf0d372a32b",
    "time": "2021-02-10T00:46:00.081Z",
    "type": "completion"
   },
   {
    "code": "import numpy as np\nimport pandas as pd\nimport matplotlib.pyplot as plt\nimport seaborn as sns\nfrom datascience import Table\n%matplotlib inline",
    "id": "dc3db24543eb48f68808aab8dfffaaf1",
    "idx": 0,
    "time": "2021-02-10T00:46:01.929Z",
    "type": "execution"
   },
   {
    "code": "np.random.binomial(n=10, p=.5)",
    "id": "57e156b39116483f9ed35bf0d372a32b",
    "idx": 6,
    "time": "2021-02-10T00:46:03.431Z",
    "type": "execution"
   },
   {
    "id": "dc3db24543eb48f68808aab8dfffaaf1",
    "time": "2021-02-10T00:46:03.720Z",
    "type": "completion"
   },
   {
    "id": "57e156b39116483f9ed35bf0d372a32b",
    "time": "2021-02-10T00:46:03.747Z",
    "type": "completion"
   },
   {
    "code": "# First number argument is the number of times to flip, the second is the probability of a \"heads\"\nnp.random.binomial(n=10, p=.5)",
    "id": "57e156b39116483f9ed35bf0d372a32b",
    "idx": 6,
    "time": "2021-02-10T00:46:21.083Z",
    "type": "execution"
   },
   {
    "id": "57e156b39116483f9ed35bf0d372a32b",
    "time": "2021-02-10T00:46:21.164Z",
    "type": "completion"
   },
   {
    "code": "# First number argument is the number of times to flip, the second is the probability of a \"heads\"\nnp.random.binomial(n=10, p=.5)",
    "id": "57e156b39116483f9ed35bf0d372a32b",
    "idx": 6,
    "time": "2021-02-10T00:46:23.139Z",
    "type": "execution"
   },
   {
    "id": "57e156b39116483f9ed35bf0d372a32b",
    "time": "2021-02-10T00:46:23.211Z",
    "type": "completion"
   },
   {
    "code": "# First number argument is the number of times to flip, the second is the probability of a \"heads\"\nnp.random.binomial(n=10, p=.5)",
    "id": "57e156b39116483f9ed35bf0d372a32b",
    "idx": 6,
    "time": "2021-02-10T00:46:32.259Z",
    "type": "execution"
   },
   {
    "id": "57e156b39116483f9ed35bf0d372a32b",
    "time": "2021-02-10T00:46:32.355Z",
    "type": "completion"
   },
   {
    "code": "trials10 = [np.random.binomial(n=10, p=.5) for _ in range(1000)]",
    "id": "ed80031cca8f4fc5b290c4d5d2e448ae",
    "idx": 9,
    "time": "2021-02-10T00:47:52.814Z",
    "type": "execution"
   },
   {
    "id": "ed80031cca8f4fc5b290c4d5d2e448ae",
    "time": "2021-02-10T00:47:52.886Z",
    "type": "completion"
   },
   {
    "code": "simtable = Table.empty().with_column(\"sims10\",trials)\nsimtable.hist(\"sims10\")",
    "id": "85f72e9ff6db40e785eb81a28bf309f7",
    "idx": 11,
    "time": "2021-02-10T00:47:57.482Z",
    "type": "execution"
   },
   {
    "id": "85f72e9ff6db40e785eb81a28bf309f7",
    "time": "2021-02-10T00:47:57.696Z",
    "type": "completion"
   },
   {
    "code": "simtable = Table().with_column(\"sims10\",trials)\nsimtable.hist(\"sims10\")",
    "id": "85f72e9ff6db40e785eb81a28bf309f7",
    "idx": 11,
    "time": "2021-02-10T00:48:02.424Z",
    "type": "execution"
   },
   {
    "id": "85f72e9ff6db40e785eb81a28bf309f7",
    "time": "2021-02-10T00:48:02.528Z",
    "type": "completion"
   },
   {
    "code": "trials10 = [np.random.binomial(n=10, p=.5) for _ in range(1000)]",
    "id": "ed80031cca8f4fc5b290c4d5d2e448ae",
    "idx": 9,
    "time": "2021-02-10T00:48:05.839Z",
    "type": "execution"
   },
   {
    "id": "ed80031cca8f4fc5b290c4d5d2e448ae",
    "time": "2021-02-10T00:48:05.909Z",
    "type": "completion"
   },
   {
    "code": "trials10",
    "id": "0a6ef5900045461d81095ba83792cbcd",
    "idx": 10,
    "time": "2021-02-10T00:48:08.416Z",
    "type": "execution"
   },
   {
    "id": "0a6ef5900045461d81095ba83792cbcd",
    "time": "2021-02-10T00:48:08.526Z",
    "type": "completion"
   },
   {
    "code": "simtable = Table().with_column(\"sims10\",trials)\nsimtable.hist(\"sims10\")",
    "id": "85f72e9ff6db40e785eb81a28bf309f7",
    "idx": 11,
    "time": "2021-02-10T00:48:10.361Z",
    "type": "execution"
   },
   {
    "id": "85f72e9ff6db40e785eb81a28bf309f7",
    "time": "2021-02-10T00:48:11.975Z",
    "type": "completion"
   },
   {
    "code": "simtable = Table().with_column(\"sims10\",trials10)\nsimtable.hist(\"sims10\")",
    "id": "85f72e9ff6db40e785eb81a28bf309f7",
    "idx": 11,
    "time": "2021-02-10T00:48:18.752Z",
    "type": "execution"
   },
   {
    "id": "85f72e9ff6db40e785eb81a28bf309f7",
    "time": "2021-02-10T00:48:19.038Z",
    "type": "completion"
   },
   {
    "code": "trials10 = [np.random.binomial(n=10, p=.5) for _ in range(1000)]",
    "id": "ed80031cca8f4fc5b290c4d5d2e448ae",
    "idx": 9,
    "time": "2021-02-10T00:55:13.478Z",
    "type": "execution"
   },
   {
    "id": "ed80031cca8f4fc5b290c4d5d2e448ae",
    "time": "2021-02-10T00:55:13.555Z",
    "type": "completion"
   },
   {
    "code": "simtable = Table().with_column(\"sims10\",trials10)\nsimtable.hist(\"sims10\")",
    "id": "85f72e9ff6db40e785eb81a28bf309f7",
    "idx": 13,
    "time": "2021-02-10T00:55:51.137Z",
    "type": "execution"
   },
   {
    "id": "85f72e9ff6db40e785eb81a28bf309f7",
    "time": "2021-02-10T00:55:51.393Z",
    "type": "completion"
   },
   {
    "code": "trials10 = [np.random.binomial(n=10, p=.5) for _ in range(10000)]",
    "id": "ed80031cca8f4fc5b290c4d5d2e448ae",
    "idx": 9,
    "time": "2021-02-10T00:56:03.155Z",
    "type": "execution"
   },
   {
    "id": "ed80031cca8f4fc5b290c4d5d2e448ae",
    "time": "2021-02-10T00:56:03.264Z",
    "type": "completion"
   },
   {
    "code": "trials10",
    "id": "0a6ef5900045461d81095ba83792cbcd",
    "idx": 11,
    "time": "2021-02-10T00:56:05.021Z",
    "type": "execution"
   },
   {
    "id": "0a6ef5900045461d81095ba83792cbcd",
    "time": "2021-02-10T00:56:05.105Z",
    "type": "completion"
   },
   {
    "code": "simtable = Table().with_column(\"sims10\",trials10)\nsimtable.hist(\"sims10\")",
    "id": "85f72e9ff6db40e785eb81a28bf309f7",
    "idx": 13,
    "time": "2021-02-10T00:56:08.587Z",
    "type": "execution"
   },
   {
    "id": "85f72e9ff6db40e785eb81a28bf309f7",
    "time": "2021-02-10T00:56:08.854Z",
    "type": "completion"
   },
   {
    "code": "simtable = Table().with_column(\"sims10\",trials10)\nsimtable.hist(\"sims10\")",
    "id": "85f72e9ff6db40e785eb81a28bf309f7",
    "idx": 13,
    "time": "2021-02-10T00:56:22.879Z",
    "type": "execution"
   },
   {
    "id": "85f72e9ff6db40e785eb81a28bf309f7",
    "time": "2021-02-10T00:56:25.461Z",
    "type": "completion"
   },
   {
    "code": "simtable.bar(\"sims10\")",
    "id": "722c3044d21246f880db683d00df6a21",
    "idx": 14,
    "time": "2021-02-10T04:27:19.445Z",
    "type": "execution"
   },
   {
    "code": "simtable.bar(\"sims10\")",
    "id": "722c3044d21246f880db683d00df6a21",
    "idx": 14,
    "time": "2021-02-10T04:28:54.386Z",
    "type": "execution"
   },
   {
    "code": "simtable = simtable.with_column(\"pivot10\", simtable.column(\"sims10\")==5)\nsimtable",
    "id": "aa38dadbe15c4ccb85aec2bb6a0cbe26",
    "idx": 15,
    "time": "2021-02-10T04:29:02.105Z",
    "type": "execution"
   },
   {
    "id": "722c3044d21246f880db683d00df6a21",
    "time": "2021-02-10T04:29:09.820Z",
    "type": "completion"
   },
   {
    "id": "722c3044d21246f880db683d00df6a21",
    "time": "2021-02-10T04:29:09.820Z",
    "type": "completion"
   },
   {
    "id": "aa38dadbe15c4ccb85aec2bb6a0cbe26",
    "time": "2021-02-10T04:29:09.876Z",
    "type": "completion"
   },
   {
    "code": "import numpy as np\nimport pandas as pd\nimport matplotlib.pyplot as plt\nimport seaborn as sns\nfrom datascience import Table\n%matplotlib inline",
    "id": "dc3db24543eb48f68808aab8dfffaaf1",
    "idx": 0,
    "time": "2021-02-10T04:29:12.986Z",
    "type": "execution"
   },
   {
    "id": "dc3db24543eb48f68808aab8dfffaaf1",
    "time": "2021-02-10T04:29:15.200Z",
    "type": "completion"
   },
   {
    "code": "# First number argument is the number of times to flip, the second is the probability of a \"heads\"\nnp.random.binomial(n=10, p=.5)",
    "id": "57e156b39116483f9ed35bf0d372a32b",
    "idx": 6,
    "time": "2021-02-10T04:29:17.302Z",
    "type": "execution"
   },
   {
    "id": "57e156b39116483f9ed35bf0d372a32b",
    "time": "2021-02-10T04:29:17.403Z",
    "type": "completion"
   },
   {
    "code": "trials10 = [np.random.binomial(n=10, p=.5) for _ in range(10000)]",
    "id": "ed80031cca8f4fc5b290c4d5d2e448ae",
    "idx": 9,
    "time": "2021-02-10T04:29:18.800Z",
    "type": "execution"
   },
   {
    "id": "ed80031cca8f4fc5b290c4d5d2e448ae",
    "time": "2021-02-10T04:29:18.925Z",
    "type": "completion"
   },
   {
    "code": "trials10",
    "id": "0a6ef5900045461d81095ba83792cbcd",
    "idx": 11,
    "time": "2021-02-10T04:29:20.909Z",
    "type": "execution"
   },
   {
    "id": "0a6ef5900045461d81095ba83792cbcd",
    "time": "2021-02-10T04:29:21.009Z",
    "type": "completion"
   },
   {
    "code": "simtable = Table().with_column(\"sims10\",trials10)\nsimtable.hist(\"sims10\")",
    "id": "85f72e9ff6db40e785eb81a28bf309f7",
    "idx": 13,
    "time": "2021-02-10T04:29:23.364Z",
    "type": "execution"
   },
   {
    "id": "85f72e9ff6db40e785eb81a28bf309f7",
    "time": "2021-02-10T04:29:23.813Z",
    "type": "completion"
   },
   {
    "code": "simtable.bar(\"sims10\")",
    "id": "722c3044d21246f880db683d00df6a21",
    "idx": 14,
    "time": "2021-02-10T04:29:25.827Z",
    "type": "execution"
   },
   {
    "id": "722c3044d21246f880db683d00df6a21",
    "time": "2021-02-10T04:29:26.083Z",
    "type": "completion"
   },
   {
    "code": "simtable.barh(\"sims10\")",
    "id": "722c3044d21246f880db683d00df6a21",
    "idx": 14,
    "time": "2021-02-10T04:29:29.394Z",
    "type": "execution"
   },
   {
    "id": "722c3044d21246f880db683d00df6a21",
    "time": "2021-02-10T04:29:29.493Z",
    "type": "completion"
   },
   {
    "code": "simtable.pivot_bin(\"sims10\")",
    "id": "722c3044d21246f880db683d00df6a21",
    "idx": 14,
    "time": "2021-02-10T04:30:07.801Z",
    "type": "execution"
   },
   {
    "id": "722c3044d21246f880db683d00df6a21",
    "time": "2021-02-10T04:30:07.881Z",
    "type": "completion"
   },
   {
    "code": "simtable.pivot_bin(\"sims10\", 1)",
    "id": "722c3044d21246f880db683d00df6a21",
    "idx": 14,
    "time": "2021-02-10T04:30:14.611Z",
    "type": "execution"
   },
   {
    "id": "722c3044d21246f880db683d00df6a21",
    "time": "2021-02-10T04:30:14.752Z",
    "type": "completion"
   },
   {
    "code": "simtable = simtable.with_column(\"pivot10\", simtable.column(\"sims10\")==5)\nsimtable",
    "id": "aa38dadbe15c4ccb85aec2bb6a0cbe26",
    "idx": 14,
    "time": "2021-02-10T04:30:54.483Z",
    "type": "execution"
   },
   {
    "id": "aa38dadbe15c4ccb85aec2bb6a0cbe26",
    "time": "2021-02-10T04:30:54.600Z",
    "type": "completion"
   },
   {
    "code": "sum(simtable.column(\"pivot10\"))",
    "id": "79fe5d69edd44baa8270fbbe956b60a3",
    "idx": 15,
    "time": "2021-02-10T04:30:56.959Z",
    "type": "execution"
   },
   {
    "id": "79fe5d69edd44baa8270fbbe956b60a3",
    "time": "2021-02-10T04:30:57.062Z",
    "type": "completion"
   },
   {
    "code": "sum(simtable.column(\"pivot10\"))/1000",
    "id": "00424625958d4be295a929b1e0457de7",
    "idx": 16,
    "time": "2021-02-10T04:30:59.827Z",
    "type": "execution"
   },
   {
    "id": "00424625958d4be295a929b1e0457de7",
    "time": "2021-02-10T04:30:59.925Z",
    "type": "completion"
   },
   {
    "code": "sum(simtable.column(\"pivot10\"))/10000",
    "id": "00424625958d4be295a929b1e0457de7",
    "idx": 16,
    "time": "2021-02-10T04:31:01.970Z",
    "type": "execution"
   },
   {
    "id": "00424625958d4be295a929b1e0457de7",
    "time": "2021-02-10T04:31:02.087Z",
    "type": "completion"
   },
   {
    "code": "def one_pivot(n,p):\n    return 1*(np.random.binomial(n=n,p=p)==n/2)",
    "id": "974e6648e70c452d81bee9c8d5b21b63",
    "idx": 17,
    "time": "2021-02-10T04:31:07.018Z",
    "type": "execution"
   },
   {
    "id": "974e6648e70c452d81bee9c8d5b21b63",
    "time": "2021-02-10T04:31:07.092Z",
    "type": "completion"
   },
   {
    "code": "ntrials = 10000\npiv_trials100 = [one_pivot(n=100, p=.5) for _ in range(ntrials)]\nsum(piv_trials100)/ntrials",
    "id": "ad40ed2304a24f7d84d84fcf1317680c",
    "idx": 18,
    "time": "2021-02-10T04:31:08.628Z",
    "type": "execution"
   },
   {
    "id": "ad40ed2304a24f7d84d84fcf1317680c",
    "time": "2021-02-10T04:31:08.760Z",
    "type": "completion"
   },
   {
    "code": "ntrials = 10000\npiv_trials100 = [one_pivot(n=100, p=.5) for _ in range(ntrials)]\nsum(piv_trials100)/ntrials",
    "id": "ad40ed2304a24f7d84d84fcf1317680c",
    "idx": 18,
    "time": "2021-02-10T04:31:10.921Z",
    "type": "execution"
   },
   {
    "id": "ad40ed2304a24f7d84d84fcf1317680c",
    "time": "2021-02-10T04:31:11.054Z",
    "type": "completion"
   },
   {
    "code": "ntrials = 10000\npiv_trials100 = [one_pivot(n=100, p=.4) for _ in range(ntrials)]\nsum(piv_trials100)/ntrials",
    "id": "97db4a8cdb6f4917906da4d3f3b890ff",
    "idx": 19,
    "time": "2021-02-10T04:31:13.686Z",
    "type": "execution"
   },
   {
    "id": "97db4a8cdb6f4917906da4d3f3b890ff",
    "time": "2021-02-10T04:31:13.803Z",
    "type": "completion"
   },
   {
    "code": "# First number argument is the number of times to flip, the second is the probability of a \"heads\"\nnp.random.binomial(n=10, p=.5)",
    "id": "b980245be503472d891985178d9ec698",
    "idx": 6,
    "time": "2021-02-15T17:03:46.489Z",
    "type": "execution"
   },
   {
    "id": "b980245be503472d891985178d9ec698",
    "time": "2021-02-15T17:03:46.648Z",
    "type": "completion"
   },
   {
    "code": "import numpy as np\nimport pandas as pd\nimport matplotlib.pyplot as plt\nimport seaborn as sns\nfrom datascience import Table\n%matplotlib inline",
    "id": "e6143725b737421c814f0c678854441b",
    "idx": 0,
    "time": "2021-02-15T17:03:48.945Z",
    "type": "execution"
   },
   {
    "id": "e6143725b737421c814f0c678854441b",
    "time": "2021-02-15T17:03:51.423Z",
    "type": "completion"
   },
   {
    "code": "# First number argument is the number of times to flip, the second is the probability of a \"heads\"\nnp.random.binomial(n=10, p=.5)",
    "id": "b980245be503472d891985178d9ec698",
    "idx": 6,
    "time": "2021-02-15T17:03:53.586Z",
    "type": "execution"
   },
   {
    "id": "b980245be503472d891985178d9ec698",
    "time": "2021-02-15T17:03:53.670Z",
    "type": "completion"
   },
   {
    "code": "# First number argument is the number of times to flip, the second is the probability of a \"heads\"\nnp.random.binomial(n=10, p=.5)",
    "id": "b980245be503472d891985178d9ec698",
    "idx": 6,
    "time": "2021-02-15T17:03:55.589Z",
    "type": "execution"
   },
   {
    "id": "b980245be503472d891985178d9ec698",
    "time": "2021-02-15T17:03:55.662Z",
    "type": "completion"
   },
   {
    "code": "np.random.binomial(n=100, p=.5)",
    "id": "ec9aca23febc4741ab7acf73660b0f5d",
    "idx": 8,
    "time": "2021-02-15T17:06:54.087Z",
    "type": "execution"
   },
   {
    "id": "ec9aca23febc4741ab7acf73660b0f5d",
    "time": "2021-02-15T17:06:54.186Z",
    "type": "completion"
   },
   {
    "code": "# First number argument is the number of times to flip, the second is the probability of a \"heads\"\nnp.random.binomial(n=10, p=.5)",
    "id": "b980245be503472d891985178d9ec698",
    "idx": 6,
    "time": "2021-02-15T17:13:09.205Z",
    "type": "execution"
   },
   {
    "id": "b980245be503472d891985178d9ec698",
    "time": "2021-02-15T17:13:09.291Z",
    "type": "completion"
   },
   {
    "code": "np.random.binomial(n=100, p=.5)",
    "id": "ec9aca23febc4741ab7acf73660b0f5d",
    "idx": 8,
    "time": "2021-02-15T17:13:12.107Z",
    "type": "execution"
   },
   {
    "id": "ec9aca23febc4741ab7acf73660b0f5d",
    "time": "2021-02-15T17:13:12.194Z",
    "type": "completion"
   },
   {
    "code": "# Code for 2b\nnp.random.binomial(n=160000000, p=.513)",
    "id": "a6c1e8340f9f4804a7a999e0693a146a",
    "idx": 12,
    "time": "2021-02-15T17:15:33.097Z",
    "type": "execution"
   },
   {
    "id": "a6c1e8340f9f4804a7a999e0693a146a",
    "time": "2021-02-15T17:15:33.179Z",
    "type": "completion"
   },
   {
    "code": "# Code for 2b\nnp.random.binomial(n=160000000, p=.513)",
    "id": "a6c1e8340f9f4804a7a999e0693a146a",
    "idx": 12,
    "time": "2021-02-15T17:15:45.618Z",
    "type": "execution"
   },
   {
    "id": "a6c1e8340f9f4804a7a999e0693a146a",
    "time": "2021-02-15T17:15:45.701Z",
    "type": "completion"
   },
   {
    "code": "# Code for 2b\nnp.random.binomial(n=160000000, p=.513)",
    "id": "a6c1e8340f9f4804a7a999e0693a146a",
    "idx": 12,
    "time": "2021-02-15T17:15:46.545Z",
    "type": "execution"
   },
   {
    "id": "a6c1e8340f9f4804a7a999e0693a146a",
    "time": "2021-02-15T17:15:46.618Z",
    "type": "completion"
   },
   {
    "code": "# Code for 2b\nnp.random.binomial(n=160000000, p=.513)",
    "id": "a6c1e8340f9f4804a7a999e0693a146a",
    "idx": 12,
    "time": "2021-02-15T17:15:47.564Z",
    "type": "execution"
   },
   {
    "id": "a6c1e8340f9f4804a7a999e0693a146a",
    "time": "2021-02-15T17:15:47.641Z",
    "type": "completion"
   },
   {
    "code": "# Code for 2b\nnp.random.binomial(n=160000000, p=.513)",
    "id": "a6c1e8340f9f4804a7a999e0693a146a",
    "idx": 12,
    "time": "2021-02-15T17:15:48.710Z",
    "type": "execution"
   },
   {
    "id": "a6c1e8340f9f4804a7a999e0693a146a",
    "time": "2021-02-15T17:15:48.798Z",
    "type": "completion"
   },
   {
    "code": "# Code for 2b\nnp.random.binomial(n=160000000, p=.513)",
    "id": "a6c1e8340f9f4804a7a999e0693a146a",
    "idx": 12,
    "time": "2021-02-15T17:15:49.908Z",
    "type": "execution"
   },
   {
    "id": "a6c1e8340f9f4804a7a999e0693a146a",
    "time": "2021-02-15T17:15:49.990Z",
    "type": "completion"
   },
   {
    "code": "voters2020 = 158400000",
    "id": "986d2d4ac2224c83896c19244c78b1a2",
    "idx": 10,
    "time": "2021-02-15T17:17:37.117Z",
    "type": "execution"
   },
   {
    "id": "986d2d4ac2224c83896c19244c78b1a2",
    "time": "2021-02-15T17:17:37.194Z",
    "type": "completion"
   },
   {
    "code": "# Code for 2a here\nnp.random.binomial(n=voters2020, p=.5)",
    "id": "24815364faae44279e1fee83b80e9001",
    "idx": 12,
    "time": "2021-02-15T17:18:12.650Z",
    "type": "execution"
   },
   {
    "id": "24815364faae44279e1fee83b80e9001",
    "time": "2021-02-15T17:18:12.731Z",
    "type": "completion"
   },
   {
    "code": "# Code for 2b\nnp.random.binomial(n=voters2020, p=.513)",
    "id": "a6c1e8340f9f4804a7a999e0693a146a",
    "idx": 14,
    "time": "2021-02-15T17:18:21.534Z",
    "type": "execution"
   },
   {
    "id": "a6c1e8340f9f4804a7a999e0693a146a",
    "time": "2021-02-15T17:18:21.608Z",
    "type": "completion"
   },
   {
    "code": "## Part 5. Pivotal votes with groups",
    "id": "ddb33b3cc1c244bfb9b30109aba74114",
    "idx": 37,
    "time": "2021-02-15T17:29:11.087Z",
    "type": "execution"
   },
   {
    "id": "ddb33b3cc1c244bfb9b30109aba74114",
    "time": "2021-02-15T17:29:11.176Z",
    "type": "completion"
   },
   {
    "code": "ntrials = 10000\nn1=50\nn2=50\nn3=50\np1=.4\np2=.5\np3=.6\ngroup1 = [np.random.binomial(n=n1, p=p1) for _ in range(ntrials)]\ngroup2 = [np.random.binomial(n=n2, p=p2) for _ in range(ntrials)]\ngroup3 = [np.random.binomial(n=n3, p=p3) for _ in range(ntrials)] \ngrouptrials = Table().with_columns(\"votes1\",group1,\n                                 \"votes2\", group2,\n                                 \"votes3\",group3)\ngrouptrials",
    "id": "95a6be66409242868b171495be4c41e7",
    "idx": 39,
    "time": "2021-02-15T17:30:30.909Z",
    "type": "execution"
   },
   {
    "id": "95a6be66409242868b171495be4c41e7",
    "time": "2021-02-15T17:30:31.221Z",
    "type": "completion"
   },
   {
    "code": "group1piv = 1*((grouptrials.column(\"votes2\") <= n2/2)*(grouptrials.column(\"votes3\") >= n3/2)+\n   (grouptrials.column(\"votes2\") >= n2/2)*(grouptrials.column(\"votes3\") <= n3/2))\ngroup2piv = 1*((grouptrials.column(\"votes1\") <= n2/2)*(grouptrials.column(\"votes3\") >= n3/2)+\n   (grouptrials.column(\"votes1\") >= n2/2)*(grouptrials.column(\"votes3\") <= n3/2))\ngroup3piv = 1*((grouptrials.column(\"votes1\") <= n2/2)*(grouptrials.column(\"votes2\") >= n3/2)+\n   (grouptrials.column(\"votes1\") >= n2/2)*(grouptrials.column(\"votes2\") <= n3/2))\n\ngrouptrials = grouptrials.with_columns(\"group piv1\", group1piv,\n                                       \"group piv2\", group2piv,\n                                       \"group piv3\", group3piv)\ngrouptrials",
    "id": "30b0905575da4443bdde684518efa752",
    "idx": 43,
    "time": "2021-02-15T17:32:02.474Z",
    "type": "execution"
   },
   {
    "id": "30b0905575da4443bdde684518efa752",
    "time": "2021-02-15T17:32:02.564Z",
    "type": "completion"
   },
   {
    "code": "sum(grouptrials.column(\"voter piv1\"))",
    "id": "015c13bbde4a4227b6be4ce327fa8223",
    "idx": 44,
    "time": "2021-02-15T17:32:05.381Z",
    "type": "execution"
   },
   {
    "id": "015c13bbde4a4227b6be4ce327fa8223",
    "time": "2021-02-15T17:32:05.612Z",
    "type": "completion"
   },
   {
    "code": "group1piv = 1*((grouptrials.column(\"votes2\") <= n2/2)*(grouptrials.column(\"votes3\") >= n3/2)+\n   (grouptrials.column(\"votes2\") >= n2/2)*(grouptrials.column(\"votes3\") <= n3/2))\ngroup2piv = 1*((grouptrials.column(\"votes1\") <= n2/2)*(grouptrials.column(\"votes3\") >= n3/2)+\n   (grouptrials.column(\"votes1\") >= n2/2)*(grouptrials.column(\"votes3\") <= n3/2))\ngroup3piv = 1*((grouptrials.column(\"votes1\") <= n2/2)*(grouptrials.column(\"votes2\") >= n3/2)+\n   (grouptrials.column(\"votes1\") >= n2/2)*(grouptrials.column(\"votes2\") <= n3/2))\n\ngrouptrials = grouptrials.with_columns(\"group piv1\", group1piv,\n                                       \"group piv2\", group2piv,\n                                       \"group piv3\", group3piv)\ngrouptrials",
    "id": "30b0905575da4443bdde684518efa752",
    "idx": 43,
    "time": "2021-02-15T17:32:07.845Z",
    "type": "execution"
   },
   {
    "id": "30b0905575da4443bdde684518efa752",
    "time": "2021-02-15T17:32:07.963Z",
    "type": "completion"
   },
   {
    "code": "sum(grouptrials.column(\"voter piv1\"))",
    "id": "015c13bbde4a4227b6be4ce327fa8223",
    "idx": 44,
    "time": "2021-02-15T17:32:10.080Z",
    "type": "execution"
   },
   {
    "id": "015c13bbde4a4227b6be4ce327fa8223",
    "time": "2021-02-15T17:32:10.167Z",
    "type": "completion"
   },
   {
    "code": "grouptrials = grouptrials.with_columns(\"voter piv1\", 1*(grouptrials.column(\"votes1\")==n1/2),\n                                       \"voter piv2\", 1*(grouptrials.column(\"votes2\")==n2/2),\n                                       \"voter piv3\", 1*(grouptrials.column(\"votes3\")==n3/2))\ngrouptrials",
    "id": "4d8ab645a4d5494b8759acf0bb1f1298",
    "idx": 41,
    "time": "2021-02-15T17:32:15.051Z",
    "type": "execution"
   },
   {
    "id": "4d8ab645a4d5494b8759acf0bb1f1298",
    "time": "2021-02-15T17:32:15.140Z",
    "type": "completion"
   },
   {
    "code": "group1piv = 1*((grouptrials.column(\"votes2\") <= n2/2)*(grouptrials.column(\"votes3\") >= n3/2)+\n   (grouptrials.column(\"votes2\") >= n2/2)*(grouptrials.column(\"votes3\") <= n3/2))\ngroup2piv = 1*((grouptrials.column(\"votes1\") <= n2/2)*(grouptrials.column(\"votes3\") >= n3/2)+\n   (grouptrials.column(\"votes1\") >= n2/2)*(grouptrials.column(\"votes3\") <= n3/2))\ngroup3piv = 1*((grouptrials.column(\"votes1\") <= n2/2)*(grouptrials.column(\"votes2\") >= n3/2)+\n   (grouptrials.column(\"votes1\") >= n2/2)*(grouptrials.column(\"votes2\") <= n3/2))\n\ngrouptrials = grouptrials.with_columns(\"group piv1\", group1piv,\n                                       \"group piv2\", group2piv,\n                                       \"group piv3\", group3piv)\ngrouptrials",
    "id": "30b0905575da4443bdde684518efa752",
    "idx": 43,
    "time": "2021-02-15T17:32:17.032Z",
    "type": "execution"
   },
   {
    "id": "30b0905575da4443bdde684518efa752",
    "time": "2021-02-15T17:32:17.157Z",
    "type": "completion"
   },
   {
    "code": "sum(grouptrials.column(\"voter piv1\"))",
    "id": "015c13bbde4a4227b6be4ce327fa8223",
    "idx": 44,
    "time": "2021-02-15T17:32:19.946Z",
    "type": "execution"
   },
   {
    "id": "015c13bbde4a4227b6be4ce327fa8223",
    "time": "2021-02-15T17:32:20.033Z",
    "type": "completion"
   },
   {
    "code": "How often are the different groups pivotal?",
    "id": "d2126ea70467468294ae9944d9997b42",
    "idx": 47,
    "time": "2021-02-15T17:33:04.368Z",
    "type": "execution"
   },
   {
    "id": "d2126ea70467468294ae9944d9997b42",
    "time": "2021-02-15T17:33:04.493Z",
    "type": "completion"
   },
   {
    "code": "import numpy as np\nimport pandas as pd\nimport matplotlib.pyplot as plt\nimport seaborn as sns\nfrom datascience import Table\n%matplotlib inline",
    "id": "e6143725b737421c814f0c678854441b",
    "idx": 1,
    "time": "2021-02-15T17:34:44.834Z",
    "type": "execution"
   },
   {
    "id": "e6143725b737421c814f0c678854441b",
    "time": "2021-02-15T17:34:44.920Z",
    "type": "completion"
   },
   {
    "code": "ntrails=10000\ntrials10 = [np.random.binomial(n=10, p=.5) for _ in range(ntrials)]",
    "id": "ed185597b50641028e8dc73c03d249ff",
    "idx": 20,
    "time": "2021-02-15T18:05:21.884Z",
    "type": "execution"
   },
   {
    "id": "ed185597b50641028e8dc73c03d249ff",
    "time": "2021-02-15T18:05:22.029Z",
    "type": "completion"
   },
   {
    "code": "one_pivot(11, .5)",
    "id": "891248b41ad44a6983bbf5751c7f0c8e",
    "idx": 38,
    "time": "2021-02-15T18:06:30.574Z",
    "type": "execution"
   },
   {
    "id": "891248b41ad44a6983bbf5751c7f0c8e",
    "time": "2021-02-15T18:06:30.697Z",
    "type": "completion"
   },
   {
    "code": "def one_pivot(n,p):\n    return 1*(np.random.binomial(n=n,p=p)==n/2)",
    "id": "3949d3daa2754525925e5dc1ae42e80e",
    "idx": 32,
    "time": "2021-02-15T18:06:32.923Z",
    "type": "execution"
   },
   {
    "id": "3949d3daa2754525925e5dc1ae42e80e",
    "time": "2021-02-15T18:06:33.000Z",
    "type": "completion"
   },
   {
    "code": "one_pivot(11, .5)",
    "id": "891248b41ad44a6983bbf5751c7f0c8e",
    "idx": 38,
    "time": "2021-02-15T18:06:34.856Z",
    "type": "execution"
   },
   {
    "id": "891248b41ad44a6983bbf5751c7f0c8e",
    "time": "2021-02-15T18:06:34.937Z",
    "type": "completion"
   },
   {
    "code": "one_pivot(10, .6)",
    "id": "81e340f8e86f4202a8920955255039ee",
    "idx": 33,
    "time": "2021-02-15T18:08:29.423Z",
    "type": "execution"
   },
   {
    "id": "81e340f8e86f4202a8920955255039ee",
    "time": "2021-02-15T18:08:29.508Z",
    "type": "completion"
   },
   {
    "code": "one_pivot(10, .6)",
    "id": "81e340f8e86f4202a8920955255039ee",
    "idx": 33,
    "time": "2021-02-15T18:08:32.149Z",
    "type": "execution"
   },
   {
    "id": "81e340f8e86f4202a8920955255039ee",
    "time": "2021-02-15T18:08:32.250Z",
    "type": "completion"
   },
   {
    "code": "one_pivot(10, .6)",
    "id": "81e340f8e86f4202a8920955255039ee",
    "idx": 33,
    "time": "2021-02-15T18:08:33.457Z",
    "type": "execution"
   },
   {
    "id": "81e340f8e86f4202a8920955255039ee",
    "time": "2021-02-15T18:08:33.536Z",
    "type": "completion"
   },
   {
    "code": "one_pivot(10, .6)",
    "id": "81e340f8e86f4202a8920955255039ee",
    "idx": 33,
    "time": "2021-02-15T18:08:34.499Z",
    "type": "execution"
   },
   {
    "id": "81e340f8e86f4202a8920955255039ee",
    "time": "2021-02-15T18:08:34.598Z",
    "type": "completion"
   },
   {
    "code": "one_pivot(n=10, p=.6)",
    "id": "81e340f8e86f4202a8920955255039ee",
    "idx": 33,
    "time": "2021-02-15T18:08:40.881Z",
    "type": "execution"
   },
   {
    "id": "81e340f8e86f4202a8920955255039ee",
    "time": "2021-02-15T18:08:40.976Z",
    "type": "completion"
   },
   {
    "code": "one_pivot(n=10, p=.6)",
    "id": "81e340f8e86f4202a8920955255039ee",
    "idx": 33,
    "time": "2021-02-15T18:08:43.180Z",
    "type": "execution"
   },
   {
    "id": "81e340f8e86f4202a8920955255039ee",
    "time": "2021-02-15T18:08:43.257Z",
    "type": "completion"
   },
   {
    "code": "piv_trials100 = [one_pivot(n=100, p=.5) for _ in range(ntrials)]\nsum(piv_trials100)/ntrials",
    "id": "f7cfd630a2f9449db73d53c3dc127cc1",
    "idx": 36,
    "time": "2021-02-15T18:09:46.734Z",
    "type": "execution"
   },
   {
    "id": "f7cfd630a2f9449db73d53c3dc127cc1",
    "time": "2021-02-15T18:09:46.887Z",
    "type": "completion"
   },
   {
    "code": "piv_trials100 = [one_pivot(n=100, p=.4) for _ in range(ntrials)]\nsum(piv_trials100)/ntrials",
    "id": "42ce1601815c40798bfa29e8acd71473",
    "idx": 38,
    "time": "2021-02-15T18:09:52.610Z",
    "type": "execution"
   },
   {
    "id": "42ce1601815c40798bfa29e8acd71473",
    "time": "2021-02-15T18:09:52.743Z",
    "type": "completion"
   },
   {
    "code": "n1=50\nn2=50\nn3=50\np1=.4\np2=.5\np3=.6\ngroup1 = [np.random.binomial(n=n1, p=p1) for _ in range(ntrials)]\ngroup2 = [np.random.binomial(n=n2, p=p2) for _ in range(ntrials)]\ngroup3 = [np.random.binomial(n=n3, p=p3) for _ in range(ntrials)] \ngrouptrials = Table().with_columns(\"votes1\",group1,\n                                 \"votes2\", group2,\n                                 \"votes3\",group3)\ngrouptrials",
    "id": "95a6be66409242868b171495be4c41e7",
    "idx": 44,
    "time": "2021-02-15T18:12:36.533Z",
    "type": "execution"
   },
   {
    "code": "#Group sizes\nn1=50\nn2=50\nn3=50\n# Probability of voting for A, by group\np1=.4\np2=.5\np3=.6\ngroup1 = [np.random.binomial(n=n1, p=p1) for _ in range(ntrials)]\ngroup2 = [np.random.binomial(n=n2, p=p2) for _ in range(ntrials)]\ngroup3 = [np.random.binomial(n=n3, p=p3) for _ in range(ntrials)] \ngrouptrials = Table().with_columns(\"votes1\",group1,\n                                 \"votes2\", group2,\n                                 \"votes3\",group3)\ngrouptrials",
    "id": "ad134d0cbddd4ce38a163bd01e21825e",
    "idx": 44,
    "time": "2021-02-15T18:36:23.379Z",
    "type": "execution"
   },
   {
    "id": "ad134d0cbddd4ce38a163bd01e21825e",
    "time": "2021-02-15T18:36:23.740Z",
    "type": "completion"
   },
   {
    "code": "#Group sizes\nn1=50\nn2=50\nn3=50\n# Probability of voting for A, by group\np1=.4\np2=.5\np3=.6\n# Creating arrays for simulations for each group\ngroup1 = [np.random.binomial(n=n1, p=p1) for _ in range(ntrials)]\ngroup2 = [np.random.binomial(n=n2, p=p2) for _ in range(ntrials)]\ngroup3 = [np.random.binomial(n=n3, p=p3) for _ in range(ntrials)] \n#Putting the arrays into a table\ngrouptrials = Table().with_columns(\"votes1\",group1,\n                                 \"votes2\", group2,\n                                 \"votes3\",group3)\ngrouptrials",
    "id": "ad134d0cbddd4ce38a163bd01e21825e",
    "idx": 44,
    "time": "2021-02-15T18:37:01.156Z",
    "type": "execution"
   },
   {
    "id": "ad134d0cbddd4ce38a163bd01e21825e",
    "time": "2021-02-15T18:37:01.380Z",
    "type": "completion"
   },
   {
    "code": "grouptrials = grouptrials.with_columns(\"voter piv1\", 1*(grouptrials.column(\"votes1\")==n1/2),\n                                       \"voter piv2\", 1*(grouptrials.column(\"votes2\")==n2/2),\n                                       \"voter piv3\", 1*(grouptrials.column(\"votes3\")==n3/2))\ngrouptrials",
    "id": "21b9865dabb44f3b8963be185b841156",
    "idx": 46,
    "time": "2021-02-15T18:37:15.411Z",
    "type": "execution"
   },
   {
    "id": "21b9865dabb44f3b8963be185b841156",
    "time": "2021-02-15T18:37:15.506Z",
    "type": "completion"
   },
   {
    "code": "sum(grouptrials.column(\"voter piv1\"))/ntrials",
    "id": "500b65a71dc948e38105e2d31809cff5",
    "idx": 48,
    "time": "2021-02-15T18:37:41.756Z",
    "type": "execution"
   },
   {
    "id": "500b65a71dc948e38105e2d31809cff5",
    "time": "2021-02-15T18:37:41.856Z",
    "type": "completion"
   },
   {
    "code": "sum(grouptrials.column(\"group piv1\"))/ntrials",
    "id": "9889f14918bf48e3ae8f9b4122b6a544",
    "idx": 57,
    "time": "2021-02-15T18:39:37.503Z",
    "type": "execution"
   },
   {
    "id": "9889f14918bf48e3ae8f9b4122b6a544",
    "time": "2021-02-15T18:39:37.642Z",
    "type": "completion"
   },
   {
    "code": "group1piv = 1*((grouptrials.column(\"votes2\") <= n2/2)*(grouptrials.column(\"votes3\") >= n3/2)+\n   (grouptrials.column(\"votes2\") >= n2/2)*(grouptrials.column(\"votes3\") <= n3/2))\ngroup2piv = 1*((grouptrials.column(\"votes1\") <= n2/2)*(grouptrials.column(\"votes3\") >= n3/2)+\n   (grouptrials.column(\"votes1\") >= n2/2)*(grouptrials.column(\"votes3\") <= n3/2))\ngroup3piv = 1*((grouptrials.column(\"votes1\") <= n2/2)*(grouptrials.column(\"votes2\") >= n3/2)+\n   (grouptrials.column(\"votes1\") >= n2/2)*(grouptrials.column(\"votes2\") <= n3/2))\n\ngrouptrials = grouptrials.with_columns(\"group piv1\", group1piv,\n                                       \"group piv2\", group2piv,\n                                       \"group piv3\", group3piv)\ngrouptrials",
    "id": "6d7c524620974d809fb7630f3d8a0ac0",
    "idx": 55,
    "time": "2021-02-15T18:39:40.169Z",
    "type": "execution"
   },
   {
    "id": "6d7c524620974d809fb7630f3d8a0ac0",
    "time": "2021-02-15T18:39:40.275Z",
    "type": "completion"
   },
   {
    "code": "sum(grouptrials.column(\"group piv1\"))/ntrials",
    "id": "9889f14918bf48e3ae8f9b4122b6a544",
    "idx": 57,
    "time": "2021-02-15T18:39:42.548Z",
    "type": "execution"
   },
   {
    "id": "9889f14918bf48e3ae8f9b4122b6a544",
    "time": "2021-02-15T18:39:42.628Z",
    "type": "completion"
   },
   {
    "code": "sum(grouptrials.column(\"overall piv 1\"))/ntrials, \nsum(grouptrials.column(\"overall piv 2\"))/ntrials,  \nsum(grouptrials.column(\"overall piv 3\")) /ntrials",
    "id": "ff4ff0facd5d4ad981efa3de34a98976",
    "idx": 72,
    "time": "2021-02-15T18:42:26.222Z",
    "type": "execution"
   },
   {
    "id": "ff4ff0facd5d4ad981efa3de34a98976",
    "time": "2021-02-15T18:42:26.332Z",
    "type": "completion"
   },
   {
    "code": "grouptrials = grouptrials.with_columns(\"overall piv1\", \n                                      grouptrials.column(\"voter piv1\")*grouptrials.column(\"group piv1\"),\n                                       \"overall piv2\", \n                                      grouptrials.column(\"voter piv2\")*grouptrials.column(\"group piv2\"),\n                                       \"overall piv3\", \n                                      grouptrials.column(\"voter piv3\")*grouptrials.column(\"group piv3\"))\n\ngrouptrials",
    "id": "f08956af6cb84f8db113c90588f98dfd",
    "idx": 63,
    "time": "2021-02-15T18:42:31.044Z",
    "type": "execution"
   },
   {
    "id": "f08956af6cb84f8db113c90588f98dfd",
    "time": "2021-02-15T18:42:31.134Z",
    "type": "completion"
   },
   {
    "code": "sum(grouptrials.column(\"overall piv 1\"))/ntrials, \nsum(grouptrials.column(\"overall piv 2\"))/ntrials,  \nsum(grouptrials.column(\"overall piv 3\")) /ntrials",
    "id": "ff4ff0facd5d4ad981efa3de34a98976",
    "idx": 72,
    "time": "2021-02-15T18:42:33.674Z",
    "type": "execution"
   },
   {
    "id": "ff4ff0facd5d4ad981efa3de34a98976",
    "time": "2021-02-15T18:42:33.765Z",
    "type": "completion"
   },
   {
    "code": "sum(grouptrials.column(\"overall piv1\"))/ntrials, \nsum(grouptrials.column(\"overall piv2\"))/ntrials,  \nsum(grouptrials.column(\"overall piv3\")) /ntrials",
    "id": "ff4ff0facd5d4ad981efa3de34a98976",
    "idx": 72,
    "time": "2021-02-15T18:42:45.535Z",
    "type": "execution"
   },
   {
    "id": "ff4ff0facd5d4ad981efa3de34a98976",
    "time": "2021-02-15T18:42:45.626Z",
    "type": "completion"
   },
   {
    "code": "sum(grouptrials.column(\"overall piv1\"))/ntrials, sum(grouptrials.column(\"overall piv2\"))/ntrials,  sum(grouptrials.column(\"overall piv3\")) /ntrials",
    "id": "ff4ff0facd5d4ad981efa3de34a98976",
    "idx": 72,
    "time": "2021-02-15T18:42:51.647Z",
    "type": "execution"
   },
   {
    "id": "ff4ff0facd5d4ad981efa3de34a98976",
    "time": "2021-02-15T18:42:51.744Z",
    "type": "completion"
   },
   {
    "code": "def maketable(n1=50, n2=50, n3=50, p1=.4, p2=.5, p3=.6, ntrials=1000):\n    group1 = [np.random.binomial(n=n1, p=p1) for _ in range(ntrials)]\n    group2 = [np.random.binomial(n=n2, p=p2) for _ in range(ntrials)]\n    group3 = [np.random.binomial(n=n3, p=p3) for _ in range(ntrials)] \n    grouptrials = Table().with_columns(\"votes1\",group1,\n                                 \"votes2\", group2,\n                                 \"votes3\",group3)\n    grouptrials = grouptrials.with_columns(\"voter piv1\", 1*(grouptrials.column(\"votes1\")==n1/2),\n                                       \"voter piv2\", 1*(grouptrials.column(\"votes2\")==n2/2),\n                                       \"voter piv3\", 1*(grouptrials.column(\"votes3\")==n3/2))\n    group1piv = 1*((grouptrials.column(\"votes2\") <= n2/2)*(grouptrials.column(\"votes3\") >= n3/2)+\n   (grouptrials.column(\"votes2\") >= n2/2)*(grouptrials.column(\"votes3\") <= n3/2))\n    group2piv = 1*((grouptrials.column(\"votes1\") <= n2/2)*(grouptrials.column(\"votes3\") >= n3/2)+\n   (grouptrials.column(\"votes1\") >= n2/2)*(grouptrials.column(\"votes3\") <= n3/2))\n    group3piv = 1*((grouptrials.column(\"votes1\") <= n2/2)*(grouptrials.column(\"votes2\") >= n3/2)+\n   (grouptrials.column(\"votes1\") >= n2/2)*(grouptrials.column(\"votes2\") <= n3/2))\n    grouptrials = grouptrials.with_columns(\"group piv1\", group1piv,\n                                       \"group piv2\", group2piv,\n                                       \"group piv3\", group3piv)\n    grouptrials = grouptrials.with_columns(\"overall piv1\", \n                                      grouptrials.column(\"voter piv1\")*grouptrials.column(\"group piv1\"),\n                                       \"overall piv2\", \n                                      grouptrials.column(\"voter piv2\")*grouptrials.column(\"group piv2\"),\n                                       \"overall piv3\", \n                                      grouptrials.column(\"voter piv3\")*grouptrials.column(\"group piv3\"))\n    return grouptrials",
    "id": "29ffcc94a1a343438fa015d71b328ba2",
    "idx": 69,
    "time": "2021-02-15T18:43:09.600Z",
    "type": "execution"
   },
   {
    "id": "29ffcc94a1a343438fa015d71b328ba2",
    "time": "2021-02-15T18:43:09.684Z",
    "type": "completion"
   },
   {
    "code": "test = maketable()\ntest",
    "id": "40e79d370ee94e4b87d3ca3bf933df0d",
    "idx": 70,
    "time": "2021-02-15T18:43:15.147Z",
    "type": "execution"
   },
   {
    "id": "40e79d370ee94e4b87d3ca3bf933df0d",
    "time": "2021-02-15T18:43:15.269Z",
    "type": "completion"
   },
   {
    "code": "maketable(n1=10, n2=50, n3=50, p1=.4, p2=.5, p3=.6)",
    "id": "ba9330667d2c4d9684dada700b791b60",
    "idx": 73,
    "time": "2021-02-15T18:43:54.099Z",
    "type": "execution"
   },
   {
    "id": "ba9330667d2c4d9684dada700b791b60",
    "time": "2021-02-15T18:43:54.200Z",
    "type": "completion"
   },
   {
    "code": "sim_elec_2 = maketable(n1=10, n2=50, n3=50, p1=.4, p2=.5, p3=.6)",
    "id": "ba9330667d2c4d9684dada700b791b60",
    "idx": 73,
    "time": "2021-02-15T18:44:05.875Z",
    "type": "execution"
   },
   {
    "id": "ba9330667d2c4d9684dada700b791b60",
    "time": "2021-02-15T18:44:05.960Z",
    "type": "completion"
   },
   {
    "code": "sum(sim_elec_2.column(\"overall piv1\"))/ntrials, sum(sim_elec_2.column(\"overall piv2\"))/ntrials,  sum(sim_elec_2.column(\"overall piv3\")) /ntrials",
    "id": "abd2c3c225394a1387050cf5af8a28bc",
    "idx": 74,
    "time": "2021-02-15T18:44:39.741Z",
    "type": "execution"
   },
   {
    "id": "abd2c3c225394a1387050cf5af8a28bc",
    "time": "2021-02-15T18:44:39.835Z",
    "type": "completion"
   },
   {
    "code": "sim_elec_2 = maketable(n1=10, n2=50, n3=50, p1=.4, p2=.5, p3=.6)",
    "id": "ba9330667d2c4d9684dada700b791b60",
    "idx": 73,
    "time": "2021-02-15T18:45:03.392Z",
    "type": "execution"
   },
   {
    "id": "ba9330667d2c4d9684dada700b791b60",
    "time": "2021-02-15T18:45:03.481Z",
    "type": "completion"
   },
   {
    "code": "sum(sim_elec_2.column(\"overall piv1\"))/ntrials, sum(sim_elec_2.column(\"overall piv2\"))/ntrials,  sum(sim_elec_2.column(\"overall piv3\")) /ntrials",
    "id": "abd2c3c225394a1387050cf5af8a28bc",
    "idx": 74,
    "time": "2021-02-15T18:45:04.990Z",
    "type": "execution"
   },
   {
    "id": "abd2c3c225394a1387050cf5af8a28bc",
    "time": "2021-02-15T18:45:05.068Z",
    "type": "completion"
   },
   {
    "code": "sim_elec_2 = maketable(n1=50, n2=50, n3=50, p1=.4, p2=.5, p3=.6)",
    "id": "ba9330667d2c4d9684dada700b791b60",
    "idx": 73,
    "time": "2021-02-15T18:45:10.192Z",
    "type": "execution"
   },
   {
    "id": "ba9330667d2c4d9684dada700b791b60",
    "time": "2021-02-15T18:45:10.276Z",
    "type": "completion"
   },
   {
    "code": "sum(sim_elec_2.column(\"overall piv1\"))/ntrials, sum(sim_elec_2.column(\"overall piv2\"))/ntrials,  sum(sim_elec_2.column(\"overall piv3\")) /ntrials",
    "id": "abd2c3c225394a1387050cf5af8a28bc",
    "idx": 74,
    "time": "2021-02-15T18:45:11.348Z",
    "type": "execution"
   },
   {
    "id": "abd2c3c225394a1387050cf5af8a28bc",
    "time": "2021-02-15T18:45:11.429Z",
    "type": "completion"
   },
   {
    "code": "def maketable(n1=50, n2=50, n3=50, p1=.4, p2=.5, p3=.6, ntrials=10000):\n    group1 = [np.random.binomial(n=n1, p=p1) for _ in range(ntrials)]\n    group2 = [np.random.binomial(n=n2, p=p2) for _ in range(ntrials)]\n    group3 = [np.random.binomial(n=n3, p=p3) for _ in range(ntrials)] \n    grouptrials = Table().with_columns(\"votes1\",group1,\n                                 \"votes2\", group2,\n                                 \"votes3\",group3)\n    grouptrials = grouptrials.with_columns(\"voter piv1\", 1*(grouptrials.column(\"votes1\")==n1/2),\n                                       \"voter piv2\", 1*(grouptrials.column(\"votes2\")==n2/2),\n                                       \"voter piv3\", 1*(grouptrials.column(\"votes3\")==n3/2))\n    group1piv = 1*((grouptrials.column(\"votes2\") <= n2/2)*(grouptrials.column(\"votes3\") >= n3/2)+\n   (grouptrials.column(\"votes2\") >= n2/2)*(grouptrials.column(\"votes3\") <= n3/2))\n    group2piv = 1*((grouptrials.column(\"votes1\") <= n2/2)*(grouptrials.column(\"votes3\") >= n3/2)+\n   (grouptrials.column(\"votes1\") >= n2/2)*(grouptrials.column(\"votes3\") <= n3/2))\n    group3piv = 1*((grouptrials.column(\"votes1\") <= n2/2)*(grouptrials.column(\"votes2\") >= n3/2)+\n   (grouptrials.column(\"votes1\") >= n2/2)*(grouptrials.column(\"votes2\") <= n3/2))\n    grouptrials = grouptrials.with_columns(\"group piv1\", group1piv,\n                                       \"group piv2\", group2piv,\n                                       \"group piv3\", group3piv)\n    grouptrials = grouptrials.with_columns(\"overall piv1\", \n                                      grouptrials.column(\"voter piv1\")*grouptrials.column(\"group piv1\"),\n                                       \"overall piv2\", \n                                      grouptrials.column(\"voter piv2\")*grouptrials.column(\"group piv2\"),\n                                       \"overall piv3\", \n                                      grouptrials.column(\"voter piv3\")*grouptrials.column(\"group piv3\"))\n    return grouptrials",
    "id": "29ffcc94a1a343438fa015d71b328ba2",
    "idx": 69,
    "time": "2021-02-15T18:45:38.263Z",
    "type": "execution"
   },
   {
    "id": "29ffcc94a1a343438fa015d71b328ba2",
    "time": "2021-02-15T18:45:38.345Z",
    "type": "completion"
   },
   {
    "code": "test = maketable()\ntest",
    "id": "40e79d370ee94e4b87d3ca3bf933df0d",
    "idx": 70,
    "time": "2021-02-15T18:45:39.828Z",
    "type": "execution"
   },
   {
    "id": "40e79d370ee94e4b87d3ca3bf933df0d",
    "time": "2021-02-15T18:45:40.076Z",
    "type": "completion"
   },
   {
    "code": "sum(grouptrials.column(\"overall piv1\"))/ntrials, sum(grouptrials.column(\"overall piv2\"))/ntrials,  sum(grouptrials.column(\"overall piv3\")) /ntrials",
    "id": "ff4ff0facd5d4ad981efa3de34a98976",
    "idx": 72,
    "time": "2021-02-15T18:45:42.475Z",
    "type": "execution"
   },
   {
    "id": "ff4ff0facd5d4ad981efa3de34a98976",
    "time": "2021-02-15T18:45:42.568Z",
    "type": "completion"
   },
   {
    "code": "sim_elec_2 = maketable(n1=50, n2=50, n3=50, p1=.4, p2=.5, p3=.6)",
    "id": "ba9330667d2c4d9684dada700b791b60",
    "idx": 73,
    "time": "2021-02-15T18:45:44.596Z",
    "type": "execution"
   },
   {
    "id": "ba9330667d2c4d9684dada700b791b60",
    "time": "2021-02-15T18:45:44.811Z",
    "type": "completion"
   },
   {
    "code": "sum(sim_elec_2.column(\"overall piv1\"))/ntrials, sum(sim_elec_2.column(\"overall piv2\"))/ntrials,  sum(sim_elec_2.column(\"overall piv3\")) /ntrials",
    "id": "abd2c3c225394a1387050cf5af8a28bc",
    "idx": 74,
    "time": "2021-02-15T18:45:45.429Z",
    "type": "execution"
   },
   {
    "id": "abd2c3c225394a1387050cf5af8a28bc",
    "time": "2021-02-15T18:45:45.536Z",
    "type": "completion"
   },
   {
    "code": "sim_elec_2 = maketable(n1=10, n2=50, n3=50, p1=.4, p2=.5, p3=.6)",
    "id": "ba9330667d2c4d9684dada700b791b60",
    "idx": 73,
    "time": "2021-02-15T18:45:50.860Z",
    "type": "execution"
   },
   {
    "id": "ba9330667d2c4d9684dada700b791b60",
    "time": "2021-02-15T18:45:51.083Z",
    "type": "completion"
   },
   {
    "code": "sum(sim_elec_2.column(\"overall piv1\"))/ntrials, sum(sim_elec_2.column(\"overall piv2\"))/ntrials,  sum(sim_elec_2.column(\"overall piv3\")) /ntrials",
    "id": "abd2c3c225394a1387050cf5af8a28bc",
    "idx": 74,
    "time": "2021-02-15T18:45:53.149Z",
    "type": "execution"
   },
   {
    "id": "abd2c3c225394a1387050cf5af8a28bc",
    "time": "2021-02-15T18:45:53.244Z",
    "type": "completion"
   }
  ],
  "kernelspec": {
   "display_name": "Python 3",
   "language": "python",
   "name": "python3"
  },
  "language_info": {
   "codemirror_mode": {
    "name": "ipython",
    "version": 3
   },
   "file_extension": ".py",
   "mimetype": "text/x-python",
   "name": "python",
   "nbconvert_exporter": "python",
   "pygments_lexer": "ipython3",
   "version": "3.8.8"
  }
 },
 "nbformat": 4,
 "nbformat_minor": 4
}
