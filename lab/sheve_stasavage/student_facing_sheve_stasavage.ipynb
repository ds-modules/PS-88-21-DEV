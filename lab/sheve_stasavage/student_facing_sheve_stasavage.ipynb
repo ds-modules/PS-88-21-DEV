{
 "cells": [
  {
   "cell_type": "markdown",
   "metadata": {},
   "source": [
    "# Lab #Number: Sheve and Stasavage Replication\n",
    "\n",
    "\n",
    "In this lab, you will be creating the findings from *The Conscription of Wealth: Mass Warfare and the Demand for Progressive Taxation* by Kenneth Scheve and David Stasavage. The original paper is linked [here](https://isps.yale.edu/sites/default/files/publication/2012/12/ISPS10-042.pdf). The data repository for this project is linked [here](https://isps.yale.edu/research/data/d062). This paper looks at how tax rates rose after World War I.\n",
    "\n",
    "\n"
   ]
  },
  {
   "cell_type": "markdown",
   "metadata": {},
   "source": [
    "Let's start by importing the packages we'll be using in this notebook:"
   ]
  },
  {
   "cell_type": "code",
   "execution_count": 1,
   "metadata": {},
   "outputs": [],
   "source": [
    "# Run this cell to import the packages\n",
    "\n",
    "import pandas as pd\n",
    "import numpy as np\n",
    "import seaborn as sns\n",
    "import matplotlib.pyplot as plt\n",
    "%matplotlib inline\n",
    "plt.rcParams['figure.figsize'] = (16,8)\n",
    "plt.rcParams['figure.dpi'] = 150\n",
    "sns.set()\n",
    "pd.set_option('display.max_columns', None)"
   ]
  },
  {
   "cell_type": "markdown",
   "metadata": {},
   "source": [
    "Next, run the cell below to read in the data we will be using:"
   ]
  },
  {
   "cell_type": "code",
   "execution_count": 2,
   "metadata": {},
   "outputs": [],
   "source": [
    "data_string = \"data/Scheve_Stasavage_IO_2010_CoWreplicationdata.csv\"\n",
    "pre_and_post_war_data = pd.read_csv(data_string)"
   ]
  },
  {
   "cell_type": "code",
   "execution_count": 3,
   "metadata": {},
   "outputs": [
    {
     "data": {
      "text/html": [
       "<div>\n",
       "<style scoped>\n",
       "    .dataframe tbody tr th:only-of-type {\n",
       "        vertical-align: middle;\n",
       "    }\n",
       "\n",
       "    .dataframe tbody tr th {\n",
       "        vertical-align: top;\n",
       "    }\n",
       "\n",
       "    .dataframe thead th {\n",
       "        text-align: right;\n",
       "    }\n",
       "</style>\n",
       "<table border=\"1\" class=\"dataframe\">\n",
       "  <thead>\n",
       "    <tr style=\"text-align: right;\">\n",
       "      <th></th>\n",
       "      <th>country</th>\n",
       "      <th>year</th>\n",
       "      <th>inctaxshrn</th>\n",
       "      <th>topratep</th>\n",
       "      <th>topratepl1</th>\n",
       "    </tr>\n",
       "  </thead>\n",
       "  <tbody>\n",
       "    <tr>\n",
       "      <th>0</th>\n",
       "      <td>USA</td>\n",
       "      <td>1850</td>\n",
       "      <td>NaN</td>\n",
       "      <td>0.0</td>\n",
       "      <td>0.0</td>\n",
       "    </tr>\n",
       "    <tr>\n",
       "      <th>1</th>\n",
       "      <td>USA</td>\n",
       "      <td>1851</td>\n",
       "      <td>NaN</td>\n",
       "      <td>0.0</td>\n",
       "      <td>0.0</td>\n",
       "    </tr>\n",
       "    <tr>\n",
       "      <th>2</th>\n",
       "      <td>USA</td>\n",
       "      <td>1852</td>\n",
       "      <td>NaN</td>\n",
       "      <td>0.0</td>\n",
       "      <td>0.0</td>\n",
       "    </tr>\n",
       "    <tr>\n",
       "      <th>3</th>\n",
       "      <td>USA</td>\n",
       "      <td>1853</td>\n",
       "      <td>NaN</td>\n",
       "      <td>0.0</td>\n",
       "      <td>0.0</td>\n",
       "    </tr>\n",
       "    <tr>\n",
       "      <th>4</th>\n",
       "      <td>USA</td>\n",
       "      <td>1854</td>\n",
       "      <td>NaN</td>\n",
       "      <td>0.0</td>\n",
       "      <td>0.0</td>\n",
       "    </tr>\n",
       "  </tbody>\n",
       "</table>\n",
       "</div>"
      ],
      "text/plain": [
       "  country  year  inctaxshrn  topratep  topratepl1\n",
       "0     USA  1850         NaN       0.0         0.0\n",
       "1     USA  1851         NaN       0.0         0.0\n",
       "2     USA  1852         NaN       0.0         0.0\n",
       "3     USA  1853         NaN       0.0         0.0\n",
       "4     USA  1854         NaN       0.0         0.0"
      ]
     },
     "execution_count": 3,
     "metadata": {},
     "output_type": "execute_result"
    }
   ],
   "source": [
    "pre_and_post_war_data.head()"
   ]
  },
  {
   "cell_type": "markdown",
   "metadata": {},
   "source": [
    "## Graphing the Tax Rate of Participant and Non-Participant Countries"
   ]
  },
  {
   "cell_type": "markdown",
   "metadata": {},
   "source": [
    "In this section, we'll be looking at the tax rates of countries that participated and did not participate in WWI and how they differ.\n"
   ]
  },
  {
   "cell_type": "markdown",
   "metadata": {},
   "source": [
    "### Selecting the Data"
   ]
  },
  {
   "cell_type": "markdown",
   "metadata": {},
   "source": [
    "We'll start by splitting our dataframe into two: one with countries that participated in WWI and one with countries that did not.\n",
    "\n",
    "In the next cell, select the following from the `pre_and_post_war_data` using the `country` column. The first one has been done for you:\n",
    "* Participants\n",
    "    * `UK`\n",
    "    * `France`\n",
    "    * `USA`\n",
    "    * `Canada`"
   ]
  },
  {
   "cell_type": "code",
   "execution_count": 4,
   "metadata": {},
   "outputs": [
    {
     "ename": "TypeError",
     "evalue": "unsupported operand type(s) for |: 'ellipsis' and 'ellipsis'",
     "output_type": "error",
     "traceback": [
      "\u001b[1;31m---------------------------------------------------------------------------\u001b[0m",
      "\u001b[1;31mTypeError\u001b[0m                                 Traceback (most recent call last)",
      "\u001b[1;32m<ipython-input-4-47aac21a2253>\u001b[0m in \u001b[0;36m<module>\u001b[1;34m\u001b[0m\n\u001b[0;32m      5\u001b[0m \u001b[0mcanada\u001b[0m \u001b[1;33m=\u001b[0m \u001b[1;33m...\u001b[0m\u001b[1;33m\u001b[0m\u001b[1;33m\u001b[0m\u001b[0m\n\u001b[0;32m      6\u001b[0m \u001b[1;33m\u001b[0m\u001b[0m\n\u001b[1;32m----> 7\u001b[1;33m \u001b[0mparticipants_wwi\u001b[0m \u001b[1;33m=\u001b[0m \u001b[0mpre_and_post_war_data\u001b[0m\u001b[1;33m[\u001b[0m\u001b[1;33m(\u001b[0m\u001b[0muk\u001b[0m\u001b[1;33m)\u001b[0m \u001b[1;33m|\u001b[0m \u001b[1;33m(\u001b[0m\u001b[0mfrance\u001b[0m\u001b[1;33m)\u001b[0m \u001b[1;33m|\u001b[0m \u001b[1;33m(\u001b[0m\u001b[0musa\u001b[0m\u001b[1;33m)\u001b[0m \u001b[1;33m|\u001b[0m \u001b[1;33m(\u001b[0m\u001b[0mcanada\u001b[0m\u001b[1;33m)\u001b[0m\u001b[1;33m]\u001b[0m\u001b[1;33m\u001b[0m\u001b[1;33m\u001b[0m\u001b[0m\n\u001b[0m",
      "\u001b[1;31mTypeError\u001b[0m: unsupported operand type(s) for |: 'ellipsis' and 'ellipsis'"
     ]
    }
   ],
   "source": [
    "# Replace the ... with the correct selection of the pre_and_post_war_data dataframe\n",
    "uk = pre_and_post_war_data[\"country\"]==\"UK\"\n",
    "france = ...\n",
    "usa = ...\n",
    "canada = ...\n",
    "\n",
    "participants_wwi = pre_and_post_war_data[(uk) | (france) | (usa) | (canada)]"
   ]
  },
  {
   "cell_type": "code",
   "execution_count": 5,
   "metadata": {},
   "outputs": [],
   "source": [
    "# Replace the ... with the correct selection of the pre_and_post_war_data dataframe\n",
    "uk = pre_and_post_war_data[\"country\"]==\"UK\"\n",
    "france = pre_and_post_war_data[\"country\"]==\"France\"\n",
    "usa = pre_and_post_war_data[\"country\"]==\"USA\"\n",
    "canada = pre_and_post_war_data[\"country\"]==\"Canada\"\n",
    "\n",
    "participants_wwi = pre_and_post_war_data[(uk) | (france) | (usa) | (canada)]"
   ]
  },
  {
   "cell_type": "markdown",
   "metadata": {},
   "source": [
    "Now that we have the participants in WWI, let's select the countries that did not participate in the war. \n",
    "\n",
    "In the next cell, select the following from the `pre_and_post_war_data` using the `country` column:\n",
    "* Non-Participants\n",
    "    * `Sweden`\n",
    "    * `Netherlands`\n",
    "    * `Japan`\n",
    "    * `Spain`"
   ]
  },
  {
   "cell_type": "code",
   "execution_count": 6,
   "metadata": {},
   "outputs": [
    {
     "ename": "TypeError",
     "evalue": "unsupported operand type(s) for |: 'ellipsis' and 'ellipsis'",
     "output_type": "error",
     "traceback": [
      "\u001b[1;31m---------------------------------------------------------------------------\u001b[0m",
      "\u001b[1;31mTypeError\u001b[0m                                 Traceback (most recent call last)",
      "\u001b[1;32m<ipython-input-6-47737ff3c5bb>\u001b[0m in \u001b[0;36m<module>\u001b[1;34m\u001b[0m\n\u001b[0;32m      5\u001b[0m \u001b[0mspain\u001b[0m \u001b[1;33m=\u001b[0m \u001b[1;33m...\u001b[0m\u001b[1;33m\u001b[0m\u001b[1;33m\u001b[0m\u001b[0m\n\u001b[0;32m      6\u001b[0m \u001b[1;33m\u001b[0m\u001b[0m\n\u001b[1;32m----> 7\u001b[1;33m \u001b[0mnon_participants_wwi\u001b[0m \u001b[1;33m=\u001b[0m \u001b[0mpre_and_post_war_data\u001b[0m\u001b[1;33m[\u001b[0m\u001b[1;33m(\u001b[0m\u001b[0msweden\u001b[0m\u001b[1;33m)\u001b[0m \u001b[1;33m|\u001b[0m \u001b[1;33m(\u001b[0m\u001b[0mnetherlands\u001b[0m\u001b[1;33m)\u001b[0m \u001b[1;33m|\u001b[0m \u001b[1;33m(\u001b[0m\u001b[0mjapan\u001b[0m\u001b[1;33m)\u001b[0m \u001b[1;33m|\u001b[0m \u001b[1;33m(\u001b[0m\u001b[0mspain\u001b[0m\u001b[1;33m)\u001b[0m\u001b[1;33m]\u001b[0m\u001b[1;33m\u001b[0m\u001b[1;33m\u001b[0m\u001b[0m\n\u001b[0m",
      "\u001b[1;31mTypeError\u001b[0m: unsupported operand type(s) for |: 'ellipsis' and 'ellipsis'"
     ]
    }
   ],
   "source": [
    "# Replace the ... with the correct selection of the pre_and_post_war_data dataframe\n",
    "sweden = ...\n",
    "netherlands = ...\n",
    "japan = ...\n",
    "spain = ...\n",
    "\n",
    "non_participants_wwi = pre_and_post_war_data[(sweden) | (netherlands) | (japan) | (spain)]"
   ]
  },
  {
   "cell_type": "code",
   "execution_count": 7,
   "metadata": {},
   "outputs": [],
   "source": [
    "# Replace the ... with the correct selection of the pre_and_post_war_data dataframe\n",
    "sweden = pre_and_post_war_data[\"country\"]==\"Sweden\"\n",
    "netherlands = pre_and_post_war_data[\"country\"]==\"Netherlands\"\n",
    "japan = pre_and_post_war_data[\"country\"]==\"Japan\"\n",
    "spain = pre_and_post_war_data[\"country\"]==\"Spain\"\n",
    "\n",
    "non_participants_wwi = pre_and_post_war_data[(sweden) | (netherlands) | (japan) | (spain)]"
   ]
  },
  {
   "cell_type": "markdown",
   "metadata": {},
   "source": [
    "Now that we have selected the correct countries for each dataframe, now let's select the correct years for our analysis.\n",
    "\n",
    "In the next cell, select the years 1900 inclusive to 1930 inclusive from the `participants_wwi` dataframe using the `year` column."
   ]
  },
  {
   "cell_type": "code",
   "execution_count": 12,
   "metadata": {},
   "outputs": [
    {
     "ename": "SyntaxError",
     "evalue": "unexpected EOF while parsing (<ipython-input-12-9dd2a3130972>, line 7)",
     "output_type": "error",
     "traceback": [
      "\u001b[1;36m  File \u001b[1;32m\"<ipython-input-12-9dd2a3130972>\"\u001b[1;36m, line \u001b[1;32m7\u001b[0m\n\u001b[1;33m    participants_wwi_years = participants_wwi[(greater_than_equal_to_1900) & (less_than_equal_to_1\u001b[0m\n\u001b[1;37m                                                                                                  ^\u001b[0m\n\u001b[1;31mSyntaxError\u001b[0m\u001b[1;31m:\u001b[0m unexpected EOF while parsing\n"
     ]
    }
   ],
   "source": [
    "# Select the years 1900 to 1930 from the participants_wwi dataframe using the year column\n",
    "\n",
    "participants_greater_than_equal_to_1900 = ...\n",
    "\n",
    "participants_less_than_equal_to_1930 = ...\n",
    "\n",
    "participants_wwi_years = participants_wwi[(participants_greater_than_equal_to_1900) \\\n",
    "                                          & (participants_less_than_equal_to_1"
   ]
  },
  {
   "cell_type": "code",
   "execution_count": 14,
   "metadata": {},
   "outputs": [],
   "source": [
    "# Select the years 1900 to 1930 from the participants_wwi dataframe using the year column\n",
    "\n",
    "participants_greater_than_equal_to_1900 = participants_wwi[\"year\"]>=1900\n",
    "\n",
    "participants_less_than_equal_to_1930 = participants_wwi[\"year\"]<=1930\n",
    "\n",
    "participants_wwi_years = participants_wwi[(participants_greater_than_equal_to_1900) \\\n",
    "                                          & (participants_less_than_equal_to_1930)]"
   ]
  },
  {
   "cell_type": "markdown",
   "metadata": {},
   "source": [
    "Now, we will select the years 1900 to 1930 inclusive for non-participant countries using `non_participants_wwi` and the `year` column."
   ]
  },
  {
   "cell_type": "code",
   "execution_count": 15,
   "metadata": {},
   "outputs": [],
   "source": [
    "# Select the years 1900 to 1930 from the non_participants_wwi dataframe using the year column\n",
    "\n",
    "non_participants_greater_than_equal_to_1900 = non_participants_wwi[\"year\"]>=1900\n",
    "\n",
    "non_participants_less_than_equal_to_1930 = non_participants_wwi[\"year\"]<=1930\n",
    "\n",
    "non_participants_wwi_years = non_participants_wwi[(non_participants_greater_than_equal_to_1900) \\\n",
    "                                          & (non_participants_less_than_equal_to_1930)]"
   ]
  },
  {
   "cell_type": "markdown",
   "metadata": {},
   "source": [
    "### Graphing the Data"
   ]
  },
  {
   "cell_type": "markdown",
   "metadata": {},
   "source": [
    "Now that we have selected the correct time period for our analysis, let's visualize the trends between participant and non-participant countries.\n",
    "\n",
    "In order to accomplish this comparison, we will be using two calls to `sns.lineplot`. We will also be adding in a descriptive title and axis labels. \n",
    "\n",
    "`sns.lineplot` arguments:\n",
    " * `x`: The name of the column for the x axis\n",
    " * `y`: The name of the column for the y axis\n",
    " * `data`: The name of the data frame that the visualization will be using\n",
    " * `label`: The name of what the lineplot will be called\n",
    " * `ci`: Whether the lineplot should have a confidence interval surrounding it. Set this argument to `False` to remove confidence intervals."
   ]
  },
  {
   "cell_type": "markdown",
   "metadata": {},
   "source": [
    "Your visualization must have:\n",
    " * A call to `sns.lineplot` using `year` as the x axis and `topratep` as the y axis. This call should use the **`participants_wwi_years`** data frame and should be labeled `World War I Participants`. There should be *no* confidence intervals.\n",
    " * A call to `sns.lineplot` using `year` as the x axis and `topratep` as the y axis. This call should use the **`non_participants_wwi_years`** data frame and should be labeled `World War I Non Participants`. There should be *no* confidence intervals.\n",
    " * A call to `plt.xlabel` using `Year` as the label\n",
    " * A call to `plt.ylabel` using `Top Rate of Income Tax` as the label\n",
    " * A call to `plt.title` using `World War I and Top Income Tax Rate`"
   ]
  },
  {
   "cell_type": "code",
   "execution_count": null,
   "metadata": {},
   "outputs": [],
   "source": [
    "# Replace each ... correct call to the function\n",
    "\n",
    "# Participants sns.lineplot\n",
    "sns.lineplot(x=...,y=...,data=...,label=...,ci=...)\n",
    "\n",
    "# Non Participants sns.lineplot\n",
    "...\n",
    "\n",
    "# Replace the ... with a call to plt.xlabel\n",
    "...\n",
    "\n",
    "# Replace the ... with a call to plt.ylabel\n",
    "...\n",
    "\n",
    "# Replace the ... with a call to plt.title\n",
    "..."
   ]
  },
  {
   "cell_type": "code",
   "execution_count": 19,
   "metadata": {},
   "outputs": [
    {
     "data": {
      "text/plain": [
       "Text(0.5, 1.0, 'World War I and top income tax rate')"
      ]
     },
     "execution_count": 19,
     "metadata": {},
     "output_type": "execute_result"
    },
    {
     "data": {
      "image/png": "[encoded data removed]",
      "text/plain": [
       "<Figure size 2400x1200 with 1 Axes>"
      ]
     },
     "metadata": {},
     "output_type": "display_data"
    }
   ],
   "source": [
    "sns.lineplot(x=\"year\",y=\"topratep\",data=participants_wwi_years,label=\"Word War I Participants\",ci=False)\n",
    "sns.lineplot(x=\"year\",y=\"topratep\",data=non_participants_wwi_years, label=\"Non Participants\", ci=False)\n",
    "plt.xlabel(\"Year\")\n",
    "plt.ylabel(\"Top Rate of Income Tax\")\n",
    "plt.title(\"World War I and top income tax rate\")"
   ]
  },
  {
   "cell_type": "markdown",
   "metadata": {},
   "source": [
    "## Analyzing Average Marginal Tax Rates"
   ]
  },
  {
   "cell_type": "markdown",
   "metadata": {},
   "source": [
    "In this section, we'll be looking at the average marginal tax rates for participant and non participant countries in World War I."
   ]
  },
  {
   "cell_type": "code",
   "execution_count": 68,
   "metadata": {},
   "outputs": [
    {
     "data": {
      "text/plain": [
       "3.75"
      ]
     },
     "execution_count": 68,
     "metadata": {},
     "output_type": "execute_result"
    }
   ],
   "source": [
    "np.percentile(participants_wwi_years.query(\"year == 1913 | year == 1914\").groupby(\"year\").mean()[\"topratep\"], 99)"
   ]
  },
  {
   "cell_type": "code",
   "execution_count": 38,
   "metadata": {},
   "outputs": [
    {
     "data": {
      "text/plain": [
       "7.986111111111111"
      ]
     },
     "execution_count": 38,
     "metadata": {},
     "output_type": "execute_result"
    }
   ],
   "source": [
    "non_participants_wwi_years.query(\"year <= 1917\")[\"topratep\"].mean()"
   ]
  },
  {
   "cell_type": "code",
   "execution_count": 71,
   "metadata": {},
   "outputs": [
    {
     "data": {
      "text/plain": [
       "8.0"
      ]
     },
     "execution_count": 71,
     "metadata": {},
     "output_type": "execute_result"
    }
   ],
   "source": [
    "participants_wwi_years.query(\"year == 1913 | year == 1914\")[\"topratep\"].max()"
   ]
  },
  {
   "cell_type": "code",
   "execution_count": 77,
   "metadata": {},
   "outputs": [
    {
     "data": {
      "text/html": [
       "<div>\n",
       "<style scoped>\n",
       "    .dataframe tbody tr th:only-of-type {\n",
       "        vertical-align: middle;\n",
       "    }\n",
       "\n",
       "    .dataframe tbody tr th {\n",
       "        vertical-align: top;\n",
       "    }\n",
       "\n",
       "    .dataframe thead th {\n",
       "        text-align: right;\n",
       "    }\n",
       "</style>\n",
       "<table border=\"1\" class=\"dataframe\">\n",
       "  <thead>\n",
       "    <tr style=\"text-align: right;\">\n",
       "      <th></th>\n",
       "      <th>country</th>\n",
       "      <th>year</th>\n",
       "      <th>inctaxshrn</th>\n",
       "      <th>topratep</th>\n",
       "      <th>topratepl1</th>\n",
       "    </tr>\n",
       "  </thead>\n",
       "  <tbody>\n",
       "    <tr>\n",
       "      <th>68</th>\n",
       "      <td>USA</td>\n",
       "      <td>1918</td>\n",
       "      <td>34.0</td>\n",
       "      <td>77.0</td>\n",
       "      <td>67.0</td>\n",
       "    </tr>\n",
       "    <tr>\n",
       "      <th>69</th>\n",
       "      <td>USA</td>\n",
       "      <td>1919</td>\n",
       "      <td>28.0</td>\n",
       "      <td>73.0</td>\n",
       "      <td>77.0</td>\n",
       "    </tr>\n",
       "    <tr>\n",
       "      <th>224</th>\n",
       "      <td>Canada</td>\n",
       "      <td>1918</td>\n",
       "      <td>0.0</td>\n",
       "      <td>26.0</td>\n",
       "      <td>22.0</td>\n",
       "    </tr>\n",
       "    <tr>\n",
       "      <th>225</th>\n",
       "      <td>Canada</td>\n",
       "      <td>1919</td>\n",
       "      <td>4.0</td>\n",
       "      <td>49.0</td>\n",
       "      <td>26.0</td>\n",
       "    </tr>\n",
       "    <tr>\n",
       "      <th>380</th>\n",
       "      <td>UK</td>\n",
       "      <td>1918</td>\n",
       "      <td>36.0</td>\n",
       "      <td>43.0</td>\n",
       "      <td>43.0</td>\n",
       "    </tr>\n",
       "    <tr>\n",
       "      <th>381</th>\n",
       "      <td>UK</td>\n",
       "      <td>1919</td>\n",
       "      <td>32.0</td>\n",
       "      <td>53.0</td>\n",
       "      <td>43.0</td>\n",
       "    </tr>\n",
       "    <tr>\n",
       "      <th>692</th>\n",
       "      <td>France</td>\n",
       "      <td>1918</td>\n",
       "      <td>11.0</td>\n",
       "      <td>20.0</td>\n",
       "      <td>20.0</td>\n",
       "    </tr>\n",
       "    <tr>\n",
       "      <th>693</th>\n",
       "      <td>France</td>\n",
       "      <td>1919</td>\n",
       "      <td>12.0</td>\n",
       "      <td>50.0</td>\n",
       "      <td>20.0</td>\n",
       "    </tr>\n",
       "  </tbody>\n",
       "</table>\n",
       "</div>"
      ],
      "text/plain": [
       "    country  year  inctaxshrn  topratep  topratepl1\n",
       "68      USA  1918        34.0      77.0        67.0\n",
       "69      USA  1919        28.0      73.0        77.0\n",
       "224  Canada  1918         0.0      26.0        22.0\n",
       "225  Canada  1919         4.0      49.0        26.0\n",
       "380      UK  1918        36.0      43.0        43.0\n",
       "381      UK  1919        32.0      53.0        43.0\n",
       "692  France  1918        11.0      20.0        20.0\n",
       "693  France  1919        12.0      50.0        20.0"
      ]
     },
     "execution_count": 77,
     "metadata": {},
     "output_type": "execute_result"
    }
   ],
   "source": [
    "participants_wwi_years.query(\"year == 1918 | year == 1919\")#.mean()"
   ]
  },
  {
   "cell_type": "code",
   "execution_count": 84,
   "metadata": {},
   "outputs": [
    {
     "data": {
      "text/plain": [
       "year          1918.500\n",
       "inctaxshrn      19.625\n",
       "topratep        48.875\n",
       "topratepl1      39.750\n",
       "dtype: float64"
      ]
     },
     "execution_count": 84,
     "metadata": {},
     "output_type": "execute_result"
    }
   ],
   "source": [
    "participants_wwi_years.query(\"year == 1918 | year == 1919\").mean()"
   ]
  },
  {
   "cell_type": "code",
   "execution_count": null,
   "metadata": {},
   "outputs": [],
   "source": []
  },
  {
   "cell_type": "code",
   "execution_count": null,
   "metadata": {},
   "outputs": [],
   "source": []
  },
  {
   "cell_type": "code",
   "execution_count": null,
   "metadata": {},
   "outputs": [],
   "source": []
  },
  {
   "cell_type": "code",
   "execution_count": null,
   "metadata": {},
   "outputs": [],
   "source": []
  },
  {
   "cell_type": "code",
   "execution_count": null,
   "metadata": {},
   "outputs": [],
   "source": []
  },
  {
   "cell_type": "code",
   "execution_count": null,
   "metadata": {},
   "outputs": [],
   "source": []
  },
  {
   "cell_type": "code",
   "execution_count": null,
   "metadata": {},
   "outputs": [],
   "source": []
  },
  {
   "cell_type": "code",
   "execution_count": null,
   "metadata": {},
   "outputs": [],
   "source": []
  },
  {
   "cell_type": "code",
   "execution_count": null,
   "metadata": {},
   "outputs": [],
   "source": []
  }
 ],
 "metadata": {
  "kernelspec": {
   "display_name": "Python 3",
   "language": "python",
   "name": "python3"
  },
  "language_info": {
   "codemirror_mode": {
    "name": "ipython",
    "version": 3
   },
   "file_extension": ".py",
   "mimetype": "text/x-python",
   "name": "python",
   "nbconvert_exporter": "python",
   "pygments_lexer": "ipython3",
   "version": "3.7.6"
  }
 },
 "nbformat": 4,
 "nbformat_minor": 4
}
