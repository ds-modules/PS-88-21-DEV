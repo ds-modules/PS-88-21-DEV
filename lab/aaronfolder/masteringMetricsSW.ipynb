{
 "cells": [
  {
   "cell_type": "code",
   "execution_count": 3,
   "metadata": {},
   "outputs": [],
   "source": [
    "import pandas as pd\n",
    "import numpy as np\n",
    "import seaborn as sns\n",
    "import matplotlib.pyplot as plt\n",
    "\n",
    "pd.set_option('max_colwidth', None)\n",
    "\n",
    "plt.style.use('fivethirtyeight')\n",
    "sns.set()\n",
    "sns.set_context(\"talk\")\n",
    "%matplotlib inline\n",
    "pd.set_option('display.max_columns', None)"
   ]
  },
  {
   "cell_type": "code",
   "execution_count": 104,
   "metadata": {},
   "outputs": [],
   "source": [
    "data_string=r\"C:\\Users\\am513\\PS-88-21-DEV\\lab\\aaronfolder\\NHIS2009_clean.dta\" \n",
    "df_og=pd.read_stata(data_string, convert_missing=True)\n",
    "df=pd.read_stata(data_string)\n",
    "df_og;\n",
    "#df.to_csv(\"NHIS2009_clean.csv\")"
   ]
  },
  {
   "cell_type": "code",
   "execution_count": 191,
   "metadata": {},
   "outputs": [],
   "source": [
    "df_og[\"hi_hsb1\"]=pd.to_numeric(df_og[\"hi_hsb1\"],errors=\"coerce\")\n",
    "df_og[\"hi\"]=pd.to_numeric(df_og[\"hi\"],errors=\"coerce\")\n",
    "df_og[\"age\"]=pd.to_numeric(df_og[\"age\"],errors=\"coerce\")\n",
    "#df_og.replace\n",
    "#df_og[\"educ\"]=pd.to_numeric(df_og[\"age\"],errors=\"coerce\")#why did this take so long :("
   ]
  },
  {
   "cell_type": "code",
   "execution_count": 192,
   "metadata": {},
   "outputs": [],
   "source": [
    "df_og2=df_og.query(\"marradult == 1 & perweight != 0\")\n",
    "df_og2;"
   ]
  },
  {
   "cell_type": "code",
   "execution_count": 193,
   "metadata": {},
   "outputs": [],
   "source": [
    "df2=df.query(\"marradult == 1 & perweight != 0\") #keep if marradult==1 & perweight!=0 \n",
    "df2;"
   ]
  },
  {
   "cell_type": "code",
   "execution_count": 194,
   "metadata": {},
   "outputs": [],
   "source": [
    "df_og3=df_og2.groupby(\"serial\").sum().reset_index()[[\"serial\",\"hi_hsb1\"]]"
   ]
  },
  {
   "cell_type": "code",
   "execution_count": 195,
   "metadata": {},
   "outputs": [],
   "source": [
    "df_og4=df_og2.merge(df_og3,how=\"left\",on=\"serial\")\n",
    "df_og4;"
   ]
  },
  {
   "cell_type": "code",
   "execution_count": 196,
   "metadata": {},
   "outputs": [],
   "source": [
    "df_og5=df_og4.drop(\"hi_hsb1_x\",axis=1).rename(columns={\"hi_hsb1_y\":\"hi_hsb\"})"
   ]
  },
  {
   "cell_type": "code",
   "execution_count": 197,
   "metadata": {},
   "outputs": [],
   "source": [
    "df_og5_5=df_og5[[\"serial\",\"hi_hsb\"]].set_index(\"serial\")\n",
    "df_og5_5;#.dtypes #by serial: egen hi_hsb = mean(hi_hsb1)"
   ]
  },
  {
   "cell_type": "code",
   "execution_count": 198,
   "metadata": {},
   "outputs": [],
   "source": [
    "df_og6=df_og5.dropna(subset=[\"hi_hsb\",\"hi\"],how=\"any\",axis=\"rows\")\n",
    "df_og6;"
   ]
  },
  {
   "cell_type": "code",
   "execution_count": 199,
   "metadata": {},
   "outputs": [],
   "source": [
    "males=[\n",
    "27076,\n",
    "32501,\n",
    "36537,\n",
    "12722,\n",
    "5958,\n",
    "18162,\n",
    "35909,\n",
    "34396,\n",
    "17814,\n",
    "10369,\n",
    "37415,\n",
    "36924,\n",
    "20036,\n",
    "19066,\n",
    "22639,\n",
    "34048,\n",
    "35904,\n",
    "29606,\n",
    "24936,\n",
    "34048,\n",
    "21939,\n",
    "29126,\n",
    "29542,\n",
    "2605,\n",
    "15837,\n",
    "35956,\n",
    "22639,\n",
    "2605,\n",
    "21666,\n",
    "2265,\n",
    "15837,\n",
    "]"
   ]
  },
  {
   "cell_type": "code",
   "execution_count": 200,
   "metadata": {},
   "outputs": [],
   "source": [
    "df_og6[\"female\"]=1"
   ]
  },
  {
   "cell_type": "code",
   "execution_count": 201,
   "metadata": {},
   "outputs": [],
   "source": [
    "df_og6.loc[df_og6[\"serial\"].isin(males),\"female\"]=0 #by serial: egen female = total(fml)"
   ]
  },
  {
   "cell_type": "code",
   "execution_count": 202,
   "metadata": {},
   "outputs": [
    {
     "data": {
      "text/plain": [
       "1    29941\n",
       "0       31\n",
       "Name: female, dtype: int64"
      ]
     },
     "execution_count": 202,
     "metadata": {},
     "output_type": "execute_result"
    }
   ],
   "source": [
    "df_og6[\"female\"].value_counts()"
   ]
  },
  {
   "cell_type": "code",
   "execution_count": 203,
   "metadata": {},
   "outputs": [],
   "source": [
    "df_og7=df_og6.query(\"female == 1\").drop(\"female\",axis=\"columns\") #keep if female==1     drop female\n",
    "df_og7;"
   ]
  },
  {
   "cell_type": "code",
   "execution_count": 361,
   "metadata": {},
   "outputs": [
    {
     "data": {
      "text/plain": [
       "year               float32\n",
       "inc1               float32\n",
       "inc2               float32\n",
       "inc3               float32\n",
       "inc4               float32\n",
       "inc5               float32\n",
       "inc6               float32\n",
       "inc7               float32\n",
       "inc8               float32\n",
       "serial               int32\n",
       "hhweight             int32\n",
       "pernum                int8\n",
       "perweight          float64\n",
       "sampweight         float64\n",
       "age                float64\n",
       "marstat           category\n",
       "sex               category\n",
       "famsize           category\n",
       "relate            category\n",
       "racenew           category\n",
       "educ              category\n",
       "educrec1          category\n",
       "empstat           category\n",
       "incfam07on        category\n",
       "health            category\n",
       "uninsured         category\n",
       "age2               float32\n",
       "fml                float32\n",
       "nwhite             float32\n",
       "hi                 float32\n",
       "yedu                object\n",
       "empl               float32\n",
       "hlth               float32\n",
       "inc                float32\n",
       "incmp              float32\n",
       "brooks             float32\n",
       "marradult          float32\n",
       "marradult_empl     float32\n",
       "adltempl           float32\n",
       "hi_hsb             float64\n",
       "dtype: object"
      ]
     },
     "execution_count": 361,
     "metadata": {},
     "output_type": "execute_result"
    }
   ],
   "source": [
    "df_og7.dtypes"
   ]
  },
  {
   "cell_type": "code",
   "execution_count": 216,
   "metadata": {},
   "outputs": [],
   "source": [
    "df_og8=df_og7.query(\"age>=26 & age<=59 & marradult==1 & adltempl>=1\")"
   ]
  },
  {
   "cell_type": "code",
   "execution_count": 222,
   "metadata": {},
   "outputs": [],
   "source": [
    "df_og9=df_og8.groupby([\"serial\"]).filter(lambda x: len(x)>1) #by serial: gen n = _N   keep if n>1 (This is also really bad code)"
   ]
  },
  {
   "cell_type": "code",
   "execution_count": 423,
   "metadata": {},
   "outputs": [],
   "source": [
    "husband_somehi_ss=len(df_og9.query(\"hi == 1 & fml == 0\"));\n",
    "husband_nohi_ss=len(df_og9.query(\"hi == 0 & fml == 0\"));\n",
    "husband_somehi_age=np.round(np.mean(df_og9.query(\"hi == 1 & fml == 0\")[\"age\"]),decimals=2);\n",
    "husband_nohi_age=np.round(np.mean(df_og9.query(\"hi == 0 & fml == 0\")[\"age\"]),decimals=2);\n",
    "husband_diff_age=df_og9.query(\"hi == 0 & fml == 0\")[\"age\"].sem()-(df_og9.query(\"hi == 1 & fml == 0\")[\"age\"]).sem()\n",
    "husband_somehi_edu=np.round(np.mean(df_og9.query(\"hi == 1 & fml == 0\")[\"yedu\"]),decimals=2)\n",
    "husband_nohi_edu=np.round(np.mean(df_og9.query(\"hi == 0 & fml == 0\")[\"yedu\"]),decimals=2)\n",
    "husband_diff_edu=np.round(df_og9.query(\"hi == 0 & fml == 0\")[\"yedu\"].sem()-(df_og9.query(\"hi == 1 & fml == 0\")[\"yedu\"]).sem(),decimals=2)\n",
    "husband_diff_edu_diff=np.round(husband_somehi_edu-husband_nohi_edu,decimals=2)\n",
    "df_og9[\"famsize num only\"]=df_og9[\"famsize\"].str.split(expand=True)[0]\n",
    "df_og9[\"famsize num only\"]=pd.to_numeric(df_og9[\"famsize num only\"],errors=\"coerce\")\n",
    "husband_nohi_famsize=np.round(np.array(df_og9.query(\"hi == 0 & fml == 0\")[\"famsize num only\"],dtype=np.float).mean(),decimals=2)\n",
    "husband_somehi_famsize=np.round(np.array(df_og9.query(\"hi == 1 & fml == 0\")[\"famsize num only\"],dtype=np.float).mean(),decimals=2)\n",
    "husband_diff_famsize=np.round(husband_somehi_famsize-husband_nohi_famsize,decimals=2)\n",
    "husband_diff_famsize_diff=np.round(df_og9.query(\"hi == 0 & fml == 0\")[\"famsize num only\"].sem()-(df_og9.query(\"hi == 1 & fml == 0\")[\"famsize num only\"]).sem(),decimals=2)\n",
    "husband_nohi_emp=np.round(np.array(df_og9.query(\"hi == 0 & fml == 0\")[\"empl\"],dtype=np.float).mean(),decimals=2)\n",
    "husband_somehi_emp=np.round(np.array(df_og9.query(\"hi == 1 & fml == 0\")[\"empl\"],dtype=np.float).mean(),decimals=2)\n",
    "husband_diff_emp_diff=np.round(husband_somehi_emp-husband_nohi_emp,decimals=2)\n",
    "husband_diff_edu_sem=np.round(df_og9.query(\"hi == 0 & fml == 0\")[\"empl\"].sem()-(df_og9.query(\"hi == 1 & fml == 0\")[\"empl\"]).sem(),decimals=2)\n",
    "husband_nohi_inc=np.round(np.array(df_og9.query(\"hi == 0 & fml == 0\")[\"inc\"],dtype=np.float).mean(),decimals=2)\n",
    "husband_somehi_inc=np.round(np.array(df_og9.query(\"hi == 1 & fml == 0\")[\"inc\"],dtype=np.float).mean(),decimals=2)\n",
    "husband_diff_inc_diff=np.round(husband_somehi_inc-husband_nohi_inc,decimals=2)\n",
    "husband_diff_inc_sem=np.round(df_og9.query(\"hi == 0 & fml == 0\")[\"inc\"].sem()-(df_og9.query(\"hi == 1 & fml == 0\")[\"inc\"]).sem(),decimals=2)\n",
    "husband_nohi_nwhite=np.round(np.array(df_og9.query(\"hi == 0 & fml == 0\")[\"nwhite\"],dtype=np.float).mean(),decimals=2)\n",
    "husband_somehi_nwhite=np.round(np.array(df_og9.query(\"hi == 1 & fml == 0\")[\"nwhite\"],dtype=np.float).mean(),decimals=2)\n",
    "husband_diff_nwhite_diff=np.round(husband_somehi_nwhite-husband_nohi_nwhite,decimals=2)\n",
    "husband_diff_nwhite_sem=np.round(df_og9.query(\"hi == 0 & fml == 0\")[\"nwhite\"].sem()-(df_og9.query(\"hi == 1 & fml == 0\")[\"nwhite\"]).sem(),decimals=2)\n",
    "husband_nohi_hlth=np.round(np.array(df_og9.query(\"hi == 0 & fml == 0\")[\"hlth\"],dtype=np.float).mean(),decimals=2)\n",
    "husband_somehi_hlth=np.round(np.array(df_og9.query(\"hi == 1 & fml == 0\")[\"hlth\"],dtype=np.float).mean(),decimals=2)\n",
    "husband_nohi_hlth_sd=np.round(np.std(np.array(df_og9.query(\"hi == 0 & fml == 0\")[\"hlth\"])),decimals=2)\n",
    "husband_somehi_hlth_sd=np.round(np.std(np.array(df_og9.query(\"hi == 1 & fml == 0\")[\"hlth\"])),decimals=2)\n",
    "husband_diff_hlth_diff=np.round(husband_somehi_hlth-husband_nohi_hlth,decimals=2)\n",
    "husband_diff_hlth_sem=np.round(df_og9.query(\"hi == 0 & fml == 0\")[\"hlth\"].sem()-(df_og9.query(\"hi == 1 & fml == 0\")[\"hlth\"]).sem(),decimals=2)"
   ]
  },
  {
   "cell_type": "code",
   "execution_count": 424,
   "metadata": {},
   "outputs": [
    {
     "name": "stdout",
     "output_type": "stream",
     "text": [
      "Husbands\n"
     ]
    },
    {
     "data": {
      "text/html": [
       "<div>\n",
       "<style scoped>\n",
       "    .dataframe tbody tr th:only-of-type {\n",
       "        vertical-align: middle;\n",
       "    }\n",
       "\n",
       "    .dataframe tbody tr th {\n",
       "        vertical-align: top;\n",
       "    }\n",
       "\n",
       "    .dataframe thead th {\n",
       "        text-align: right;\n",
       "    }\n",
       "</style>\n",
       "<table border=\"1\" class=\"dataframe\">\n",
       "  <thead>\n",
       "    <tr style=\"text-align: right;\">\n",
       "      <th></th>\n",
       "      <th></th>\n",
       "      <th>Some HI (1)</th>\n",
       "      <th>No HI (0)</th>\n",
       "      <th>Difference (3)</th>\n",
       "    </tr>\n",
       "  </thead>\n",
       "  <tbody>\n",
       "    <tr>\n",
       "      <th>0</th>\n",
       "      <td>Health index</td>\n",
       "      <td>3.98 [0.9300000071525574]</td>\n",
       "      <td>3.7 [1.0099999904632568]</td>\n",
       "      <td>0.28 (0.02)</td>\n",
       "    </tr>\n",
       "    <tr>\n",
       "      <th>1</th>\n",
       "      <td>Nonwhite</td>\n",
       "      <td>0.2</td>\n",
       "      <td>0.19</td>\n",
       "      <td>0.01 (0.01)</td>\n",
       "    </tr>\n",
       "    <tr>\n",
       "      <th>2</th>\n",
       "      <td>Age</td>\n",
       "      <td>44.16</td>\n",
       "      <td>41.27</td>\n",
       "      <td>2.89 (0.12)</td>\n",
       "    </tr>\n",
       "    <tr>\n",
       "      <th>3</th>\n",
       "      <td>Education</td>\n",
       "      <td>14.13</td>\n",
       "      <td>11.21</td>\n",
       "      <td>2.92 (0.06)</td>\n",
       "    </tr>\n",
       "    <tr>\n",
       "      <th>4</th>\n",
       "      <td>Family Size</td>\n",
       "      <td>3.55</td>\n",
       "      <td>4.06</td>\n",
       "      <td>-0.51 (0.02)</td>\n",
       "    </tr>\n",
       "    <tr>\n",
       "      <th>5</th>\n",
       "      <td>Employed</td>\n",
       "      <td>0.92</td>\n",
       "      <td>0.85</td>\n",
       "      <td>0.07 (0.01)</td>\n",
       "    </tr>\n",
       "    <tr>\n",
       "      <th>6</th>\n",
       "      <td>Family Income</td>\n",
       "      <td>104002</td>\n",
       "      <td>43636</td>\n",
       "      <td>60366.42 (294.68)</td>\n",
       "    </tr>\n",
       "    <tr>\n",
       "      <th>7</th>\n",
       "      <td>Sample Size</td>\n",
       "      <td>7866</td>\n",
       "      <td>1529</td>\n",
       "      <td></td>\n",
       "    </tr>\n",
       "  </tbody>\n",
       "</table>\n",
       "</div>"
      ],
      "text/plain": [
       "                                Some HI (1)                 No HI (0)  \\\n",
       "0   Health index  3.98 [0.9300000071525574]  3.7 [1.0099999904632568]   \n",
       "1       Nonwhite                        0.2                      0.19   \n",
       "2            Age                      44.16                     41.27   \n",
       "3      Education                      14.13                     11.21   \n",
       "4    Family Size                       3.55                      4.06   \n",
       "5       Employed                       0.92                      0.85   \n",
       "6  Family Income                     104002                     43636   \n",
       "7    Sample Size                       7866                      1529   \n",
       "\n",
       "      Difference (3)  \n",
       "0        0.28 (0.02)  \n",
       "1        0.01 (0.01)  \n",
       "2        2.89 (0.12)  \n",
       "3        2.92 (0.06)  \n",
       "4       -0.51 (0.02)  \n",
       "5        0.07 (0.01)  \n",
       "6  60366.42 (294.68)  \n",
       "7                     "
      ]
     },
     "execution_count": 424,
     "metadata": {},
     "output_type": "execute_result"
    }
   ],
   "source": [
    "print(\"Husbands\")\n",
    "pd.DataFrame(data={' ': [\"Health index\", \"Nonwhite\",\"Age\",\"Education\",\"Family Size\",\"Employed\",\"Family Income\",\"Sample Size\"],\n",
    "                   'Some HI (1)': [\"{0} [{1}]\".format(husband_somehi_hlth,husband_somehi_hlth_sd), husband_somehi_nwhite,husband_somehi_age,husband_somehi_edu,husband_somehi_famsize,husband_somehi_emp,husband_somehi_inc,husband_somehi_ss],\n",
    "                  'No HI (0)': [\"{0} [{1}]\".format(husband_nohi_hlth,husband_nohi_hlth_sd), husband_nohi_nwhite,husband_nohi_age,husband_nohi_edu,husband_nohi_famsize,husband_nohi_emp,husband_nohi_inc,husband_nohi_ss],\n",
    "                  'Difference (3)': [\"{0} ({1})\".format(husband_diff_hlth_diff,husband_diff_hlth_sem), \"{0} ({1})\".format(husband_diff_nwhite_diff,husband_diff_nwhite_sem),\"{0} ({1})\".format(np.round(husband_somehi_age-husband_nohi_age,decimals=2),np.round(husband_diff_age,decimals=2)),\"{0} ({1})\".format(husband_diff_edu_diff,husband_diff_edu),\"{0} ({1})\".format(husband_diff_famsize,husband_diff_famsize_diff),\"{0} ({1})\".format(husband_diff_emp_diff,husband_diff_edu_sem),\"{0} ({1})\".format(husband_diff_inc_diff,husband_diff_inc_sem),\" \"]})"
   ]
  },
  {
   "cell_type": "code",
   "execution_count": 425,
   "metadata": {},
   "outputs": [],
   "source": [
    "wife_somehi_ss=len(df_og9.query(\"hi == 1 & fml == 1\"));\n",
    "wife_nohi_ss=len(df_og9.query(\"hi == 0 & fml == 1\"));\n",
    "wife_somehi_age=np.round(np.mean(df_og9.query(\"hi == 1 & fml == 1\")[\"age\"]),decimals=2);\n",
    "wife_nohi_age=np.round(np.mean(df_og9.query(\"hi == 0 & fml == 1\")[\"age\"]),decimals=2);\n",
    "wife_diff_age=df_og9.query(\"hi == 0 & fml == 1\")[\"age\"].sem()-(df_og9.query(\"hi == 1 & fml == 1\")[\"age\"]).sem()\n",
    "wife_somehi_edu=np.round(np.mean(df_og9.query(\"hi == 1 & fml == 1\")[\"yedu\"]),decimals=2)\n",
    "wife_nohi_edu=np.round(np.mean(df_og9.query(\"hi == 0 & fml == 1\")[\"yedu\"]),decimals=2)\n",
    "wife_diff_edu=np.round(df_og9.query(\"hi == 0 & fml == 1\")[\"yedu\"].sem()-(df_og9.query(\"hi == 1 & fml == 1\")[\"yedu\"]).sem(),decimals=2)\n",
    "wife_diff_edu_diff=np.round(wife_somehi_edu-wife_nohi_edu,decimals=2)\n",
    "df_og9[\"famsize num only\"]=df_og9[\"famsize\"].str.split(expand=True)[0]\n",
    "df_og9[\"famsize num only\"]=pd.to_numeric(df_og9[\"famsize num only\"],errors=\"coerce\")\n",
    "wife_nohi_famsize=np.round(np.array(df_og9.query(\"hi == 0 & fml == 1\")[\"famsize num only\"],dtype=np.float).mean(),decimals=2)\n",
    "wife_somehi_famsize=np.round(np.array(df_og9.query(\"hi == 1 & fml == 1\")[\"famsize num only\"],dtype=np.float).mean(),decimals=2)\n",
    "wife_diff_famsize=np.round(wife_somehi_famsize-wife_nohi_famsize,decimals=2)\n",
    "wife_diff_famsize_diff=np.round(df_og9.query(\"hi == 0 & fml == 1\")[\"famsize num only\"].sem()-(df_og9.query(\"hi == 1 & fml == 0\")[\"famsize num only\"]).sem(),decimals=2)\n",
    "wife_nohi_emp=np.round(np.array(df_og9.query(\"hi == 0 & fml == 1\")[\"empl\"],dtype=np.float).mean(),decimals=2)\n",
    "wife_somehi_emp=np.round(np.array(df_og9.query(\"hi == 1 & fml == 1\")[\"empl\"],dtype=np.float).mean(),decimals=2)\n",
    "wife_diff_emp_diff=np.round(wife_somehi_emp-wife_nohi_emp,decimals=2)\n",
    "wife_diff_edu_sem=np.round(df_og9.query(\"hi == 0 & fml == 1\")[\"empl\"].sem()-(df_og9.query(\"hi == 1 & fml == 0\")[\"empl\"]).sem(),decimals=2)\n",
    "wife_nohi_inc=np.round(np.array(df_og9.query(\"hi == 0 & fml == 1\")[\"inc\"],dtype=np.float).mean(),decimals=2)\n",
    "wife_somehi_inc=np.round(np.array(df_og9.query(\"hi == 1 & fml == 1\")[\"inc\"],dtype=np.float).mean(),decimals=2)\n",
    "wife_diff_inc_diff=np.round(wife_somehi_inc-wife_nohi_inc,decimals=2)\n",
    "wife_diff_inc_sem=np.round(df_og9.query(\"hi == 0 & fml == 1\")[\"inc\"].sem()-(df_og9.query(\"hi == 1 & fml == 1\")[\"inc\"]).sem(),decimals=2)\n",
    "wife_nohi_nwhite=np.round(np.array(df_og9.query(\"hi == 0 & fml == 1\")[\"nwhite\"],dtype=np.float).mean(),decimals=2)\n",
    "wife_somehi_nwhite=np.round(np.array(df_og9.query(\"hi == 1 & fml == 1\")[\"nwhite\"],dtype=np.float).mean(),decimals=2)\n",
    "wife_diff_nwhite_diff=np.round(wife_somehi_nwhite-wife_nohi_nwhite,decimals=2)\n",
    "wife_diff_nwhite_sem=np.round(df_og9.query(\"hi == 0 & fml == 1\")[\"nwhite\"].sem()-(df_og9.query(\"hi == 1 & fml == 1\")[\"nwhite\"]).sem(),decimals=2)\n",
    "wife_nohi_hlth=np.round(np.array(df_og9.query(\"hi == 0 & fml == 1\")[\"hlth\"],dtype=np.float).mean(),decimals=2)\n",
    "wife_somehi_hlth=np.round(np.array(df_og9.query(\"hi == 1 & fml == 1\")[\"hlth\"],dtype=np.float).mean(),decimals=2)\n",
    "wife_nohi_hlth_sd=np.round(np.std(np.array(df_og9.query(\"hi == 0 & fml == 1\")[\"hlth\"])),decimals=2)\n",
    "wife_somehi_hlth_sd=np.round(np.std(np.array(df_og9.query(\"hi == 1 & fml == 1\")[\"hlth\"])),decimals=2)\n",
    "wife_diff_hlth_diff=np.round(wife_somehi_hlth-wife_nohi_hlth,decimals=2)\n",
    "wife_diff_hlth_sem=np.round(df_og9.query(\"hi == 0 & fml == 1\")[\"hlth\"].sem()-(df_og9.query(\"hi == 1 & fml == 1\")[\"hlth\"]).sem(),decimals=2)"
   ]
  },
  {
   "cell_type": "code",
   "execution_count": 426,
   "metadata": {},
   "outputs": [
    {
     "name": "stdout",
     "output_type": "stream",
     "text": [
      "Wives\n"
     ]
    },
    {
     "data": {
      "text/html": [
       "<div>\n",
       "<style scoped>\n",
       "    .dataframe tbody tr th:only-of-type {\n",
       "        vertical-align: middle;\n",
       "    }\n",
       "\n",
       "    .dataframe tbody tr th {\n",
       "        vertical-align: top;\n",
       "    }\n",
       "\n",
       "    .dataframe thead th {\n",
       "        text-align: right;\n",
       "    }\n",
       "</style>\n",
       "<table border=\"1\" class=\"dataframe\">\n",
       "  <thead>\n",
       "    <tr style=\"text-align: right;\">\n",
       "      <th></th>\n",
       "      <th></th>\n",
       "      <th>Some HI (1)</th>\n",
       "      <th>No HI (0)</th>\n",
       "      <th>Difference (3)</th>\n",
       "    </tr>\n",
       "  </thead>\n",
       "  <tbody>\n",
       "    <tr>\n",
       "      <th>0</th>\n",
       "      <td>Health index</td>\n",
       "      <td>3.99 [0.9300000071525574]</td>\n",
       "      <td>3.61 [1.0199999809265137]</td>\n",
       "      <td>0.38 (0.02)</td>\n",
       "    </tr>\n",
       "    <tr>\n",
       "      <th>1</th>\n",
       "      <td>Nonwhite</td>\n",
       "      <td>0.2</td>\n",
       "      <td>0.18</td>\n",
       "      <td>0.02 (0.01)</td>\n",
       "    </tr>\n",
       "    <tr>\n",
       "      <th>2</th>\n",
       "      <td>Age</td>\n",
       "      <td>42.16</td>\n",
       "      <td>39.51</td>\n",
       "      <td>2.65 (0.12)</td>\n",
       "    </tr>\n",
       "    <tr>\n",
       "      <th>3</th>\n",
       "      <td>Education</td>\n",
       "      <td>14.28</td>\n",
       "      <td>11.36</td>\n",
       "      <td>2.92 (0.06)</td>\n",
       "    </tr>\n",
       "    <tr>\n",
       "      <th>4</th>\n",
       "      <td>Family Size</td>\n",
       "      <td>3.55</td>\n",
       "      <td>4.07</td>\n",
       "      <td>-0.52 (0.03)</td>\n",
       "    </tr>\n",
       "    <tr>\n",
       "      <th>5</th>\n",
       "      <td>Employed</td>\n",
       "      <td>0.76</td>\n",
       "      <td>0.54</td>\n",
       "      <td>0.22 (0.01)</td>\n",
       "    </tr>\n",
       "    <tr>\n",
       "      <th>6</th>\n",
       "      <td>Family Income</td>\n",
       "      <td>103379</td>\n",
       "      <td>43640</td>\n",
       "      <td>59738.96 (307.07)</td>\n",
       "    </tr>\n",
       "    <tr>\n",
       "      <th>7</th>\n",
       "      <td>Sample Size</td>\n",
       "      <td>7961</td>\n",
       "      <td>1446</td>\n",
       "      <td></td>\n",
       "    </tr>\n",
       "  </tbody>\n",
       "</table>\n",
       "</div>"
      ],
      "text/plain": [
       "                                Some HI (1)                  No HI (0)  \\\n",
       "0   Health index  3.99 [0.9300000071525574]  3.61 [1.0199999809265137]   \n",
       "1       Nonwhite                        0.2                       0.18   \n",
       "2            Age                      42.16                      39.51   \n",
       "3      Education                      14.28                      11.36   \n",
       "4    Family Size                       3.55                       4.07   \n",
       "5       Employed                       0.76                       0.54   \n",
       "6  Family Income                     103379                      43640   \n",
       "7    Sample Size                       7961                       1446   \n",
       "\n",
       "      Difference (3)  \n",
       "0        0.38 (0.02)  \n",
       "1        0.02 (0.01)  \n",
       "2        2.65 (0.12)  \n",
       "3        2.92 (0.06)  \n",
       "4       -0.52 (0.03)  \n",
       "5        0.22 (0.01)  \n",
       "6  59738.96 (307.07)  \n",
       "7                     "
      ]
     },
     "execution_count": 426,
     "metadata": {},
     "output_type": "execute_result"
    }
   ],
   "source": [
    "print(\"Wives\")\n",
    "pd.DataFrame(data={' ': [\"Health index\", \"Nonwhite\",\"Age\",\"Education\",\"Family Size\",\"Employed\",\"Family Income\",\"Sample Size\"],\n",
    "                   'Some HI (1)': [\"{0} [{1}]\".format(wife_somehi_hlth,wife_somehi_hlth_sd), wife_somehi_nwhite,wife_somehi_age,wife_somehi_edu,wife_somehi_famsize,wife_somehi_emp,wife_somehi_inc,wife_somehi_ss],\n",
    "                  'No HI (0)': [\"{0} [{1}]\".format(wife_nohi_hlth,wife_nohi_hlth_sd), wife_nohi_nwhite,wife_nohi_age,wife_nohi_edu,wife_nohi_famsize,wife_nohi_emp,wife_nohi_inc,wife_nohi_ss],\n",
    "                  'Difference (3)': [\"{0} ({1})\".format(wife_diff_hlth_diff,wife_diff_hlth_sem), \"{0} ({1})\".format(wife_diff_nwhite_diff,wife_diff_nwhite_sem),\"{0} ({1})\".format(np.round(wife_somehi_age-wife_nohi_age,decimals=2),np.round(wife_diff_age,decimals=2)),\"{0} ({1})\".format(wife_diff_edu_diff,wife_diff_edu),\"{0} ({1})\".format(wife_diff_famsize,wife_diff_famsize_diff),\"{0} ({1})\".format(wife_diff_emp_diff,wife_diff_edu_sem),\"{0} ({1})\".format(wife_diff_inc_diff,wife_diff_inc_sem),\" \"]})"
   ]
  },
  {
   "cell_type": "code",
   "execution_count": null,
   "metadata": {},
   "outputs": [],
   "source": []
  }
 ],
 "metadata": {
  "kernelspec": {
   "display_name": "Python 3",
   "language": "python",
   "name": "python3"
  },
  "language_info": {
   "codemirror_mode": {
    "name": "ipython",
    "version": 3
   },
   "file_extension": ".py",
   "mimetype": "text/x-python",
   "name": "python",
   "nbconvert_exporter": "python",
   "pygments_lexer": "ipython3",
   "version": "3.7.6"
  }
 },
 "nbformat": 4,
 "nbformat_minor": 4
}
