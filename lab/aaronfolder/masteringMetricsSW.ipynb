{
 "cells": [
  {
   "cell_type": "code",
   "execution_count": 3,
   "metadata": {},
   "outputs": [],
   "source": [
    "import pandas as pd\n",
    "import numpy as np\n",
    "import seaborn as sns\n",
    "import matplotlib.pyplot as plt\n",
    "\n",
    "pd.set_option('max_colwidth', None)\n",
    "\n",
    "plt.style.use('fivethirtyeight')\n",
    "sns.set()\n",
    "sns.set_context(\"talk\")\n",
    "%matplotlib inline\n",
    "pd.set_option('display.max_columns', None)"
   ]
  },
  {
   "cell_type": "code",
   "execution_count": 104,
   "metadata": {},
   "outputs": [],
   "source": [
    "data_string=r\"C:\\Users\\am513\\PS-88-21-DEV\\lab\\aaronfolder\\NHIS2009_clean.dta\" \n",
    "df_og=pd.read_stata(data_string, convert_missing=True)\n",
    "df=pd.read_stata(data_string)\n",
    "df_og;\n",
    "#df.to_csv(\"NHIS2009_clean.csv\")"
   ]
  },
  {
   "cell_type": "code",
   "execution_count": 191,
   "metadata": {},
   "outputs": [],
   "source": [
    "df_og[\"hi_hsb1\"]=pd.to_numeric(df_og[\"hi_hsb1\"],errors=\"coerce\")\n",
    "df_og[\"hi\"]=pd.to_numeric(df_og[\"hi\"],errors=\"coerce\")\n",
    "df_og[\"age\"]=pd.to_numeric(df_og[\"age\"],errors=\"coerce\")#why did this take so long :("
   ]
  },
  {
   "cell_type": "code",
   "execution_count": 192,
   "metadata": {},
   "outputs": [],
   "source": [
    "df_og2=df_og.query(\"marradult == 1 & perweight != 0\")\n",
    "df_og2;"
   ]
  },
  {
   "cell_type": "code",
   "execution_count": 193,
   "metadata": {},
   "outputs": [],
   "source": [
    "df2=df.query(\"marradult == 1 & perweight != 0\") #keep if marradult==1 & perweight!=0 \n",
    "df2;"
   ]
  },
  {
   "cell_type": "code",
   "execution_count": 194,
   "metadata": {},
   "outputs": [],
   "source": [
    "df_og3=df_og2.groupby(\"serial\").sum().reset_index()[[\"serial\",\"hi_hsb1\"]]"
   ]
  },
  {
   "cell_type": "code",
   "execution_count": 195,
   "metadata": {},
   "outputs": [],
   "source": [
    "df_og4=df_og2.merge(df_og3,how=\"left\",on=\"serial\")\n",
    "df_og4;"
   ]
  },
  {
   "cell_type": "code",
   "execution_count": 196,
   "metadata": {},
   "outputs": [],
   "source": [
    "df_og5=df_og4.drop(\"hi_hsb1_x\",axis=1).rename(columns={\"hi_hsb1_y\":\"hi_hsb\"})"
   ]
  },
  {
   "cell_type": "code",
   "execution_count": 197,
   "metadata": {},
   "outputs": [],
   "source": [
    "df_og5_5=df_og5[[\"serial\",\"hi_hsb\"]].set_index(\"serial\")\n",
    "df_og5_5;#.dtypes #by serial: egen hi_hsb = mean(hi_hsb1)"
   ]
  },
  {
   "cell_type": "code",
   "execution_count": 198,
   "metadata": {},
   "outputs": [],
   "source": [
    "df_og6=df_og5.dropna(subset=[\"hi_hsb\",\"hi\"],how=\"any\",axis=\"rows\")\n",
    "df_og6;"
   ]
  },
  {
   "cell_type": "code",
   "execution_count": 199,
   "metadata": {},
   "outputs": [],
   "source": [
    "males=[\n",
    "27076,\n",
    "32501,\n",
    "36537,\n",
    "12722,\n",
    "5958,\n",
    "18162,\n",
    "35909,\n",
    "34396,\n",
    "17814,\n",
    "10369,\n",
    "37415,\n",
    "36924,\n",
    "20036,\n",
    "19066,\n",
    "22639,\n",
    "34048,\n",
    "35904,\n",
    "29606,\n",
    "24936,\n",
    "34048,\n",
    "21939,\n",
    "29126,\n",
    "29542,\n",
    "2605,\n",
    "15837,\n",
    "35956,\n",
    "22639,\n",
    "2605,\n",
    "21666,\n",
    "2265,\n",
    "15837,\n",
    "]"
   ]
  },
  {
   "cell_type": "code",
   "execution_count": 200,
   "metadata": {},
   "outputs": [],
   "source": [
    "df_og6[\"female\"]=1"
   ]
  },
  {
   "cell_type": "code",
   "execution_count": 201,
   "metadata": {},
   "outputs": [],
   "source": [
    "df_og6.loc[df_og6[\"serial\"].isin(males),\"female\"]=0 #by serial: egen female = total(fml)"
   ]
  },
  {
   "cell_type": "code",
   "execution_count": 202,
   "metadata": {},
   "outputs": [
    {
     "data": {
      "text/plain": [
       "1    29941\n",
       "0       31\n",
       "Name: female, dtype: int64"
      ]
     },
     "execution_count": 202,
     "metadata": {},
     "output_type": "execute_result"
    }
   ],
   "source": [
    "df_og6[\"female\"].value_counts()"
   ]
  },
  {
   "cell_type": "code",
   "execution_count": 203,
   "metadata": {},
   "outputs": [],
   "source": [
    "df_og7=df_og6.query(\"female == 1\").drop(\"female\",axis=\"columns\") #keep if female==1     drop female\n",
    "df_og7;"
   ]
  },
  {
   "cell_type": "code",
   "execution_count": 221,
   "metadata": {},
   "outputs": [],
   "source": [
    "df_og7.dtypes;"
   ]
  },
  {
   "cell_type": "code",
   "execution_count": 216,
   "metadata": {},
   "outputs": [],
   "source": [
    "df_og8=df_og7.query(\"age>=26 & age<=59 & marradult==1 & adltempl>=1\")"
   ]
  },
  {
   "cell_type": "code",
   "execution_count": 222,
   "metadata": {},
   "outputs": [],
   "source": [
    "df_og9=df_og8.groupby([\"serial\"]).filter(lambda x: len(x)>1) #by serial: gen n = _N   keep if n>1 (This is also really bad code)"
   ]
  },
  {
   "cell_type": "code",
   "execution_count": 234,
   "metadata": {},
   "outputs": [],
   "source": [
    "husband_somehi_ss=len(df_og8.query(\"hi == 1 & fml == 0\"));\n",
    "husband_nohi_ss=len(df_og8.query(\"hi == 0 & fml == 0\"));"
   ]
  },
  {
   "cell_type": "code",
   "execution_count": 274,
   "metadata": {},
   "outputs": [
    {
     "data": {
      "text/plain": [
       "3754.8075752039945"
      ]
     },
     "execution_count": 274,
     "metadata": {},
     "output_type": "execute_result"
    }
   ],
   "source": [
    "np.mean(df_og8.query(\"hi == 1 & fml == 0\")[\"perweight\"])"
   ]
  },
  {
   "cell_type": "code",
   "execution_count": 277,
   "metadata": {},
   "outputs": [
    {
     "name": "stdout",
     "output_type": "stream",
     "text": [
      "Husbands\n"
     ]
    },
    {
     "data": {
      "text/html": [
       "<div>\n",
       "<style scoped>\n",
       "    .dataframe tbody tr th:only-of-type {\n",
       "        vertical-align: middle;\n",
       "    }\n",
       "\n",
       "    .dataframe tbody tr th {\n",
       "        vertical-align: top;\n",
       "    }\n",
       "\n",
       "    .dataframe thead th {\n",
       "        text-align: right;\n",
       "    }\n",
       "</style>\n",
       "<table border=\"1\" class=\"dataframe\">\n",
       "  <thead>\n",
       "    <tr style=\"text-align: right;\">\n",
       "      <th></th>\n",
       "      <th></th>\n",
       "      <th>Some HI (1)</th>\n",
       "      <th>No HI (0)</th>\n",
       "      <th>Difference (3)</th>\n",
       "    </tr>\n",
       "  </thead>\n",
       "  <tbody>\n",
       "    <tr>\n",
       "      <th>0</th>\n",
       "      <td>Health index</td>\n",
       "      <td>5</td>\n",
       "      <td>3</td>\n",
       "      <td>3</td>\n",
       "    </tr>\n",
       "    <tr>\n",
       "      <th>1</th>\n",
       "      <td>Nonwhite</td>\n",
       "      <td>4</td>\n",
       "      <td>4</td>\n",
       "      <td>4</td>\n",
       "    </tr>\n",
       "    <tr>\n",
       "      <th>2</th>\n",
       "      <td>Age</td>\n",
       "      <td>3</td>\n",
       "      <td>3</td>\n",
       "      <td>3</td>\n",
       "    </tr>\n",
       "    <tr>\n",
       "      <th>3</th>\n",
       "      <td>Education</td>\n",
       "      <td>4</td>\n",
       "      <td>4</td>\n",
       "      <td>4</td>\n",
       "    </tr>\n",
       "    <tr>\n",
       "      <th>4</th>\n",
       "      <td>Family Size</td>\n",
       "      <td>5</td>\n",
       "      <td>5</td>\n",
       "      <td>5</td>\n",
       "    </tr>\n",
       "    <tr>\n",
       "      <th>5</th>\n",
       "      <td>Employed</td>\n",
       "      <td>6</td>\n",
       "      <td>6</td>\n",
       "      <td>6</td>\n",
       "    </tr>\n",
       "    <tr>\n",
       "      <th>6</th>\n",
       "      <td>Family Income</td>\n",
       "      <td>7</td>\n",
       "      <td>7</td>\n",
       "      <td>7</td>\n",
       "    </tr>\n",
       "    <tr>\n",
       "      <th>7</th>\n",
       "      <td>Sample Size</td>\n",
       "      <td>8211</td>\n",
       "      <td>1672</td>\n",
       "      <td></td>\n",
       "    </tr>\n",
       "  </tbody>\n",
       "</table>\n",
       "</div>"
      ],
      "text/plain": [
       "                  Some HI (1)  No HI (0) Difference (3)\n",
       "0   Health index            5          3              3\n",
       "1       Nonwhite            4          4              4\n",
       "2            Age            3          3              3\n",
       "3      Education            4          4              4\n",
       "4    Family Size            5          5              5\n",
       "5       Employed            6          6              6\n",
       "6  Family Income            7          7              7\n",
       "7    Sample Size         8211       1672               "
      ]
     },
     "execution_count": 277,
     "metadata": {},
     "output_type": "execute_result"
    }
   ],
   "source": [
    "print(\"Husbands\")\n",
    "pd.DataFrame(data={' ': [\"Health index\", \"Nonwhite\",\"Age\",\"Education\",\"Family Size\",\"Employed\",\"Family Income\",\"Sample Size\"],\n",
    "                   'Some HI (1)': [5, 4,3,4,5,6,7,husband_somehi_ss],\n",
    "                  'No HI (0)': [3, 4,3,4,5,6,7,husband_nohi_ss],\n",
    "                  'Difference (3)': [3, 4,3,4,5,6,7,\" \"]})"
   ]
  },
  {
   "cell_type": "code",
   "execution_count": null,
   "metadata": {},
   "outputs": [],
   "source": []
  }
 ],
 "metadata": {
  "kernelspec": {
   "display_name": "Python 3",
   "language": "python",
   "name": "python3"
  },
  "language_info": {
   "codemirror_mode": {
    "name": "ipython",
    "version": 3
   },
   "file_extension": ".py",
   "mimetype": "text/x-python",
   "name": "python",
   "nbconvert_exporter": "python",
   "pygments_lexer": "ipython3",
   "version": "3.7.6"
  }
 },
 "nbformat": 4,
 "nbformat_minor": 4
}
