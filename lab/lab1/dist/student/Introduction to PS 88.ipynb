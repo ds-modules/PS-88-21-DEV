{
 "cells": [
  {
   "cell_type": "code",
   "execution_count": null,
   "metadata": {
    "deletable": false,
    "editable": false
   },
   "outputs": [],
   "source": [
    "# Initialize Otter\n",
    "import otter\n",
    "grader = otter.Notebook(\"Introduction to PS 88.ipynb\")"
   ]
  },
  {
   "cell_type": "markdown",
   "metadata": {},
   "source": [
    "# Cross-Border Spillover: U.S. Gun Laws and Violence in Mexico\n",
    "In the following cells, we'll reproduce results from [this paper](https://omargarciaponce.com/wp-content/uploads/2013/07/cross_border_spillover.pdf), specifically Figure 4. The goals of this table is to see how Californian gun control legislation passed in 2004 affected gun-related crime in nearby Mexican municipios. To begin, we need to load in the data. In the cell below, we load in our data, a table containing 6 columns:  \n",
    "1) `NCAseg1`: a binary variable indicating whether the row contains data from municipios adjacent to Texas, Arizona, or New Mexico  \n",
    "2) `year`: the year that the crimes occurred  \n",
    "3) `homicide`: the number of total homicides in the municipios for that `year` and `NCAseg1` value  \n",
    "4) `homdguns`: the number of gun-related homicides in the municipios for that `year` and `NCAseg1` value  \n",
    "5) `nongunhom`: the number of homicides unrelated to guns in the municipios for that `year` and `NCAseg1` value  \n",
    "6) `suicdguns`: the number of suicides by guns in the municipios for that `year` and `NCAseg1` value  \n"
   ]
  },
  {
   "cell_type": "code",
   "execution_count": 1,
   "metadata": {},
   "outputs": [],
   "source": [
    "import pandas as pd\n",
    "import seaborn as sns\n",
    "from utils import formatting\n",
    "df = pd.read_csv('data/nca_deaths.csv')\n",
    "df"
   ]
  },
  {
   "cell_type": "markdown",
   "metadata": {},
   "source": [
    "In the following cell, we create a line plot for the total homicide count for municipios near either California (in which case `NCAseg18` is 0) or Texas, Arizona, or New Mexico (in which `NCAseg18` is 1). We also run a formatting function to create a plot title, legend, and line at 2004, the year Californian gun control legislation passed. What happened to the total number of homicides in municipios adjacent to California compared to those near the 3 other states?"
   ]
  },
  {
   "cell_type": "code",
   "execution_count": 2,
   "metadata": {},
   "outputs": [],
   "source": [
    "sns.lineplot('year', 'homicide', data=df[df['NCAseg18']==0], label='Adjacent to CA')\n",
    "sns.lineplot('year', 'homicide', data=df[df['NCAseg18']==1], label='Adjacent to TX, AZ, or NM')\n",
    "formatting('All Homicides')"
   ]
  },
  {
   "cell_type": "markdown",
   "metadata": {},
   "source": [
    "Next, we can compare strictly homicides from guns. Again, what happens after 2004?"
   ]
  },
  {
   "cell_type": "code",
   "execution_count": 3,
   "metadata": {},
   "outputs": [],
   "source": [
    "sns.lineplot('year', 'homdguns', data=df[df['NCAseg18']==0], label='Adjacent to CA')\n",
    "sns.lineplot('year', 'homdguns', data=df[df['NCAseg18']==1], label='Adjacent to TX, AZ, or NM')\n",
    "formatting('Gun-related Homicides')"
   ]
  },
  {
   "cell_type": "markdown",
   "metadata": {},
   "source": [
    "Now it's your turn! In this cell, plot homicides unrelated with guns over time for municipios adjacent to either California (1 line) or one of the three other states (another line):"
   ]
  },
  {
   "cell_type": "code",
   "execution_count": 4,
   "metadata": {},
   "outputs": [],
   "source": [
    "...\n",
    "formatting('Non-gun Homicides')"
   ]
  },
  {
   "cell_type": "markdown",
   "metadata": {},
   "source": [
    "Great work! Next, plot suicide from guns over time for the two types of municipios."
   ]
  },
  {
   "cell_type": "code",
   "execution_count": 5,
   "metadata": {},
   "outputs": [],
   "source": [
    "...\n",
    "formatting('Non-gun Homicides ')"
   ]
  },
  {
   "cell_type": "code",
   "execution_count": null,
   "metadata": {},
   "outputs": [],
   "source": []
  },
  {
   "cell_type": "code",
   "execution_count": null,
   "metadata": {},
   "outputs": [],
   "source": []
  },
  {
   "cell_type": "markdown",
   "metadata": {
    "deletable": false,
    "editable": false
   },
   "source": [
    "---\n",
    "\n",
    "To double-check your work, the cell below will rerun all of the autograder tests."
   ]
  },
  {
   "cell_type": "code",
   "execution_count": null,
   "metadata": {
    "deletable": false,
    "editable": false
   },
   "outputs": [],
   "source": [
    "grader.check_all()"
   ]
  },
  {
   "cell_type": "markdown",
   "metadata": {
    "deletable": false,
    "editable": false
   },
   "source": [
    "## Submission\n",
    "\n",
    "Make sure you have run all cells in your notebook in order before running the cell below, so that all images/graphs appear in the output. The cell below will generate a zip file for you to submit. **Please save before exporting!**\n",
    "\n",
    "These are some submission instructions."
   ]
  },
  {
   "cell_type": "code",
   "execution_count": null,
   "metadata": {
    "deletable": false,
    "editable": false
   },
   "outputs": [],
   "source": [
    "# Save your notebook first, then run this cell to export your submission.\n",
    "grader.export()"
   ]
  },
  {
   "cell_type": "markdown",
   "metadata": {},
   "source": [
    " "
   ]
  }
 ],
 "metadata": {
  "kernelspec": {
   "display_name": "Python 3.7.6 64-bit ('personal': conda)",
   "language": "python",
   "name": "python37664bitpersonalconda60c52b7736354eb5b59b9b4e214b21e5"
  },
  "language_info": {
   "codemirror_mode": {
    "name": "ipython",
    "version": 3
   },
   "file_extension": ".py",
   "mimetype": "text/x-python",
   "name": "python",
   "nbconvert_exporter": "python",
   "pygments_lexer": "ipython3",
   "version": "3.8.5"
  }
 },
 "nbformat": 4,
 "nbformat_minor": 2
}
