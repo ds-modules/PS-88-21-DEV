{
 "metadata": {
  "language_info": {
   "codemirror_mode": {
    "name": "ipython",
    "version": 3
   },
   "file_extension": ".py",
   "mimetype": "text/x-python",
   "name": "python",
   "nbconvert_exporter": "python",
   "pygments_lexer": "ipython3",
   "version": "3.8.5-final"
  },
  "orig_nbformat": 2,
  "kernelspec": {
   "name": "python37664bitpersonalconda60c52b7736354eb5b59b9b4e214b21e5",
   "display_name": "Python 3.7.6 64-bit ('personal': conda)",
   "language": "python"
  }
 },
 "nbformat": 4,
 "nbformat_minor": 2,
 "cells": [
  {
   "cell_type": "code",
   "execution_count": 1,
   "metadata": {},
   "outputs": [],
   "source": [
    "import pandas as pd"
   ]
  },
  {
   "cell_type": "code",
   "execution_count": null,
   "metadata": {},
   "outputs": [],
   "source": [
    "pd.DataFrame(list(pd.DataFrame(pd.read_json(\"members.json\")['results'].iloc[0]).members)).to_csv('members_full.csv', index=False)\n",
    "pd.DataFrame(list(pd.DataFrame(pd.read_json(\"members.json\")['results'].iloc[0]).members))[['short_title', 'first_name', 'last_name', 'date_of_birth', 'gender','party', 'twitter_account', 'facebook_account','dw_nominate','missed_votes_pct', 'votes_with_party_pct', 'votes_against_party_pct']].to_csv('members.csv', index=False)"
   ]
  }
 ]
}