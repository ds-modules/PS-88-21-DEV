{
 "cells": [
  {
   "cell_type": "markdown",
   "id": "449aef56",
   "metadata": {},
   "source": [
    "# PS 88 Project Part 3\n",
    "\n",
    "The goal of the final part of the project is to extend the analysis of one of the replication papers (or any other data set we have worked on in class) to provide new theoretical insights. \n",
    "\n",
    "The parameters here will be much looser; the only concrete requirements are that you (1) do at least one merging of different data frames, and (2) run at least two new regressions and create at least two visualizations (histograms, scatterplots, line plots, etc), some of which involve the \"new\" variables you merged in.\n",
    "\n",
    "On the second part, some ideas, some of which will work better than others depending on what data you start with:\n",
    "- Run the analysis with a different dependent variable\n",
    "- Run the analysis with a different independent variable\n",
    "- Run the analysis on a subset of the data, where we might expect the causal effect to be different\n",
    "- Add a control variable to the regression that might help control for some confounding variable\n",
    "\n",
    "See the relevant piazza posts for some pointers to potentially useful data sources and tips for merging them properly.\n",
    "\n",
    "A final hint: you may want to complete step 1 last, or at least after you have done the main analysis in steps 2 and 3"
   ]
  },
  {
   "cell_type": "markdown",
   "id": "f657514a",
   "metadata": {},
   "source": [
    "## Step 1: Theory\n",
    "\n",
    "What is the theoretical question or causal relationship you aim to explore with your analysis? What relationships do you expect to see in the data? (200 words or so)"
   ]
  },
  {
   "cell_type": "markdown",
   "id": "070060cb",
   "metadata": {},
   "source": [
    "## Step 2: Merging\n",
    "\n",
    "Load up the data files you plan to use, and merge them together. Explain what you are doing at each step of the process. Do some checks with `.shape` to see that the merge works as expected."
   ]
  },
  {
   "cell_type": "markdown",
   "id": "15116639",
   "metadata": {},
   "source": [
    "## Step 3: Analysis\n",
    "\n",
    "Perform you new analysis. Interpret any graphs or regression output. How do the results change compared to the original paper/lab?"
   ]
  },
  {
   "cell_type": "markdown",
   "id": "25a18e73",
   "metadata": {},
   "source": [
    "## Step 4: Conclusion\n",
    "\n",
    "What did you learn form this exercise? How would you extend or modify your analysis if you had more time/data available? (200 words or so)"
   ]
  },
  {
   "cell_type": "code",
   "execution_count": null,
   "id": "41053a54",
   "metadata": {},
   "outputs": [],
   "source": []
  }
 ],
 "metadata": {
  "kernelspec": {
   "display_name": "Python 3 (ipykernel)",
   "language": "python",
   "name": "python3"
  },
  "language_info": {
   "codemirror_mode": {
    "name": "ipython",
    "version": 3
   },
   "file_extension": ".py",
   "mimetype": "text/x-python",
   "name": "python",
   "nbconvert_exporter": "python",
   "pygments_lexer": "ipython3",
   "version": "3.9.7"
  }
 },
 "nbformat": 4,
 "nbformat_minor": 5
}
